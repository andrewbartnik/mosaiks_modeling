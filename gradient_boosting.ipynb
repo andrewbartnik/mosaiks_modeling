{
 "cells": [
  {
   "cell_type": "code",
   "execution_count": 38,
   "id": "f0788aa8-673a-42d2-a154-f5bacc2b2133",
   "metadata": {},
   "outputs": [],
   "source": [
    "import warnings\n",
    "import time\n",
    "import os\n",
    "\n",
    "import numpy as np\n",
    "import pandas as pd\n",
    "import matplotlib.pyplot as plt\n",
    "import matplotlib.pyplot as plt\n",
    "import matplotlib.colors as colors\n",
    "\n",
    "import geopandas\n",
    "import pyarrow\n",
    "\n",
    "from sklearn.linear_model import RidgeCV\n",
    "from sklearn.model_selection import train_test_split\n",
    "from sklearn.metrics import r2_score\n",
    "from scipy.stats import spearmanr\n",
    "from scipy.linalg import LinAlgWarning\n",
    "from scipy.stats import pearsonr"
   ]
  },
  {
   "cell_type": "markdown",
   "id": "0ac487a5-dd9c-45a0-90ee-433a661f36fc",
   "metadata": {},
   "source": [
    "## Parameters"
   ]
  },
  {
   "cell_type": "code",
   "execution_count": 39,
   "id": "49657702-7a4a-4837-bede-a49da94da852",
   "metadata": {},
   "outputs": [],
   "source": [
    "# satellite = \"landsat-8-c2-l2\"\n",
    "satellite = \"sentinel-2\"\n",
    "country_code = \"ZMB\"\n",
    "points = \"15\"\n",
    "num_features = \"5000\"\n",
    "feature_file_name = (f'{satellite}_{country_code}_{points}'\n",
    "                     f'k-points_{num_features}-features')"
   ]
  },
  {
   "cell_type": "markdown",
   "id": "d557b705-a09e-4f54-9402-535dfa6cd0dc",
   "metadata": {},
   "source": [
    "## Zambia "
   ]
  },
  {
   "cell_type": "code",
   "execution_count": 40,
   "id": "2ad8c392-9347-4974-86c6-832d971fefc8",
   "metadata": {},
   "outputs": [
    {
     "data": {
      "text/plain": [
       "(72, 1)"
      ]
     },
     "execution_count": 40,
     "metadata": {},
     "output_type": "execute_result"
    }
   ],
   "source": [
    "zambia_shp = geopandas.read_file(f'data/boundaries/gadm36_{country_code}_2.shp')\n",
    "zambia_shp = zambia_shp.rename(columns = {'NAME_2': 'district'})[['district', 'geometry']]\n",
    "zambia_shp.district = zambia_shp.district.replace(\"MPongwe\", 'Mpongwe', regex=True)\n",
    "zambia_districts = zambia_shp.district.sort_values().unique().tolist()\n",
    "zambia_shp = zambia_shp.set_index('district')\n",
    "zambia_shp.shape\n",
    "# zambia_shp.plot(column = 'district',linewidth = 1, edgecolor = 'black' )\n",
    "# zambia_shp"
   ]
  },
  {
   "cell_type": "markdown",
   "id": "df5e3090-f6c7-4cf7-be0b-dd0743f66061",
   "metadata": {},
   "source": [
    "## Crops"
   ]
  },
  {
   "cell_type": "code",
   "execution_count": 41,
   "id": "fa30f60b-3ec6-4e3e-9437-f103bcd4d03e",
   "metadata": {},
   "outputs": [],
   "source": [
    "crop_df = pd.read_csv('data/crops/cfs_maize_districts_zambia_2009_2018.csv')\n",
    "crop_df.district = crop_df.district.replace(\n",
    "    {\"Itezhi-tezhi\": 'Itezhi-Tezhi',\n",
    "     \"Kapiri-Mposhi\": 'Kapiri Mposhi',\n",
    "     \"Shang'ombo\": 'Shangombo',\n",
    "     \"Chienge\": 'Chiengi'\n",
    "    }, regex=True)\n",
    "crop_districts = crop_df.district.sort_values().unique().tolist()\n",
    "crop_df = crop_df[['district', 'year', 'yield_mt']]\n",
    "crop_df = crop_df.set_index('district')\n",
    "# crop_df"
   ]
  },
  {
   "cell_type": "code",
   "execution_count": 42,
   "id": "9c28bc9e-f428-4f1e-9014-09b7982d6ec8",
   "metadata": {},
   "outputs": [
    {
     "data": {
      "text/plain": [
       "['Mafinga', 'Ikelenge']"
      ]
     },
     "execution_count": 42,
     "metadata": {},
     "output_type": "execute_result"
    }
   ],
   "source": [
    "list(set(crop_districts) - set(zambia_districts))"
   ]
  },
  {
   "cell_type": "code",
   "execution_count": 43,
   "id": "85de0091-637c-4140-97f6-6b9a3be76252",
   "metadata": {},
   "outputs": [
    {
     "data": {
      "text/plain": [
       "[]"
      ]
     },
     "execution_count": 43,
     "metadata": {},
     "output_type": "execute_result"
    }
   ],
   "source": [
    "list(set(zambia_districts) - set(crop_districts))"
   ]
  },
  {
   "cell_type": "code",
   "execution_count": 44,
   "id": "81330c55-e0d7-46db-8653-84639c8af17f",
   "metadata": {},
   "outputs": [],
   "source": [
    "zambia_crop = geopandas.GeoDataFrame(crop_df.join(zambia_shp), crs = zambia_shp.crs)"
   ]
  },
  {
   "cell_type": "markdown",
   "id": "112a32fb-e10d-4e85-9009-853a45ccc28c",
   "metadata": {},
   "source": [
    "## Features"
   ]
  },
  {
   "cell_type": "code",
   "execution_count": 45,
   "id": "313650ec-2ddc-45a6-bf4b-89e461596d65",
   "metadata": {},
   "outputs": [
    {
     "name": "stdout",
     "output_type": "stream",
     "text": [
      "Opening: 2016\n",
      "Joining: 2016\n",
      "Appending: 2016\n",
      "features.shape: (60232, 5006)\n",
      "\n",
      "Opening: 2017\n",
      "Joining: 2017\n",
      "Appending: 2017\n",
      "features.shape: (120464, 5006)\n",
      "\n",
      "Opening: 2018\n",
      "Joining: 2018\n",
      "Appending: 2018\n",
      "features.shape: (180696, 5006)\n",
      "\n"
     ]
    }
   ],
   "source": [
    "features = geopandas.GeoDataFrame()\n",
    "for yr in range(2016, 2019):\n",
    "    print(\"Opening:\", yr)\n",
    "    features_x = pd.read_feather(f'data/features/{feature_file_name}_{yr}.feather')\n",
    "    features_x = geopandas.GeoDataFrame(\n",
    "        features_x, \n",
    "        geometry = geopandas.points_from_xy(x = features_x.lon, y = features_x.lat)\n",
    "        , crs='EPSG:4326'\n",
    "    ).drop(['lon', 'lat'], axis = 1)\n",
    "    \n",
    "    print(\"Joining:\", yr)\n",
    "    zambia_x = zambia_crop[zambia_crop.year == yr]\n",
    "    adm_features = features_x.sjoin(zambia_x, how = 'left', predicate = 'within')\n",
    "    \n",
    "    print(\"Appending:\", yr)\n",
    "    # features = features.append(adm_features)\n",
    "    features = geopandas.GeoDataFrame(\n",
    "        pd.concat([features, adm_features], ignore_index=True),\n",
    "        crs = 'EPSG:4326'\n",
    "    ).reset_index(drop = True)\n",
    "    print(\"features.shape:\", features.shape)\n",
    "    print(\"\")"
   ]
  },
  {
   "cell_type": "code",
   "execution_count": 46,
   "id": "3524395b-3959-4b3f-b9d1-791bcf46e393",
   "metadata": {},
   "outputs": [],
   "source": [
    "features.replace([np.inf, -np.inf], np.nan, inplace=True)"
   ]
  },
  {
   "cell_type": "code",
   "execution_count": 47,
   "id": "1da325cf-7d18-4364-9c36-d892156fb782",
   "metadata": {},
   "outputs": [],
   "source": [
    "features = features.dropna(subset=['index_right']\n",
    "                          ).drop(['year_right'], axis = 1\n",
    "                                ).rename(columns = {\"index_right\": \"district\", \"year_left\": \"year\"})"
   ]
  },
  {
   "cell_type": "code",
   "execution_count": 48,
   "id": "9530f5e2-8c7f-4431-a4ee-a4cb0854bf4c",
   "metadata": {},
   "outputs": [],
   "source": [
    "# na = features[features.isna().any(axis = 1)]\n",
    "# na.plot(figsize = (15,15), markersize = 1)\n",
    "# plt.savefig(f'images/nans.jpg', dpi=300)"
   ]
  },
  {
   "cell_type": "code",
   "execution_count": 49,
   "id": "8ee772a2-28ef-42dc-af4c-8ca2c031f0b7",
   "metadata": {},
   "outputs": [],
   "source": [
    "features = features.dropna()"
   ]
  },
  {
   "cell_type": "code",
   "execution_count": 50,
   "id": "1ff2085b-52fd-4e01-9e69-075c1613abb7",
   "metadata": {},
   "outputs": [],
   "source": [
    "features_summary = features.groupby(['district',\"year\"], as_index = False).mean()\n",
    "# features_summary"
   ]
  },
  {
   "cell_type": "markdown",
   "id": "8c760211-3a64-4c5a-9044-8e497dd71e86",
   "metadata": {},
   "source": [
    "## Gradient Boosting Regression"
   ]
  },
  {
   "cell_type": "code",
   "execution_count": 51,
   "id": "08add807-f054-42ae-992b-b971c214118b",
   "metadata": {},
   "outputs": [],
   "source": [
    "from sklearn.ensemble import GradientBoostingRegressor\n",
    "gb_model = GradientBoostingRegressor(n_estimators=100)"
   ]
  },
  {
   "cell_type": "code",
   "execution_count": 52,
   "id": "98c52b82-6578-4de8-bcb5-f17fd211c88b",
   "metadata": {},
   "outputs": [],
   "source": [
    "x_all = features_summary.drop([\n",
    "    'district', \n",
    "    'year', \n",
    "    'yield_mt'], axis = 1)\n",
    "\n",
    "# y_all = features_summary.yield_mt\n",
    "\n",
    "y_all = np.log10(features_summary.yield_mt.to_numpy() + 1)\n",
    "x_train, x_test, y_train, y_test = train_test_split(\n",
    "    x_all, y_all, test_size=0.2, random_state=0\n",
    ")"
   ]
  },
  {
   "cell_type": "code",
   "execution_count": 53,
   "id": "3285bade-64b4-4983-9df0-2acb509eb006",
   "metadata": {},
   "outputs": [
    {
     "name": "stdout",
     "output_type": "stream",
     "text": [
      "CPU times: total: 12.2 s\n",
      "Wall time: 12.2 s\n"
     ]
    },
    {
     "data": {
      "text/plain": [
       "GradientBoostingRegressor()"
      ]
     },
     "execution_count": 53,
     "metadata": {},
     "output_type": "execute_result"
    }
   ],
   "source": [
    "%%time\n",
    "gb_model.fit(x_train, y_train)\n",
    "GradientBoostingRegressor()"
   ]
  },
  {
   "cell_type": "code",
   "execution_count": 54,
   "id": "b844216b-a53e-46d3-a6df-e5de849278db",
   "metadata": {},
   "outputs": [
    {
     "data": {
      "image/png": "[encoded data removed]",
      "text/plain": [
       "<Figure size 432x288 with 1 Axes>"
      ]
     },
     "metadata": {
      "needs_background": "light"
     },
     "output_type": "display_data"
    }
   ],
   "source": [
    "y_pred = np.maximum(gb_model.predict(x_all), 0)\n",
    "\n",
    "plt.figure()\n",
    "plt.scatter(y_pred, y_all, alpha=1, s=4)\n",
    "plt.xlabel(\"Predicted\", fontsize=15)\n",
    "plt.ylabel(\"Ground Truth\", fontsize=15)\n",
    "plt.suptitle(r\"$\\log_{10}(Crop Yield)$\", fontsize=20, y=1.01)\n",
    "plt.title(f\"Model applied to all data n = {len(x_all)}\", fontsize=12, y=1)\n",
    "plt.xticks(fontsize=14)\n",
    "plt.yticks(fontsize=14)\n",
    "\n",
    "plt.xlim([0, 1])\n",
    "plt.ylim([0, 1])\n",
    "\n",
    "plt.text(\n",
    "    0.1,\n",
    "    .75,\n",
    "    s=\"R$^2$ = %0.2f\" % (r2_score(y_all, y_pred)),\n",
    "    fontsize=15,\n",
    "    fontweight=\"bold\",\n",
    ")\n",
    "m, b = np.polyfit(y_pred, y_all, 1)\n",
    "plt.plot(y_pred, m * y_pred + b, color=\"black\")\n",
    "plt.gca().spines.right.set_visible(False)\n",
    "plt.gca().spines.top.set_visible(False)\n",
    "\n",
    "plt.show()\n",
    "plt.close()"
   ]
  },
  {
   "cell_type": "code",
   "execution_count": 55,
   "id": "d93c4ce6-81a4-4277-bcbf-a8a0d727f6ee",
   "metadata": {},
   "outputs": [
    {
     "data": {
      "image/png": "[encoded data removed]",
      "text/plain": [
       "<Figure size 432x288 with 1 Axes>"
      ]
     },
     "metadata": {
      "needs_background": "light"
     },
     "output_type": "display_data"
    }
   ],
   "source": [
    "y_pred = np.maximum(gb_model.predict(x_train), 0)\n",
    "\n",
    "plt.figure()\n",
    "# ax = fig.figure.add_subplot()\n",
    "plt.scatter(y_pred, y_train, alpha=1, s=4)\n",
    "plt.xlabel(\"Predicted\", fontsize=15, x = .3)\n",
    "plt.ylabel(\"Ground Truth\", fontsize=15)\n",
    "# plt.title(\"Gradient boosting regression\\nlog(1 + people/km$^2$)\", fontsize=15)\n",
    "plt.suptitle(r\"GB Reg $\\log_{10}(1+Crop Yield)$\", fontsize=20 , y=1.02)#, x = 0.31)\n",
    "plt.title(f\"Model applied to train data n = {len(x_train)}\", fontsize=12 , y=1.01)#, x = .32)\n",
    "\n",
    "plt.xticks(fontsize=14)\n",
    "plt.yticks(fontsize=14)\n",
    "\n",
    "plt.xlim([0, 1])\n",
    "plt.ylim([0, 1])\n",
    "\n",
    "plt.text(\n",
    "    0.1,\n",
    "    .75,\n",
    "    s=\"R$^2$ = %0.2f\" % (r2_score(y_train, y_pred)),\n",
    "    fontsize=15,\n",
    "    fontweight=\"bold\",\n",
    ")\n",
    "m, b = np.polyfit(y_pred, y_train, 1)\n",
    "plt.plot(y_pred, m * y_pred + b, color=\"black\")\n",
    "plt.gca().spines.right.set_visible(False)\n",
    "plt.gca().spines.top.set_visible(False)\n",
    "\n",
    "plt.show()\n",
    "plt.close()"
   ]
  },
  {
   "cell_type": "code",
   "execution_count": 56,
   "id": "025dd022-7512-47e0-af3c-e0d630148dd3",
   "metadata": {},
   "outputs": [
    {
     "data": {
      "image/png": "[encoded data removed]",
      "text/plain": [
       "<Figure size 432x288 with 1 Axes>"
      ]
     },
     "metadata": {
      "needs_background": "light"
     },
     "output_type": "display_data"
    }
   ],
   "source": [
    "y_pred = np.maximum(gb_model.predict(x_test), 0)\n",
    "\n",
    "plt.figure()\n",
    "plt.scatter(y_pred, y_test, alpha=1, s=4)\n",
    "plt.xlabel(\"Predicted\", fontsize=15)\n",
    "plt.ylabel(\"Ground Truth\", fontsize=15)\n",
    "plt.suptitle(r\"GB Reg $\\log_{10}(1+Crop Yield)$\", fontsize=20 , y=1.02)#, x = 0.31)\n",
    "plt.title(f\"Model applied to test data n = {len(x_test)}\", fontsize=12 , y=1.01)#, x = .32)\n",
    "plt.xticks(fontsize=14)\n",
    "plt.yticks(fontsize=14)\n",
    "\n",
    "plt.xlim([0,1])\n",
    "plt.ylim([0,1])\n",
    "\n",
    "plt.text(.1,.7,s=\"r$^2$ = %0.2f\" % (r2_score(y_test, y_pred)), fontsize=15, fontweight=\"bold\")\n",
    "m, b = np.polyfit(y_pred, y_test, 1)\n",
    "plt.plot(y_pred, m*y_pred+b, color=\"black\")\n",
    "plt.gca().spines.right.set_visible(False)\n",
    "plt.gca().spines.top.set_visible(False)\n",
    "\n",
    "plt.show()\n",
    "plt.close()"
   ]
  },
  {
   "cell_type": "code",
   "execution_count": null,
   "id": "444f5fa7-272b-4458-b19a-33534223aa95",
   "metadata": {},
   "outputs": [],
   "source": [
    "pred_features = features.copy()\n",
    "x_all = pred_features.drop(['year', 'geometry', 'district', 'yield_mt'], axis = 1)\n",
    "pred_features['fit'] = np.maximum(gb_model.predict(x_all), 0)"
   ]
  },
  {
   "cell_type": "code",
   "execution_count": null,
   "id": "3bb926b5-2637-4c8b-9c59-eea28f73281a",
   "metadata": {},
   "outputs": [],
   "source": [
    "plot_features = pred_features[pred_features.year == 2016]"
   ]
  },
  {
   "cell_type": "code",
   "execution_count": null,
   "id": "cb668e7c-5cef-4d5b-ac8c-6cf36aa0a0ef",
   "metadata": {},
   "outputs": [],
   "source": [
    "plot_features.plot(figsize = (15,15),\n",
    "                   legend = True,\n",
    "                   markersize = 22,\n",
    "                   alpha = .9,\n",
    "                   column = 'fit')"
   ]
  },
  {
   "cell_type": "code",
   "execution_count": null,
   "id": "2514589e-308c-42e4-ad8d-a07d6324b982",
   "metadata": {},
   "outputs": [],
   "source": []
  }
 ],
 "metadata": {
  "kernelspec": {
   "display_name": "Python 3 (ipykernel)",
   "language": "python",
   "name": "python3"
  },
  "language_info": {
   "codemirror_mode": {
    "name": "ipython",
    "version": 3
   },
   "file_extension": ".py",
   "mimetype": "text/x-python",
   "name": "python",
   "nbconvert_exporter": "python",
   "pygments_lexer": "ipython3",
   "version": "3.10.2"
  }
 },
 "nbformat": 4,
 "nbformat_minor": 5
}
