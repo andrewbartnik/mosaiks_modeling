{
 "cells": [
  {
   "cell_type": "markdown",
   "id": "0fe56655",
   "metadata": {},
   "source": [
    "# Modeling Crop Yield\n",
    "## Python modules"
   ]
  },
  {
   "cell_type": "code",
   "execution_count": 10,
   "id": "5b4f19f5",
   "metadata": {},
   "outputs": [],
   "source": [
    "import warnings\n",
    "import time\n",
    "import os\n",
    "\n",
    "import dask\n",
    "from dask.distributed import Client\n",
    "\n",
    "import numpy as np\n",
    "import pandas as pd\n",
    "import matplotlib.pyplot as plt\n",
    "import matplotlib.pyplot as plt\n",
    "import matplotlib.colors as colors\n",
    "\n",
    "import geopandas as gpd\n",
    "\n",
    "import pyarrow\n",
    "from sklearn.linear_model import RidgeCV\n",
    "from sklearn.model_selection import train_test_split\n",
    "from sklearn.metrics import r2_score\n",
    "from sklearn.metrics import mean_squared_error\n",
    "from sklearn.impute import SimpleImputer\n",
    "from scipy.stats import spearmanr\n",
    "from scipy.linalg import LinAlgWarning\n",
    "from scipy.stats import pearsonr\n",
    "\n",
    "import math\n",
    "import seaborn as sns"
   ]
  },
  {
   "cell_type": "markdown",
   "id": "7738cdc2-0f1c-4a6d-8756-9d4187cacaf8",
   "metadata": {},
   "source": [
    "## Mild Preprocessing\n",
    "### 1. Load in the data"
   ]
  },
  {
   "cell_type": "code",
   "execution_count": 2,
   "id": "5770bf79-e7b2-49e7-bf0a-e6e78d3db4d7",
   "metadata": {
    "tags": []
   },
   "outputs": [
    {
     "data": {
      "text/html": [
       "<div>\n",
       "<style scoped>\n",
       "    .dataframe tbody tr th:only-of-type {\n",
       "        vertical-align: middle;\n",
       "    }\n",
       "\n",
       "    .dataframe tbody tr th {\n",
       "        vertical-align: top;\n",
       "    }\n",
       "\n",
       "    .dataframe thead th {\n",
       "        text-align: right;\n",
       "    }\n",
       "</style>\n",
       "<table border=\"1\" class=\"dataframe\">\n",
       "  <thead>\n",
       "    <tr style=\"text-align: right;\">\n",
       "      <th></th>\n",
       "      <th>index</th>\n",
       "      <th>0</th>\n",
       "      <th>1</th>\n",
       "      <th>2</th>\n",
       "      <th>3</th>\n",
       "      <th>4</th>\n",
       "      <th>5</th>\n",
       "      <th>6</th>\n",
       "      <th>7</th>\n",
       "      <th>8</th>\n",
       "      <th>...</th>\n",
       "      <th>994</th>\n",
       "      <th>995</th>\n",
       "      <th>996</th>\n",
       "      <th>997</th>\n",
       "      <th>998</th>\n",
       "      <th>999</th>\n",
       "      <th>lon</th>\n",
       "      <th>lat</th>\n",
       "      <th>year</th>\n",
       "      <th>month</th>\n",
       "    </tr>\n",
       "  </thead>\n",
       "  <tbody>\n",
       "    <tr>\n",
       "      <th>0</th>\n",
       "      <td>0</td>\n",
       "      <td>0.001570</td>\n",
       "      <td>0.000480</td>\n",
       "      <td>0.005897</td>\n",
       "      <td>1.353835</td>\n",
       "      <td>0.509915</td>\n",
       "      <td>0.002976</td>\n",
       "      <td>0.112365</td>\n",
       "      <td>2.114384</td>\n",
       "      <td>0.0</td>\n",
       "      <td>...</td>\n",
       "      <td>0.004179</td>\n",
       "      <td>3.965036</td>\n",
       "      <td>5.546379</td>\n",
       "      <td>0.026053</td>\n",
       "      <td>1.071133</td>\n",
       "      <td>0.000490</td>\n",
       "      <td>22.24466</td>\n",
       "      <td>-16.440364</td>\n",
       "      <td>2015</td>\n",
       "      <td>11</td>\n",
       "    </tr>\n",
       "    <tr>\n",
       "      <th>1</th>\n",
       "      <td>1</td>\n",
       "      <td>0.001463</td>\n",
       "      <td>0.000276</td>\n",
       "      <td>0.007684</td>\n",
       "      <td>0.980061</td>\n",
       "      <td>0.378347</td>\n",
       "      <td>0.001967</td>\n",
       "      <td>0.056292</td>\n",
       "      <td>1.592373</td>\n",
       "      <td>0.0</td>\n",
       "      <td>...</td>\n",
       "      <td>0.004066</td>\n",
       "      <td>3.541692</td>\n",
       "      <td>4.875215</td>\n",
       "      <td>0.024436</td>\n",
       "      <td>1.112796</td>\n",
       "      <td>0.000805</td>\n",
       "      <td>22.25466</td>\n",
       "      <td>-16.450364</td>\n",
       "      <td>2015</td>\n",
       "      <td>11</td>\n",
       "    </tr>\n",
       "    <tr>\n",
       "      <th>2</th>\n",
       "      <td>2</td>\n",
       "      <td>0.003168</td>\n",
       "      <td>0.000671</td>\n",
       "      <td>0.005166</td>\n",
       "      <td>0.726874</td>\n",
       "      <td>0.222981</td>\n",
       "      <td>0.002820</td>\n",
       "      <td>0.039191</td>\n",
       "      <td>1.190421</td>\n",
       "      <td>0.0</td>\n",
       "      <td>...</td>\n",
       "      <td>0.005325</td>\n",
       "      <td>3.108610</td>\n",
       "      <td>4.367601</td>\n",
       "      <td>0.023106</td>\n",
       "      <td>1.221709</td>\n",
       "      <td>0.000022</td>\n",
       "      <td>22.25466</td>\n",
       "      <td>-16.440364</td>\n",
       "      <td>2015</td>\n",
       "      <td>11</td>\n",
       "    </tr>\n",
       "    <tr>\n",
       "      <th>3</th>\n",
       "      <td>3</td>\n",
       "      <td>0.001240</td>\n",
       "      <td>0.000455</td>\n",
       "      <td>0.022193</td>\n",
       "      <td>1.314633</td>\n",
       "      <td>0.528798</td>\n",
       "      <td>0.002496</td>\n",
       "      <td>0.106302</td>\n",
       "      <td>2.018325</td>\n",
       "      <td>0.0</td>\n",
       "      <td>...</td>\n",
       "      <td>0.006516</td>\n",
       "      <td>3.932435</td>\n",
       "      <td>5.520713</td>\n",
       "      <td>0.028360</td>\n",
       "      <td>1.162592</td>\n",
       "      <td>0.002150</td>\n",
       "      <td>22.26466</td>\n",
       "      <td>-16.440364</td>\n",
       "      <td>2015</td>\n",
       "      <td>11</td>\n",
       "    </tr>\n",
       "    <tr>\n",
       "      <th>4</th>\n",
       "      <td>4</td>\n",
       "      <td>0.004002</td>\n",
       "      <td>0.000425</td>\n",
       "      <td>0.012011</td>\n",
       "      <td>0.937913</td>\n",
       "      <td>0.405020</td>\n",
       "      <td>0.002348</td>\n",
       "      <td>0.068812</td>\n",
       "      <td>1.462166</td>\n",
       "      <td>0.0</td>\n",
       "      <td>...</td>\n",
       "      <td>0.007511</td>\n",
       "      <td>3.435787</td>\n",
       "      <td>4.772962</td>\n",
       "      <td>0.031827</td>\n",
       "      <td>1.193514</td>\n",
       "      <td>0.001942</td>\n",
       "      <td>22.26466</td>\n",
       "      <td>-16.450364</td>\n",
       "      <td>2015</td>\n",
       "      <td>11</td>\n",
       "    </tr>\n",
       "    <tr>\n",
       "      <th>...</th>\n",
       "      <td>...</td>\n",
       "      <td>...</td>\n",
       "      <td>...</td>\n",
       "      <td>...</td>\n",
       "      <td>...</td>\n",
       "      <td>...</td>\n",
       "      <td>...</td>\n",
       "      <td>...</td>\n",
       "      <td>...</td>\n",
       "      <td>...</td>\n",
       "      <td>...</td>\n",
       "      <td>...</td>\n",
       "      <td>...</td>\n",
       "      <td>...</td>\n",
       "      <td>...</td>\n",
       "      <td>...</td>\n",
       "      <td>...</td>\n",
       "      <td>...</td>\n",
       "      <td>...</td>\n",
       "      <td>...</td>\n",
       "      <td>...</td>\n",
       "    </tr>\n",
       "    <tr>\n",
       "      <th>918658</th>\n",
       "      <td>3729</td>\n",
       "      <td>0.000000</td>\n",
       "      <td>0.000000</td>\n",
       "      <td>0.003351</td>\n",
       "      <td>0.506587</td>\n",
       "      <td>0.075253</td>\n",
       "      <td>0.000000</td>\n",
       "      <td>0.008294</td>\n",
       "      <td>0.860708</td>\n",
       "      <td>0.0</td>\n",
       "      <td>...</td>\n",
       "      <td>0.005945</td>\n",
       "      <td>2.868543</td>\n",
       "      <td>3.981516</td>\n",
       "      <td>0.016459</td>\n",
       "      <td>1.289775</td>\n",
       "      <td>0.000281</td>\n",
       "      <td>32.87466</td>\n",
       "      <td>-11.390364</td>\n",
       "      <td>2022</td>\n",
       "      <td>12</td>\n",
       "    </tr>\n",
       "    <tr>\n",
       "      <th>918659</th>\n",
       "      <td>3730</td>\n",
       "      <td>0.000000</td>\n",
       "      <td>0.000000</td>\n",
       "      <td>0.001638</td>\n",
       "      <td>0.500491</td>\n",
       "      <td>0.068168</td>\n",
       "      <td>0.000000</td>\n",
       "      <td>0.003469</td>\n",
       "      <td>0.879823</td>\n",
       "      <td>0.0</td>\n",
       "      <td>...</td>\n",
       "      <td>0.005039</td>\n",
       "      <td>2.861625</td>\n",
       "      <td>3.945390</td>\n",
       "      <td>0.016634</td>\n",
       "      <td>1.234191</td>\n",
       "      <td>0.000129</td>\n",
       "      <td>32.86466</td>\n",
       "      <td>-11.390364</td>\n",
       "      <td>2022</td>\n",
       "      <td>12</td>\n",
       "    </tr>\n",
       "    <tr>\n",
       "      <th>918660</th>\n",
       "      <td>3731</td>\n",
       "      <td>0.000771</td>\n",
       "      <td>0.000000</td>\n",
       "      <td>0.003275</td>\n",
       "      <td>0.559318</td>\n",
       "      <td>0.070403</td>\n",
       "      <td>0.000192</td>\n",
       "      <td>0.007627</td>\n",
       "      <td>0.958161</td>\n",
       "      <td>0.0</td>\n",
       "      <td>...</td>\n",
       "      <td>0.007142</td>\n",
       "      <td>2.917027</td>\n",
       "      <td>4.074458</td>\n",
       "      <td>0.024755</td>\n",
       "      <td>1.257929</td>\n",
       "      <td>0.002708</td>\n",
       "      <td>32.87466</td>\n",
       "      <td>-11.380364</td>\n",
       "      <td>2022</td>\n",
       "      <td>12</td>\n",
       "    </tr>\n",
       "    <tr>\n",
       "      <th>918661</th>\n",
       "      <td>3732</td>\n",
       "      <td>0.000508</td>\n",
       "      <td>0.000003</td>\n",
       "      <td>0.003023</td>\n",
       "      <td>0.259634</td>\n",
       "      <td>0.059728</td>\n",
       "      <td>0.000642</td>\n",
       "      <td>0.002495</td>\n",
       "      <td>0.409499</td>\n",
       "      <td>0.0</td>\n",
       "      <td>...</td>\n",
       "      <td>0.006365</td>\n",
       "      <td>2.543631</td>\n",
       "      <td>3.537266</td>\n",
       "      <td>0.026562</td>\n",
       "      <td>1.458724</td>\n",
       "      <td>0.005747</td>\n",
       "      <td>31.78466</td>\n",
       "      <td>-10.800364</td>\n",
       "      <td>2022</td>\n",
       "      <td>12</td>\n",
       "    </tr>\n",
       "    <tr>\n",
       "      <th>918662</th>\n",
       "      <td>3733</td>\n",
       "      <td>0.003019</td>\n",
       "      <td>0.000000</td>\n",
       "      <td>0.000741</td>\n",
       "      <td>0.349308</td>\n",
       "      <td>0.096118</td>\n",
       "      <td>0.000000</td>\n",
       "      <td>0.003453</td>\n",
       "      <td>0.535803</td>\n",
       "      <td>0.0</td>\n",
       "      <td>...</td>\n",
       "      <td>0.000179</td>\n",
       "      <td>2.673846</td>\n",
       "      <td>3.745781</td>\n",
       "      <td>0.009654</td>\n",
       "      <td>1.465982</td>\n",
       "      <td>0.000000</td>\n",
       "      <td>31.77466</td>\n",
       "      <td>-10.800364</td>\n",
       "      <td>2022</td>\n",
       "      <td>12</td>\n",
       "    </tr>\n",
       "  </tbody>\n",
       "</table>\n",
       "<p>918663 rows × 1005 columns</p>\n",
       "</div>"
      ],
      "text/plain": [
       "        index         0         1         2         3         4         5  \\\n",
       "0           0  0.001570  0.000480  0.005897  1.353835  0.509915  0.002976   \n",
       "1           1  0.001463  0.000276  0.007684  0.980061  0.378347  0.001967   \n",
       "2           2  0.003168  0.000671  0.005166  0.726874  0.222981  0.002820   \n",
       "3           3  0.001240  0.000455  0.022193  1.314633  0.528798  0.002496   \n",
       "4           4  0.004002  0.000425  0.012011  0.937913  0.405020  0.002348   \n",
       "...       ...       ...       ...       ...       ...       ...       ...   \n",
       "918658   3729  0.000000  0.000000  0.003351  0.506587  0.075253  0.000000   \n",
       "918659   3730  0.000000  0.000000  0.001638  0.500491  0.068168  0.000000   \n",
       "918660   3731  0.000771  0.000000  0.003275  0.559318  0.070403  0.000192   \n",
       "918661   3732  0.000508  0.000003  0.003023  0.259634  0.059728  0.000642   \n",
       "918662   3733  0.003019  0.000000  0.000741  0.349308  0.096118  0.000000   \n",
       "\n",
       "               6         7    8  ...       994       995       996       997  \\\n",
       "0       0.112365  2.114384  0.0  ...  0.004179  3.965036  5.546379  0.026053   \n",
       "1       0.056292  1.592373  0.0  ...  0.004066  3.541692  4.875215  0.024436   \n",
       "2       0.039191  1.190421  0.0  ...  0.005325  3.108610  4.367601  0.023106   \n",
       "3       0.106302  2.018325  0.0  ...  0.006516  3.932435  5.520713  0.028360   \n",
       "4       0.068812  1.462166  0.0  ...  0.007511  3.435787  4.772962  0.031827   \n",
       "...          ...       ...  ...  ...       ...       ...       ...       ...   \n",
       "918658  0.008294  0.860708  0.0  ...  0.005945  2.868543  3.981516  0.016459   \n",
       "918659  0.003469  0.879823  0.0  ...  0.005039  2.861625  3.945390  0.016634   \n",
       "918660  0.007627  0.958161  0.0  ...  0.007142  2.917027  4.074458  0.024755   \n",
       "918661  0.002495  0.409499  0.0  ...  0.006365  2.543631  3.537266  0.026562   \n",
       "918662  0.003453  0.535803  0.0  ...  0.000179  2.673846  3.745781  0.009654   \n",
       "\n",
       "             998       999       lon        lat  year  month  \n",
       "0       1.071133  0.000490  22.24466 -16.440364  2015     11  \n",
       "1       1.112796  0.000805  22.25466 -16.450364  2015     11  \n",
       "2       1.221709  0.000022  22.25466 -16.440364  2015     11  \n",
       "3       1.162592  0.002150  22.26466 -16.440364  2015     11  \n",
       "4       1.193514  0.001942  22.26466 -16.450364  2015     11  \n",
       "...          ...       ...       ...        ...   ...    ...  \n",
       "918658  1.289775  0.000281  32.87466 -11.390364  2022     12  \n",
       "918659  1.234191  0.000129  32.86466 -11.390364  2022     12  \n",
       "918660  1.257929  0.002708  32.87466 -11.380364  2022     12  \n",
       "918661  1.458724  0.005747  31.78466 -10.800364  2022     12  \n",
       "918662  1.465982  0.000000  31.77466 -10.800364  2022     12  \n",
       "\n",
       "[918663 rows x 1005 columns]"
      ]
     },
     "execution_count": 2,
     "metadata": {},
     "output_type": "execute_result"
    }
   ],
   "source": [
    "# Let's read in the new concatenated features:\n",
    "features = pd.read_feather(\"/capstone/mosaiks/repos/modeling/data/features_sea_save.feather\")\n",
    "features"
   ]
  },
  {
   "cell_type": "code",
   "execution_count": 5,
   "id": "7a5a908f-73f2-4385-89e8-d7511904e59e",
   "metadata": {
    "tags": []
   },
   "outputs": [
    {
     "name": "stderr",
     "output_type": "stream",
     "text": [
      "ERROR 1: PROJ: proj_create_from_database: Open of /Users/hveirs/.conda/envs/mosaiks/share/proj failed\n"
     ]
    },
    {
     "data": {
      "text/html": [
       "<div>\n",
       "<style scoped>\n",
       "    .dataframe tbody tr th:only-of-type {\n",
       "        vertical-align: middle;\n",
       "    }\n",
       "\n",
       "    .dataframe tbody tr th {\n",
       "        vertical-align: top;\n",
       "    }\n",
       "\n",
       "    .dataframe thead th {\n",
       "        text-align: right;\n",
       "    }\n",
       "</style>\n",
       "<table border=\"1\" class=\"dataframe\">\n",
       "  <thead>\n",
       "    <tr style=\"text-align: right;\">\n",
       "      <th></th>\n",
       "      <th>sea_unq</th>\n",
       "      <th>year</th>\n",
       "      <th>bunding</th>\n",
       "      <th>cnvntnl</th>\n",
       "      <th>plntngb</th>\n",
       "      <th>ploghng</th>\n",
       "      <th>ridging</th>\n",
       "      <th>ripping</th>\n",
       "      <th>zertllg</th>\n",
       "      <th>xna</th>\n",
       "      <th>...</th>\n",
       "      <th>rice</th>\n",
       "      <th>sedcttn</th>\n",
       "      <th>sorghum</th>\n",
       "      <th>soybens</th>\n",
       "      <th>sugarcn</th>\n",
       "      <th>sunflwr</th>\n",
       "      <th>swtptts</th>\n",
       "      <th>vlvtbns</th>\n",
       "      <th>vrgntbc</th>\n",
       "      <th>geometry</th>\n",
       "    </tr>\n",
       "  </thead>\n",
       "  <tbody>\n",
       "    <tr>\n",
       "      <th>0</th>\n",
       "      <td>1</td>\n",
       "      <td>2008.0</td>\n",
       "      <td>11.4875</td>\n",
       "      <td>0.1250</td>\n",
       "      <td>0.25</td>\n",
       "      <td>2.250000</td>\n",
       "      <td>29.017500</td>\n",
       "      <td>0.0</td>\n",
       "      <td>0.0000</td>\n",
       "      <td>0.00</td>\n",
       "      <td>...</td>\n",
       "      <td>0.0</td>\n",
       "      <td>0.0</td>\n",
       "      <td>1.437500</td>\n",
       "      <td>0.25</td>\n",
       "      <td>0.0</td>\n",
       "      <td>0.000</td>\n",
       "      <td>1.330000</td>\n",
       "      <td>0.0</td>\n",
       "      <td>0.0</td>\n",
       "      <td>POLYGON ((27.82327 -13.65772, 27.82294 -13.657...</td>\n",
       "    </tr>\n",
       "    <tr>\n",
       "      <th>1</th>\n",
       "      <td>1</td>\n",
       "      <td>2009.0</td>\n",
       "      <td>0.3775</td>\n",
       "      <td>0.0000</td>\n",
       "      <td>4.75</td>\n",
       "      <td>0.000000</td>\n",
       "      <td>29.845000</td>\n",
       "      <td>0.0</td>\n",
       "      <td>0.0000</td>\n",
       "      <td>0.00</td>\n",
       "      <td>...</td>\n",
       "      <td>0.0</td>\n",
       "      <td>0.0</td>\n",
       "      <td>0.197500</td>\n",
       "      <td>0.19</td>\n",
       "      <td>0.0</td>\n",
       "      <td>0.000</td>\n",
       "      <td>0.250000</td>\n",
       "      <td>0.0</td>\n",
       "      <td>0.0</td>\n",
       "      <td>POLYGON ((27.82327 -13.65772, 27.82294 -13.657...</td>\n",
       "    </tr>\n",
       "    <tr>\n",
       "      <th>2</th>\n",
       "      <td>1</td>\n",
       "      <td>2010.0</td>\n",
       "      <td>0.0000</td>\n",
       "      <td>8.8750</td>\n",
       "      <td>0.00</td>\n",
       "      <td>5.000000</td>\n",
       "      <td>18.340000</td>\n",
       "      <td>0.0</td>\n",
       "      <td>0.0000</td>\n",
       "      <td>0.00</td>\n",
       "      <td>...</td>\n",
       "      <td>0.0</td>\n",
       "      <td>0.0</td>\n",
       "      <td>0.000000</td>\n",
       "      <td>0.25</td>\n",
       "      <td>0.0</td>\n",
       "      <td>0.000</td>\n",
       "      <td>0.625000</td>\n",
       "      <td>0.0</td>\n",
       "      <td>0.0</td>\n",
       "      <td>POLYGON ((27.82327 -13.65772, 27.82294 -13.657...</td>\n",
       "    </tr>\n",
       "    <tr>\n",
       "      <th>3</th>\n",
       "      <td>1</td>\n",
       "      <td>2011.0</td>\n",
       "      <td>0.3725</td>\n",
       "      <td>18.0275</td>\n",
       "      <td>0.00</td>\n",
       "      <td>41.025000</td>\n",
       "      <td>0.375000</td>\n",
       "      <td>0.0</td>\n",
       "      <td>0.6075</td>\n",
       "      <td>0.00</td>\n",
       "      <td>...</td>\n",
       "      <td>0.0</td>\n",
       "      <td>2.0</td>\n",
       "      <td>1.500000</td>\n",
       "      <td>0.00</td>\n",
       "      <td>0.0</td>\n",
       "      <td>0.625</td>\n",
       "      <td>0.682500</td>\n",
       "      <td>0.0</td>\n",
       "      <td>0.0</td>\n",
       "      <td>POLYGON ((27.82327 -13.65772, 27.82294 -13.657...</td>\n",
       "    </tr>\n",
       "    <tr>\n",
       "      <th>4</th>\n",
       "      <td>1</td>\n",
       "      <td>2012.0</td>\n",
       "      <td>0.6250</td>\n",
       "      <td>22.5600</td>\n",
       "      <td>0.81</td>\n",
       "      <td>58.560000</td>\n",
       "      <td>0.062500</td>\n",
       "      <td>0.0</td>\n",
       "      <td>2.0000</td>\n",
       "      <td>0.00</td>\n",
       "      <td>...</td>\n",
       "      <td>0.0</td>\n",
       "      <td>0.0</td>\n",
       "      <td>0.810000</td>\n",
       "      <td>1.00</td>\n",
       "      <td>0.0</td>\n",
       "      <td>0.000</td>\n",
       "      <td>0.625000</td>\n",
       "      <td>0.0</td>\n",
       "      <td>0.0</td>\n",
       "      <td>POLYGON ((27.82327 -13.65772, 27.82294 -13.657...</td>\n",
       "    </tr>\n",
       "    <tr>\n",
       "      <th>...</th>\n",
       "      <td>...</td>\n",
       "      <td>...</td>\n",
       "      <td>...</td>\n",
       "      <td>...</td>\n",
       "      <td>...</td>\n",
       "      <td>...</td>\n",
       "      <td>...</td>\n",
       "      <td>...</td>\n",
       "      <td>...</td>\n",
       "      <td>...</td>\n",
       "      <td>...</td>\n",
       "      <td>...</td>\n",
       "      <td>...</td>\n",
       "      <td>...</td>\n",
       "      <td>...</td>\n",
       "      <td>...</td>\n",
       "      <td>...</td>\n",
       "      <td>...</td>\n",
       "      <td>...</td>\n",
       "      <td>...</td>\n",
       "      <td>...</td>\n",
       "    </tr>\n",
       "    <tr>\n",
       "      <th>2746</th>\n",
       "      <td>300</td>\n",
       "      <td>2013.0</td>\n",
       "      <td>0.0000</td>\n",
       "      <td>7.9900</td>\n",
       "      <td>0.00</td>\n",
       "      <td>48.685000</td>\n",
       "      <td>0.000000</td>\n",
       "      <td>0.0</td>\n",
       "      <td>0.0000</td>\n",
       "      <td>0.00</td>\n",
       "      <td>...</td>\n",
       "      <td>0.0</td>\n",
       "      <td>0.0</td>\n",
       "      <td>3.550000</td>\n",
       "      <td>0.00</td>\n",
       "      <td>0.0</td>\n",
       "      <td>0.000</td>\n",
       "      <td>0.000000</td>\n",
       "      <td>0.0</td>\n",
       "      <td>0.0</td>\n",
       "      <td>POLYGON ((23.23962 -16.31204, 23.23876 -16.312...</td>\n",
       "    </tr>\n",
       "    <tr>\n",
       "      <th>2747</th>\n",
       "      <td>300</td>\n",
       "      <td>2014.0</td>\n",
       "      <td>0.0000</td>\n",
       "      <td>5.6750</td>\n",
       "      <td>0.00</td>\n",
       "      <td>65.085000</td>\n",
       "      <td>0.000000</td>\n",
       "      <td>1.2</td>\n",
       "      <td>0.0000</td>\n",
       "      <td>0.00</td>\n",
       "      <td>...</td>\n",
       "      <td>0.0</td>\n",
       "      <td>0.0</td>\n",
       "      <td>14.695000</td>\n",
       "      <td>0.00</td>\n",
       "      <td>0.0</td>\n",
       "      <td>0.000</td>\n",
       "      <td>0.000000</td>\n",
       "      <td>0.0</td>\n",
       "      <td>0.0</td>\n",
       "      <td>POLYGON ((23.23962 -16.31204, 23.23876 -16.312...</td>\n",
       "    </tr>\n",
       "    <tr>\n",
       "      <th>2748</th>\n",
       "      <td>300</td>\n",
       "      <td>2015.0</td>\n",
       "      <td>0.0000</td>\n",
       "      <td>1.4000</td>\n",
       "      <td>0.81</td>\n",
       "      <td>36.275894</td>\n",
       "      <td>1.737886</td>\n",
       "      <td>0.0</td>\n",
       "      <td>0.0000</td>\n",
       "      <td>4.78</td>\n",
       "      <td>...</td>\n",
       "      <td>0.0</td>\n",
       "      <td>0.0</td>\n",
       "      <td>2.089372</td>\n",
       "      <td>0.00</td>\n",
       "      <td>0.0</td>\n",
       "      <td>0.000</td>\n",
       "      <td>2.737887</td>\n",
       "      <td>0.0</td>\n",
       "      <td>0.0</td>\n",
       "      <td>POLYGON ((23.23962 -16.31204, 23.23876 -16.312...</td>\n",
       "    </tr>\n",
       "    <tr>\n",
       "      <th>2749</th>\n",
       "      <td>300</td>\n",
       "      <td>2016.0</td>\n",
       "      <td>0.0000</td>\n",
       "      <td>1.4000</td>\n",
       "      <td>0.81</td>\n",
       "      <td>36.275894</td>\n",
       "      <td>1.737886</td>\n",
       "      <td>0.0</td>\n",
       "      <td>0.0000</td>\n",
       "      <td>4.78</td>\n",
       "      <td>...</td>\n",
       "      <td>0.0</td>\n",
       "      <td>0.0</td>\n",
       "      <td>2.089372</td>\n",
       "      <td>0.00</td>\n",
       "      <td>0.0</td>\n",
       "      <td>0.000</td>\n",
       "      <td>2.737887</td>\n",
       "      <td>0.0</td>\n",
       "      <td>0.0</td>\n",
       "      <td>POLYGON ((23.23962 -16.31204, 23.23876 -16.312...</td>\n",
       "    </tr>\n",
       "    <tr>\n",
       "      <th>2750</th>\n",
       "      <td>300</td>\n",
       "      <td>2017.0</td>\n",
       "      <td>0.3750</td>\n",
       "      <td>12.1800</td>\n",
       "      <td>0.00</td>\n",
       "      <td>24.215000</td>\n",
       "      <td>0.000000</td>\n",
       "      <td>0.0</td>\n",
       "      <td>0.0000</td>\n",
       "      <td>0.00</td>\n",
       "      <td>...</td>\n",
       "      <td>0.0</td>\n",
       "      <td>0.0</td>\n",
       "      <td>1.250000</td>\n",
       "      <td>0.00</td>\n",
       "      <td>0.0</td>\n",
       "      <td>0.000</td>\n",
       "      <td>0.375000</td>\n",
       "      <td>0.0</td>\n",
       "      <td>0.0</td>\n",
       "      <td>POLYGON ((23.23962 -16.31204, 23.23876 -16.312...</td>\n",
       "    </tr>\n",
       "  </tbody>\n",
       "</table>\n",
       "<p>2751 rows × 47 columns</p>\n",
       "</div>"
      ],
      "text/plain": [
       "      sea_unq    year  bunding  cnvntnl  plntngb    ploghng    ridging  \\\n",
       "0           1  2008.0  11.4875   0.1250     0.25   2.250000  29.017500   \n",
       "1           1  2009.0   0.3775   0.0000     4.75   0.000000  29.845000   \n",
       "2           1  2010.0   0.0000   8.8750     0.00   5.000000  18.340000   \n",
       "3           1  2011.0   0.3725  18.0275     0.00  41.025000   0.375000   \n",
       "4           1  2012.0   0.6250  22.5600     0.81  58.560000   0.062500   \n",
       "...       ...     ...      ...      ...      ...        ...        ...   \n",
       "2746      300  2013.0   0.0000   7.9900     0.00  48.685000   0.000000   \n",
       "2747      300  2014.0   0.0000   5.6750     0.00  65.085000   0.000000   \n",
       "2748      300  2015.0   0.0000   1.4000     0.81  36.275894   1.737886   \n",
       "2749      300  2016.0   0.0000   1.4000     0.81  36.275894   1.737886   \n",
       "2750      300  2017.0   0.3750  12.1800     0.00  24.215000   0.000000   \n",
       "\n",
       "      ripping  zertllg   xna  ...  rice  sedcttn    sorghum  soybens  sugarcn  \\\n",
       "0         0.0   0.0000  0.00  ...   0.0      0.0   1.437500     0.25      0.0   \n",
       "1         0.0   0.0000  0.00  ...   0.0      0.0   0.197500     0.19      0.0   \n",
       "2         0.0   0.0000  0.00  ...   0.0      0.0   0.000000     0.25      0.0   \n",
       "3         0.0   0.6075  0.00  ...   0.0      2.0   1.500000     0.00      0.0   \n",
       "4         0.0   2.0000  0.00  ...   0.0      0.0   0.810000     1.00      0.0   \n",
       "...       ...      ...   ...  ...   ...      ...        ...      ...      ...   \n",
       "2746      0.0   0.0000  0.00  ...   0.0      0.0   3.550000     0.00      0.0   \n",
       "2747      1.2   0.0000  0.00  ...   0.0      0.0  14.695000     0.00      0.0   \n",
       "2748      0.0   0.0000  4.78  ...   0.0      0.0   2.089372     0.00      0.0   \n",
       "2749      0.0   0.0000  4.78  ...   0.0      0.0   2.089372     0.00      0.0   \n",
       "2750      0.0   0.0000  0.00  ...   0.0      0.0   1.250000     0.00      0.0   \n",
       "\n",
       "      sunflwr   swtptts  vlvtbns  vrgntbc  \\\n",
       "0       0.000  1.330000      0.0      0.0   \n",
       "1       0.000  0.250000      0.0      0.0   \n",
       "2       0.000  0.625000      0.0      0.0   \n",
       "3       0.625  0.682500      0.0      0.0   \n",
       "4       0.000  0.625000      0.0      0.0   \n",
       "...       ...       ...      ...      ...   \n",
       "2746    0.000  0.000000      0.0      0.0   \n",
       "2747    0.000  0.000000      0.0      0.0   \n",
       "2748    0.000  2.737887      0.0      0.0   \n",
       "2749    0.000  2.737887      0.0      0.0   \n",
       "2750    0.000  0.375000      0.0      0.0   \n",
       "\n",
       "                                               geometry  \n",
       "0     POLYGON ((27.82327 -13.65772, 27.82294 -13.657...  \n",
       "1     POLYGON ((27.82327 -13.65772, 27.82294 -13.657...  \n",
       "2     POLYGON ((27.82327 -13.65772, 27.82294 -13.657...  \n",
       "3     POLYGON ((27.82327 -13.65772, 27.82294 -13.657...  \n",
       "4     POLYGON ((27.82327 -13.65772, 27.82294 -13.657...  \n",
       "...                                                 ...  \n",
       "2746  POLYGON ((23.23962 -16.31204, 23.23876 -16.312...  \n",
       "2747  POLYGON ((23.23962 -16.31204, 23.23876 -16.312...  \n",
       "2748  POLYGON ((23.23962 -16.31204, 23.23876 -16.312...  \n",
       "2749  POLYGON ((23.23962 -16.31204, 23.23876 -16.312...  \n",
       "2750  POLYGON ((23.23962 -16.31204, 23.23876 -16.312...  \n",
       "\n",
       "[2751 rows x 47 columns]"
      ]
     },
     "execution_count": 5,
     "metadata": {},
     "output_type": "execute_result"
    }
   ],
   "source": [
    "# Read in the survey data\n",
    "country_sea = gpd.read_file('/capstone/mosaiks/repos/preprocessing/featurizeme/total.shp')\n",
    "country_sea"
   ]
  },
  {
   "cell_type": "markdown",
   "id": "2ce99bc0-bd2d-4469-b57d-041af74c5500",
   "metadata": {},
   "source": [
    "### 2. Organize the features by growing season\n",
    "\n",
    "This involves"
   ]
  },
  {
   "cell_type": "code",
   "execution_count": 6,
   "id": "64bbc8fc-4355-428a-8867-e7b62ce335fe",
   "metadata": {
    "tags": []
   },
   "outputs": [
    {
     "name": "stderr",
     "output_type": "stream",
     "text": [
      "/tmp/ipykernel_3549245/261356123.py:13: SettingWithCopyWarning: \n",
      "A value is trying to be set on a copy of a slice from a DataFrame\n",
      "\n",
      "See the caveats in the documentation: https://pandas.pydata.org/pandas-docs/stable/user_guide/indexing.html#returning-a-view-versus-a-copy\n",
      "  features_gs.sort_values(['year', 'month'], inplace=True)\n"
     ]
    }
   ],
   "source": [
    "# Organize the features by growing season\n",
    "# Carry months October, November, and December over to the following year's data\n",
    "# These months represent the start of the growing season for the following year's maize yield\n",
    "year_end = 2022\n",
    "\n",
    "features['year'] = np.where(\n",
    "    features['month'].isin([10, 11, 12]),\n",
    "    features['year'] + 1, \n",
    "    features['year'])\n",
    "\n",
    "features_gs = features[features['year'] <= year_end]\n",
    "\n",
    "features_gs.sort_values(['year', 'month'], inplace=True)"
   ]
  },
  {
   "cell_type": "markdown",
   "id": "b0f38a1f-5759-4e38-8fcb-5e0a74001d05",
   "metadata": {},
   "source": [
    "### 3. Convert the features into a geo dataframe"
   ]
  },
  {
   "cell_type": "code",
   "execution_count": 7,
   "id": "a441255d-041c-4625-afa7-4679f13967fc",
   "metadata": {
    "tags": []
   },
   "outputs": [],
   "source": [
    "# Create a geodataframe of the new features\n",
    "features_new_gdf = gpd.GeoDataFrame(\n",
    "    features_gs, \n",
    "    geometry = gpd.points_from_xy(x = features_gs.lon, y = features_gs.lat), \n",
    "    crs='EPSG:4326'\n",
    ")"
   ]
  },
  {
   "cell_type": "markdown",
   "id": "ce029306-c918-4c36-84ee-18e08c9c37b4",
   "metadata": {},
   "source": [
    "### 4. Join the survey data with the features\n",
    "This is done by joining by the geometry."
   ]
  },
  {
   "cell_type": "code",
   "execution_count": 8,
   "id": "27119122-ee55-49e9-b459-3546f613928e",
   "metadata": {
    "tags": []
   },
   "outputs": [
    {
     "data": {
      "text/html": [
       "<div>\n",
       "<style scoped>\n",
       "    .dataframe tbody tr th:only-of-type {\n",
       "        vertical-align: middle;\n",
       "    }\n",
       "\n",
       "    .dataframe tbody tr th {\n",
       "        vertical-align: top;\n",
       "    }\n",
       "\n",
       "    .dataframe thead th {\n",
       "        text-align: right;\n",
       "    }\n",
       "</style>\n",
       "<table border=\"1\" class=\"dataframe\">\n",
       "  <thead>\n",
       "    <tr style=\"text-align: right;\">\n",
       "      <th></th>\n",
       "      <th>index_left</th>\n",
       "      <th>index</th>\n",
       "      <th>0</th>\n",
       "      <th>1</th>\n",
       "      <th>2</th>\n",
       "      <th>3</th>\n",
       "      <th>4</th>\n",
       "      <th>5</th>\n",
       "      <th>6</th>\n",
       "      <th>7</th>\n",
       "      <th>...</th>\n",
       "      <th>rice</th>\n",
       "      <th>sedcttn</th>\n",
       "      <th>sorghum</th>\n",
       "      <th>soybens</th>\n",
       "      <th>sugarcn</th>\n",
       "      <th>sunflwr</th>\n",
       "      <th>swtptts</th>\n",
       "      <th>vlvtbns</th>\n",
       "      <th>vrgntbc</th>\n",
       "      <th>geometry</th>\n",
       "    </tr>\n",
       "  </thead>\n",
       "  <tbody>\n",
       "    <tr>\n",
       "      <th>0</th>\n",
       "      <td>7013.0</td>\n",
       "      <td>4359.0</td>\n",
       "      <td>0.000000</td>\n",
       "      <td>0.000000</td>\n",
       "      <td>0.000000</td>\n",
       "      <td>0.000000</td>\n",
       "      <td>0.000000</td>\n",
       "      <td>0.000000</td>\n",
       "      <td>0.000000</td>\n",
       "      <td>0.000000</td>\n",
       "      <td>...</td>\n",
       "      <td>0.0</td>\n",
       "      <td>0.0</td>\n",
       "      <td>1.4375</td>\n",
       "      <td>0.25</td>\n",
       "      <td>0.0</td>\n",
       "      <td>0.0</td>\n",
       "      <td>1.330</td>\n",
       "      <td>0.0</td>\n",
       "      <td>0.0</td>\n",
       "      <td>POLYGON ((27.82327 -13.65772, 27.82294 -13.657...</td>\n",
       "    </tr>\n",
       "    <tr>\n",
       "      <th>0</th>\n",
       "      <td>7014.0</td>\n",
       "      <td>4360.0</td>\n",
       "      <td>0.000000</td>\n",
       "      <td>0.000000</td>\n",
       "      <td>0.000000</td>\n",
       "      <td>0.000000</td>\n",
       "      <td>0.000000</td>\n",
       "      <td>0.000000</td>\n",
       "      <td>0.000000</td>\n",
       "      <td>0.000000</td>\n",
       "      <td>...</td>\n",
       "      <td>0.0</td>\n",
       "      <td>0.0</td>\n",
       "      <td>1.4375</td>\n",
       "      <td>0.25</td>\n",
       "      <td>0.0</td>\n",
       "      <td>0.0</td>\n",
       "      <td>1.330</td>\n",
       "      <td>0.0</td>\n",
       "      <td>0.0</td>\n",
       "      <td>POLYGON ((27.82327 -13.65772, 27.82294 -13.657...</td>\n",
       "    </tr>\n",
       "    <tr>\n",
       "      <th>0</th>\n",
       "      <td>7015.0</td>\n",
       "      <td>4361.0</td>\n",
       "      <td>0.000000</td>\n",
       "      <td>0.000000</td>\n",
       "      <td>0.000000</td>\n",
       "      <td>0.000000</td>\n",
       "      <td>0.000000</td>\n",
       "      <td>0.000000</td>\n",
       "      <td>0.000000</td>\n",
       "      <td>0.000000</td>\n",
       "      <td>...</td>\n",
       "      <td>0.0</td>\n",
       "      <td>0.0</td>\n",
       "      <td>1.4375</td>\n",
       "      <td>0.25</td>\n",
       "      <td>0.0</td>\n",
       "      <td>0.0</td>\n",
       "      <td>1.330</td>\n",
       "      <td>0.0</td>\n",
       "      <td>0.0</td>\n",
       "      <td>POLYGON ((27.82327 -13.65772, 27.82294 -13.657...</td>\n",
       "    </tr>\n",
       "    <tr>\n",
       "      <th>0</th>\n",
       "      <td>7016.0</td>\n",
       "      <td>4362.0</td>\n",
       "      <td>0.000000</td>\n",
       "      <td>0.000000</td>\n",
       "      <td>0.000000</td>\n",
       "      <td>0.000000</td>\n",
       "      <td>0.000000</td>\n",
       "      <td>0.000000</td>\n",
       "      <td>0.000000</td>\n",
       "      <td>0.000000</td>\n",
       "      <td>...</td>\n",
       "      <td>0.0</td>\n",
       "      <td>0.0</td>\n",
       "      <td>1.4375</td>\n",
       "      <td>0.25</td>\n",
       "      <td>0.0</td>\n",
       "      <td>0.0</td>\n",
       "      <td>1.330</td>\n",
       "      <td>0.0</td>\n",
       "      <td>0.0</td>\n",
       "      <td>POLYGON ((27.82327 -13.65772, 27.82294 -13.657...</td>\n",
       "    </tr>\n",
       "    <tr>\n",
       "      <th>0</th>\n",
       "      <td>7017.0</td>\n",
       "      <td>4363.0</td>\n",
       "      <td>0.000000</td>\n",
       "      <td>0.000000</td>\n",
       "      <td>0.000000</td>\n",
       "      <td>0.000000</td>\n",
       "      <td>0.000000</td>\n",
       "      <td>0.000000</td>\n",
       "      <td>0.000000</td>\n",
       "      <td>0.000000</td>\n",
       "      <td>...</td>\n",
       "      <td>0.0</td>\n",
       "      <td>0.0</td>\n",
       "      <td>1.4375</td>\n",
       "      <td>0.25</td>\n",
       "      <td>0.0</td>\n",
       "      <td>0.0</td>\n",
       "      <td>1.330</td>\n",
       "      <td>0.0</td>\n",
       "      <td>0.0</td>\n",
       "      <td>POLYGON ((27.82327 -13.65772, 27.82294 -13.657...</td>\n",
       "    </tr>\n",
       "    <tr>\n",
       "      <th>...</th>\n",
       "      <td>...</td>\n",
       "      <td>...</td>\n",
       "      <td>...</td>\n",
       "      <td>...</td>\n",
       "      <td>...</td>\n",
       "      <td>...</td>\n",
       "      <td>...</td>\n",
       "      <td>...</td>\n",
       "      <td>...</td>\n",
       "      <td>...</td>\n",
       "      <td>...</td>\n",
       "      <td>...</td>\n",
       "      <td>...</td>\n",
       "      <td>...</td>\n",
       "      <td>...</td>\n",
       "      <td>...</td>\n",
       "      <td>...</td>\n",
       "      <td>...</td>\n",
       "      <td>...</td>\n",
       "      <td>...</td>\n",
       "      <td>...</td>\n",
       "    </tr>\n",
       "    <tr>\n",
       "      <th>2750</th>\n",
       "      <td>787691.0</td>\n",
       "      <td>660.0</td>\n",
       "      <td>0.004049</td>\n",
       "      <td>0.001780</td>\n",
       "      <td>0.008812</td>\n",
       "      <td>1.439304</td>\n",
       "      <td>0.372653</td>\n",
       "      <td>0.001426</td>\n",
       "      <td>0.146842</td>\n",
       "      <td>2.334345</td>\n",
       "      <td>...</td>\n",
       "      <td>0.0</td>\n",
       "      <td>0.0</td>\n",
       "      <td>1.2500</td>\n",
       "      <td>0.00</td>\n",
       "      <td>0.0</td>\n",
       "      <td>0.0</td>\n",
       "      <td>0.375</td>\n",
       "      <td>0.0</td>\n",
       "      <td>0.0</td>\n",
       "      <td>POLYGON ((23.23962 -16.31204, 23.23876 -16.312...</td>\n",
       "    </tr>\n",
       "    <tr>\n",
       "      <th>2750</th>\n",
       "      <td>787692.0</td>\n",
       "      <td>661.0</td>\n",
       "      <td>0.003966</td>\n",
       "      <td>0.002298</td>\n",
       "      <td>0.009656</td>\n",
       "      <td>2.017213</td>\n",
       "      <td>0.700494</td>\n",
       "      <td>0.006570</td>\n",
       "      <td>0.212634</td>\n",
       "      <td>3.091480</td>\n",
       "      <td>...</td>\n",
       "      <td>0.0</td>\n",
       "      <td>0.0</td>\n",
       "      <td>1.2500</td>\n",
       "      <td>0.00</td>\n",
       "      <td>0.0</td>\n",
       "      <td>0.0</td>\n",
       "      <td>0.375</td>\n",
       "      <td>0.0</td>\n",
       "      <td>0.0</td>\n",
       "      <td>POLYGON ((23.23962 -16.31204, 23.23876 -16.312...</td>\n",
       "    </tr>\n",
       "    <tr>\n",
       "      <th>2750</th>\n",
       "      <td>787693.0</td>\n",
       "      <td>662.0</td>\n",
       "      <td>0.002749</td>\n",
       "      <td>0.000552</td>\n",
       "      <td>0.013278</td>\n",
       "      <td>0.962244</td>\n",
       "      <td>0.420734</td>\n",
       "      <td>0.002132</td>\n",
       "      <td>0.043373</td>\n",
       "      <td>1.555147</td>\n",
       "      <td>...</td>\n",
       "      <td>0.0</td>\n",
       "      <td>0.0</td>\n",
       "      <td>1.2500</td>\n",
       "      <td>0.00</td>\n",
       "      <td>0.0</td>\n",
       "      <td>0.0</td>\n",
       "      <td>0.375</td>\n",
       "      <td>0.0</td>\n",
       "      <td>0.0</td>\n",
       "      <td>POLYGON ((23.23962 -16.31204, 23.23876 -16.312...</td>\n",
       "    </tr>\n",
       "    <tr>\n",
       "      <th>2750</th>\n",
       "      <td>787694.0</td>\n",
       "      <td>663.0</td>\n",
       "      <td>0.005742</td>\n",
       "      <td>0.000098</td>\n",
       "      <td>0.009880</td>\n",
       "      <td>1.605870</td>\n",
       "      <td>0.410793</td>\n",
       "      <td>0.001355</td>\n",
       "      <td>0.193519</td>\n",
       "      <td>2.588202</td>\n",
       "      <td>...</td>\n",
       "      <td>0.0</td>\n",
       "      <td>0.0</td>\n",
       "      <td>1.2500</td>\n",
       "      <td>0.00</td>\n",
       "      <td>0.0</td>\n",
       "      <td>0.0</td>\n",
       "      <td>0.375</td>\n",
       "      <td>0.0</td>\n",
       "      <td>0.0</td>\n",
       "      <td>POLYGON ((23.23962 -16.31204, 23.23876 -16.312...</td>\n",
       "    </tr>\n",
       "    <tr>\n",
       "      <th>2750</th>\n",
       "      <td>787695.0</td>\n",
       "      <td>664.0</td>\n",
       "      <td>0.003059</td>\n",
       "      <td>0.000104</td>\n",
       "      <td>0.005421</td>\n",
       "      <td>1.141649</td>\n",
       "      <td>0.630591</td>\n",
       "      <td>0.002193</td>\n",
       "      <td>0.018766</td>\n",
       "      <td>1.745143</td>\n",
       "      <td>...</td>\n",
       "      <td>0.0</td>\n",
       "      <td>0.0</td>\n",
       "      <td>1.2500</td>\n",
       "      <td>0.00</td>\n",
       "      <td>0.0</td>\n",
       "      <td>0.0</td>\n",
       "      <td>0.375</td>\n",
       "      <td>0.0</td>\n",
       "      <td>0.0</td>\n",
       "      <td>POLYGON ((23.23962 -16.31204, 23.23876 -16.312...</td>\n",
       "    </tr>\n",
       "  </tbody>\n",
       "</table>\n",
       "<p>8095762 rows × 1053 columns</p>\n",
       "</div>"
      ],
      "text/plain": [
       "      index_left   index         0         1         2         3         4  \\\n",
       "0         7013.0  4359.0  0.000000  0.000000  0.000000  0.000000  0.000000   \n",
       "0         7014.0  4360.0  0.000000  0.000000  0.000000  0.000000  0.000000   \n",
       "0         7015.0  4361.0  0.000000  0.000000  0.000000  0.000000  0.000000   \n",
       "0         7016.0  4362.0  0.000000  0.000000  0.000000  0.000000  0.000000   \n",
       "0         7017.0  4363.0  0.000000  0.000000  0.000000  0.000000  0.000000   \n",
       "...          ...     ...       ...       ...       ...       ...       ...   \n",
       "2750    787691.0   660.0  0.004049  0.001780  0.008812  1.439304  0.372653   \n",
       "2750    787692.0   661.0  0.003966  0.002298  0.009656  2.017213  0.700494   \n",
       "2750    787693.0   662.0  0.002749  0.000552  0.013278  0.962244  0.420734   \n",
       "2750    787694.0   663.0  0.005742  0.000098  0.009880  1.605870  0.410793   \n",
       "2750    787695.0   664.0  0.003059  0.000104  0.005421  1.141649  0.630591   \n",
       "\n",
       "             5         6         7  ...  rice  sedcttn  sorghum  soybens  \\\n",
       "0     0.000000  0.000000  0.000000  ...   0.0      0.0   1.4375     0.25   \n",
       "0     0.000000  0.000000  0.000000  ...   0.0      0.0   1.4375     0.25   \n",
       "0     0.000000  0.000000  0.000000  ...   0.0      0.0   1.4375     0.25   \n",
       "0     0.000000  0.000000  0.000000  ...   0.0      0.0   1.4375     0.25   \n",
       "0     0.000000  0.000000  0.000000  ...   0.0      0.0   1.4375     0.25   \n",
       "...        ...       ...       ...  ...   ...      ...      ...      ...   \n",
       "2750  0.001426  0.146842  2.334345  ...   0.0      0.0   1.2500     0.00   \n",
       "2750  0.006570  0.212634  3.091480  ...   0.0      0.0   1.2500     0.00   \n",
       "2750  0.002132  0.043373  1.555147  ...   0.0      0.0   1.2500     0.00   \n",
       "2750  0.001355  0.193519  2.588202  ...   0.0      0.0   1.2500     0.00   \n",
       "2750  0.002193  0.018766  1.745143  ...   0.0      0.0   1.2500     0.00   \n",
       "\n",
       "      sugarcn  sunflwr  swtptts  vlvtbns  vrgntbc  \\\n",
       "0         0.0      0.0    1.330      0.0      0.0   \n",
       "0         0.0      0.0    1.330      0.0      0.0   \n",
       "0         0.0      0.0    1.330      0.0      0.0   \n",
       "0         0.0      0.0    1.330      0.0      0.0   \n",
       "0         0.0      0.0    1.330      0.0      0.0   \n",
       "...       ...      ...      ...      ...      ...   \n",
       "2750      0.0      0.0    0.375      0.0      0.0   \n",
       "2750      0.0      0.0    0.375      0.0      0.0   \n",
       "2750      0.0      0.0    0.375      0.0      0.0   \n",
       "2750      0.0      0.0    0.375      0.0      0.0   \n",
       "2750      0.0      0.0    0.375      0.0      0.0   \n",
       "\n",
       "                                               geometry  \n",
       "0     POLYGON ((27.82327 -13.65772, 27.82294 -13.657...  \n",
       "0     POLYGON ((27.82327 -13.65772, 27.82294 -13.657...  \n",
       "0     POLYGON ((27.82327 -13.65772, 27.82294 -13.657...  \n",
       "0     POLYGON ((27.82327 -13.65772, 27.82294 -13.657...  \n",
       "0     POLYGON ((27.82327 -13.65772, 27.82294 -13.657...  \n",
       "...                                                 ...  \n",
       "2750  POLYGON ((23.23962 -16.31204, 23.23876 -16.312...  \n",
       "2750  POLYGON ((23.23962 -16.31204, 23.23876 -16.312...  \n",
       "2750  POLYGON ((23.23962 -16.31204, 23.23876 -16.312...  \n",
       "2750  POLYGON ((23.23962 -16.31204, 23.23876 -16.312...  \n",
       "2750  POLYGON ((23.23962 -16.31204, 23.23876 -16.312...  \n",
       "\n",
       "[8095762 rows x 1053 columns]"
      ]
     },
     "execution_count": 8,
     "metadata": {},
     "output_type": "execute_result"
    }
   ],
   "source": [
    "# Now lets combine the sea data \n",
    "features_join = features_new_gdf.sjoin(country_sea, how = 'right')\n",
    "features_join"
   ]
  },
  {
   "cell_type": "code",
   "execution_count": null,
   "id": "327e25c4-b448-4cc2-8a1b-50193dc15cee",
   "metadata": {},
   "outputs": [],
   "source": [
    "# OPTIONAL: \n",
    "# Drop the redundant independent lon and lat columns because now that they are in a separate geometry column\n",
    "#features_join_drop = features_join.drop(['lon', 'lat'], axis = 1)"
   ]
  },
  {
   "cell_type": "code",
   "execution_count": 11,
   "id": "55a5d43e-b398-4fd6-9038-c07202e7be19",
   "metadata": {
    "tags": []
   },
   "outputs": [],
   "source": [
    "# Set some parameters \n",
    "# Number of features:\n",
    "num_features = 1000\n",
    "\n",
    "# Imputing\n",
    "impute_manual = True"
   ]
  },
  {
   "cell_type": "code",
   "execution_count": 16,
   "id": "15de923f-d41d-42d4-a7bc-6d1a89215e32",
   "metadata": {
    "tags": []
   },
   "outputs": [
    {
     "data": {
      "text/plain": [
       "Index(['999', 'lon', 'lat', 'year_left', 'month', 'sea_unq', 'year_right',\n",
       "       'bunding', 'cnvntnl', 'plntngb', 'ploghng', 'ridging', 'ripping',\n",
       "       'zertllg', 'xna', 'al', 'ttl_r_h', 'al_nmlb', 'al_flds', 'al_na',\n",
       "       'al_wltn', 'al_wtrl', 'al_slgn', 'al_psts'],\n",
       "      dtype='object')"
      ]
     },
     "execution_count": 16,
     "metadata": {},
     "output_type": "execute_result"
    }
   ],
   "source": [
    "# Check the column names available\n",
    "features_join.columns[1001:1025]"
   ]
  },
  {
   "cell_type": "markdown",
   "id": "ca644884",
   "metadata": {},
   "source": [
    "### Impute missing values\n",
    "\n",
    "Imputing \"manually\" by descending group levels imputes NA values in multiple \"cascading\" steps, decreasing the proportion of inoutated values with each step. First, the NA values are imputed at by both `year` and `district`, which should yield imputed values that most closely match the feature values that would be present in the data if there was no clouds obscuring the satellite images. Next, the remaining NA values that could not be imputed by both `year` and `district` are imputed by only `district`. Lastly, the remaining NA vlaues that could not be imputed by both `year` and `district` or by just `district` are imputed by `year` only. This option gives the user more control and transparency over how the imputation is executed.\n",
    "\n",
    "Imputing using `scikit learn`'s simple imputer executes standard imputation, the details of which can be found in the `scikitlearn` documentation [here.](https://scikit-learn.org/stable/modules/generated/sklearn.impute.SimpleImputer.html)\n",
    "\n",
    "The imputation approach depends on the selection made at the top of this notebook for `impute_manual`."
   ]
  },
  {
   "cell_type": "code",
   "execution_count": 12,
   "id": "636e1480-3e47-4666-8cae-06401be05fe5",
   "metadata": {
    "tags": []
   },
   "outputs": [
    {
     "data": {
      "text/plain": [
       "923256315"
      ]
     },
     "execution_count": 12,
     "metadata": {},
     "output_type": "execute_result"
    }
   ],
   "source": [
    "# Extract the size of the features dataframe\n",
    "rows, cols = features.shape\n",
    "\n",
    "# compute the number of feature cells in the features dataframe\n",
    "num_cells = rows * cols\n",
    "num_cells"
   ]
  },
  {
   "cell_type": "code",
   "execution_count": 11,
   "id": "c1c9cfbb",
   "metadata": {
    "tags": []
   },
   "outputs": [],
   "source": [
    "# This way doesn't make sense to me.\n",
    "# compute the number of cells in the features dataframe, based on the amount of rows (images), months, and feature columns\n",
    "#num_cells = len(features) * len(month_range) * num_features\n",
    "#num_cells"
   ]
  },
  {
   "cell_type": "code",
   "execution_count": 18,
   "id": "5cca7eda-15bb-4d0f-8706-f8665424aaeb",
   "metadata": {},
   "outputs": [],
   "source": [
    "class bcolors:\n",
    "    BL = '\\x1b[1;34m' #GREEN\n",
    "    GR = '\\x1b[1;36m' #GREEN\n",
    "    YL = '\\x1b[1;33m' #YELLOW\n",
    "    RD = '\\x1b[1;31m' #RED\n",
    "    RESET = '\\033[0m' #RESET COLOR"
   ]
  },
  {
   "cell_type": "code",
   "execution_count": 19,
   "id": "f1be2c7c-37e1-4bf9-80fc-d0554a14f2d6",
   "metadata": {},
   "outputs": [
    {
     "name": "stdout",
     "output_type": "stream",
     "text": [
      "Starting total row count: \u001b[1;34m8095762\u001b[0m \n",
      "Pre-Impute NaN row count: \u001b[1;31m73719\u001b[0m \n",
      "Pre-Impute NaN row %: \u001b[1;31m0.91\u001b[0m \n",
      "Pre-Impute NaN cell %: \u001b[1;31m0.04\u001b[0m \n",
      "\n",
      "Step 1: Filling NaN values by month, year, and district group average\n"
     ]
    },
    {
     "ename": "KeyError",
     "evalue": "'year'",
     "output_type": "error",
     "traceback": [
      "\u001b[0;31m---------------------------------------------------------------------------\u001b[0m",
      "\u001b[0;31mKeyError\u001b[0m                                  Traceback (most recent call last)",
      "File \u001b[0;32m<timed exec>:12\u001b[0m\n",
      "File \u001b[0;32m~/.conda/envs/mosaiks/lib/python3.11/site-packages/pandas/core/frame.py:8402\u001b[0m, in \u001b[0;36mDataFrame.groupby\u001b[0;34m(self, by, axis, level, as_index, sort, group_keys, squeeze, observed, dropna)\u001b[0m\n\u001b[1;32m   8399\u001b[0m     \u001b[38;5;28;01mraise\u001b[39;00m \u001b[38;5;167;01mTypeError\u001b[39;00m(\u001b[38;5;124m\"\u001b[39m\u001b[38;5;124mYou have to supply one of \u001b[39m\u001b[38;5;124m'\u001b[39m\u001b[38;5;124mby\u001b[39m\u001b[38;5;124m'\u001b[39m\u001b[38;5;124m and \u001b[39m\u001b[38;5;124m'\u001b[39m\u001b[38;5;124mlevel\u001b[39m\u001b[38;5;124m'\u001b[39m\u001b[38;5;124m\"\u001b[39m)\n\u001b[1;32m   8400\u001b[0m axis \u001b[38;5;241m=\u001b[39m \u001b[38;5;28mself\u001b[39m\u001b[38;5;241m.\u001b[39m_get_axis_number(axis)\n\u001b[0;32m-> 8402\u001b[0m \u001b[38;5;28;01mreturn\u001b[39;00m \u001b[43mDataFrameGroupBy\u001b[49m\u001b[43m(\u001b[49m\n\u001b[1;32m   8403\u001b[0m \u001b[43m    \u001b[49m\u001b[43mobj\u001b[49m\u001b[38;5;241;43m=\u001b[39;49m\u001b[38;5;28;43mself\u001b[39;49m\u001b[43m,\u001b[49m\n\u001b[1;32m   8404\u001b[0m \u001b[43m    \u001b[49m\u001b[43mkeys\u001b[49m\u001b[38;5;241;43m=\u001b[39;49m\u001b[43mby\u001b[49m\u001b[43m,\u001b[49m\n\u001b[1;32m   8405\u001b[0m \u001b[43m    \u001b[49m\u001b[43maxis\u001b[49m\u001b[38;5;241;43m=\u001b[39;49m\u001b[43maxis\u001b[49m\u001b[43m,\u001b[49m\n\u001b[1;32m   8406\u001b[0m \u001b[43m    \u001b[49m\u001b[43mlevel\u001b[49m\u001b[38;5;241;43m=\u001b[39;49m\u001b[43mlevel\u001b[49m\u001b[43m,\u001b[49m\n\u001b[1;32m   8407\u001b[0m \u001b[43m    \u001b[49m\u001b[43mas_index\u001b[49m\u001b[38;5;241;43m=\u001b[39;49m\u001b[43mas_index\u001b[49m\u001b[43m,\u001b[49m\n\u001b[1;32m   8408\u001b[0m \u001b[43m    \u001b[49m\u001b[43msort\u001b[49m\u001b[38;5;241;43m=\u001b[39;49m\u001b[43msort\u001b[49m\u001b[43m,\u001b[49m\n\u001b[1;32m   8409\u001b[0m \u001b[43m    \u001b[49m\u001b[43mgroup_keys\u001b[49m\u001b[38;5;241;43m=\u001b[39;49m\u001b[43mgroup_keys\u001b[49m\u001b[43m,\u001b[49m\n\u001b[1;32m   8410\u001b[0m \u001b[43m    \u001b[49m\u001b[43msqueeze\u001b[49m\u001b[38;5;241;43m=\u001b[39;49m\u001b[43msqueeze\u001b[49m\u001b[43m,\u001b[49m\n\u001b[1;32m   8411\u001b[0m \u001b[43m    \u001b[49m\u001b[43mobserved\u001b[49m\u001b[38;5;241;43m=\u001b[39;49m\u001b[43mobserved\u001b[49m\u001b[43m,\u001b[49m\n\u001b[1;32m   8412\u001b[0m \u001b[43m    \u001b[49m\u001b[43mdropna\u001b[49m\u001b[38;5;241;43m=\u001b[39;49m\u001b[43mdropna\u001b[49m\u001b[43m,\u001b[49m\n\u001b[1;32m   8413\u001b[0m \u001b[43m\u001b[49m\u001b[43m)\u001b[49m\n",
      "File \u001b[0;32m~/.conda/envs/mosaiks/lib/python3.11/site-packages/pandas/core/groupby/groupby.py:965\u001b[0m, in \u001b[0;36mGroupBy.__init__\u001b[0;34m(self, obj, keys, axis, level, grouper, exclusions, selection, as_index, sort, group_keys, squeeze, observed, mutated, dropna)\u001b[0m\n\u001b[1;32m    962\u001b[0m \u001b[38;5;28;01mif\u001b[39;00m grouper \u001b[38;5;129;01mis\u001b[39;00m \u001b[38;5;28;01mNone\u001b[39;00m:\n\u001b[1;32m    963\u001b[0m     \u001b[38;5;28;01mfrom\u001b[39;00m \u001b[38;5;21;01mpandas\u001b[39;00m\u001b[38;5;21;01m.\u001b[39;00m\u001b[38;5;21;01mcore\u001b[39;00m\u001b[38;5;21;01m.\u001b[39;00m\u001b[38;5;21;01mgroupby\u001b[39;00m\u001b[38;5;21;01m.\u001b[39;00m\u001b[38;5;21;01mgrouper\u001b[39;00m \u001b[38;5;28;01mimport\u001b[39;00m get_grouper\n\u001b[0;32m--> 965\u001b[0m     grouper, exclusions, obj \u001b[38;5;241m=\u001b[39m \u001b[43mget_grouper\u001b[49m\u001b[43m(\u001b[49m\n\u001b[1;32m    966\u001b[0m \u001b[43m        \u001b[49m\u001b[43mobj\u001b[49m\u001b[43m,\u001b[49m\n\u001b[1;32m    967\u001b[0m \u001b[43m        \u001b[49m\u001b[43mkeys\u001b[49m\u001b[43m,\u001b[49m\n\u001b[1;32m    968\u001b[0m \u001b[43m        \u001b[49m\u001b[43maxis\u001b[49m\u001b[38;5;241;43m=\u001b[39;49m\u001b[43maxis\u001b[49m\u001b[43m,\u001b[49m\n\u001b[1;32m    969\u001b[0m \u001b[43m        \u001b[49m\u001b[43mlevel\u001b[49m\u001b[38;5;241;43m=\u001b[39;49m\u001b[43mlevel\u001b[49m\u001b[43m,\u001b[49m\n\u001b[1;32m    970\u001b[0m \u001b[43m        \u001b[49m\u001b[43msort\u001b[49m\u001b[38;5;241;43m=\u001b[39;49m\u001b[43msort\u001b[49m\u001b[43m,\u001b[49m\n\u001b[1;32m    971\u001b[0m \u001b[43m        \u001b[49m\u001b[43mobserved\u001b[49m\u001b[38;5;241;43m=\u001b[39;49m\u001b[43mobserved\u001b[49m\u001b[43m,\u001b[49m\n\u001b[1;32m    972\u001b[0m \u001b[43m        \u001b[49m\u001b[43mmutated\u001b[49m\u001b[38;5;241;43m=\u001b[39;49m\u001b[38;5;28;43mself\u001b[39;49m\u001b[38;5;241;43m.\u001b[39;49m\u001b[43mmutated\u001b[49m\u001b[43m,\u001b[49m\n\u001b[1;32m    973\u001b[0m \u001b[43m        \u001b[49m\u001b[43mdropna\u001b[49m\u001b[38;5;241;43m=\u001b[39;49m\u001b[38;5;28;43mself\u001b[39;49m\u001b[38;5;241;43m.\u001b[39;49m\u001b[43mdropna\u001b[49m\u001b[43m,\u001b[49m\n\u001b[1;32m    974\u001b[0m \u001b[43m    \u001b[49m\u001b[43m)\u001b[49m\n\u001b[1;32m    976\u001b[0m \u001b[38;5;28mself\u001b[39m\u001b[38;5;241m.\u001b[39mobj \u001b[38;5;241m=\u001b[39m obj\n\u001b[1;32m    977\u001b[0m \u001b[38;5;28mself\u001b[39m\u001b[38;5;241m.\u001b[39maxis \u001b[38;5;241m=\u001b[39m obj\u001b[38;5;241m.\u001b[39m_get_axis_number(axis)\n",
      "File \u001b[0;32m~/.conda/envs/mosaiks/lib/python3.11/site-packages/pandas/core/groupby/grouper.py:888\u001b[0m, in \u001b[0;36mget_grouper\u001b[0;34m(obj, key, axis, level, sort, observed, mutated, validate, dropna)\u001b[0m\n\u001b[1;32m    886\u001b[0m         in_axis, level, gpr \u001b[38;5;241m=\u001b[39m \u001b[38;5;28;01mFalse\u001b[39;00m, gpr, \u001b[38;5;28;01mNone\u001b[39;00m\n\u001b[1;32m    887\u001b[0m     \u001b[38;5;28;01melse\u001b[39;00m:\n\u001b[0;32m--> 888\u001b[0m         \u001b[38;5;28;01mraise\u001b[39;00m \u001b[38;5;167;01mKeyError\u001b[39;00m(gpr)\n\u001b[1;32m    889\u001b[0m \u001b[38;5;28;01melif\u001b[39;00m \u001b[38;5;28misinstance\u001b[39m(gpr, Grouper) \u001b[38;5;129;01mand\u001b[39;00m gpr\u001b[38;5;241m.\u001b[39mkey \u001b[38;5;129;01mis\u001b[39;00m \u001b[38;5;129;01mnot\u001b[39;00m \u001b[38;5;28;01mNone\u001b[39;00m:\n\u001b[1;32m    890\u001b[0m     \u001b[38;5;66;03m# Add key to exclusions\u001b[39;00m\n\u001b[1;32m    891\u001b[0m     exclusions\u001b[38;5;241m.\u001b[39madd(gpr\u001b[38;5;241m.\u001b[39mkey)\n",
      "\u001b[0;31mKeyError\u001b[0m: 'year'"
     ]
    }
   ],
   "source": [
    "# Notes: Have to change the year, get an error rn. Also, check to make sure the number of cells is correct\n",
    "%%time\n",
    "if impute_manual:\n",
    "    ln_ft = len(features_join)\n",
    "    ln_na = len(features_join.dropna())\n",
    "    print(f'Starting total row count: {bcolors.BL}{ln_ft}{bcolors.RESET}',\n",
    "          f'\\nPre-Impute NaN row count: {bcolors.RD}{ln_ft - ln_na}{bcolors.RESET}',\n",
    "          f'\\nPre-Impute NaN row %: {bcolors.RD}{((ln_ft - ln_na) / ln_ft)*100:.02f}{bcolors.RESET}',\n",
    "          f'\\nPre-Impute NaN cell %: {bcolors.RD}{(features_join.isna().sum().sum() / num_cells)*100:.02f}{bcolors.RESET}',\n",
    "          f'\\n\\nStep 1: Filling NaN values by month, year, and district group average')\n",
    "    features_join = (\n",
    "        features_join\n",
    "        .fillna(features_join\n",
    "                .groupby(['year', 'sea_unq'], as_index=False) # need to replace 'districts' with 'dist' or something else\n",
    "                .transform('mean')\n",
    "               )\n",
    "    )\n",
    "    ln_ft = len(features_join)\n",
    "    ln_na = len(features_join.dropna())\n",
    "    print(f'Post step 1 NaN row count: {bcolors.YL}{ln_ft - ln_na}{bcolors.RESET}',\n",
    "          f'\\nPost step 1 NaN row %: {bcolors.YL}{((ln_ft - ln_na) / ln_ft)*100:.02f}{bcolors.RESET}',\n",
    "          f'\\nPost step 1 NaN cell %: {bcolors.YL}{(features_join.isna().sum().sum() / num_cells)*100:.02f}{bcolors.RESET}',\n",
    "          f'\\n\\nStep 2: Filling NaN values by month and district across group average')\n",
    "    features_join = (\n",
    "        features_join\n",
    "        .fillna(features_join\n",
    "                .groupby(['sea_unq'], as_index=False)\n",
    "                .transform('mean')\n",
    "               )\n",
    "    )\n",
    "    ln_ft = len(features_join)\n",
    "    ln_na = len(features_join.dropna())\n",
    "    print(f'Post step 2 NaN row count: {bcolors.GR}{ln_ft - ln_na}{bcolors.RESET}',\n",
    "          f'\\nPost step 2 NaN row %: {bcolors.GR}{((ln_ft - ln_na) / ln_ft)*100:.02f}{bcolors.RESET}',\n",
    "          f'\\nPost step 2 NaN cell %: {bcolors.GR}{(features_join.isna().sum().sum() / num_cells)*100:.02f}{bcolors.RESET}',\n",
    "          f'\\n\\nStep 3: Drop remaining NaN values\\n')\n",
    "    features_join = features_join.dropna(axis=0)\n",
    "    print(f'Ending total row count: {bcolors.BL}{len(features_join)}{bcolors.RESET}')\n",
    "else:\n",
    "    features_join = features_join.set_index(['year', 'sea_unq'])\n",
    "    imputer = SimpleImputer(missing_values=np.nan, strategy='mean')\n",
    "    imputer.fit_transform(features_join)\n",
    "    features_join[:] = imputer.transform(features_join)\n",
    "    features_join = features_join.reset_index()"
   ]
  },
  {
   "cell_type": "markdown",
   "id": "c51dd396",
   "metadata": {
    "tags": []
   },
   "source": [
    "### Save copy of processed features before sumarizing training features to district level\n",
    "\n",
    "Duplicate the features dataframe at this stage so we can retain a copy of features at point resolution for all years available, which is `2013/2014/2016-2021`.\n",
    "\n",
    "    - The start year is `2016` if the satellite selected is Sentinel 2 (due to the fact that Sentinel 2 launched in June of `2015`)\n",
    "    - The start year is `2013` if the satellite selected is Landsat 8 and the month range selected was anything besides all months (due to the fact that Landsat 8 launched in February of `2013`)\n",
    "    - The start year is `2014` if the satellite selected is Landsat 8 and the month range selected was all months\n",
    "    \n",
    "This duplicated dataframe we create in the following code is called `features_all_years`. The purpose for this dataframe comes into play after the model is trained; we will be able to plug in point-resolution features from _any and all_ years from this dataframe into the trained model and observe how the model predicts crop years across space and time. It would be interesting to plot these features for each year sequentially to show how the crop prediction landscape changes by year. These point-resolution features increase the spatial resolution of the ground-truth crop data we have for the years through 2018, because our ground-truth crop data is at a the coarser  district-resolution. Furthermore, these point-resolution features are the _only_ crop data we have for the years 2020-2021. The reason we lack data from 2019 is because the Zanbia Sattistics Agency has not yet released their Crop Forecast Survey data for that year. The reason we do not have data for 2020-2021 is because Covid-19 prevented any Crop Forecast Surveys from being conducted. \n",
    "\n",
    "\n",
    "After we create the dataframe `features_all_years`, we are free to further process the original features dataframe, `features`, in order to train the model with these features and their paired ground-truth crop yields. Processing this dataframe further requires us to subset the years to the start year through the years for which we have crop data: `2013/2014/2016-2019`. This dataframe is called `features_through_2019`. The reason we subset this dataframe is because we are training the model using _supervised_ machine learning, which means we are feeding it only features that have ground-truth crop data accosicated with them."
   ]
  },
  {
   "cell_type": "code",
   "execution_count": null,
   "id": "7d421fce",
   "metadata": {},
   "outputs": [],
   "source": [
    "features_all_years = features.copy()\n",
    "\n",
    "# assign the geometry column to features_2014_2021 so it can serve 2 purposes:\n",
    "# 1. plotting features sequentially by year\n",
    "# 2. the entire dataframe can be fed into the model after the model is trained on only the summarized features for 2014-2018 and the associated crop data\n",
    "features_all_years['geometry'] = points.geometry\n",
    "# moving forward in the immediate sections, summarize the `features` dataframe to district level"
   ]
  },
  {
   "cell_type": "markdown",
   "id": "daf565a2-5486-43a8-9eec-9a75ba19d21a",
   "metadata": {},
   "source": [
    "### Subset the `features` dataframe to the years `2013/2014/2016-2019`\n",
    "\n",
    "As discussed above, all feature data required the previous processing steps. However, the following code is not executed on _all_ features.\n",
    "1. The `2013/2014-2019` (Landsat 8) or `2016-2019` (Sentinel 2) set of features is named `features_through_2019` so the name is agnostic to the selected satellite and month range.\n",
    "2. The features in each row (point) in `features_through_2019` will be summarized to administrative boundary level (all rows (points) have already been assigned to the district in which they reside).\n",
    "2. These summarized features in `features_through_2019` will then be joined with the district-resolution crop data. Next, we split these features into train and test sets, and then use them to train the model using ridge regression.\n",
    "3. Lastly, apply the trained model to the larger, comprehensive feature set for `2013/2014-2021` (Landsat 8) or `2016-2021` (Sentinel 2), called `features_all_years`, which includes all years regardless if those years have ground truth crop data. \n",
    "\n",
    "After we train the model, recall that we are _most interested_ in generating crop predictions for the three years `2020-2021` because the model was not trained on these years at all, and it is an \"out-of-bag sample\" in machine learning terms. The following code splits the data correctly no matter which satellite was selected at the top of the notebook."
   ]
  },
  {
   "cell_type": "code",
   "execution_count": null,
   "id": "9023df42-a53c-4e92-8738-118ce91096eb",
   "metadata": {},
   "outputs": [],
   "source": [
    "# subset the features dataframe to just the years 2013/2014/2016-2019\n",
    "# this will allow us to join these years to the crop data over space and time in the next section\n",
    "features_through_2019 = features[features.year <= year_end_crops]\n",
    "\n",
    "# check that subsetting years worked\n",
    "print(features_through_2019[\"year\"].unique())\n",
    "# output should be 2016, 2017, 2018, 2019 for Sentinel 2\n",
    "# output should be 2013/2014, 2015, 2016, 2017, 2018, 2019 for Landsat 8"
   ]
  },
  {
   "cell_type": "markdown",
   "id": "5d7398ff",
   "metadata": {
    "tags": []
   },
   "source": [
    "### Summarise to administrative boundary level\n",
    "Weighted by cropped area, or simple mean, depending on the selection at the top of this notebook for `weighted_avg`. "
   ]
  },
  {
   "cell_type": "code",
   "execution_count": null,
   "id": "664f80ed",
   "metadata": {},
   "outputs": [],
   "source": [
    "# check the order of the columns in the dataframe that will be summarized and then fed into the ridge regression in order to train the model\n",
    "# we care about the order of columns specifically because in the following steps we assign only the feature columns to an object, so we need to know which 3 columns to omit by indexing\n",
    "features_through_2019.columns"
   ]
  },
  {
   "cell_type": "markdown",
   "id": "ed5bb4b3-eae0-4e0e-98ee-84d61b8358a1",
   "metadata": {},
   "source": [
    "The output above show that the 3 columns that are _not_ features are the first 2 columns `year` and `district`, and the last column, `crop_perc`."
   ]
  },
  {
   "cell_type": "code",
   "execution_count": null,
   "id": "ccdbc894-8004-4fa3-b02c-432e1acc84c9",
   "metadata": {},
   "outputs": [],
   "source": [
    "# check the shape to the dataframe as a sanity check\n",
    "features_through_2019.shape"
   ]
  },
  {
   "cell_type": "markdown",
   "id": "6f9f4620-f31d-4e85-afc2-5a30b942754a",
   "metadata": {},
   "source": [
    "The output above shows the number of rows and columns in the dataframe, respectively. Recall that the number of rows represents the number of points for which we have features, and the number of columns is all features for all months selected plus the columns `year`, `district`, and `crop_perc`. There are 13866 rows, meaning that is the amount of training points we have to feed into the model _before they are summarized to district level_, so this number will shrink after we summarize to district level. There are 12003 columns, which will not change after we summarize the features to district level. The number of columns that we include in the features object in the next chunk will be this number minus the 3 non-feature columns."
   ]
  },
  {
   "cell_type": "code",
   "execution_count": null,
   "id": "310666d0",
   "metadata": {},
   "outputs": [],
   "source": [
    "# create object that contains only feature columns, rather than all columns that would include `district`, `year`, and `crop_perc`\n",
    "# python index starts at 0, so here we specify to retain columns starting at 3 through every column besides the last column\n",
    "# the columns we omit stay in the dataframe, because we assign the selected columns to an object, but the omitted columns are not included in the calculation in the next chunk\n",
    "var_cols = features_through_2019.columns[2:-1].values.tolist()\n",
    "\n",
    "# call the object `var_cols` to check that it only includes feature columns, but do not view it in list format because it is more readable not as a list \n",
    "features_through_2019.columns[2:-1]\n",
    "# these are all the feature columns that will be fed into the `weighted_avg` calculation in the next chunk"
   ]
  },
  {
   "cell_type": "code",
   "execution_count": null,
   "id": "0b2fcd08",
   "metadata": {},
   "outputs": [],
   "source": [
    "%%time\n",
    "# execute the weighted average on the cropped area\n",
    "# if the object `weighted_avg` was set to True at the top of the notebook, this calculation gives more weight (importance) to area in Zambia that has a high proportion of cropland\n",
    "# this differs from the masking step that was executed earlier, because the masking step completely removed all land that was 0% cropland, and this step processes the land that is >1% cropland\n",
    "if weighted_avg:\n",
    "    features_summary = (\n",
    "        features_through_2019\n",
    "        .groupby(['year', 'district'], as_index=False)\n",
    "        .apply(lambda x: pd.Series([sum(x[v] * x.crop_perc) / sum(x.crop_perc) for v in var_cols]))\n",
    "    )\n",
    "# if weighted_avg was set to FALSE at the beginning of the notebook, the weighted avergae is not executed\n",
    "# instead, the features are simply summarized by district and year, which also occurred above if weighted_avg was set to TRUE\n",
    "else:\n",
    "    features_summary = features_through_2019.groupby(['district',\"year\"], as_index = False).mean()\n",
    "# now that we have renamed our features object to `features_summary`, note that we use this object moving forward"
   ]
  },
  {
   "cell_type": "markdown",
   "id": "bcf5f1ce-57d8-46e4-bec3-c0bafe0d305e",
   "metadata": {},
   "source": [
    "Now that the features have been summarized to district and year, there are fewer rows. The dataframe we were working with before this step,  `features_through_2018`, had 13866 rows that represented points. Now we have 216 rows, as shown by the following output. Notice we still have all 12003 columns. "
   ]
  },
  {
   "cell_type": "code",
   "execution_count": null,
   "id": "4de6e828-dd90-4ca8-b3f6-1c09096711e0",
   "metadata": {},
   "outputs": [],
   "source": [
    "features_summary.shape"
   ]
  },
  {
   "cell_type": "markdown",
   "id": "9f1dc498",
   "metadata": {},
   "source": [
    "### Join crop data\n",
    "\n",
    "Combine the crop data and features into 1 dataframe in order to train the model on this object in the next section. The crop data is at district-resolution, as is the feature data in the dataframe `features_summary`."
   ]
  },
  {
   "cell_type": "code",
   "execution_count": null,
   "id": "f91a28ef-1cac-4ece-84b3-03c251df1f8a",
   "metadata": {},
   "outputs": [],
   "source": [
    "# remind yourself of the object `crop_df` we created much earlier in the notebook when we read in the crop data in the section \"Crop yield\"\n",
    "crop_df"
   ]
  },
  {
   "cell_type": "markdown",
   "id": "95679bec-1884-4c2d-951e-887bff2480a5",
   "metadata": {},
   "source": [
    "This dataframe needs to undergo a little processing before we can join it to `features_summary`.\n",
    "1. Firstly, we need to subset the years to just the years for which we have features. \n",
    "2. Next, we remove 2 districts. We do this because the district shapefile that we used to assign districts to the feature data does not include the districts Mafinga or Ikelenge. It is not uncommon for district boundaries to change slightly over time in sub-Saharan Africa. This was determined by examining the unique district values in both dataframes before executing the follwoing chunk.\n",
    "3. Lastly, we reset the index so all 3 variables are columns."
   ]
  },
  {
   "cell_type": "code",
   "execution_count": null,
   "id": "e4ad4b05-d1b3-4d9a-a4de-58de95d6c91a",
   "metadata": {},
   "outputs": [],
   "source": [
    "# take subset of crop dataframe so that it only includes the years for which we have feature data, through 2018\n",
    "# this subsets the dataframe correctly no matter which satellite was selected\n",
    "# COME BACK TO THIS PART TO DETEMRINE HOW TO HANDLE +1 \n",
    "# delete: crop_through_2018 = crop_df[crop_df.year >= year_start]\n",
    "# delete: crop_through_2018 = crop_df[crop_df.year >= year_start + 1]\n",
    "# suggested change:\n",
    "crop_through_2019 = crop_df[crop_df.year >= min(features_summary.year)]\n",
    "\n",
    "# now the crop data starts in 2013, 2014 or 2016, depending on which satellite was selected and which month range was selected\n",
    "# remove 2 districts because they are not present in one shapefile \n",
    "crop_through_2019 = crop_through_2019[~crop_through_2019.index.isin(['Mafinga', 'Ikelenge'])]\n",
    "# reset index so all 3 variables are columns\n",
    "crop_through_2019.reset_index(inplace = True)\n",
    "# take a look at the crop dataframe as a sanity check that the processing steps were correct\n",
    "# the `yield_mt` data is in units of metric tonnes per hectare of cropland planted\n",
    "crop_through_2019\n",
    "# if interested, please see more details about the crop data in our technical documentation for this project"
   ]
  },
  {
   "cell_type": "markdown",
   "id": "4aaf0c93-9fc6-4c06-91a4-4e003ad3d10a",
   "metadata": {},
   "source": [
    "Now remind yourself of the columns of the features dataframe so we know which column(s) we can use to join the dataframes:"
   ]
  },
  {
   "cell_type": "code",
   "execution_count": null,
   "id": "3a8ddc6d-7127-4e5e-987f-1fb62a306d81",
   "metadata": {},
   "outputs": [],
   "source": [
    "features_summary.columns"
   ]
  },
  {
   "cell_type": "markdown",
   "id": "7516d69c-9a05-4479-81d6-83829932b2c6",
   "metadata": {},
   "source": [
    "The columns we can join by are `district` and `year`."
   ]
  },
  {
   "cell_type": "code",
   "execution_count": null,
   "id": "f065da58",
   "metadata": {},
   "outputs": [],
   "source": [
    "# join the crop data with the summarized feature data through 2019\n",
    "features_summary = (\n",
    "    features_summary\n",
    "    .set_index([\"district\", \"year\"])\n",
    "    .join(other = crop_through_2019.set_index([\"district\", \"year\"]))\n",
    "    .reset_index())\n",
    "\n",
    "features_summary.columns\n",
    "# now that the data is joined, the column `yield_mt` is present in `features_summary`"
   ]
  },
  {
   "cell_type": "markdown",
   "id": "9ab60bf3-9eae-4867-8e53-cd41dd3c8a51",
   "metadata": {},
   "source": [
    "Now that the summarized features are joined to the crop data, each row represents summarized features for a district for one year. For example, the top rows of this dataframe show the district Chadiza for several years, then the district switches to Chama, with a Chama row for each year, and so on all the way through the districts until the last one, Zambezi."
   ]
  },
  {
   "cell_type": "code",
   "execution_count": null,
   "id": "e2b570ee-635e-417a-b29b-1131a9b94d56",
   "metadata": {},
   "outputs": [],
   "source": [
    "features_summary"
   ]
  },
  {
   "cell_type": "markdown",
   "id": "85e3288b",
   "metadata": {
    "tags": []
   },
   "source": [
    "## Model"
   ]
  },
  {
   "cell_type": "markdown",
   "id": "8ea11764",
   "metadata": {},
   "source": [
    "### Define `x`'s and `y`'s that will be a part of training the model\n",
    "\n",
    "Since our independent variable is the features, these are the `x`'s. Our dependent variable is the crop yield in metric tonnes per hectare planted, so that will be the `y`'s."
   ]
  },
  {
   "cell_type": "code",
   "execution_count": null,
   "id": "c44f3d06-6248-4c6b-bcc1-62a12b5ed0d4",
   "metadata": {},
   "outputs": [],
   "source": [
    "# this if-else statement is determined by the selection of True or False made at the top of the notebook for the object `weighted_avg`\n",
    "if weighted_avg:\n",
    "    drop_cols = ['district', 'year', 'yield_mt']\n",
    "else:\n",
    "# if the selection was False, we can drop the `crop_perc` columns because we will not use it moving forward\n",
    "    drop_cols = ['district', 'year', 'yield_mt', \"crop_perc\"]\n",
    "# note that this chunk does not actually execute the column dropping, it just defines the object that will determine which are dropped in the next chunk"
   ]
  },
  {
   "cell_type": "code",
   "execution_count": null,
   "id": "bcc5752e",
   "metadata": {},
   "outputs": [],
   "source": [
    "# define ALL x's (the features_summary data that will be fed into the model to train) by dropping the columns specified in the previous chunk\n",
    "# if the `axis` argument was set to 0, this code would incorrectly drop rows instead of columns\n",
    "x_all = features_summary.drop(drop_cols, axis = 1)\n",
    "\n",
    "# log transform the `yield_mt` column because that was recommended by the client\n",
    "y_all = np.log10(features_summary.yield_mt.to_numpy() + 1)"
   ]
  },
  {
   "cell_type": "code",
   "execution_count": null,
   "id": "e6ccecfe-5e5c-4895-8fdb-d0d165364900",
   "metadata": {},
   "outputs": [],
   "source": [
    "# take a look at the first 10 values of the log transformed `yield_mt` array to get an idea of the scale of the crop yields we use to train the model\n",
    "print(y_all[:10])"
   ]
  },
  {
   "cell_type": "markdown",
   "id": "ca312a5f",
   "metadata": {},
   "source": [
    "### Split into train and test sets\n",
    "\n",
    "This step is executed right before training the model so we can train on 80% of the data and preserve 20% for testing."
   ]
  },
  {
   "cell_type": "code",
   "execution_count": null,
   "id": "79eb18ce",
   "metadata": {},
   "outputs": [],
   "source": [
    "x_train, x_test, y_train, y_test = train_test_split(\n",
    "    x_all, y_all, test_size = 0.2, random_state = 0\n",
    ")"
   ]
  },
  {
   "cell_type": "code",
   "execution_count": null,
   "id": "d5ea5f2c",
   "metadata": {},
   "outputs": [],
   "source": [
    "print(\"Number of total points: \", len(x_all), \"\\n\", \n",
    "      \"Number of training points: \", len(x_train), \"\\n\",\n",
    "      \"Number of testing points: \", len(x_test), sep = \"\")"
   ]
  },
  {
   "cell_type": "markdown",
   "id": "be2d84d0",
   "metadata": {},
   "source": [
    "### Train model using cross-validated ridge regression\n",
    "\n",
    "Please see the documentation for the function that executes this regression [here.](https://scikit-learn.org/stable/modules/generated/sklearn.linear_model.RidgeCV.html)"
   ]
  },
  {
   "cell_type": "code",
   "execution_count": null,
   "id": "cf329e3e",
   "metadata": {},
   "outputs": [],
   "source": [
    "ridge_cv_random = RidgeCV(cv = 5, alphas = np.logspace(-8, 8, base = 10, num = 17))\n",
    "ridge_cv_random.fit(x_train, y_train)"
   ]
  },
  {
   "cell_type": "code",
   "execution_count": null,
   "id": "90e9d48b-28dd-47ec-9098-970958bc9b25",
   "metadata": {},
   "outputs": [],
   "source": [
    "print(f\"Estimated regularization parameter: {ridge_cv_random.alpha_}\")"
   ]
  },
  {
   "cell_type": "markdown",
   "id": "9c58e251",
   "metadata": {},
   "source": [
    "### Validation set $R^2$ performance"
   ]
  },
  {
   "cell_type": "code",
   "execution_count": null,
   "id": "536045c2",
   "metadata": {},
   "outputs": [],
   "source": [
    "print(f\"Validation R2 performance: {ridge_cv_random.best_score_:0.2f}\")"
   ]
  },
  {
   "cell_type": "markdown",
   "id": "680ac1d1",
   "metadata": {},
   "source": [
    "### Train set"
   ]
  },
  {
   "cell_type": "code",
   "execution_count": null,
   "id": "a9fcd436",
   "metadata": {},
   "outputs": [],
   "source": [
    "y_pred = np.maximum(ridge_cv_random.predict(x_train), 0)\n",
    "r2_train = r2_score(y_train, y_pred)\n",
    "\n",
    "fig, ax = plt.subplots(ncols=1)\n",
    "plt.scatter(y_pred, y_train, alpha=1, s=4)\n",
    "plt.xlabel(\"Predicted\", fontsize=15, x = .3)\n",
    "plt.ylabel(\"Ground Truth\", fontsize=15)\n",
    "plt.suptitle(r\"$\\log_{10}(1 + Crop Yield)$\", fontsize=20, y=1.02)\n",
    "plt.title((f\"Model applied to train data n = {len(x_train)}, R$^2$ = {r2_train:0.2f}\"),\n",
    "          fontsize=12, y=1.01)\n",
    "\n",
    "plt.xticks(fontsize=14)\n",
    "plt.yticks(fontsize=14)\n",
    "\n",
    "ax.axline([0, 0], [1, 1], c = \"k\")\n",
    "\n",
    "plt.gca().spines.right.set_visible(False)\n",
    "plt.gca().spines.top.set_visible(False)\n",
    "\n",
    "\n",
    "# plt.savefig(f'images/{feature_file_name}_train_data.jpg', dpi=300)\n",
    "plt.show()\n",
    "plt.close()\n",
    "# the model is plotted with a black 45 degree line that serves as a reference of what a perfect correlation would look like\n",
    "# deviation of the line indicates that there is not a perfect correlation"
   ]
  },
  {
   "cell_type": "code",
   "execution_count": null,
   "id": "dbbc0486",
   "metadata": {},
   "outputs": [],
   "source": [
    "print(f\"Training R^2 = {r2_train:0.2f}\\nPearsons r = {pearsonr(y_pred, y_train)[0]:0.2f}\") "
   ]
  },
  {
   "cell_type": "code",
   "execution_count": null,
   "id": "2550c544-4a28-4d34-841a-837223fa0bd7",
   "metadata": {},
   "outputs": [],
   "source": [
    "# Pearson r^2\n",
    "pearsonr(y_pred, y_train)[0] ** 2"
   ]
  },
  {
   "cell_type": "code",
   "execution_count": null,
   "id": "16c01413-8e64-4ba8-b61e-5fd8c9d10c36",
   "metadata": {},
   "outputs": [],
   "source": [
    "# alternative way to calculate Training R^2\n",
    "ridge_cv_random.score(x_train, y_train)"
   ]
  },
  {
   "cell_type": "markdown",
   "id": "dff83102",
   "metadata": {},
   "source": [
    "### Test set"
   ]
  },
  {
   "cell_type": "code",
   "execution_count": null,
   "id": "dcb42c16",
   "metadata": {
    "tags": []
   },
   "outputs": [],
   "source": [
    "y_pred = np.maximum(ridge_cv_random.predict(x_test), 0)\n",
    "r2_test = r2_score(y_test, y_pred)\n",
    "\n",
    "plt.figure()\n",
    "plt.scatter(y_pred, y_test, alpha=1, s=4)\n",
    "plt.xlabel(\"Predicted\", fontsize=15)\n",
    "plt.ylabel(\"Ground Truth\", fontsize=15)\n",
    "plt.suptitle(r\"$\\log_{10}(1 + Crop Yield)$\", fontsize=20, y=1.02)\n",
    "plt.title(f\"Model applied to test data n = {len(x_test)}, R$^2$ = {r2_test:0.2f}\",\n",
    "          fontsize=12, y=1)\n",
    "\n",
    "plt.xticks(fontsize=14)\n",
    "plt.yticks(fontsize=14)\n",
    "\n",
    "ax.axline([0, 0], [.75, .75], c = \"k\")\n",
    "\n",
    "plt.gca().spines.right.set_visible(False)\n",
    "plt.gca().spines.top.set_visible(False)\n",
    "\n",
    "# plt.savefig(f'images/{feature_file_name}_test_data.jpg', dpi=300)\n",
    "plt.show()\n",
    "plt.close()"
   ]
  },
  {
   "cell_type": "code",
   "execution_count": null,
   "id": "a4f6268f",
   "metadata": {},
   "outputs": [],
   "source": [
    "print(f\"Testing set R^2 = {r2_test:0.2f}\")\n",
    "print(f\"Testing set pearsons R = {pearsonr(y_pred, y_test)[0]:0.2f}\")"
   ]
  },
  {
   "cell_type": "markdown",
   "id": "3aef4215-081f-4537-aade-bf7c3e5d3d93",
   "metadata": {},
   "source": [
    "Summary of both train and test data sets"
   ]
  },
  {
   "cell_type": "code",
   "execution_count": null,
   "id": "78675318-1a34-4c3d-90f8-e738abd6c2f6",
   "metadata": {},
   "outputs": [],
   "source": [
    "y_pred = np.maximum(ridge_cv_random.predict(x_all), 0)\n",
    "\n",
    "fig, ax = plt.subplots(figsize=(7, 7))\n",
    "ax.axline([0, 0], [.75, .75], c = \"k\")\n",
    "plt.scatter(y_pred, y_all, alpha=.9, s=15)\n",
    "plt.xlabel(\"Predicted\", fontsize=15)\n",
    "plt.ylabel(\"Observed\", fontsize=15)\n",
    "plt.text(\n",
    "    0, .8, fontsize=15, fontweight=\"bold\",\n",
    "    s=f\"R$^2$={r2_train:0.2f} - Train set\",\n",
    ")\n",
    "plt.text(\n",
    "    0, .75, fontsize=15, fontweight=\"bold\",\n",
    "    s=f\"R$^2$={ridge_cv_random.best_score_:0.2f} - Validation set\",\n",
    ")\n",
    "plt.text(\n",
    "    0, .7, fontsize=15, fontweight=\"bold\",\n",
    "    s=f\"R$^2$={r2_test:0.2f} - Test set\",\n",
    ")\n",
    "plt.xticks(fontsize=14)\n",
    "plt.yticks(fontsize=14)\n",
    "\n",
    "plt.gca().spines.right.set_visible(False)\n",
    "plt.gca().spines.top.set_visible(False)\n",
    "\n",
    "# plt.savefig(f'images/{feature_file_name}_all_data.jpg', dpi=300)\n",
    "plt.show()\n",
    "plt.close()"
   ]
  },
  {
   "cell_type": "markdown",
   "id": "5a29cb5b",
   "metadata": {},
   "source": [
    "### Use the trained model to predict crop yields over all years from 1km grid-cell resolution features \n",
    "\n",
    "Recall that after we executed imputation on all feature years in the dataframe `features`, we copied the dataframe and named it `features_all_years`. Now we can plug that into the model to visualize how our model performs over time."
   ]
  },
  {
   "cell_type": "code",
   "execution_count": null,
   "id": "e360ddd6-1c76-4aa0-90cf-3b6ff35b1b94",
   "metadata": {},
   "outputs": [],
   "source": [
    "# recall the object we created earlier, before we split the features by year into those that would train the model \n",
    "# and those that would be fed into the trained model to predict crop yields\n",
    "# in years for which we do not have crop data\n",
    "features_all_years.head(3)"
   ]
  },
  {
   "cell_type": "markdown",
   "id": "dd87a870-2e2b-4c03-b65b-d7431fa82f73",
   "metadata": {},
   "source": [
    "In the following chunk, we drop certain columns from `features_all_years` because we only need to feed the feature data into the model to generate predictions. Using the argument `axis = 1`, we specify that we are dropping columns rather than rows. "
   ]
  },
  {
   "cell_type": "code",
   "execution_count": null,
   "id": "e0ad5295",
   "metadata": {},
   "outputs": [],
   "source": [
    "x_all = features_all_years.drop([\n",
    "    'year', \n",
    "    'geometry',\n",
    "    'district',\n",
    "    'crop_perc'\n",
    "], axis = 1)"
   ]
  },
  {
   "cell_type": "markdown",
   "id": "bfd1331c-9e70-4deb-83a1-ae87cfc7e46b",
   "metadata": {},
   "source": [
    "In the following chunk, we execute the model on the features from the dataframe `features_all_years`. The crop yield predictions for each row populate a new column in the dataframe.\n",
    "\n",
    "The model is run inside the `np.maximum()` function because if we run it without being wrapped inside function, some crop predictions are negative values, but we need them all to be positive because conceptually crop yields cannot be negative."
   ]
  },
  {
   "cell_type": "code",
   "execution_count": null,
   "id": "bad2e993-6581-4a67-ab60-508479ad53bc",
   "metadata": {},
   "outputs": [],
   "source": [
    "features_all_years['yield_prediction'] = np.maximum(ridge_cv_random.predict(x_all), 0)"
   ]
  },
  {
   "cell_type": "code",
   "execution_count": null,
   "id": "02a4758b-e84a-47c5-a5a5-561d6fbe6823",
   "metadata": {},
   "outputs": [],
   "source": [
    "# check out the dataframe with the new column of predictions\n",
    "features_all_years.head(3)"
   ]
  },
  {
   "cell_type": "markdown",
   "id": "4f250da4-4a71-483d-bca9-248b8ecd6901",
   "metadata": {},
   "source": [
    "The dataframe is already a geodataframe, so we do not have to convert it to one before mapping predictions. However, we do need to replace all the zero value crop percentage areas with `NA`. We do this by applying the `mask()` function. This function is similar to an if-else statement. If the value of the `crop_perc` is equal to 0, that value is replaced by the value of the second argument, which is `NA`. If the value of `crop_prec` is _not_ equal to zero, we retain the current value. The argument `inplace = True` executes this replacement in the same cell. "
   ]
  },
  {
   "cell_type": "code",
   "execution_count": null,
   "id": "1fe0ee44-575a-45b8-ae14-b44ce3290ac4",
   "metadata": {},
   "outputs": [],
   "source": [
    "features_all_years['yield_prediction'].mask(features_all_years['crop_perc']==0, np.nan, inplace=True)"
   ]
  },
  {
   "cell_type": "markdown",
   "id": "82712032-c523-4569-9c2a-26f9dea91177",
   "metadata": {},
   "source": [
    "Recall that this dataframe has a geometry column, with latitude and longitude together. In order to map the predicted features, we separate this geometry column into separate `lon` and `lat` columns. "
   ]
  },
  {
   "cell_type": "code",
   "execution_count": null,
   "id": "980b20d1-e9f8-43b8-888f-32df0f261592",
   "metadata": {},
   "outputs": [],
   "source": [
    "# extract the longitude and latitude from the geometry column, and make then into independent columns\n",
    "features_all_years['lon'], features_all_years['lat'] = features_all_years.geometry.x, features_all_years.geometry.y"
   ]
  },
  {
   "cell_type": "markdown",
   "id": "82eb0d10-ec00-4063-a106-1b73991b9df8",
   "metadata": {},
   "source": [
    "Plot the predicted features for each year:"
   ]
  },
  {
   "cell_type": "code",
   "execution_count": null,
   "id": "9f4364cf-5eaf-4cb4-8c77-6bd38de288ed",
   "metadata": {},
   "outputs": [],
   "source": [
    "def scatter(x, y, c, **kwargs):\n",
    "    plt.scatter(x, y, c=c, s = 1.25)\n",
    "sns.color_palette(\"viridis\", as_cmap=True)\n",
    "g = sns.FacetGrid(\n",
    "    features_all_years, \n",
    "    col=\"year\", \n",
    "    col_wrap = 4, \n",
    "    height=5, \n",
    "    aspect=1\n",
    ")\n",
    "g.map(scatter, \"lon\", \"lat\", \"yield_prediction\")\n",
    "g.set_axis_labels(r\"Yield Prediction\")\n",
    "# save the figure and name the file so that it represents the model parameters that created the predictions\n",
    "# plt.savefig(f'images/{feature_file_name}_all_predictions.jpg', dpi=300)"
   ]
  },
  {
   "cell_type": "markdown",
   "id": "adf3917b-9fea-429f-9416-23851b20229e",
   "metadata": {},
   "source": [
    "Plot the model's predicted features summarized to district level. In this visualization, we choose a specific year to examine rather than visualizing all years in one figure. Visualizing the the features summarized to district level is interesting because the crop data resolution provided by Zambia Statistics Agency is at the district level, and therefore it is easier to compare our model results to those ground-truth values when they are summarized to district level as well. Furthermore, our model's crop predictions for the years 2020 and 2021 might be more valuable when summarized to district level if Zambian governments, policy-makers, farmers, and researchers wish to use this data to determine crop imports, exports, and storage according to district summaries. "
   ]
  },
  {
   "cell_type": "code",
   "execution_count": null,
   "id": "3dceaaf7-84d7-49b4-a2da-e0086c67c314",
   "metadata": {},
   "outputs": [],
   "source": [
    "features_all_years_summary = (\n",
    "    features_all_years\n",
    "    .groupby(['district',\"year\"], as_index = False)['yield_prediction']\n",
    "    .mean()\n",
    "    .set_index('district')\n",
    ")"
   ]
  },
  {
   "cell_type": "code",
   "execution_count": null,
   "id": "25f59be6-5dd0-49f2-bfcc-eb2a2ebea5cd",
   "metadata": {},
   "outputs": [],
   "source": [
    "# join Zambia's shapefile to the summarized features to map the districts\n",
    "# reset the index so it is a properly formatted dataframe\n",
    "features_all_years_summary = features_all_years_summary.join(country_shp).reset_index()"
   ]
  },
  {
   "cell_type": "markdown",
   "id": "d88e5b61-80c4-4b22-a0fa-5a2dbd415517",
   "metadata": {},
   "source": [
    "Now that the geometries have been converted to districts from points, the geomatries are now polygons. There is still a row for each district for each year."
   ]
  },
  {
   "cell_type": "markdown",
   "id": "60f98fce-e33f-49dc-a17c-c9d52215523a",
   "metadata": {},
   "source": [
    "In order to change the year visualized, simply change the year in the following code and re-run the chunk."
   ]
  },
  {
   "cell_type": "code",
   "execution_count": null,
   "id": "7084cc6b-b854-46f4-b2e2-02ba71482002",
   "metadata": {},
   "outputs": [],
   "source": [
    "features_all_years_summary[features_all_years_summary.year == 2020].plot(column = \"yield_prediction\")"
   ]
  },
  {
   "cell_type": "markdown",
   "id": "45acaeba-bf52-49c3-89e9-00dd307b57e6",
   "metadata": {},
   "source": [
    "Plot a boxplot for each year to visualize the range and quantile distribution of each year's crop predictions, summarized to district level. This enables us to identify years with exceptional disparities between the predicted yields by district. It also allows us to identify years that have many outliers."
   ]
  },
  {
   "cell_type": "code",
   "execution_count": null,
   "id": "9beb5eff-a4c8-4a54-85f2-52a1fcf8e37c",
   "metadata": {},
   "outputs": [],
   "source": [
    "plt.figure(figsize=(10, 5))\n",
    "sns.boxplot(x=\"year\", y=\"yield_prediction\", data = features_all_years_summary)\n",
    "plt.xlabel(\"Year\", fontsize=15)\n",
    "plt.ylabel(\"Predicted Yield\", fontsize=15)"
   ]
  },
  {
   "cell_type": "markdown",
   "id": "d910fe1b-bb79-497a-952a-0c7d3a3e95ee",
   "metadata": {},
   "source": [
    "Visualize the total crop yield predictions by year. This bar chart shows the sum of all the district crop yields."
   ]
  },
  {
   "cell_type": "code",
   "execution_count": null,
   "id": "427592b4-686f-4ab1-b781-5f0194dbe081",
   "metadata": {},
   "outputs": [],
   "source": [
    "plt.figure(figsize=(10, 5))\n",
    "sns.barplot(x=\"year\", y=\"yield_prediction\", data = features_all_years_summary, estimator = sum)"
   ]
  },
  {
   "cell_type": "markdown",
   "id": "bb543c8f-3e58-4075-b3c2-95804d3c6e7a",
   "metadata": {},
   "source": [
    "## Yield and Residual Plots\n",
    "\n",
    "Create a dataframe of residuals called `residuals_df` from the `features_summary` dataframe. Note that we are _not_ using the predicted crop yields for _all_ years for these residuals, but rather the ground-truth crop yields for just the years through 2018.\n",
    "\n",
    "The residuals give us an idea of the amount of uncertianty that is present in our model. By demeaning the residuals over space, we are able to remove the uncertainty over space and better determine our model performance over time and our uncertainty over time."
   ]
  },
  {
   "cell_type": "code",
   "execution_count": null,
   "id": "9b4918a9-c0c4-4a0d-bb32-3ff240200571",
   "metadata": {},
   "outputs": [],
   "source": [
    "x_all = features_summary.drop(drop_cols, axis = 1)\n",
    "\n",
    "# create empty dataframe to then populate with columns\n",
    "residual_df = pd.DataFrame()\n",
    "\n",
    "residual_df[\"yield_mt\"] = features_summary.yield_mt.to_numpy()\n",
    "residual_df[\"log_yield\"] = np.log10(features_summary.yield_mt.to_numpy() + 1)\n",
    "residual_df[\"prediction\"] = np.maximum(ridge_cv_random.predict(x_all), 0)\n",
    "residual_df[\"residual\"] = residual_df[\"log_yield\"] - residual_df[\"prediction\"]\n",
    "residual_df[\"year\"] = features_summary.year\n",
    "residual_df[\"district\"] = features_summary.district\n",
    "# join the district geometries\n",
    "residual_df = residual_df.join(country_shp, how = \"left\", on = \"district\")\n",
    "\n",
    "# demean by location so we can analyze the data over time\n",
    "residual_df[\"district_yield_mean\"] = residual_df.groupby('district')['log_yield'].transform('mean')\n",
    "residual_df[\"district_prediction_mean\"] = residual_df.groupby('district')['prediction'].transform('mean')\n",
    "residual_df[\"demean_yield\"] = residual_df[\"log_yield\"] - residual_df[\"district_yield_mean\"]\n",
    "residual_df[\"demean_prediction\"] = residual_df[\"prediction\"] - residual_df[\"district_prediction_mean\"]\n",
    "residual_gdf = geopandas.GeoDataFrame(residual_df)\n",
    "\n",
    "residual_gdf.head(3)"
   ]
  },
  {
   "cell_type": "markdown",
   "id": "f30a2560-4eca-4061-897f-4bb7e2f7c708",
   "metadata": {},
   "source": [
    "Visualize the residuals for the ground truth crop yields through 2018 with a boxplot."
   ]
  },
  {
   "cell_type": "code",
   "execution_count": null,
   "id": "1676a675-bd63-4202-b647-85f0a4fb6152",
   "metadata": {},
   "outputs": [],
   "source": [
    "plt.figure(figsize=(6, 5))\n",
    "sns.boxplot(x=\"year\", y=\"log_yield\", data=residual_df)\n",
    "plt.xlabel(\"Year\", fontsize=15)\n",
    "plt.ylabel(\"Log Yield\", fontsize=15)"
   ]
  },
  {
   "cell_type": "markdown",
   "id": "fc5edb9d-5840-4847-8f04-80f3de8ef0e1",
   "metadata": {},
   "source": [
    "Visualize the residuals as a sum by year with a bar plot."
   ]
  },
  {
   "cell_type": "code",
   "execution_count": null,
   "id": "1f1ffa4d-6c2d-4f16-b10d-7ba68bad0b38",
   "metadata": {},
   "outputs": [],
   "source": [
    "plt.figure(figsize=(6, 5))\n",
    "sns.barplot(x=\"year\", y=\"log_yield\", data=residual_df, estimator = sum)"
   ]
  },
  {
   "cell_type": "markdown",
   "id": "7cd0e82a-7842-4ffe-aa54-0998a766d162",
   "metadata": {},
   "source": [
    "Visualize the crop yield residuals by year as a histogram to determine how they are distributed."
   ]
  },
  {
   "cell_type": "code",
   "execution_count": null,
   "id": "bd79b57f-1fcc-4364-ba15-db3eed9e7e3c",
   "metadata": {},
   "outputs": [],
   "source": [
    "g = sns.FacetGrid(\n",
    "    residual_gdf, \n",
    "    col=\"year\", \n",
    "#     col_wrap = 3, \n",
    "    height=4, \n",
    "    aspect=1\n",
    ")\n",
    "g.map(sns.histplot, \"yield_mt\", bins = 20)\n",
    "g.set_axis_labels(\"Yield (MT)\")"
   ]
  },
  {
   "cell_type": "markdown",
   "id": "45dd3e09-071a-4bb3-b706-9843ef4e58cc",
   "metadata": {},
   "source": [
    "Visualize the log-transformed crop yield residuals by year as a histogram to compare how they are distributed after the transformation."
   ]
  },
  {
   "cell_type": "code",
   "execution_count": null,
   "id": "51204a02-7ac4-49bc-b4a6-d4d89f18b573",
   "metadata": {},
   "outputs": [],
   "source": [
    "g = sns.FacetGrid(\n",
    "    residual_gdf, \n",
    "    col=\"year\", \n",
    "#     col_wrap = 3, \n",
    "    height=4, \n",
    "    aspect=1\n",
    ")\n",
    "g.map(sns.histplot, \"log_yield\", bins = 20)\n",
    "g.set_axis_labels(r\"$\\log_{10}(1 + Crop Yield)$\")"
   ]
  },
  {
   "cell_type": "markdown",
   "id": "c8b1529f-abd6-4dde-9af2-7128cfd908ce",
   "metadata": {},
   "source": [
    "#### Crop prediction histogram"
   ]
  },
  {
   "cell_type": "code",
   "execution_count": null,
   "id": "f611311c-5df0-4cbf-b3ac-37931e00acd4",
   "metadata": {},
   "outputs": [],
   "source": [
    "g = sns.FacetGrid(\n",
    "    residual_gdf, \n",
    "    col=\"year\", \n",
    "#     col_wrap = 3, \n",
    "    height=4, \n",
    "    aspect=1\n",
    ")\n",
    "g.map(sns.histplot, \"prediction\", bins = 20)\n",
    "g.set_axis_labels(r\"Crop yield predictions\")"
   ]
  },
  {
   "cell_type": "markdown",
   "id": "1da7448e-ad5f-488d-bde5-dab420c74859",
   "metadata": {},
   "source": [
    "#### Residual histogram"
   ]
  },
  {
   "cell_type": "code",
   "execution_count": null,
   "id": "1e0628f0-fce2-47ff-b96a-8a4deec322ef",
   "metadata": {},
   "outputs": [],
   "source": [
    "g = sns.FacetGrid(\n",
    "    residual_gdf, \n",
    "    col=\"year\", \n",
    "#     col_wrap = 3, \n",
    "    height=4, \n",
    "    aspect=1\n",
    ")\n",
    "g.map(sns.histplot, \"residual\", bins = 20)\n",
    "g.set_axis_labels(r\"Residuals\")"
   ]
  },
  {
   "cell_type": "code",
   "execution_count": null,
   "id": "37f5d92d-0165-409b-aa92-e8224fce2553",
   "metadata": {},
   "outputs": [],
   "source": [
    "residual_gdf.residual.min()"
   ]
  },
  {
   "cell_type": "code",
   "execution_count": null,
   "id": "88730cab-d02a-4df4-9d05-bbbf6b42eebd",
   "metadata": {},
   "outputs": [],
   "source": [
    "residual_gdf.residual.max()"
   ]
  },
  {
   "cell_type": "markdown",
   "id": "8cbac5aa-4029-43e2-9d94-dbaa930aa87b",
   "metadata": {},
   "source": [
    "#### Log crop yield vs residuals"
   ]
  },
  {
   "cell_type": "code",
   "execution_count": null,
   "id": "32ec42e2-81d5-43f4-ab32-926f5f0ffc1d",
   "metadata": {},
   "outputs": [],
   "source": [
    "g = sns.FacetGrid(\n",
    "    residual_gdf, \n",
    "    col=\"year\", \n",
    "#     col_wrap = 3, \n",
    "    height=4, \n",
    "    aspect=1\n",
    ")\n",
    "g.map(sns.scatterplot, \"log_yield\", \"residual\")\n",
    "g.set_axis_labels(r\"$\\log_{10}(1 + Crop Yield)$\")"
   ]
  },
  {
   "cell_type": "markdown",
   "id": "063416fe-51cb-4505-a5c1-59864bf277b3",
   "metadata": {},
   "source": [
    "#### District residuals "
   ]
  },
  {
   "cell_type": "code",
   "execution_count": null,
   "id": "2a0f7002-7619-4fc4-bcb8-98f1317cd94f",
   "metadata": {},
   "outputs": [],
   "source": [
    "if satellite == 'landsat-8-c2-l2':\n",
    "    fig, (ax1,ax2) = plt.subplots(nrows=1, ncols=2, figsize=(13, 5))\n",
    "    ax1 = (residual_gdf[residual_gdf.year == 2014]\n",
    "           .plot(ax = ax1, column = \"residual\", legend = True, norm=colors.Normalize(vmin= -0.4, vmax=0.4), cmap = \"BrBG\")\n",
    "           .set_title(\"2014 Residuals\"))\n",
    "    ax2 = (residual_gdf[residual_gdf.year == 2015]\n",
    "           .plot(ax = ax2, column = \"residual\", legend = True, norm=colors.Normalize(vmin= -0.4, vmax=0.4), cmap = \"BrBG\")\n",
    "           .set_title(\"2015 Residuals\"))\n",
    "else:\n",
    "    pass\n",
    "fig, (ax1,ax2,ax3) = plt.subplots(nrows=1, ncols=3, figsize=(20, 5))\n",
    "ax1 = (residual_gdf[residual_gdf.year == 2016]\n",
    "       .plot(ax = ax1, column = \"residual\", legend = True, norm=colors.Normalize(vmin= -0.4, vmax=0.4), cmap = \"BrBG\")\n",
    "       .set_title(\"2016 Residuals\"))\n",
    "ax2 = (residual_gdf[residual_gdf.year == 2017]\n",
    "       .plot(ax = ax2, column = \"residual\", legend = True, norm=colors.Normalize(vmin= -0.4, vmax=0.4), cmap = \"BrBG\")\n",
    "       .set_title(\"2017 Residuals\"))\n",
    "ax3 = (residual_gdf[residual_gdf.year == 2018]\n",
    "       .plot(ax = ax3, column = \"residual\", legend = True, norm=colors.Normalize(vmin= -0.4, vmax=0.4), cmap = \"BrBG\")\n",
    "       .set_title(\"2018 Residuals\"))\n",
    "\n",
    "caption = \"A positive value is an underestimated prediction (the prediction is lower than the actual yield), a negative value is an over estimated prediction\"\n",
    "plt.figtext(0.5, 0.01, caption, wrap=True, horizontalalignment='center', fontsize=12)\n"
   ]
  },
  {
   "cell_type": "markdown",
   "id": "4c06eb6d-6b28-4493-982f-c2bdc6e18517",
   "metadata": {},
   "source": [
    "#### Difference from the mean"
   ]
  },
  {
   "cell_type": "code",
   "execution_count": null,
   "id": "f37e53cc-050b-4718-8882-410d02c5aeb0",
   "metadata": {},
   "outputs": [],
   "source": [
    "g = sns.FacetGrid(\n",
    "    residual_gdf, \n",
    "    col=\"year\", \n",
    "#     col_wrap = 3, \n",
    "    height=4, \n",
    "    aspect=1\n",
    ")\n",
    "g.map(sns.scatterplot, \"demean_yield\", \"demean_prediction\")\n",
    "g.set_axis_labels('Difference from Yield Mean', 'Difference from Prediction Mean')"
   ]
  },
  {
   "cell_type": "code",
   "execution_count": null,
   "id": "5c993e12-982a-42e9-8c35-28770ab2b420",
   "metadata": {},
   "outputs": [],
   "source": [
    "fig, ax = plt.subplots(figsize= (6, 5))\n",
    "ax.axline([-.2, -.2], [.2, .2], c = \"k\")\n",
    "plt.scatter(residual_gdf.demean_yield, residual_gdf.demean_prediction)\n",
    "plt.title(\"Demeaned truth and predictions by district\")\n",
    "plt.xlabel('Difference from Yield Mean')\n",
    "plt.ylabel('Difference from Predictions Mean')\n",
    "r_squared = r2_score(residual_gdf[\"demean_yield\"], residual_gdf[\"demean_prediction\"])\n",
    "plt.text(\n",
    "    -0.2,\n",
    "    .18,\n",
    "    s=f\"Demeaned R$^2$ = {r_squared:0.2f}\",\n",
    "    fontsize=15,\n",
    "    fontweight=\"bold\",\n",
    ")\n",
    "plt.savefig(f'images/{feature_file_name}_demean.jpg', dpi=300)"
   ]
  },
  {
   "cell_type": "code",
   "execution_count": null,
   "id": "167f9228-34b2-4f04-b4b0-d47e78542e26",
   "metadata": {},
   "outputs": [],
   "source": [
    "for yr in range(year_start+1, 2018):\n",
    "    r_squared = r2_score(residual_gdf[residual_gdf.year == yr][\"demean_yield\"], residual_gdf[residual_gdf.year == yr][\"demean_prediction\"])\n",
    "    pearson_r = pearsonr(residual_gdf[residual_gdf.year == yr][\"demean_yield\"], residual_gdf[residual_gdf.year == yr][\"demean_prediction\"])\n",
    "    \n",
    "    print(yr, f\"    R^2: {r_squared:.2f}\\n\",\n",
    "          f\"Pearson's r: {pearson_r[0]:.2f}\\n\", \n",
    "          sep = \"\")\n",
    "    \n",
    "r_squared = r2_score(residual_gdf[\"demean_yield\"], residual_gdf[\"demean_prediction\"])\n",
    "pearson_r = pearsonr(residual_gdf[\"demean_yield\"], residual_gdf[\"demean_prediction\"])\n",
    "print(f\"All     R^2: {r_squared:.2f}\\n\",\n",
    "      f\"Pearson's r: {pearson_r[0]:.2f}\", sep = \"\")"
   ]
  },
  {
   "cell_type": "code",
   "execution_count": null,
   "id": "034bd1d1-4490-4801-a729-331c00e0a347",
   "metadata": {},
   "outputs": [],
   "source": [
    "r2 = round(pearson_r[0] ** 2, 2)\n",
    "r2"
   ]
  },
  {
   "cell_type": "markdown",
   "id": "8e907866-1c8b-41dc-a346-01c0a53ee3fb",
   "metadata": {},
   "source": [
    "#### Join residuals to the features for _all_ years to visualize the residuals of the features before they were summarized to district level."
   ]
  },
  {
   "cell_type": "code",
   "execution_count": null,
   "id": "f2f0e606-93a8-477f-b15d-b9a98d2a84ee",
   "metadata": {},
   "outputs": [],
   "source": [
    "complete_df = (\n",
    "    features_all_years_summary\n",
    "    .set_index(['district', 'year'])\n",
    "    .join(residual_df\n",
    "          .drop('geometry', axis = 1)\n",
    "          .set_index(['district', 'year'])\n",
    "         )\n",
    "    .reset_index()\n",
    ")\n",
    "\n",
    "complete_df.head(3)"
   ]
  },
  {
   "cell_type": "code",
   "execution_count": null,
   "id": "2f045cfe-8479-41c7-bd04-9247843e4094",
   "metadata": {},
   "outputs": [],
   "source": [
    "fig, ax1 = plt.subplots(figsize=(10, 5))\n",
    "tidy = complete_df.melt(id_vars='year').rename(columns=str.title)\n",
    "tidy = tidy[tidy.Variable.isin(['yield_prediction', 'log_yield'])]\n",
    "sns.barplot(x='Year', y='Value', hue='Variable', data=tidy, ax=ax1, ci = None)\n",
    "sns.despine(fig)\n",
    "\n",
    "h, l = ax1.get_legend_handles_labels()\n",
    "ax1.legend(h, ['Predicted Yield', 'Observed Yield'],loc='lower left')\n",
    "\n",
    "plt.savefig(f'images/{feature_file_name}_yield_pred.jpg', dpi=300)"
   ]
  },
  {
   "cell_type": "code",
   "execution_count": null,
   "id": "4149c18b-e563-4575-9c13-db636db64af7",
   "metadata": {},
   "outputs": [],
   "source": [
    "plt.figure(figsize=(10, 5))\n",
    "sns.barplot(x=\"year\", y=\"yield_prediction\", data=complete_df, estimator = sum)"
   ]
  },
  {
   "cell_type": "markdown",
   "id": "38476b4e-d3b5-4f79-8d2d-651d6416900a",
   "metadata": {},
   "source": [
    "### Congratulations on completing this analysis!"
   ]
  }
 ],
 "metadata": {
  "kernelspec": {
   "display_name": "mosaiks_modeling",
   "language": "python",
   "name": "mosaiks_modeling"
  },
  "language_info": {
   "codemirror_mode": {
    "name": "ipython",
    "version": 3
   },
   "file_extension": ".py",
   "mimetype": "text/x-python",
   "name": "python",
   "nbconvert_exporter": "python",
   "pygments_lexer": "ipython3",
   "version": "3.11.0"
  }
 },
 "nbformat": 4,
 "nbformat_minor": 5
}
