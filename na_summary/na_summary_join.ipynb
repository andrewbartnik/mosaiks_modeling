{
 "cells": [
  {
   "cell_type": "markdown",
   "id": "ceb1e29c-e5df-4712-b937-c9aa8d66a06e",
   "metadata": {},
   "source": [
    "## NA Exploration for Features - part 1\n",
    "- see R script for part 2"
   ]
  },
  {
   "cell_type": "code",
   "execution_count": null,
   "id": "8cc2d895-fc4f-4a8a-8f32-d60e9dcb01d9",
   "metadata": {},
   "outputs": [],
   "source": [
    "import numpy as np\n",
    "import pandas as pd\n",
    "\n",
    "import os\n",
    "\n",
    "import seaborn as sns\n",
    "import matplotlib.pyplot as plt\n",
    "import matplotlib.colors as colors\n",
    "\n",
    "# from scipy.interpolate import interp1d\n",
    "\n",
    "#import missingno as msno # doesn't work on Taylor"
   ]
  },
  {
   "cell_type": "code",
   "execution_count": null,
   "id": "dba63eee-a269-4e1a-a680-9f2b2dc511f0",
   "metadata": {},
   "outputs": [],
   "source": [
    "# retreive current working directory\n",
    "os.getcwd()"
   ]
  },
  {
   "cell_type": "code",
   "execution_count": null,
   "id": "2f01e674-7e14-4043-9d51-c37491591a82",
   "metadata": {},
   "outputs": [],
   "source": [
    "### Define values for satellite, bands, and points to pull in files of interest"
   ]
  },
  {
   "cell_type": "code",
   "execution_count": null,
   "id": "9cdecfb6-f230-48ff-bc38-bc2167d03bcd",
   "metadata": {},
   "outputs": [],
   "source": [
    "# define the satellite used:\n",
    "satellite = \"sentinel-2-l2a\"\n",
    "#satellite = \"landsat-8-c2-l2\"\n",
    "\n",
    "# define the bands used\n",
    "bands = \"2-3-4\"\n",
    "#bands = \"2-3-4-8\"\n",
    "#bands = \"2-3-4-5-6-7\"\n",
    "#bands = \"1-2-3-4-5-6-7\"\n",
    "\n",
    "# define the number of points to import the feature file of interest\n",
    "points = \"4\"\n",
    "#points = \"15\"\n",
    "#points = \"24\"\n",
    "\n",
    "# for file names without mention of bands:\n",
    "#feature_file_name = (f'sentinel-2_ZMB_{points}'\n",
    "#                     f'k-points_1000-features')\n",
    "\n",
    "# for file names with bands specified:\n",
    "feature_file_name = (f'{satellite}_bands-{bands}_ZMB_{points}k-points_1000-features')\n"
   ]
  },
  {
   "cell_type": "markdown",
   "id": "e71d01be-6c23-4068-8ec1-a8db0a10a661",
   "metadata": {},
   "source": [
    "### Append all feature data from the years of interest into a pandas dataframe"
   ]
  },
  {
   "cell_type": "code",
   "execution_count": null,
   "id": "3a2a044e-b96d-4ee8-b00e-1e5c63aaf383",
   "metadata": {},
   "outputs": [],
   "source": [
    "# define an empty dataframe for all feature data to be stored when exported from the following for loop\n",
    "features = pd.DataFrame()\n",
    "\n",
    "# open annual 15k point feather files in the features folder\n",
    "for yr in range(2015, 2019):\n",
    "    print(\"Opening:\", yr)\n",
    "    features_x = pd.read_feather(f\"/capstone/cropmosaiks/data/features/{feature_file_name}_{yr}.feather\")\n",
    "    features_x = features_x.set_index(['lon','lat', 'year', 'month']).unstack()\n",
    "    features_x.columns = features_x.columns.map(lambda x: '{}_{}'.format(*x))\n",
    "    features_x = features_x.reset_index()\n",
    "# drop latitiude and longitude columns\n",
    "    features_x = features_x.drop(['lon', 'lat'], axis = 1)\n",
    "# axis = 1 means col\n",
    "    \n",
    "# concatenate the feather files together, axis = 0 specifies to stack rows (rather than adding columns)\n",
    "    features = pd.concat([features, features_x], axis=0)\n",
    "    print(\"feature.shape\", features.shape)\n",
    "    print(\"Appending:\", yr)\n",
    "    print(\"\")\n",
    "features"
   ]
  },
  {
   "cell_type": "markdown",
   "id": "5f27710f-99a1-4a51-8c21-e302ab3c72ae",
   "metadata": {},
   "source": [
    "### The annual files each have the same number of columns, because each files contain the same number of features over the same amount of months. As each file is appended, the number of rows increases by the same amount of rows."
   ]
  },
  {
   "cell_type": "code",
   "execution_count": null,
   "id": "6645285c-d6f8-4b44-8afd-183a46760dc1",
   "metadata": {},
   "outputs": [],
   "source": [
    "features_index = features.set_index(['year']).reset_index()\n",
    "features_index"
   ]
  },
  {
   "cell_type": "markdown",
   "id": "9c1a8318-a2c0-4f0b-b899-576f1d7ff08a",
   "metadata": {},
   "source": [
    "### Convert the dataframe to a csv and feather file"
   ]
  },
  {
   "cell_type": "code",
   "execution_count": null,
   "id": "72e8d1f1-9229-4ce2-ad7d-c2f622d347b3",
   "metadata": {
    "tags": []
   },
   "outputs": [],
   "source": [
    "# define what to name the saved .csv and .feather files in the Taylor folder \n",
    "saved_file_name = (f'{satellite}_bands-{bands}_ZMB_{points}k-points_1000-features_na-analysis')\n",
    "features_index.to_csv(f'/capstone/cropmosaiks/data/na_summary/{saved_file_name}.csv')\n",
    "features_index.to_feather(f'/capstone/cropmosaiks/data/na_summary/{saved_file_name}.feather')"
   ]
  },
  {
   "cell_type": "markdown",
   "id": "bf2b0b74-8368-49af-8c05-a5e77c8f8ddb",
   "metadata": {},
   "source": [
    "## Switch to R script"
   ]
  }
 ],
 "metadata": {
  "kernelspec": {
   "display_name": "Python 3 (ipykernel)",
   "language": "python",
   "name": "python3"
  },
  "language_info": {
   "codemirror_mode": {
    "name": "ipython",
    "version": 3
   },
   "file_extension": ".py",
   "mimetype": "text/x-python",
   "name": "python",
   "nbconvert_exporter": "python",
   "pygments_lexer": "ipython3",
   "version": "3.7.7"
  }
 },
 "nbformat": 4,
 "nbformat_minor": 5
}
