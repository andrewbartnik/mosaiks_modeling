{
 "cells": [
  {
   "cell_type": "markdown",
   "id": "f576830d-9afa-47d8-9fac-8e43292ee090",
   "metadata": {},
   "source": [
    "# Modeling Crop Yield: Landsat + Sentinel\n",
    "## Python modules"
   ]
  },
  {
   "cell_type": "code",
   "execution_count": null,
   "id": "44646286-2094-4bd0-8609-ad5efc857abc",
   "metadata": {},
   "outputs": [],
   "source": [
    "import warnings\n",
    "import time\n",
    "import os\n",
    "\n",
    "import numpy as np\n",
    "import pandas as pd\n",
    "import matplotlib.pyplot as plt\n",
    "import matplotlib.pyplot as plt\n",
    "import matplotlib.colors as colors\n",
    "\n",
    "import geopandas\n",
    "\n",
    "import pyarrow\n",
    "from sklearn.linear_model import RidgeCV\n",
    "from sklearn.model_selection import train_test_split\n",
    "from sklearn.metrics import r2_score\n",
    "from sklearn.metrics import mean_squared_error\n",
    "from sklearn.impute import SimpleImputer\n",
    "from sklearn.preprocessing import StandardScaler\n",
    "from scipy.stats import spearmanr\n",
    "from scipy.linalg import LinAlgWarning\n",
    "from scipy.stats import pearsonr\n",
    "\n",
    "import math\n",
    "import seaborn as sns"
   ]
  },
  {
   "cell_type": "markdown",
   "id": "5e7ec62b-abe9-4d5c-acdf-a94a0b616cab",
   "metadata": {},
   "source": [
    "## Satellite Parameters\n",
    "\n",
    " - For a description of the Landsat 8 mission, see the US Geological metadata [here.]()\n",
    " - For a description of the Sentinel 2 mission, see the US Geological metadata [here.]()\n",
    "\n",
    "We'll use **ls8** and **sn2** for Landsat 8 and Sentinel 2 missions, respectively, throughout this notebook to denote satellite specific parameters. "
   ]
  },
  {
   "cell_type": "code",
   "execution_count": null,
   "id": "05505183-3b7a-44ee-b7d6-9045d769aa7a",
   "metadata": {},
   "outputs": [],
   "source": [
    "ls8_satellite = \"landsat-8-c2-l2\"\n",
    "sn2_satellite = \"sentinel-2-l2a\""
   ]
  },
  {
   "cell_type": "markdown",
   "id": "7c706013-d57a-445b-a57b-693e012c4887",
   "metadata": {},
   "source": [
    "### Choose band combination.\n",
    "\n",
    " - For a description of **Landsat 8** bands, see the [US Geological Survey documentation here.](https://www.usgs.gov/faqs/what-are-band-designations-landsat-satellites)\n",
    " - For a description of **Sentinel 2** bands, see the [US Geological Survey documentation here.](https://www.usgs.gov/centers/eros/science/usgs-eros-archive-sentinel-2#:~:text=4%20bands%20at%2010%20meter,%2Dinfrared%20(842%20nm)\n",
    "\n",
    "According to our results, bands **(insert band selection here)** result in the best model performance for Landsat, and **(insert band selection here)** result in the best model performance for Sentinel for the task of predicting maize yields in Zambia."
   ]
  },
  {
   "cell_type": "code",
   "execution_count": null,
   "id": "e6998076-0a00-44e1-a0f2-7bd21ceb9262",
   "metadata": {},
   "outputs": [],
   "source": [
    "# Landsat bands\n",
    "ls8_bands = \"1-2-3-4-5-6-7\"\n",
    "\n",
    "\n",
    "# Sentinel bands\n",
    "# sn2_bands = \"2-3-4\"\n",
    "sn2_bands = \"2-3-4-8\"\n",
    "# sn2_bands = \"2-3-4-5-6-7-8-11-12\""
   ]
  },
  {
   "cell_type": "markdown",
   "id": "3e439fc2-e20c-49ca-a14d-a1f182abedf7",
   "metadata": {},
   "source": [
    "### Choose the number of points that were featurized.\n",
    "\n",
    "Each value in the following chunk represents the amount of thousands of points that were featurized in each respective feature file. These points represent a uniform subset of the spatial grid of Zambia. Points are spaced at uniform intervals for each selection, measured in kilometers in the longitudinal direction for each set of features. Selecting a greater quantity of points results in a denser spatial sample and increases the spatial resolution of the model. Regardless of the quantity of points selected, each point is buffered by the same distance, resulting in a 1km^2 cell around each point.\n",
    "\n",
    "Selection remains the same for Landsat and Sentinel."
   ]
  },
  {
   "cell_type": "code",
   "execution_count": null,
   "id": "78aa2765-0fee-49fd-a54d-656b1f165e33",
   "metadata": {},
   "outputs": [],
   "source": [
    "# points = \"4\"\n",
    "points = \"15\"\n",
    "# points = \"24\"\n",
    "# points = \"42\""
   ]
  },
  {
   "cell_type": "markdown",
   "id": "db0cde44-4713-44f6-a43b-2b1c3c68eb4f",
   "metadata": {},
   "source": [
    "#### Choose to keep only areas with crops (`True`) or to keep all points (`False`)\n",
    "\n",
    "Selecting `True` applies a \"cropland mask\" to the spatial grid of Zambia. This retains only the regions of the country in which maize is  grown, according to the **(insert source here)**. As a result, the spatial extent of the features that are fed into the model are highly subset for the specific task at hand: modeling maize yields. According to our results, selecting `True` **(insert increases or decreases here)** model performance.\n",
    "\n",
    "Selecting `False` results in modeling with the maximum spatial extent of the features, with more generalized features as a result."
   ]
  },
  {
   "cell_type": "code",
   "execution_count": null,
   "id": "179fc55b-d19d-41f0-9a13-60b06f48c059",
   "metadata": {},
   "outputs": [],
   "source": [
    "# crop_mask = True\n",
    "crop_mask = False"
   ]
  },
  {
   "cell_type": "markdown",
   "id": "b63d5a14-529a-49ae-8e34-322746558c96",
   "metadata": {},
   "source": [
    "#### Impute NA values by descending group levels (True) or `scikit learn`'s simple imputer (False)\n",
    "\n",
    "Imputing \"manually\" by descending group levels imputes NA values in multiple \"cascading\" steps, decreasing the proportion of inoutated values with each step. First, the NA values are imputed at by both `year` and `district`, which should yield imputed values that most closely match the feature values that would be present in the data if there was no clouds obscuring the satellite images. Next, the remaining NA values that could not be imputed by both `year` and `district` are imputed by only `district`. Lastly, the remaining NA vlaues that could not be imputed by both `year` and `district` or by just `district` are imputed by `year` only. This option gives the user more control and transparency over how the imputation is executed.\n",
    "\n",
    "Imputing using `scikit learn`'s simple imputer executes standard imputation, the details of which can be found in the `scikitlearn` documentation [here.](https://scikit-learn.org/stable/modules/generated/sklearn.impute.SimpleImputer.html)"
   ]
  },
  {
   "cell_type": "code",
   "execution_count": null,
   "id": "3e694380-0ec9-485e-95ad-7b747385f7dc",
   "metadata": {},
   "outputs": [],
   "source": [
    "impute_manual = True\n",
    "# impute_manual = False"
   ]
  },
  {
   "cell_type": "markdown",
   "id": "593ae44d-091b-47b6-88d5-5abc0578943b",
   "metadata": {},
   "source": [
    "Choose a weighted average (`True`) or a simple mean (`False`) to use when collapsing features to administrative boundary level."
   ]
  },
  {
   "cell_type": "code",
   "execution_count": null,
   "id": "a8b1c747-5b61-44af-a110-f5a04d0a9525",
   "metadata": {},
   "outputs": [],
   "source": [
    "# weighted_avg = True\n",
    "weighted_avg = False"
   ]
  },
  {
   "cell_type": "markdown",
   "id": "99ef1117-d0ee-4649-8ab8-0b879524a7f5",
   "metadata": {},
   "source": [
    "### Choose which months to use in the model.\n",
    "\n",
    "Note that months 10, 11, and 12 get pushed to the next year because the growing season (November - May) spans the calendar year. Maize is planted in November, starts to change color with maturity in May, and is harvested in June - August. According to our results, subsetting the months to **(insert month selection here)** increases model performance.\n",
    "\n",
    "Selection remains the same for Sentinel and Landsat"
   ]
  },
  {
   "cell_type": "code",
   "execution_count": null,
   "id": "a07ae761-1eb0-4e60-b6f4-0abcb248d539",
   "metadata": {},
   "outputs": [],
   "source": [
    "# month_range = [1, 2, 3, 4, 5, 6, 7, 8, 9, 10, 11, 12]\n",
    "# month_range = [      3, 4, 5, 6, 7, 8, 9            ]\n",
    "month_range = [         4, 5, 6, 7, 8, 9            ]\n",
    "# month_range = [            5, 6, 7, 8, 9            ]\n",
    "# month_range = [         4, 5, 6, 7, 8               ]\n",
    "# month_range = [            5, 6, 7, 8               ]"
   ]
  },
  {
   "cell_type": "markdown",
   "id": "a3264c71-963c-4574-b593-90b1ffdc22bd",
   "metadata": {},
   "source": [
    "### Unchanging parmaters\n",
    "\n",
    "The parameters in the following chunk are set for the country of Zambia for with 1000 features, regardless of the satellite selected. The start years for each satellite reflect the respective years that Landsat 8 and Sentinel 2A missions began.\n",
    "\n",
    "The number of features is set to 1000 to serve as a staple parameter among the several other parameters varied during the model optimization process. Changing this parameter in the following code chunk will result in an error because featurizing landsat imagery for a different number of features was outside the scope of this project."
   ]
  },
  {
   "cell_type": "code",
   "execution_count": null,
   "id": "291da0ea-96b8-4e47-b43d-32a23dbe1530",
   "metadata": {},
   "outputs": [],
   "source": [
    "# set home directory\n",
    "taylor_data_dir = \"/capstone/cropmosaiks/data\"  \n",
    "\n",
    "# set plot sizes\n",
    "if points == \"4\":\n",
    "    marker_sz = 60\n",
    "elif points == \"15\":\n",
    "    marker_sz = 15\n",
    "elif points == \"24\":\n",
    "    marker_sz = 10\n",
    "else:\n",
    "    marker_sz = 8"
   ]
  },
  {
   "cell_type": "code",
   "execution_count": null,
   "id": "2f2a9261-87cf-4f03-8802-c315651af75f",
   "metadata": {},
   "outputs": [],
   "source": [
    "country_code = \"ZMB\"\n",
    "num_features = 1000\n",
    "\n",
    "# set start years for both satellites\n",
    "ls8_year_start = 2013 # Landsat\n",
    "sn2_year_start = 2015 # Sentinel\n",
    "year_end = 2018       # same for both satellites\n",
    "\n",
    "# set file paths\n",
    "ls8_feature_file_name = (f'{ls8_satellite}_bands-{ls8_bands}_{country_code}_{points}k-points_{num_features}-features')\n",
    "sn2_feature_file_name = (f'{sn2_satellite}_bands-{sn2_bands}_{country_code}_{points}k-points_{num_features}-features')\n",
    "weight_file_name = (f'{country_code}_crop_weights_{points}k-points')"
   ]
  },
  {
   "cell_type": "markdown",
   "id": "ee52b6b1-f028-42be-b0c1-cf4917c1f5ce",
   "metadata": {},
   "source": [
    "## Administrative boundaries \n",
    "\n",
    "Administrative boundaries reflect the **(insert number of districts in dataset)** district boundaries within the country of Zambia. A district can be likened to a state within the larger U.S.A. We subset the spatial grid to district level becuase the crop yield data is at the district level of specificity. The features are originally produced at higher spatial resolution, then summarized to the district level in order to train the model with ground-truth crop data. "
   ]
  },
  {
   "cell_type": "code",
   "execution_count": null,
   "id": "b5c20e57-54cb-41c1-afff-f5ebb3cd768b",
   "metadata": {},
   "outputs": [],
   "source": [
    "country_shp = geopandas.read_file(f'{taylor_data_dir}/boundaries/gadm36_{country_code}_2.shp')\n",
    "country_shp = country_shp.rename(columns = {'NAME_2': 'district'})[['district', 'geometry']]\n",
    "country_shp.district = country_shp.district.replace(\"MPongwe\", 'Mpongwe', regex=True)\n",
    "country_districts = country_shp.district.sort_values().unique().tolist()\n",
    "country_shp = country_shp.set_index('district')\n",
    "country_shp.shape\n",
    "country_shp.plot(linewidth = 1, edgecolor = 'black' )\n",
    "# country_shp.plot()"
   ]
  },
  {
   "cell_type": "markdown",
   "id": "b670c9b3-22f8-4482-9a14-d861632540aa",
   "metadata": {},
   "source": [
    "## Crop yield\n",
    "\n",
    "Zambian maize yield data reflects the predicted annual maize yield provided by farmers in the month of May, when the maize matures and changes colors prior to harvest, which allows the farmers to estimate what their yield will be in the following months. These predictions are in units of metric tons per hectare and provide valuable insight to the Zambian government as they plan for the quanitites of food to import into the country in the future. For more metadata, see the websites for the [Central Statistics Office of Zambia (CSO)](https://www.zamstats.gov.zm/) and the [Summary statistics from CSO.](https://www.zamstats.gov.zm/agriculture-environment-statistics/)\n",
    "\n",
    "In order to standardize the names of all districts shared between the geoboundaries and the crop yield data, we correct for spelling, dashes, and apostrophes. \n"
   ]
  },
  {
   "cell_type": "code",
   "execution_count": null,
   "id": "25943f88-afd4-4bce-8204-c0a122aa5fbd",
   "metadata": {},
   "outputs": [],
   "source": [
    "crop_df = pd.read_csv(taylor_data_dir+'/crops/cfs_maize_districts_zambia_2009_2018.csv')\n",
    "crop_df.district = crop_df.district.replace(\n",
    "    {\"Itezhi-tezhi\": 'Itezhi-Tezhi',\n",
    "     \"Kapiri-Mposhi\": 'Kapiri Mposhi',\n",
    "     \"Shang'ombo\": 'Shangombo',\n",
    "     \"Chienge\": 'Chiengi'\n",
    "    }, regex=True)\n",
    "crop_districts = crop_df.district.sort_values().unique().tolist()\n",
    "crop_df = crop_df[['district', 'year', 'yield_mt']]\n",
    "ln = len(crop_df[crop_df.year == 2016].district)\n",
    "crop_df = crop_df.set_index('district')\n",
    "ln\n",
    "# crop_df"
   ]
  },
  {
   "cell_type": "code",
   "execution_count": null,
   "id": "a6961179-899d-43da-9622-b1224e56f305",
   "metadata": {},
   "outputs": [],
   "source": [
    "list(set(crop_districts) - set(country_districts))"
   ]
  },
  {
   "cell_type": "code",
   "execution_count": null,
   "id": "6c32793c-cff7-427f-baa9-07ddb06b5ebe",
   "metadata": {},
   "outputs": [],
   "source": [
    "list(set(country_districts) - set(crop_districts))"
   ]
  },
  {
   "cell_type": "code",
   "execution_count": null,
   "id": "07d06f32-ecf6-4301-903f-5ccb9fb6ff51",
   "metadata": {},
   "outputs": [],
   "source": [
    "country_crop = geopandas.GeoDataFrame(crop_df.join(country_shp), crs = country_shp.crs)"
   ]
  },
  {
   "cell_type": "markdown",
   "id": "d9658abd-9984-45c3-b432-1fe9b23d572c",
   "metadata": {},
   "source": [
    "## Crop land"
   ]
  },
  {
   "cell_type": "code",
   "execution_count": null,
   "id": "46b09ba6-d999-44b1-a260-ea9f0b4e034e",
   "metadata": {},
   "outputs": [],
   "source": [
    "weights = pd.read_feather(f\"{taylor_data_dir}/weights/{weight_file_name}.feather\")\n",
    "# weights"
   ]
  },
  {
   "cell_type": "code",
   "execution_count": null,
   "id": "572921f1-8846-400b-be15-6b51be154323",
   "metadata": {},
   "outputs": [],
   "source": [
    "weights_gdf = geopandas.GeoDataFrame(\n",
    "    weights, \n",
    "    geometry = geopandas.points_from_xy(x = weights.lon, y = weights.lat), \n",
    "    crs='EPSG:4326'\n",
    ")\n",
    "weights_gdf.plot(figsize = (10,10),\n",
    "                 cmap = 'inferno',\n",
    "                 markersize = marker_sz,\n",
    "                 alpha = .9,\n",
    "                 column = 'crop_perc')\n",
    "# plt.axis('off')"
   ]
  },
  {
   "cell_type": "code",
   "execution_count": null,
   "id": "27e51170-37c9-49c4-9e0e-1a514fe7ef38",
   "metadata": {},
   "outputs": [],
   "source": [
    "weights.crop_perc = weights.crop_perc.fillna(0)\n",
    "# #weights.crop_perc = weights.crop_perc + 0.0001"
   ]
  },
  {
   "cell_type": "markdown",
   "id": "6e42d15f-808a-4d86-8a11-d82959f63d78",
   "metadata": {},
   "source": [
    "## Features\n",
    "\n",
    "Append annual features files together into one file: `features_raw`."
   ]
  },
  {
   "cell_type": "markdown",
   "id": "4b1f9eef-80bf-4a65-b2d3-7f4be0554b05",
   "metadata": {},
   "source": [
    "#### Landsat 8"
   ]
  },
  {
   "cell_type": "code",
   "execution_count": null,
   "id": "e4fe33f9-42f3-4328-8788-9260d71be1e6",
   "metadata": {},
   "outputs": [],
   "source": [
    "features_ls8_raw = geopandas.GeoDataFrame()\n",
    "\n",
    "for yr in range(ls8_year_start, year_end + 1):\n",
    "    print(f\"Opening: {ls8_feature_file_name}_{yr}.feather\")\n",
    "    features_ls8 = pd.read_feather(f\"{taylor_data_dir}/features/{ls8_satellite}/{ls8_feature_file_name}_{yr}.feather\")\n",
    "    \n",
    "    if (yr == 2013):\n",
    "        features_ls8 = features_ls8[features_ls8.month > 9]\n",
    "    else:\n",
    "        pass\n",
    "    \n",
    "    # concatenate the feather files together, axis = 0 specifies to stack rows (rather than adding columns)\n",
    "    features_ls8_raw = pd.concat([features_ls8_raw, features_ls8], axis=0)\n",
    "    \n",
    "    print(\"feature.shape\", features_ls8_raw.shape)\n",
    "    print(\"Appending:\", yr)\n",
    "    print(\"\")"
   ]
  },
  {
   "cell_type": "markdown",
   "id": "2c439b41-fcf7-42d3-9fbe-29af08a7d472",
   "metadata": {},
   "source": [
    "#### Sentinel 2"
   ]
  },
  {
   "cell_type": "code",
   "execution_count": null,
   "id": "3506f8f9-338d-4c27-8010-261c49e96f85",
   "metadata": {},
   "outputs": [],
   "source": [
    "features_sn2_raw = geopandas.GeoDataFrame()\n",
    "\n",
    "for yr in range(sn2_year_start, year_end + 1):\n",
    "    print(f\"Opening: {sn2_feature_file_name}_{yr}.feather\")\n",
    "    features_sn2 = pd.read_feather(f\"{taylor_data_dir}/features/{sn2_satellite}/{sn2_feature_file_name}_{yr}.feather\")\n",
    "    \n",
    "    if (yr == 2015):\n",
    "        features_sn2 = features_sn2[features_sn2.month > 9]\n",
    "    else:\n",
    "        pass\n",
    "    \n",
    "    # concatenate the feather files together, axis = 0 specifies to stack rows (rather than adding columns)\n",
    "    features_sn2_raw = pd.concat([features_sn2_raw, features_sn2], axis=0)\n",
    "    \n",
    "    print(\"feature.shape\", features_sn2_raw.shape)\n",
    "    print(\"Appending:\", yr)\n",
    "    print(\"\")"
   ]
  },
  {
   "cell_type": "code",
   "execution_count": null,
   "id": "1de4d138-15c5-44e9-95bd-ebd750840041",
   "metadata": {},
   "outputs": [],
   "source": [
    "# Create copies of both feature datasets\n",
    "features_ls8 = features_ls8_raw.copy()\n",
    "features_sn2 = features_sn2_raw.copy()"
   ]
  },
  {
   "cell_type": "markdown",
   "id": "8c13cd26-d192-4b40-8aae-fda96c2be565",
   "metadata": {},
   "source": [
    "We want to carry the months October, November, and December over to the following year's date. These months represent the start of the growing season for the following year's maize yield"
   ]
  },
  {
   "cell_type": "code",
   "execution_count": null,
   "id": "4e23cf59-2d4d-4485-9233-a8c684eeb715",
   "metadata": {},
   "outputs": [],
   "source": [
    "# Landsat\n",
    "features_ls8['year'] = np.where(\n",
    "    features_ls8['month'].isin([10, 11, 12]),\n",
    "    features_ls8['year'] + 1, \n",
    "    features_ls8['year'])\n",
    "\n",
    "features_ls8 = features_ls8[features_ls8['year'] <= year_end]\n",
    "features_ls8.sort_values(['year', 'month'], inplace=True)\n",
    "\n",
    "\n",
    "# Sentinel\n",
    "features_sn2['year'] = np.where(\n",
    "    features_sn2['month'].isin([10, 11, 12]),\n",
    "    features_sn2['year'] + 1, \n",
    "    features_sn2['year'])\n",
    "\n",
    "features_sn2 = features_sn2[features_sn2['year'] <= year_end]\n",
    "features_sn2.sort_values(['year', 'month'], inplace=True)"
   ]
  },
  {
   "cell_type": "markdown",
   "id": "ae8dfcfe-ab72-4c6d-958e-1719870071fc",
   "metadata": {},
   "source": [
    "### Filter month range"
   ]
  },
  {
   "cell_type": "code",
   "execution_count": null,
   "id": "5b95a95c-9e78-49ff-82df-3f8d86341cab",
   "metadata": {},
   "outputs": [],
   "source": [
    "# subset the features to only the month range selected at the top of the notebook\n",
    "features_ls8 = features_ls8[features_ls8.month.isin(month_range)]\n",
    "features_sn2 = features_sn2[features_sn2.month.isin(month_range)]"
   ]
  },
  {
   "cell_type": "markdown",
   "id": "127e7106-daaf-4e3d-a324-7ed14962c701",
   "metadata": {},
   "source": [
    "### Pivot wider\n",
    "Here we pivot the data from long format to wide by indexing on 'lon', 'lat', 'year', 'month' and using the unstack function. We then map column names based on the month index and the associated features so month '01' is appended to each feature for that month making 0_01, 1_01 etc. This results in a Tidy data structure, with each row representing an image, and each column representing a feature for a certain month."
   ]
  },
  {
   "cell_type": "code",
   "execution_count": null,
   "id": "270dbbc0-5e7d-408c-a8cf-c107adcd59a8",
   "metadata": {},
   "outputs": [],
   "source": [
    "# Landsat\n",
    "features_ls8 = features_ls8.set_index(['lon','lat', \"year\", 'month']).unstack()\n",
    "features_ls8.columns = features_ls8.columns.map(lambda x: '{}_{}_ls8'.format(*x))\n",
    "\n",
    "# Sentinel\n",
    "features_sn2 = features_sn2.set_index(['lon','lat', \"year\", 'month']).unstack()\n",
    "features_sn2.columns = features_sn2.columns.map(lambda x: '{}_{}_sn2'.format(*x))"
   ]
  },
  {
   "cell_type": "code",
   "execution_count": null,
   "id": "584929ab-63a2-4777-a55e-a694c1f1bf6b",
   "metadata": {},
   "outputs": [],
   "source": [
    "features_sn2.head(50)"
   ]
  },
  {
   "cell_type": "markdown",
   "id": "91ecd8ac-bdfb-4602-b35d-6aa27681815e",
   "metadata": {},
   "source": [
    "### Join Landsat & Sentinel dataframes"
   ]
  },
  {
   "cell_type": "code",
   "execution_count": null,
   "id": "8a073431-0697-47a1-91b6-4d34ec515c26",
   "metadata": {},
   "outputs": [],
   "source": [
    "features = features_ls8.join(features_sn2, how = 'left')"
   ]
  },
  {
   "cell_type": "markdown",
   "id": "944a0256-5854-4d47-a5e7-fff2fcae2d5d",
   "metadata": {},
   "source": [
    "### Replace \"inf\" values with `NaN`\n",
    "\n",
    "Infinity values are the result of **(insert reason here)**. We replace them with `NaN` because **(insert reason here)**."
   ]
  },
  {
   "cell_type": "code",
   "execution_count": null,
   "id": "709fdd88-0e06-407a-ad08-2419f83088b4",
   "metadata": {},
   "outputs": [],
   "source": [
    "features.replace([np.inf, -np.inf], np.nan, inplace=True)\n",
    "features = features.reset_index()\n",
    "# features"
   ]
  },
  {
   "cell_type": "markdown",
   "id": "56afcf3c-eee1-4196-bb76-925b9e53b1b3",
   "metadata": {},
   "source": [
    "### Attach crop weights\n",
    "Attach weight to each point (% area cropped of surrounding 1 km^2)."
   ]
  },
  {
   "cell_type": "code",
   "execution_count": null,
   "id": "4d04ea23-e3af-462d-8ad5-c52b5ca46d00",
   "metadata": {},
   "outputs": [],
   "source": [
    "features = features.join(weights.set_index(['lon', 'lat']), on = ['lon', 'lat'])\n",
    "features = features.drop([\"geometry\"], axis = 1)\n",
    "# features"
   ]
  },
  {
   "cell_type": "markdown",
   "id": "18022877-bb66-421a-826e-c8e16d65738a",
   "metadata": {},
   "source": [
    "### Mask croppped regions\n",
    "Any 1 km^2 cell with a crop percentage > 0 will be retained.\\\n",
    "The mask will not be applied if `crop_mask` is set to `False` at the top of this notebook"
   ]
  },
  {
   "cell_type": "code",
   "execution_count": null,
   "id": "cd464bd8-ec3a-4110-b5e9-d76dd4c8bace",
   "metadata": {},
   "outputs": [],
   "source": [
    "if crop_mask:\n",
    "    features = features[features.crop_perc > 0]\n",
    "else:\n",
    "    pass\n",
    "# features"
   ]
  },
  {
   "cell_type": "markdown",
   "id": "4f1646e1-8e52-4101-86d4-304a46beb894",
   "metadata": {},
   "source": [
    "### Make \"features\" a `GeoDataFrame`\n",
    "\n",
    "The coordinate reference system is set to **EPSG 4326 - WGS 84**, the latitude/longitude coordinate system based on the Earth's center of mass, used by the Global Positioning System."
   ]
  },
  {
   "cell_type": "code",
   "execution_count": null,
   "id": "8bfa825b-f26a-4451-b1be-ca8ecf555c88",
   "metadata": {},
   "outputs": [],
   "source": [
    "features = geopandas.GeoDataFrame(\n",
    "    features, \n",
    "    geometry = geopandas.points_from_xy(x = features.lon, y = features.lat), \n",
    "    crs='EPSG:4326'\n",
    ")"
   ]
  },
  {
   "cell_type": "markdown",
   "id": "51581ea1-8426-4e49-8754-b2e0195720d9",
   "metadata": {},
   "source": [
    "### Plot any single features"
   ]
  },
  {
   "cell_type": "code",
   "execution_count": null,
   "id": "21823d91-5bbb-4d35-a515-a28d63b034eb",
   "metadata": {},
   "outputs": [],
   "source": [
    "# mn = 7\n",
    "# yr = 2017\n",
    "# sat = 'sn2' # ls8\n",
    "# feature = 854\n",
    "\n",
    "# features[features.year == yr].plot(\n",
    "#     column = f\"{feature}_{mn}_{sat}\",\n",
    "#     figsize = (10,10),\n",
    "#     marker='H',\n",
    "#     # legend = True,\n",
    "#     markersize = marker_sz,\n",
    "# )"
   ]
  },
  {
   "cell_type": "markdown",
   "id": "ebce6a5a-4687-4846-a1da-13148d175578",
   "metadata": {},
   "source": [
    "### Drop 'lat' and 'lon' columns"
   ]
  },
  {
   "cell_type": "code",
   "execution_count": null,
   "id": "735b05c8-e6f8-4025-9aa8-d005d009e116",
   "metadata": {},
   "outputs": [],
   "source": [
    "# Drop the redundant independent lon and lat columns now that they are in a geometry column\n",
    "features = features.drop(['lon', 'lat'], axis = 1)"
   ]
  },
  {
   "cell_type": "markdown",
   "id": "35b4b837-4c95-4899-b3e6-8fe5fdf7a55f",
   "metadata": {},
   "source": [
    "### Join features to country geometry"
   ]
  },
  {
   "cell_type": "code",
   "execution_count": null,
   "id": "ba4df52c-6d87-4115-b49d-10e5ae8a1170",
   "metadata": {},
   "outputs": [],
   "source": [
    "features = features.sjoin(country_shp, how = 'left', predicate = 'within')\n",
    "# features"
   ]
  },
  {
   "cell_type": "markdown",
   "id": "2c32c34e-3b68-465d-bf7c-e039adbc8411",
   "metadata": {},
   "source": [
    "### Correct column names and drop geometry"
   ]
  },
  {
   "cell_type": "code",
   "execution_count": null,
   "id": "85c95122-17fa-4f74-b4ae-4f6f52a2e051",
   "metadata": {},
   "outputs": [],
   "source": [
    "features = (\n",
    "    features\n",
    "    .dropna(subset=['index_right'])\n",
    "    .rename(columns = {\"index_right\": \"district\",})\n",
    "    .reset_index(drop = True)\n",
    ")\n",
    "points = features.copy()\n",
    "points = features[['geometry']]\n",
    "features = features.drop(['geometry'], axis = 1)\n",
    "# features"
   ]
  },
  {
   "cell_type": "markdown",
   "id": "e216d80f-4469-4243-b1b7-194f615f8dd0",
   "metadata": {},
   "source": [
    "### Impute missing values\n",
    "\n",
    "Imputing \"manually\" by descending group levels imputes NA values in multiple \"cascading\" steps, decreasing the proportion of inoutated values with each step. First, the NA values are imputed at by both `year` and `district`, which should yield imputed values that most closely match the feature values that would be present in the data if there was no clouds obscuring the satellite images. Next, the remaining NA values that could not be imputed by both `year` and `district` are imputed by only `district`. Lastly, the remaining NA vlaues that could not be imputed by both `year` and `district` or by just `district` are imputed by `year` only. This option gives the user more control and transparency over how the imputation is executed.\n",
    "\n",
    "Imputing using `scikit learn`'s simple imputer executes standard imputation, the details of which can be found in the `scikitlearn` documentation [here.](https://scikit-learn.org/stable/modules/generated/sklearn.impute.SimpleImputer.html)\n",
    "\n",
    "The imputation approach depends on the selection made at the top of this notebook for `impute_manual`."
   ]
  },
  {
   "cell_type": "code",
   "execution_count": null,
   "id": "5651517a-072a-4cfe-99f7-2aa823016df8",
   "metadata": {},
   "outputs": [],
   "source": [
    "# compute the number of cells in the features dataframe, based on the amount of rows (images), months, and feature columns\n",
    "num_cells = len(features) * len(month_range) * num_features\n",
    "num_cells"
   ]
  },
  {
   "cell_type": "code",
   "execution_count": null,
   "id": "7125edf2-c153-4ca9-af3c-c70e0a14dc79",
   "metadata": {},
   "outputs": [],
   "source": [
    "%%time\n",
    "if impute_manual:\n",
    "    print(f'Starting with\\n{(features.isna().sum().sum() / num_cells)*100:.02f} % NA Values')\n",
    "    features = (\n",
    "        features\n",
    "        .fillna(features\n",
    "                .groupby(['year', 'district'], as_index=False)\n",
    "                .transform('mean')\n",
    "               )\n",
    "    )\n",
    "    print(f'\\nFilling NA values with year district group average\\n{(features.isna().sum().sum() / num_cells)*100:.02f} % NA Values')\n",
    "    features = (\n",
    "        features\n",
    "        .fillna(features\n",
    "                .groupby(['district'], as_index=False)\n",
    "                .transform('mean')\n",
    "               )\n",
    "    )\n",
    "    print(f'\\nRemaining NA values\\n{(features.isna().sum().sum() / num_cells)*100:.02f} % NA Values')\n",
    "else:\n",
    "    features = features.set_index(['year', 'district'])\n",
    "    imputer = SimpleImputer(missing_values=np.nan, strategy='mean')\n",
    "    imputer.fit_transform(features)\n",
    "    features[:] = imputer.transform(features)\n",
    "    features = features.reset_index()"
   ]
  },
  {
   "cell_type": "code",
   "execution_count": null,
   "id": "cdb7c4e8-145d-4cdc-8970-21bacc66a54c",
   "metadata": {},
   "outputs": [],
   "source": [
    "features.dropna(axis=1)"
   ]
  },
  {
   "cell_type": "markdown",
   "id": "70277e93-c38d-48e0-ad51-be86afdb812e",
   "metadata": {},
   "source": [
    "### Summarise to administrative boundary level\n",
    "Weighted by cropped area, or simple mean, depending on the selection at the top of this notebook for `weighted_avg`. "
   ]
  },
  {
   "cell_type": "code",
   "execution_count": null,
   "id": "0abfbaca-cf01-46f5-8513-cd57f80644fc",
   "metadata": {},
   "outputs": [],
   "source": [
    "var_cols = features.columns[1:-2].values.tolist()\n",
    "features.columns[1:-2]"
   ]
  },
  {
   "cell_type": "code",
   "execution_count": null,
   "id": "8bb36304-ee68-43ad-9fb8-bbfc5d567542",
   "metadata": {},
   "outputs": [],
   "source": [
    "%%time\n",
    "if weighted_avg:\n",
    "    features_summary = (\n",
    "        features\n",
    "        .groupby(['year', 'district'], as_index=False)\n",
    "        .apply(lambda x: pd.Series([sum(x[v] * x.crop_perc) / sum(x.crop_perc) for v in var_cols]))\n",
    "    )\n",
    "else:\n",
    "    features_summary = features.groupby(['district',\"year\"], as_index = False).mean()\n",
    "# features_summary"
   ]
  },
  {
   "cell_type": "markdown",
   "id": "87fb76ed-e2cb-4b54-a9a9-baa9793b0451",
   "metadata": {},
   "source": [
    "### Join crop data"
   ]
  },
  {
   "cell_type": "code",
   "execution_count": null,
   "id": "1ea38720-4c89-4e71-b10b-14212a27c620",
   "metadata": {},
   "outputs": [],
   "source": [
    "crop_df_x = crop_df[crop_df.year >= sn2_year_start + 1]\n",
    "crop_df_x = crop_df_x[~crop_df_x.index.isin(['Mafinga', 'Ikelenge'])]\n",
    "crop_df_x.reset_index(inplace=True)\n",
    "crop_df_x.head()"
   ]
  },
  {
   "cell_type": "code",
   "execution_count": null,
   "id": "13d906c5-54bd-4ead-84d6-092c760c7d44",
   "metadata": {},
   "outputs": [],
   "source": [
    "features_summary = (\n",
    "    features_summary\n",
    "    .set_index([\"district\", \"year\"])\n",
    "    .join(other = crop_df_x.set_index([\"district\", \"year\"]))\n",
    "    .reset_index())\n",
    "#features_summary"
   ]
  },
  {
   "cell_type": "markdown",
   "id": "98386d90-dda2-46a7-9ef1-bd683cf8594a",
   "metadata": {},
   "source": [
    "## Model"
   ]
  },
  {
   "cell_type": "code",
   "execution_count": null,
   "id": "b5ee063b-0656-4035-af63-f926931a27a6",
   "metadata": {},
   "outputs": [],
   "source": [
    "model_year = features_summary[features_summary.year.isin([\n",
    "   2016,\n",
    "   2017,\n",
    "   2018,\n",
    "])]"
   ]
  },
  {
   "cell_type": "markdown",
   "id": "0c5862f3-a5ff-46c9-9410-f6c7225bf28b",
   "metadata": {},
   "source": [
    "### Define `x's` and `y's`"
   ]
  },
  {
   "cell_type": "code",
   "execution_count": null,
   "id": "2d268d2f-496b-40dd-9073-8921ff11a417",
   "metadata": {},
   "outputs": [],
   "source": [
    "x_all = model_year.drop([\n",
    "    'district', \n",
    "    'year', \n",
    "    'yield_mt',\n",
    "    \"crop_perc\"\n",
    "], axis = 1)\n",
    "\n",
    "# y_all = features_summary.yield_mt\n",
    "y_all = np.log10(model_year.yield_mt.to_numpy() + 1)"
   ]
  },
  {
   "cell_type": "code",
   "execution_count": null,
   "id": "cf1692ea-8b36-470f-897f-57f0ca480ae0",
   "metadata": {},
   "outputs": [],
   "source": [
    "len(x_all)"
   ]
  },
  {
   "cell_type": "code",
   "execution_count": null,
   "id": "12d4c2ce-fdd1-4146-8d7a-827031b4807c",
   "metadata": {},
   "outputs": [],
   "source": [
    "len(y_all)"
   ]
  },
  {
   "cell_type": "markdown",
   "id": "f9f88a86-21bd-44c2-8b06-350a21fec93f",
   "metadata": {},
   "source": [
    "### Standardize Features\n",
    "We will use the default configuration and scale values to subtract the mean to center them on 0.0 and divide by the standard deviation to give the standard deviation of 1.0. First, a StandardScaler instance is defined with default hyperparameters."
   ]
  },
  {
   "cell_type": "code",
   "execution_count": null,
   "id": "56d4a1c2-0351-4ab0-ac68-997a25e87014",
   "metadata": {},
   "outputs": [],
   "source": [
    "scalar = StandardScaler().fit_transform(x_all)\n",
    "x_all = pd.DataFrame(scalar)\n",
    "#x_all[3].hist()\n",
    "\n",
    "y_all = StandardScaler().fit_transform(pd.DataFrame(y_all))\n",
    "#y_all.hist()"
   ]
  },
  {
   "cell_type": "markdown",
   "id": "6b7d6e1c-6abd-446e-b1df-c810562fb750",
   "metadata": {},
   "source": [
    "### Split into train and test sets"
   ]
  },
  {
   "cell_type": "code",
   "execution_count": null,
   "id": "cb372eb0-f7df-4ef1-8b1c-2c409b5c317b",
   "metadata": {},
   "outputs": [],
   "source": [
    "x_train, x_test, y_train, y_test = train_test_split(\n",
    "    x_all, y_all, test_size=0.2, random_state=0\n",
    ")"
   ]
  },
  {
   "cell_type": "code",
   "execution_count": null,
   "id": "c7d6c407-6a39-4abe-8707-eaf0140a8704",
   "metadata": {},
   "outputs": [],
   "source": [
    "print(\"Total N: \", len(x_all), \"\\n\", \n",
    "      \"Train N: \", len(x_train), \"\\n\",\n",
    "      \"Test  N: \", len(x_test), sep = \"\")"
   ]
  },
  {
   "cell_type": "code",
   "execution_count": null,
   "id": "952f80aa-89c8-4ee6-a0ce-850aab2a96b4",
   "metadata": {},
   "outputs": [],
   "source": [
    "x_all.isna().sum()"
   ]
  },
  {
   "cell_type": "code",
   "execution_count": null,
   "id": "990fe8d6-3e2e-4542-a1f6-e56a7879d4b2",
   "metadata": {},
   "outputs": [],
   "source": [
    "x_all.head()"
   ]
  },
  {
   "cell_type": "markdown",
   "id": "ad58e653-e926-4267-8518-5a4ec992e4b1",
   "metadata": {},
   "source": [
    "### Train model\n",
    "Now that our data has been standardized, we can use the same penalazation fac"
   ]
  },
  {
   "cell_type": "code",
   "execution_count": null,
   "id": "62b3333e-ed9f-4432-ae8e-8f76f70e1f87",
   "metadata": {},
   "outputs": [],
   "source": [
    "# ridge_cv_random = RidgeCV(cv=5, alphas=np.logspace(-8, 8, base=10, num=17))\n",
    "# ridge_cv_random.fit(x_train, y_train)"
   ]
  },
  {
   "cell_type": "markdown",
   "id": "3f0ec4e7-0716-49cd-9dac-7e2cc0cf1c9a",
   "metadata": {},
   "source": [
    "### Validation set $R^2$ performance"
   ]
  },
  {
   "cell_type": "code",
   "execution_count": null,
   "id": "d7e41784-8331-4141-9060-7734169b693b",
   "metadata": {},
   "outputs": [],
   "source": [
    "print(f\"Validation R2 performance {ridge_cv_random.best_score_:0.2f}\")"
   ]
  },
  {
   "cell_type": "code",
   "execution_count": null,
   "id": "03410507-2811-42e8-b1a3-4b31df6f9116",
   "metadata": {},
   "outputs": [],
   "source": []
  },
  {
   "cell_type": "code",
   "execution_count": null,
   "id": "da4d3da6-493f-4862-9540-c9dd86451572",
   "metadata": {},
   "outputs": [],
   "source": []
  },
  {
   "cell_type": "code",
   "execution_count": null,
   "id": "e5a0ae46-4d96-43d2-bb2f-78506704719e",
   "metadata": {},
   "outputs": [],
   "source": []
  },
  {
   "cell_type": "code",
   "execution_count": null,
   "id": "76a6229d-c411-491d-8856-1ff277a7b858",
   "metadata": {},
   "outputs": [],
   "source": []
  },
  {
   "cell_type": "markdown",
   "id": "93eb3ed0-d462-4f1c-8290-58d52b3d10f2",
   "metadata": {},
   "source": [
    "### Save copy of completed data "
   ]
  },
  {
   "cell_type": "code",
   "execution_count": null,
   "id": "f2c4337d-69a8-423c-bf1e-48a254a233c5",
   "metadata": {},
   "outputs": [],
   "source": [
    "features_copy = features.copy()\n",
    "features_copy['geometry'] = points.geometry"
   ]
  },
  {
   "cell_type": "code",
   "execution_count": null,
   "id": "ca803de6-8616-4fb5-a153-1e946ff0c997",
   "metadata": {},
   "outputs": [],
   "source": []
  },
  {
   "cell_type": "markdown",
   "id": "b966eafa-6bd7-4a29-b101-bcbf12507e95",
   "metadata": {},
   "source": [
    "## Save output"
   ]
  },
  {
   "cell_type": "code",
   "execution_count": null,
   "id": "a6dd9365-9225-45e0-892c-f73ac1e2c34b",
   "metadata": {},
   "outputs": [],
   "source": [
    "features.to_feather(f'{ls8_satellite}_{sn2_satellite}_\"combined\".feather')"
   ]
  },
  {
   "cell_type": "code",
   "execution_count": null,
   "id": "af32655c-3ae5-45fc-9907-52f3338a950d",
   "metadata": {},
   "outputs": [],
   "source": []
  },
  {
   "cell_type": "code",
   "execution_count": null,
   "id": "bc798bf4-cfdb-4abd-a2bf-7271c4aef40e",
   "metadata": {},
   "outputs": [],
   "source": []
  },
  {
   "cell_type": "code",
   "execution_count": null,
   "id": "c65c731f-e218-4c56-bad8-6baab1c28249",
   "metadata": {},
   "outputs": [],
   "source": []
  },
  {
   "cell_type": "code",
   "execution_count": null,
   "id": "7a651b2e-c0e2-4179-93b1-4ca30d6832ac",
   "metadata": {},
   "outputs": [],
   "source": []
  }
 ],
 "metadata": {
  "kernelspec": {
   "display_name": "Python 3 (ipykernel)",
   "language": "python",
   "name": "python3"
  },
  "language_info": {
   "codemirror_mode": {
    "name": "ipython",
    "version": 3
   },
   "file_extension": ".py",
   "mimetype": "text/x-python",
   "name": "python",
   "nbconvert_exporter": "python",
   "pygments_lexer": "ipython3",
   "version": "3.7.7"
  }
 },
 "nbformat": 4,
 "nbformat_minor": 5
}
