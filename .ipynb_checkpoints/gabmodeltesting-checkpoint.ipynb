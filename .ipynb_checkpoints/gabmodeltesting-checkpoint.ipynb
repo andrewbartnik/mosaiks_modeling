{
 "cells": [
  {
   "cell_type": "markdown",
   "id": "0fe56655",
   "metadata": {},
   "source": [
    "# Modeling Agricultural Variables\n",
    "## Python modules"
   ]
  },
  {
   "cell_type": "code",
   "execution_count": 59,
   "id": "5b4f19f5",
   "metadata": {
    "tags": []
   },
   "outputs": [],
   "source": [
    "import warnings\n",
    "import time\n",
    "import os\n",
    "import random\n",
    "\n",
    "import dask\n",
    "from dask.distributed import Client\n",
    "\n",
    "import numpy as np\n",
    "import pandas as pd\n",
    "import matplotlib.pyplot as plt\n",
    "import matplotlib.pyplot as plt\n",
    "import matplotlib.colors as colors\n",
    "from joblib import Parallel, delayed\n",
    "\n",
    "import geopandas as gpd\n",
    "import pyarrow\n",
    "\n",
    "from sklearn.linear_model import RidgeCV\n",
    "from sklearn.model_selection import train_test_split, ShuffleSplit\n",
    "from sklearn.metrics import mean_squared_error, confusion_matrix, r2_score, roc_auc_score\n",
    "from sklearn.impute import SimpleImputer\n",
    "from sklearn.pipeline import Pipeline\n",
    "from sklearn.ensemble import BaggingRegressor\n",
    "from sklearn.preprocessing import StandardScaler\n",
    "from scipy.stats import spearmanr\n",
    "from scipy.linalg import LinAlgWarning\n",
    "from scipy.stats import pearsonr\n",
    "from sklearn.utils import check_random_state, resample\n",
    "\n",
    "import math\n",
    "import seaborn as sns"
   ]
  },
  {
   "cell_type": "markdown",
   "id": "08f0591f-583f-4945-b1d2-0323ae715531",
   "metadata": {},
   "source": [
    "## Read in Data\n",
    "\n",
    "We first read in the aggregated features and ground-truth data joined in  feature_preprocessing.ipynb "
   ]
  },
  {
   "cell_type": "code",
   "execution_count": 60,
   "id": "3f593b6f-5740-41de-b785-3a4555428899",
   "metadata": {
    "tags": []
   },
   "outputs": [],
   "source": [
    "grouped_features = pd.read_csv(\"/capstone/mosaiks/repos/preprocessing/data/features_join_imputed.csv\")"
   ]
  },
  {
   "cell_type": "code",
   "execution_count": 61,
   "id": "dbe3e8ca-f209-4c76-a209-1c49d83c81a6",
   "metadata": {
    "tags": []
   },
   "outputs": [
    {
     "data": {
      "text/html": [
       "<div>\n",
       "<style scoped>\n",
       "    .dataframe tbody tr th:only-of-type {\n",
       "        vertical-align: middle;\n",
       "    }\n",
       "\n",
       "    .dataframe tbody tr th {\n",
       "        vertical-align: top;\n",
       "    }\n",
       "\n",
       "    .dataframe thead th {\n",
       "        text-align: right;\n",
       "    }\n",
       "</style>\n",
       "<table border=\"1\" class=\"dataframe\">\n",
       "  <thead>\n",
       "    <tr style=\"text-align: right;\">\n",
       "      <th></th>\n",
       "      <th>year</th>\n",
       "      <th>sea_unq</th>\n",
       "      <th>index_left</th>\n",
       "      <th>lon</th>\n",
       "      <th>lat</th>\n",
       "    </tr>\n",
       "  </thead>\n",
       "  <tbody>\n",
       "    <tr>\n",
       "      <th>0</th>\n",
       "      <td>2016.0</td>\n",
       "      <td>1</td>\n",
       "      <td>46302.000000</td>\n",
       "      <td>27.807993</td>\n",
       "      <td>-13.659357</td>\n",
       "    </tr>\n",
       "    <tr>\n",
       "      <th>1</th>\n",
       "      <td>2016.0</td>\n",
       "      <td>7</td>\n",
       "      <td>51611.666667</td>\n",
       "      <td>28.634660</td>\n",
       "      <td>-13.772690</td>\n",
       "    </tr>\n",
       "    <tr>\n",
       "      <th>2</th>\n",
       "      <td>2016.0</td>\n",
       "      <td>9</td>\n",
       "      <td>44806.714286</td>\n",
       "      <td>27.406446</td>\n",
       "      <td>-12.905428</td>\n",
       "    </tr>\n",
       "    <tr>\n",
       "      <th>3</th>\n",
       "      <td>2016.0</td>\n",
       "      <td>10</td>\n",
       "      <td>44644.411765</td>\n",
       "      <td>27.381719</td>\n",
       "      <td>-12.962298</td>\n",
       "    </tr>\n",
       "    <tr>\n",
       "      <th>4</th>\n",
       "      <td>2016.0</td>\n",
       "      <td>12</td>\n",
       "      <td>47769.000000</td>\n",
       "      <td>28.014660</td>\n",
       "      <td>-12.889357</td>\n",
       "    </tr>\n",
       "  </tbody>\n",
       "</table>\n",
       "</div>"
      ],
      "text/plain": [
       "     year  sea_unq    index_left        lon        lat\n",
       "0  2016.0        1  46302.000000  27.807993 -13.659357\n",
       "1  2016.0        7  51611.666667  28.634660 -13.772690\n",
       "2  2016.0        9  44806.714286  27.406446 -12.905428\n",
       "3  2016.0       10  44644.411765  27.381719 -12.962298\n",
       "4  2016.0       12  47769.000000  28.014660 -12.889357"
      ]
     },
     "execution_count": 61,
     "metadata": {},
     "output_type": "execute_result"
    }
   ],
   "source": [
    "features = grouped_features.iloc[:,5:12005]\n",
    "identifiers = grouped_features.iloc[:,0:5]\n",
    "identifiers.head()"
   ]
  },
  {
   "cell_type": "code",
   "execution_count": 62,
   "id": "e0640f9c-6682-4d85-866c-f7d2be3135cb",
   "metadata": {
    "tags": []
   },
   "outputs": [
    {
     "name": "stdout",
     "output_type": "stream",
     "text": [
      "Index(['total_area_harv_ha', 'total_area_lost_ha', 'total_harv_kg',\n",
      "       'yield_kgha', 'frac_area_harv', 'frac_area_loss', 'area_lost_fire',\n",
      "       'maize', 'groundnuts', 'mixed_beans', 'popcorn', 'sorghum', 'soybeans',\n",
      "       'sweet_potatoes', 'bunding', 'monocrop', 'mixture', 'frac_loss_drought',\n",
      "       'frac_loss_flood', 'frac_loss_animal', 'frac_loss_pests',\n",
      "       'frac_loss_soil', 'frac_loss_fert', 'prop_till_plough',\n",
      "       'prop_till_ridge', 'prop_notill', 'prop_hand', 'prop_mono', 'prop_mix',\n",
      "       'log_maize', 'log_sweetpotatoes', 'log_groundnuts', 'log_soybeans',\n",
      "       'loss_ind', 'drought_loss_ind', 'flood_loss_ind', 'animal_loss_ind',\n",
      "       'pest_loss_ind'],\n",
      "      dtype='object')\n"
     ]
    }
   ],
   "source": [
    "outcomes = grouped_features.iloc[:,12006:]\n",
    "\n",
    "outcomes[\"loss_ind\"].astype('category')\n",
    "outcomes[\"drought_loss_ind\"].astype('category')\n",
    "outcomes['pest_loss_ind'].astype('category')\n",
    "outcomes['animal_loss_ind'].astype('category')\n",
    "outcomes['flood_loss_ind'].astype('category')\n",
    "outcomes.head()\n",
    "\n",
    "print(outcomes.columns)"
   ]
  },
  {
   "cell_type": "markdown",
   "id": "85e3288b",
   "metadata": {
    "tags": []
   },
   "source": [
    "## Model\n",
    "\n",
    "We define a model to predict each of our outcome variables on our features for each SEA/year. The `train_and_evaluate_models` function trains and evaluates Ridge Linear Regression models for each target variable specified in the `target_columns` parameter. It handles both categorical and continuous target variables and provides the option to block sample on specific SEAs (Survey Enumeration Areas) by providing the SEA IDs to hold out for the validation set.\n",
    "\n",
    "The function works as follows:\n",
    "\n",
    "1. Read the grouped features and outcomes from a CSV file.\n",
    "2. Define a helper function `block_sampling` to perform block sampling based on the provided SEA IDs.\n",
    "3. For each target variable in `target_columns`, select the corresponding target variable data.\n",
    "4. If `block_sea_ids` is provided and not empty, perform block sampling using the `block_sampling` helper function. Otherwise, use `train_test_split` to split the data into training and testing sets.\n",
    "5. Train a Ridge Linear Regression model using RidgeCV with 5-fold cross-validation and a range of alpha values.\n",
    "6. If the target variable is categorical, calculate and print the false positive rate and AUC-ROC. If the target variable is continuous, calculate and print the estimated regularization parameter, training R2 performance, validation R2 performance, and Pearson's correlation coefficient."
   ]
  },
  {
   "cell_type": "markdown",
   "id": "db4870dc-25d2-4eab-8bae-f752633f0150",
   "metadata": {},
   "source": [
    "### Helper Function for Confusion Matrix for Categorical Variables\n",
    "`calculate_confusion_matrix`:\n",
    "This function calculates the confusion matrix for binary classification problems based on the given true labels (`y_true`), predicted values (`y_pred`), and a decision boundary (`decision_boundary`). The decision boundary is used to threshold the predicted values to obtain binary predictions.\n",
    "\n",
    "Inputs:\n",
    "\n",
    "`y_true`: The true labels of the target variable (a pandas Series or numpy array).\n",
    "\n",
    "`y_pred`: The predicted values of the target variable (a numpy array).\n",
    "\n",
    "`decision_boundary`: A float value that serves as the threshold for classifying the predicted values into two classes (0 or 1).\n",
    "\n",
    "\n",
    "The function performs the following steps:\n",
    "1. It adjusts the predicted values by setting them to 1 if they are greater than or equal to the decision boundary, and 0 otherwise.\n",
    "2. It calculates the confusion matrix using the true labels and adjusted predicted values.\n",
    "3. Depending on the shape of the confusion matrix, it extracts the true negatives (tn), false positives (fp), false negatives (fn), and true positives (tp).\n",
    "4. If the shape of the confusion matrix is not (1, 1) or (2, 2), it raises an error.\n",
    "\n",
    "Output: The function returns the values of tn, fp, fn, and tp."
   ]
  },
  {
   "cell_type": "code",
   "execution_count": 63,
   "id": "e5ac3bf3-e040-420d-8290-7c1aa96c7f4f",
   "metadata": {
    "tags": []
   },
   "outputs": [],
   "source": [
    "def calculate_confusion_matrix(y_true, y_pred, decision_boundary):\n",
    "    y_pred_adj = np.where(y_pred >= decision_boundary, 1, 0)\n",
    "    cm = confusion_matrix(y_true, y_pred_adj)\n",
    "    if cm.shape == (1, 1):\n",
    "        if y_true.iloc[0] == 0:\n",
    "            tn, fp, fn, tp = cm[0, 0], 0, 0, 0\n",
    "        else:\n",
    "            tn, fp, fn, tp = 0, 0, 0, cm[0, 0]\n",
    "    elif cm.shape == (2, 2):\n",
    "        tn, fp, fn, tp = cm.ravel()\n",
    "    else:\n",
    "        print(\"Unexpected confusion matrix:\")\n",
    "        print(cm)\n",
    "        raise ValueError('Unexpected confusion matrix shape.')\n",
    "    return tn, fp, fn, tp"
   ]
  },
  {
   "cell_type": "markdown",
   "id": "b404d188-5f43-4ebb-a248-23fb763ebe6a",
   "metadata": {},
   "source": [
    "### Helper Function for Block Sampling on SEAs\n",
    "\n",
    "This function randomly selects a specified number of unique SEA IDs from the `grouped_features` DataFrame.\n",
    "\n",
    "Inputs:\n",
    "\n",
    "1. n: The number of unique SEA IDs to select.\n",
    "\n",
    "2. `grouped_features`: A DataFrame containing the feature data with a column '`sea_unq`' that stores the unique SEA IDs.\n",
    "\n",
    "The function performs the following steps:\n",
    "\n",
    "1. It extracts the unique SEA IDs from the '`sea_unq`' column of the `grouped_features` DataFrame.\n",
    "\n",
    "2. It randomly selects n SEA IDs from the unique SEA IDs without replacement.\n",
    "\n",
    "Output: The function returns a numpy array of the randomly selected SEA IDs.\n",
    "\n",
    "These helper functions are used in the main model as follows:\n",
    "\n",
    "`calculate_confusion_matrix` is used to calculate the confusion matrix for the categorical target variables. It is called in the `train_and_evaluate_models` function to compute the false positive rate and AUC-ROC for different decision boundaries.\n",
    "\n",
    "`randomly_select_seas` is not used in the current implementation of the main model. However, it can be used to randomly select SEA IDs if you want to implement a custom sampling strategy."
   ]
  },
  {
   "cell_type": "code",
   "execution_count": 64,
   "id": "2f762185-2e35-48c4-b203-cd5b5c7cd7c0",
   "metadata": {
    "tags": []
   },
   "outputs": [],
   "source": [
    "def randomly_select_seas(n, grouped_features):\n",
    "    unique_seas = grouped_features['sea_unq'].unique()\n",
    "    selected_seas = np.random.choice(unique_seas, n, replace=False)\n",
    "    return selected_seas"
   ]
  },
  {
   "cell_type": "markdown",
   "id": "ee0f34a8-0a0a-471f-9aba-b44699b0cb4d",
   "metadata": {},
   "source": [
    "## Cross-Validator Custom Class\n",
    "\n",
    "This custom cross-validator class, BlockSamplingCV, inherits from the BaseCrossValidator class in scikit-learn. It is designed to perform block sampling for cross-validation, holding out specific groups of observations (in this case, SEA IDs) during each split. This ensures that all observations with the same SEA ID are either in the training set or the test set, but not both.\n",
    "\n",
    "Here's a detailed explanation of the class:\n",
    "\n",
    "__init__(self, n_splits=5, n_seas_to_hold_out=10, sea_ids=None, random_state=None):\n",
    "The constructor takes the following arguments:\n",
    "\n",
    "n_splits: The number of cross-validation splits (default is 5).\n",
    "n_seas_to_hold_out: The number of SEAs to hold out in each cross-validation split (default is 10).\n",
    "sea_ids: A list or array of SEA IDs corresponding to the rows of the dataset (default is None).\n",
    "random_state: An integer seed or a RandomState instance for reproducible results (default is None).\n",
    "The constructor initializes the class with these arguments.\n",
    "\n",
    "_iter_test_indices(self, X=None, y=None, groups=None):\n",
    "This method generates test indices for each cross-validation split. It takes the following optional arguments:\n",
    "\n",
    "X: Feature matrix (not used in this method but included for compatibility with scikit-learn).\n",
    "y: Target variable (not used in this method but included for compatibility with scikit-learn).\n",
    "groups: Group labels for the samples used to ensure that each group is either entirely in the training or test set (not used in this method but included for compatibility with scikit-learn).\n",
    "The method performs the following steps:\n",
    "\n",
    "a. It calculates the total number of samples and extracts the unique SEA IDs from the sea_ids attribute.\n",
    "b. It initializes a random number generator with the specified random_state.\n",
    "c. For each split, it randomly selects a set of n_seas_to_hold_out SEA IDs without replacement.\n",
    "d. It finds the indices of the observations with the selected SEA IDs and yields them as test indices for the current split.\n",
    "\n",
    "The BlockSamplingCV class is designed to perform cross-validation with block sampling, where groups of observations (in this case, SEA IDs) are held out together during each split. This is useful because it ensures that all observations with the same SEA ID are either in the training set or the test set, but not both. This can help prevent leakage of information between the training and test sets when observations with the same SEA ID are strongly correlated."
   ]
  },
  {
   "cell_type": "code",
   "execution_count": 65,
   "id": "0ae68cdc-b4f5-4ba6-88bb-fe34d73965e6",
   "metadata": {
    "tags": []
   },
   "outputs": [],
   "source": [
    "def get_train_val_test_indices(sea_ids, n_seas_to_hold_out_for_val, n_seas_to_hold_out_for_test, random_state):\n",
    "    unique_seas = np.unique(sea_ids)\n",
    "    np.random.seed(random_state)\n",
    "    np.random.shuffle(unique_seas)\n",
    "\n",
    "    # Hold out some SEAs for testing\n",
    "    test_seas = unique_seas[:n_seas_to_hold_out_for_test]\n",
    "    remaining_seas = unique_seas[n_seas_to_hold_out_for_test:]\n",
    "\n",
    "    # Hold out some SEAs for validation\n",
    "    val_seas = remaining_seas[:n_seas_to_hold_out_for_val]\n",
    "    train_seas = remaining_seas[n_seas_to_hold_out_for_val:]\n",
    "\n",
    "    # Convert boolean indices to integer indices\n",
    "    train_indices = np.where(sea_ids.isin(train_seas))[0]\n",
    "    val_indices = np.where(sea_ids.isin(val_seas))[0]\n",
    "    test_indices = np.where(sea_ids.isin(test_seas))[0]\n",
    "\n",
    "    return train_indices, val_indices, test_indices, train_seas, val_seas, test_seas\n"
   ]
  },
  {
   "cell_type": "code",
   "execution_count": 68,
   "id": "103c6d0b-6ef4-45cf-a477-748618b6d4d7",
   "metadata": {
    "tags": []
   },
   "outputs": [],
   "source": [
    "# Prepare the arguments as a dictionary\n",
    "args = {\n",
    "    'target_columns': ['yield_kgha', 'prop_till_plough', 'log_maize'],\n",
    "    'test_size': 0.1,\n",
    "    'categorical_columns':['loss_ind','drought_loss_ind', 'flood_loss_ind','animal_loss_ind','pest_loss_ind'],\n",
    "    'decision_boundaries': [0.3,0.5,0.7],\n",
    "    'sea_ids': grouped_features['sea_unq'],\n",
    "    'validation_size' : 0.1,\n",
    "    'bootstrap' : False,\n",
    "    'n_bootstraps': None,\n",
    "    'block_sample': False,\n",
    "    'n_seas_held_out_val': None,\n",
    "    'n_seas_held_out_test': None,\n",
    "    'random_state': 50\n",
    "}"
   ]
  },
  {
   "cell_type": "code",
   "execution_count": 69,
   "id": "d5ea5f2c",
   "metadata": {
    "tags": []
   },
   "outputs": [],
   "source": [
    "def train_and_evaluate_models(args):\n",
    "    target_columns = args['target_columns']\n",
    "    test_size = args.get('test_size', 0.1)\n",
    "    categorical_columns = args['categorical_columns']\n",
    "    decision_boundaries = args['decision_boundaries']\n",
    "    sea_ids = args['sea_ids']\n",
    "    validation_size = args.get('validation_size', 0.1)\n",
    "    bootstrap = args.get('bootstrap', False)\n",
    "    n_bootstraps = args.get('n_bootstraps', 0)\n",
    "    block_sample = args.get('block_sample', False)\n",
    "    random_state = args.get('random_state', False)\n",
    "    n_seas_held_out_val = args.get('n_seas_held_out_val', 30)\n",
    "    n_seas_held_out_test = args.get('n_seas_held_out_test', 10)\n",
    "    \n",
    "    \n",
    "    grouped_features = pd.read_csv(\"/capstone/mosaiks/repos/preprocessing/data/features_join_imputed.csv\")\n",
    "\n",
    "    lon = grouped_features.iloc[:,3]\n",
    "    lat = grouped_features.iloc[:,4]\n",
    "    year = grouped_features.iloc[:, 0]\n",
    "    features = grouped_features.iloc[:, 5:12005]\n",
    "    outcomes = grouped_features.iloc[:, 12006:]\n",
    "    \n",
    "\n",
    "    # Initialize an empty DataFrame to store the predictions\n",
    "    train_predictions_df = pd.DataFrame()\n",
    "    val_predictions_df = pd.DataFrame()\n",
    "    # Initialize an empty DataFrame to store the metrics\n",
    "    metrics_df = pd.DataFrame(columns=['target_column', 'train_score', 'val_score', 'pearson_coeff'])\n",
    "    # Initialize an empty DataFrame to store groundtruth\n",
    "    train_groundtruth_df = pd.DataFrame()\n",
    "    val_groundtruth_df = pd.DataFrame()\n",
    "    models = {}\n",
    "    \n",
    "    \n",
    "    print(f\"\\nRunning model with the following parameters:\")\n",
    "    print(f\"Target columns: {target_columns}\")\n",
    "    print(f\"Test size: {test_size}\", f\"Validation size: {validation_size}\")\n",
    "    print(f\"Bootstrap: {bootstrap}\")\n",
    "    print(f\"Random State: {random_state}\")\n",
    "    if bootstrap:\n",
    "        print(f\"Number of bootstrapped samples: {n_bootstraps}\")\n",
    "    print(f\"Block sample: {block_sample}\\n\")\n",
    "    # If block_sample is True, then use block sampling\n",
    "    if block_sample:\n",
    "        # Get train, validation and test indices\n",
    "        train_indices, val_indices, test_indices, train_seas, val_seas, test_seas = get_train_val_test_indices(sea_ids, n_seas_to_hold_out_for_val=n_seas_held_out_val, n_seas_to_hold_out_for_test=n_seas_held_out_test, random_state=random_state)\n",
    "        print(f\"Number of seas held out for validation: {n_seas_held_out_val}\\n\")\n",
    "        print(f\"Training SEAs: {train_seas}\")\n",
    "        print(f\"Validation SEAs: {val_seas}\")\n",
    "        print(f\"Testing SEAs: {test_seas}\")\n",
    "        \n",
    "\n",
    "    for target_column in target_columns:\n",
    "        # If block_sample is True, then use block sampling\n",
    "        if block_sample:\n",
    "            # Use the already obtained train_indices, val_indices, and test_indices\n",
    "            # Create train, validation and test sets using the indices\n",
    "            X_train, X_val, X_test = features.iloc[train_indices], features.iloc[val_indices], features.iloc[test_indices]\n",
    "            y_train, y_val, y_test = outcomes[target_column].iloc[train_indices], outcomes[target_column].iloc[val_indices], outcomes[target_column].iloc[test_indices]\n",
    "\n",
    "            X_train, X_val, X_test = X_train.iloc[:, 5:], X_val.iloc[:, 5:], X_test.iloc[:, 5:]\n",
    "            \n",
    "            val_groundtruth_df[target_column] = y_val\n",
    "            train_groundtruth_df[target_column] = y_train\n",
    "        \n",
    "        \n",
    "        elif bootstrap:\n",
    "            # Split the data into training and test sets\n",
    "            X_train, X_test, y_train, y_test = train_test_split(features, outcomes[target_column], test_size=test_size, random_state = random_state)\n",
    "        \n",
    "        else:\n",
    "            X_train, X_test, y_train, y_test = train_test_split(features, outcomes[target_column], test_size=test_size, random_state = random_state)\n",
    "            # Split the training data again to create a validation set\n",
    "            X_train, X_val, y_train, y_val = train_test_split(X_train, y_train, test_size=validation_size, random_state = random_state)\n",
    "            \n",
    "            val_groundtruth_df[target_column] = y_val\n",
    "            train_groundtruth_df[target_column] = y_train\n",
    "            \n",
    "            sea_ids_val = [X_val.index]\n",
    "            sea_ids_train = [X_train.index]\n",
    "\n",
    "#         sea_ids_train = sea_ids[X_train.index]  # Update the sea_ids for the training set\n",
    "#         sea_ids_test = sea_ids[X_test.index]  \n",
    "        \n",
    "        if bootstrap:\n",
    "            # Define function for each bootstrap iteration\n",
    "            def bootstrap_iteration(i):\n",
    "                for i in range(n_bootstraps):\n",
    "                    rs = i\n",
    "                    # Set the random seed for reproducibility\n",
    "                    rng = np.random.default_rng(rs)\n",
    "                    # Create a bootstrapped training dataset\n",
    "                    indices = rng.choice(len(X_train), size=len(X_train), replace=True)\n",
    "                    X_train_bootstrap = X_train.iloc[indices]\n",
    "                    y_train_bootstrap = y_train.iloc[indices]\n",
    "                    X_train_bootstrap, X_val_bootstrap, y_train_bootstrap, y_val_bootstrap = train_test_split(X_train_bootstrap, y_train_bootstrap, test_size=validation_size, random_state=random_state)\n",
    "                    \n",
    "                    column_name = f\"{target_column}_{i}\"\n",
    "                    val_groundtruth_df[column_name] = y_val_bootstrap\n",
    "                    train_groundtruth_df[column_name] = y_train_bootstrap\n",
    "                \n",
    "                    # Fit the model to the bootstrapped data\n",
    "                    cv = 5\n",
    "                    ridge_cv = RidgeCV(cv=cv, alphas=np.logspace(-8, 8, base=10, num=75))\n",
    "                    ridge_cv.fit(X_train_bootstrap, y_train_bootstrap)\n",
    "                    \n",
    "                    models[column_name] = ridge_cv\n",
    "                    \n",
    "                    # Store the coefficients and validation scores\n",
    "                    train_score = ridge_cv.score(X_train_bootstrap, y_train_bootstrap)\n",
    "                    val_score = r2_score(y_val_bootstrap, ridge_cv.predict(X_val_bootstrap))\n",
    "                    pearson_coeff, _ = pearsonr(y_val_bootstrap, ridge_cv.predict(X_val_bootstrap))\n",
    "                    \n",
    "                    return ridge_cv.coef_, train_score, val_score, pearson_coeff, val_groundtruth_df, train_groundtruth_df, models\n",
    "            \n",
    "            \n",
    "            # Run bootstrap iterations in parallel\n",
    "            results = Parallel(n_jobs=-1)(delayed(bootstrap_iteration)(i) for i in range(n_bootstraps))\n",
    "            # Unpack results\n",
    "            coefs, train_scores, val_scores, pearson_coeffs, *df_columns, models = zip(*results)\n",
    "            \n",
    "            val_groundtruth_df = pd.DataFrame(dict(zip(df_columns, zip(*val_groundtruth_df))))\n",
    "            train_groundtruth_df = pd.DataFrame(dict(zip(df_columns, zip(*train_groundtruth_df))))\n",
    "\n",
    "            # Calculate the average coefficients and validation scores\n",
    "            val_groundtruth_df = val_groundtruth_df.filter(like=target_column).mean(axis=1)\n",
    "            train_groundtruth_df = train_groundtruth_df.filter(like=target_column).mean(axis=1)\n",
    "            avg_coefs = np.mean(coefs, axis=0)\n",
    "            avg_train_score = np.mean(train_scores)\n",
    "            avg_val_score = np.mean(val_scores)\n",
    "            avg_pearson_coeff = np.mean(pearson_coeffs)\n",
    "            \n",
    "            print(f\"Target variable: {target_column}\")\n",
    "            print(f\"Average training R2 score: {avg_train_score:0.2f}\")\n",
    "            print(f\"Average validation R2 score: {avg_val_score:0.2f}\")\n",
    "            print(f\"Average Pearson’s correlation coefficient: {avg_pearson_coeff:0.2f}\")\n",
    "            \n",
    "            if target_column in categorical_columns:\n",
    "                print(f\"Average false positive rate: {avg_false_positive_rate:0.2f}\")\n",
    "                print(f\"Average AUC-ROC: {avg_auc_roc:0.2f}\")\n",
    "            print()\n",
    "\n",
    "        else:\n",
    "            cv = 5\n",
    "            ridge_cv = RidgeCV(cv=cv, alphas=np.logspace(-8, 8, base=10, num=75))\n",
    "            ridge_cv.fit(X_train, y_train)\n",
    "            \n",
    "            models[target_column] = ridge_cv\n",
    "            \n",
    "\n",
    "            # Make predictions on the test data\n",
    "            y_val_pred = ridge_cv.predict(X_val)\n",
    "            y_train_pred = ridge_cv.predict(X_train)\n",
    "    \n",
    "            # Update the predictions DataFrame with the new predictions\n",
    "            val_predictions_df[target_column] = y_val_pred\n",
    "            train_predictions_df[target_column] = y_train_pred\n",
    "    \n",
    "            if target_column in categorical_columns:\n",
    "                for decision_boundary in decision_boundaries:\n",
    "                    # Calculate confusion matrix\n",
    "                    tn, fp, fn, tp = calculate_confusion_matrix(y_val, y_val_pred, decision_boundary)\n",
    "\n",
    "                # Calculate the false positive rate\n",
    "                    false_positive_rate = fp / (fp + tn)\n",
    "\n",
    "                # Calculate AUC-ROC\n",
    "                    auc_roc = roc_auc_score(y_val, y_val_pred)\n",
    "\n",
    "                    print(f\"Target variable: {target_column} (Categorical)\")\n",
    "                    print(f\"Decision boundary: {decision_boundary}\")\n",
    "                    print(f\"False positive rate: {false_positive_rate:0.2f}\")\n",
    "                    print(f\"AUC-ROC: {auc_roc:0.2f}\")\n",
    "                    print()\n",
    "            else:\n",
    "                # Calculate Pearson's correlation coefficient\n",
    "                pearson_coeff, _ = pearsonr(y_val, y_val_pred)\n",
    "\n",
    "                # Calculate training R squared\n",
    "                train_r_squared = ridge_cv.score(X_train, y_train)\n",
    "\n",
    "                # Calculate validation R squared\n",
    "                val_r_squared = ridge_cv.score(X_val, y_val)\n",
    "                \n",
    "                metrics_df = metrics_df.append({\n",
    "                'target_column': target_column,\n",
    "                'train_score': train_r_squared,\n",
    "                'val_score': val_r_squared,\n",
    "                'pearson_coeff': pearson_coeff}, ignore_index=True)\n",
    "                    \n",
    "                print()\n",
    "                print(f\"Target variable: {target_column}\")\n",
    "                print(f\"Estimated regularization parameter: {ridge_cv.alpha_}\")\n",
    "                print(f\"Training R2 performance: {train_r_squared:0.2f}\")\n",
    "                print(f\"Validation R2 performance: {val_r_squared:0.2f}\")\n",
    "                print(f\"Pearson's correlation coefficient: {pearson_coeff:0.2f}\")\n",
    "                print()\n",
    "    \n",
    "    val_predictions_df['lat'] = lat.iloc[X_val.index].values.flatten()\n",
    "    val_predictions_df['lon'] = lon.iloc[X_val.index].values.flatten()\n",
    "    val_predictions_df['year'] = year.iloc[X_val.index].values.flatten()\n",
    "    train_predictions_df['lat'] = lat.iloc[X_train.index].values.flatten()\n",
    "    train_predictions_df['lon'] = lon.iloc[X_train.index].values.flatten()\n",
    "    train_predictions_df['year'] = year.iloc[X_train.index].values.flatten()\n",
    "\n",
    "    return val_predictions_df, train_predictions_df, metrics_df, val_groundtruth_df, train_groundtruth_df, models "
   ]
  },
  {
   "cell_type": "code",
   "execution_count": 70,
   "id": "6414f7ab-c9a8-4788-be39-7a2762cd58fe",
   "metadata": {
    "tags": []
   },
   "outputs": [
    {
     "name": "stdout",
     "output_type": "stream",
     "text": [
      "\n",
      "Running model with the following parameters:\n",
      "Target columns: ['yield_kgha', 'prop_till_plough', 'log_maize']\n",
      "Test size: 0.1 Validation size: 0.1\n",
      "Bootstrap: False\n",
      "Random State: 50\n",
      "Block sample: False\n",
      "\n"
     ]
    },
    {
     "name": "stderr",
     "output_type": "stream",
     "text": [
      "/tmp/ipykernel_705280/2197089475.py:186: FutureWarning: The frame.append method is deprecated and will be removed from pandas in a future version. Use pandas.concat instead.\n",
      "  metrics_df = metrics_df.append({\n"
     ]
    },
    {
     "name": "stdout",
     "output_type": "stream",
     "text": [
      "\n",
      "Target variable: yield_kgha\n",
      "Estimated regularization parameter: 1.6451905877536674\n",
      "Training R2 performance: 0.74\n",
      "Validation R2 performance: 0.62\n",
      "Pearson's correlation coefficient: 0.80\n",
      "\n"
     ]
    },
    {
     "name": "stderr",
     "output_type": "stream",
     "text": [
      "/tmp/ipykernel_705280/2197089475.py:186: FutureWarning: The frame.append method is deprecated and will be removed from pandas in a future version. Use pandas.concat instead.\n",
      "  metrics_df = metrics_df.append({\n"
     ]
    },
    {
     "name": "stdout",
     "output_type": "stream",
     "text": [
      "\n",
      "Target variable: prop_till_plough\n",
      "Estimated regularization parameter: 7.3259654282152304\n",
      "Training R2 performance: 0.78\n",
      "Validation R2 performance: 0.71\n",
      "Pearson's correlation coefficient: 0.85\n",
      "\n",
      "\n",
      "Target variable: log_maize\n",
      "Estimated regularization parameter: 1.6451905877536674\n",
      "Training R2 performance: 0.77\n",
      "Validation R2 performance: 0.71\n",
      "Pearson's correlation coefficient: 0.84\n",
      "\n"
     ]
    },
    {
     "name": "stderr",
     "output_type": "stream",
     "text": [
      "/tmp/ipykernel_705280/2197089475.py:186: FutureWarning: The frame.append method is deprecated and will be removed from pandas in a future version. Use pandas.concat instead.\n",
      "  metrics_df = metrics_df.append({\n"
     ]
    }
   ],
   "source": [
    "val_predictions_df, train_predictions_df, metrics_df, val_groundtruth_df, train_groundtruth_df, models  = train_and_evaluate_models(args)"
   ]
  },
  {
   "cell_type": "code",
   "execution_count": 71,
   "id": "cd075d41",
   "metadata": {},
   "outputs": [],
   "source": [
    "final_val_preds = pd.merge(val_predictions_df, identifiers, on=['lat','lon','year'], how = 'left')"
   ]
  },
  {
   "cell_type": "code",
   "execution_count": 72,
   "id": "106b153e",
   "metadata": {},
   "outputs": [
    {
     "data": {
      "text/html": [
       "<div>\n",
       "<style scoped>\n",
       "    .dataframe tbody tr th:only-of-type {\n",
       "        vertical-align: middle;\n",
       "    }\n",
       "\n",
       "    .dataframe tbody tr th {\n",
       "        vertical-align: top;\n",
       "    }\n",
       "\n",
       "    .dataframe thead th {\n",
       "        text-align: right;\n",
       "    }\n",
       "</style>\n",
       "<table border=\"1\" class=\"dataframe\">\n",
       "  <thead>\n",
       "    <tr style=\"text-align: right;\">\n",
       "      <th></th>\n",
       "      <th>yield_kgha</th>\n",
       "      <th>prop_till_plough</th>\n",
       "      <th>log_maize</th>\n",
       "      <th>lat</th>\n",
       "      <th>lon</th>\n",
       "      <th>year</th>\n",
       "    </tr>\n",
       "  </thead>\n",
       "  <tbody>\n",
       "    <tr>\n",
       "      <th>0</th>\n",
       "      <td>1092.153751</td>\n",
       "      <td>-0.014105</td>\n",
       "      <td>5.873944</td>\n",
       "      <td>-13.806253</td>\n",
       "      <td>26.563983</td>\n",
       "      <td>2016.0</td>\n",
       "    </tr>\n",
       "    <tr>\n",
       "      <th>1</th>\n",
       "      <td>1468.369828</td>\n",
       "      <td>0.274426</td>\n",
       "      <td>3.704600</td>\n",
       "      <td>-15.431055</td>\n",
       "      <td>26.053528</td>\n",
       "      <td>2017.0</td>\n",
       "    </tr>\n",
       "    <tr>\n",
       "      <th>2</th>\n",
       "      <td>-351.338579</td>\n",
       "      <td>0.840106</td>\n",
       "      <td>3.071214</td>\n",
       "      <td>-16.703643</td>\n",
       "      <td>26.734660</td>\n",
       "      <td>2016.0</td>\n",
       "    </tr>\n",
       "    <tr>\n",
       "      <th>3</th>\n",
       "      <td>1847.192846</td>\n",
       "      <td>0.431688</td>\n",
       "      <td>6.629293</td>\n",
       "      <td>-16.753474</td>\n",
       "      <td>27.525248</td>\n",
       "      <td>2021.0</td>\n",
       "    </tr>\n",
       "    <tr>\n",
       "      <th>4</th>\n",
       "      <td>1299.275869</td>\n",
       "      <td>0.373903</td>\n",
       "      <td>5.384790</td>\n",
       "      <td>-11.178448</td>\n",
       "      <td>33.279660</td>\n",
       "      <td>2017.0</td>\n",
       "    </tr>\n",
       "  </tbody>\n",
       "</table>\n",
       "</div>"
      ],
      "text/plain": [
       "    yield_kgha  prop_till_plough  log_maize        lat        lon    year\n",
       "0  1092.153751         -0.014105   5.873944 -13.806253  26.563983  2016.0\n",
       "1  1468.369828          0.274426   3.704600 -15.431055  26.053528  2017.0\n",
       "2  -351.338579          0.840106   3.071214 -16.703643  26.734660  2016.0\n",
       "3  1847.192846          0.431688   6.629293 -16.753474  27.525248  2021.0\n",
       "4  1299.275869          0.373903   5.384790 -11.178448  33.279660  2017.0"
      ]
     },
     "execution_count": 72,
     "metadata": {},
     "output_type": "execute_result"
    }
   ],
   "source": [
    "val_predictions_df.head()"
   ]
  },
  {
   "cell_type": "code",
   "execution_count": 73,
   "id": "32b420f0",
   "metadata": {},
   "outputs": [
    {
     "data": {
      "text/html": [
       "<div>\n",
       "<style scoped>\n",
       "    .dataframe tbody tr th:only-of-type {\n",
       "        vertical-align: middle;\n",
       "    }\n",
       "\n",
       "    .dataframe tbody tr th {\n",
       "        vertical-align: top;\n",
       "    }\n",
       "\n",
       "    .dataframe thead th {\n",
       "        text-align: right;\n",
       "    }\n",
       "</style>\n",
       "<table border=\"1\" class=\"dataframe\">\n",
       "  <thead>\n",
       "    <tr style=\"text-align: right;\">\n",
       "      <th></th>\n",
       "      <th>yield_kgha</th>\n",
       "      <th>prop_till_plough</th>\n",
       "      <th>log_maize</th>\n",
       "      <th>lat</th>\n",
       "      <th>lon</th>\n",
       "      <th>year</th>\n",
       "    </tr>\n",
       "  </thead>\n",
       "  <tbody>\n",
       "    <tr>\n",
       "      <th>0</th>\n",
       "      <td>156.162266</td>\n",
       "      <td>0.294333</td>\n",
       "      <td>3.209652</td>\n",
       "      <td>-9.901757</td>\n",
       "      <td>32.465860</td>\n",
       "      <td>2017.0</td>\n",
       "    </tr>\n",
       "    <tr>\n",
       "      <th>1</th>\n",
       "      <td>38.363936</td>\n",
       "      <td>0.300490</td>\n",
       "      <td>3.106022</td>\n",
       "      <td>-12.145131</td>\n",
       "      <td>25.050857</td>\n",
       "      <td>2017.0</td>\n",
       "    </tr>\n",
       "    <tr>\n",
       "      <th>2</th>\n",
       "      <td>1373.119866</td>\n",
       "      <td>0.903735</td>\n",
       "      <td>6.483269</td>\n",
       "      <td>-16.226857</td>\n",
       "      <td>26.948410</td>\n",
       "      <td>2020.0</td>\n",
       "    </tr>\n",
       "    <tr>\n",
       "      <th>3</th>\n",
       "      <td>2307.667465</td>\n",
       "      <td>0.525004</td>\n",
       "      <td>6.507477</td>\n",
       "      <td>-13.276857</td>\n",
       "      <td>24.587160</td>\n",
       "      <td>2021.0</td>\n",
       "    </tr>\n",
       "    <tr>\n",
       "      <th>4</th>\n",
       "      <td>2429.729313</td>\n",
       "      <td>0.184509</td>\n",
       "      <td>8.397025</td>\n",
       "      <td>-12.910168</td>\n",
       "      <td>27.114119</td>\n",
       "      <td>2020.0</td>\n",
       "    </tr>\n",
       "  </tbody>\n",
       "</table>\n",
       "</div>"
      ],
      "text/plain": [
       "    yield_kgha  prop_till_plough  log_maize        lat        lon    year\n",
       "0   156.162266          0.294333   3.209652  -9.901757  32.465860  2017.0\n",
       "1    38.363936          0.300490   3.106022 -12.145131  25.050857  2017.0\n",
       "2  1373.119866          0.903735   6.483269 -16.226857  26.948410  2020.0\n",
       "3  2307.667465          0.525004   6.507477 -13.276857  24.587160  2021.0\n",
       "4  2429.729313          0.184509   8.397025 -12.910168  27.114119  2020.0"
      ]
     },
     "execution_count": 73,
     "metadata": {},
     "output_type": "execute_result"
    }
   ],
   "source": [
    "train_predictions_df.head()"
   ]
  },
  {
   "cell_type": "code",
   "execution_count": 74,
   "id": "5dede8d6",
   "metadata": {},
   "outputs": [],
   "source": [
    "all_training_predictions = pd.concat([val_predictions_df, train_predictions_df], axis=0)"
   ]
  },
  {
   "cell_type": "code",
   "execution_count": 75,
   "id": "a9a58f8f",
   "metadata": {},
   "outputs": [
    {
     "data": {
      "text/html": [
       "<div>\n",
       "<style scoped>\n",
       "    .dataframe tbody tr th:only-of-type {\n",
       "        vertical-align: middle;\n",
       "    }\n",
       "\n",
       "    .dataframe tbody tr th {\n",
       "        vertical-align: top;\n",
       "    }\n",
       "\n",
       "    .dataframe thead th {\n",
       "        text-align: right;\n",
       "    }\n",
       "</style>\n",
       "<table border=\"1\" class=\"dataframe\">\n",
       "  <thead>\n",
       "    <tr style=\"text-align: right;\">\n",
       "      <th></th>\n",
       "      <th>yield_kgha</th>\n",
       "      <th>prop_till_plough</th>\n",
       "      <th>log_maize</th>\n",
       "      <th>lat</th>\n",
       "      <th>lon</th>\n",
       "      <th>year</th>\n",
       "    </tr>\n",
       "  </thead>\n",
       "  <tbody>\n",
       "    <tr>\n",
       "      <th>0</th>\n",
       "      <td>1092.153751</td>\n",
       "      <td>-0.014105</td>\n",
       "      <td>5.873944</td>\n",
       "      <td>-13.806253</td>\n",
       "      <td>26.563983</td>\n",
       "      <td>2016.0</td>\n",
       "    </tr>\n",
       "    <tr>\n",
       "      <th>1</th>\n",
       "      <td>1468.369828</td>\n",
       "      <td>0.274426</td>\n",
       "      <td>3.704600</td>\n",
       "      <td>-15.431055</td>\n",
       "      <td>26.053528</td>\n",
       "      <td>2017.0</td>\n",
       "    </tr>\n",
       "    <tr>\n",
       "      <th>2</th>\n",
       "      <td>-351.338579</td>\n",
       "      <td>0.840106</td>\n",
       "      <td>3.071214</td>\n",
       "      <td>-16.703643</td>\n",
       "      <td>26.734660</td>\n",
       "      <td>2016.0</td>\n",
       "    </tr>\n",
       "    <tr>\n",
       "      <th>3</th>\n",
       "      <td>1847.192846</td>\n",
       "      <td>0.431688</td>\n",
       "      <td>6.629293</td>\n",
       "      <td>-16.753474</td>\n",
       "      <td>27.525248</td>\n",
       "      <td>2021.0</td>\n",
       "    </tr>\n",
       "    <tr>\n",
       "      <th>4</th>\n",
       "      <td>1299.275869</td>\n",
       "      <td>0.373903</td>\n",
       "      <td>5.384790</td>\n",
       "      <td>-11.178448</td>\n",
       "      <td>33.279660</td>\n",
       "      <td>2017.0</td>\n",
       "    </tr>\n",
       "  </tbody>\n",
       "</table>\n",
       "</div>"
      ],
      "text/plain": [
       "    yield_kgha  prop_till_plough  log_maize        lat        lon    year\n",
       "0  1092.153751         -0.014105   5.873944 -13.806253  26.563983  2016.0\n",
       "1  1468.369828          0.274426   3.704600 -15.431055  26.053528  2017.0\n",
       "2  -351.338579          0.840106   3.071214 -16.703643  26.734660  2016.0\n",
       "3  1847.192846          0.431688   6.629293 -16.753474  27.525248  2021.0\n",
       "4  1299.275869          0.373903   5.384790 -11.178448  33.279660  2017.0"
      ]
     },
     "execution_count": 75,
     "metadata": {},
     "output_type": "execute_result"
    }
   ],
   "source": [
    "all_training_predictions.head()"
   ]
  },
  {
   "cell_type": "code",
   "execution_count": 76,
   "id": "a14189d2",
   "metadata": {},
   "outputs": [],
   "source": [
    "all_training_predictions.to_csv('/capstone/mosaiks/repos/modeling/presentation_viz/train_preds_sea_cv.csv', index=False)"
   ]
  },
  {
   "cell_type": "code",
   "execution_count": 78,
   "id": "f9712487",
   "metadata": {},
   "outputs": [
    {
     "ename": "KeyError",
     "evalue": "1",
     "output_type": "error",
     "traceback": [
      "\u001b[0;31m---------------------------------------------------------------------------\u001b[0m",
      "\u001b[0;31mKeyError\u001b[0m                                  Traceback (most recent call last)",
      "Cell \u001b[0;32mIn[78], line 1\u001b[0m\n\u001b[0;32m----> 1\u001b[0m \u001b[43mmodels\u001b[49m\u001b[43m[\u001b[49m\u001b[38;5;241;43m1\u001b[39;49m\u001b[43m]\u001b[49m\n",
      "\u001b[0;31mKeyError\u001b[0m: 1"
     ]
    }
   ],
   "source": []
  },
  {
   "cell_type": "code",
   "execution_count": null,
   "id": "9ac876df-3a86-4934-b520-d8995978a57a",
   "metadata": {
    "tags": []
   },
   "outputs": [],
   "source": [
    "if __name__ == \"__main__\":\n",
    "    # Set the random seed for reproducibility\n",
    "    random.seed(42)\n",
    "\n",
    "    # Define the number of splits\n",
    "    n_splits = 10\n",
    "\n",
    "    # Generate n_splits random integers between 0 and 1,000,000\n",
    "    random_seeds = [random.randint(0, 1_000_000) for _ in range(n_splits)]\n",
    "\n",
    "    # Initialize an empty list to store the prediction DataFrames\n",
    "    all_predictions = []\n",
    "\n",
    "    # Define the arguments for each call to train_and_evaluate_models\n",
    "    args = {\n",
    "        # Add your arguments here\n",
    "    }\n",
    "\n",
    "    # Loop over the random seeds\n",
    "    for random_state in random_seeds:\n",
    "        # Update the random state in the arguments\n",
    "        args['random_state'] = random_state\n",
    "\n",
    "        # Call train_and_evaluate_models and store the predictions\n",
    "        predictions_df = train_and_evaluate_models(args)\n",
    "\n",
    "        # Append the predictions DataFrame to the list\n",
    "        all_predictions.append(predictions_df)\n",
    "\n",
    "    # At this point, all_predictions is a list of prediction DataFrames, one for each split.\n"
   ]
  },
  {
   "cell_type": "markdown",
   "id": "48d3b341-a89c-49c6-b9b6-57bf6e59b2d1",
   "metadata": {},
   "source": [
    "#### "
   ]
  },
  {
   "cell_type": "code",
   "execution_count": 80,
   "id": "a71096b5-bd08-42c2-854d-655f56b6b2a3",
   "metadata": {
    "tags": []
   },
   "outputs": [],
   "source": [
    "zambia = pd.read_csv(\"/capstone/mosaiks/repos/modeling/data/zambia_10perc_imputed_2023_05_16.csv\")"
   ]
  },
  {
   "cell_type": "code",
   "execution_count": 93,
   "id": "6085a8b8-7960-43eb-8204-322539fab9e3",
   "metadata": {
    "tags": []
   },
   "outputs": [
    {
     "data": {
      "text/html": [
       "<div>\n",
       "<style scoped>\n",
       "    .dataframe tbody tr th:only-of-type {\n",
       "        vertical-align: middle;\n",
       "    }\n",
       "\n",
       "    .dataframe tbody tr th {\n",
       "        vertical-align: top;\n",
       "    }\n",
       "\n",
       "    .dataframe thead th {\n",
       "        text-align: right;\n",
       "    }\n",
       "</style>\n",
       "<table border=\"1\" class=\"dataframe\">\n",
       "  <thead>\n",
       "    <tr style=\"text-align: right;\">\n",
       "      <th></th>\n",
       "      <th>0_1</th>\n",
       "      <th>0_2</th>\n",
       "      <th>0_3</th>\n",
       "      <th>0_4</th>\n",
       "      <th>0_5</th>\n",
       "      <th>0_6</th>\n",
       "      <th>0_7</th>\n",
       "      <th>0_8</th>\n",
       "      <th>0_9</th>\n",
       "      <th>0_10</th>\n",
       "      <th>...</th>\n",
       "      <th>999_3</th>\n",
       "      <th>999_4</th>\n",
       "      <th>999_5</th>\n",
       "      <th>999_6</th>\n",
       "      <th>999_7</th>\n",
       "      <th>999_8</th>\n",
       "      <th>999_9</th>\n",
       "      <th>999_10</th>\n",
       "      <th>999_11</th>\n",
       "      <th>999_12</th>\n",
       "    </tr>\n",
       "  </thead>\n",
       "  <tbody>\n",
       "    <tr>\n",
       "      <th>0</th>\n",
       "      <td>0.001077</td>\n",
       "      <td>0.0007</td>\n",
       "      <td>0.000706</td>\n",
       "      <td>0.000395</td>\n",
       "      <td>0.000172</td>\n",
       "      <td>0.000183</td>\n",
       "      <td>0.000276</td>\n",
       "      <td>0.000605</td>\n",
       "      <td>0.002596</td>\n",
       "      <td>0.001407</td>\n",
       "      <td>...</td>\n",
       "      <td>0.058021</td>\n",
       "      <td>0.075707</td>\n",
       "      <td>0.056214</td>\n",
       "      <td>0.056737</td>\n",
       "      <td>0.036262</td>\n",
       "      <td>0.004133</td>\n",
       "      <td>0.000831</td>\n",
       "      <td>0.002931</td>\n",
       "      <td>0.004228</td>\n",
       "      <td>0.03583</td>\n",
       "    </tr>\n",
       "    <tr>\n",
       "      <th>1</th>\n",
       "      <td>0.001077</td>\n",
       "      <td>0.0007</td>\n",
       "      <td>0.000706</td>\n",
       "      <td>0.000395</td>\n",
       "      <td>0.000172</td>\n",
       "      <td>0.000183</td>\n",
       "      <td>0.000276</td>\n",
       "      <td>0.000605</td>\n",
       "      <td>0.001739</td>\n",
       "      <td>0.001407</td>\n",
       "      <td>...</td>\n",
       "      <td>0.058021</td>\n",
       "      <td>0.075707</td>\n",
       "      <td>0.056214</td>\n",
       "      <td>0.056737</td>\n",
       "      <td>0.036262</td>\n",
       "      <td>0.004133</td>\n",
       "      <td>0.000000</td>\n",
       "      <td>0.002931</td>\n",
       "      <td>0.004228</td>\n",
       "      <td>0.03583</td>\n",
       "    </tr>\n",
       "    <tr>\n",
       "      <th>2</th>\n",
       "      <td>0.001077</td>\n",
       "      <td>0.0007</td>\n",
       "      <td>0.000706</td>\n",
       "      <td>0.000395</td>\n",
       "      <td>0.000172</td>\n",
       "      <td>0.000183</td>\n",
       "      <td>0.000276</td>\n",
       "      <td>0.000605</td>\n",
       "      <td>0.005177</td>\n",
       "      <td>0.001407</td>\n",
       "      <td>...</td>\n",
       "      <td>0.058021</td>\n",
       "      <td>0.075707</td>\n",
       "      <td>0.056214</td>\n",
       "      <td>0.056737</td>\n",
       "      <td>0.036262</td>\n",
       "      <td>0.004133</td>\n",
       "      <td>0.000186</td>\n",
       "      <td>0.002931</td>\n",
       "      <td>0.004228</td>\n",
       "      <td>0.03583</td>\n",
       "    </tr>\n",
       "    <tr>\n",
       "      <th>3</th>\n",
       "      <td>0.001077</td>\n",
       "      <td>0.0007</td>\n",
       "      <td>0.000706</td>\n",
       "      <td>0.000395</td>\n",
       "      <td>0.000172</td>\n",
       "      <td>0.000183</td>\n",
       "      <td>0.000276</td>\n",
       "      <td>0.000605</td>\n",
       "      <td>0.003367</td>\n",
       "      <td>0.001407</td>\n",
       "      <td>...</td>\n",
       "      <td>0.058021</td>\n",
       "      <td>0.075707</td>\n",
       "      <td>0.056214</td>\n",
       "      <td>0.056737</td>\n",
       "      <td>0.036262</td>\n",
       "      <td>0.004133</td>\n",
       "      <td>0.000870</td>\n",
       "      <td>0.002931</td>\n",
       "      <td>0.004228</td>\n",
       "      <td>0.03583</td>\n",
       "    </tr>\n",
       "    <tr>\n",
       "      <th>4</th>\n",
       "      <td>0.001077</td>\n",
       "      <td>0.0007</td>\n",
       "      <td>0.000706</td>\n",
       "      <td>0.000395</td>\n",
       "      <td>0.000172</td>\n",
       "      <td>0.000183</td>\n",
       "      <td>0.000276</td>\n",
       "      <td>0.000605</td>\n",
       "      <td>0.003582</td>\n",
       "      <td>0.001407</td>\n",
       "      <td>...</td>\n",
       "      <td>0.058021</td>\n",
       "      <td>0.075707</td>\n",
       "      <td>0.056214</td>\n",
       "      <td>0.056737</td>\n",
       "      <td>0.036262</td>\n",
       "      <td>0.004133</td>\n",
       "      <td>0.000792</td>\n",
       "      <td>0.002931</td>\n",
       "      <td>0.004228</td>\n",
       "      <td>0.03583</td>\n",
       "    </tr>\n",
       "  </tbody>\n",
       "</table>\n",
       "<p>5 rows × 12000 columns</p>\n",
       "</div>"
      ],
      "text/plain": [
       "        0_1     0_2       0_3       0_4       0_5       0_6       0_7  \\\n",
       "0  0.001077  0.0007  0.000706  0.000395  0.000172  0.000183  0.000276   \n",
       "1  0.001077  0.0007  0.000706  0.000395  0.000172  0.000183  0.000276   \n",
       "2  0.001077  0.0007  0.000706  0.000395  0.000172  0.000183  0.000276   \n",
       "3  0.001077  0.0007  0.000706  0.000395  0.000172  0.000183  0.000276   \n",
       "4  0.001077  0.0007  0.000706  0.000395  0.000172  0.000183  0.000276   \n",
       "\n",
       "        0_8       0_9      0_10  ...     999_3     999_4     999_5     999_6  \\\n",
       "0  0.000605  0.002596  0.001407  ...  0.058021  0.075707  0.056214  0.056737   \n",
       "1  0.000605  0.001739  0.001407  ...  0.058021  0.075707  0.056214  0.056737   \n",
       "2  0.000605  0.005177  0.001407  ...  0.058021  0.075707  0.056214  0.056737   \n",
       "3  0.000605  0.003367  0.001407  ...  0.058021  0.075707  0.056214  0.056737   \n",
       "4  0.000605  0.003582  0.001407  ...  0.058021  0.075707  0.056214  0.056737   \n",
       "\n",
       "      999_7     999_8     999_9    999_10    999_11   999_12  \n",
       "0  0.036262  0.004133  0.000831  0.002931  0.004228  0.03583  \n",
       "1  0.036262  0.004133  0.000000  0.002931  0.004228  0.03583  \n",
       "2  0.036262  0.004133  0.000186  0.002931  0.004228  0.03583  \n",
       "3  0.036262  0.004133  0.000870  0.002931  0.004228  0.03583  \n",
       "4  0.036262  0.004133  0.000792  0.002931  0.004228  0.03583  \n",
       "\n",
       "[5 rows x 12000 columns]"
      ]
     },
     "execution_count": 93,
     "metadata": {},
     "output_type": "execute_result"
    }
   ],
   "source": [
    "identifiers = zambia.iloc[:,0:5]\n",
    "identifiers = identifiers.drop(columns=['index_left'])\n",
    "zambia_features = zambia.iloc[:,5:]"
   ]
  },
  {
   "cell_type": "code",
   "execution_count": 94,
   "id": "2bbcd9ea",
   "metadata": {},
   "outputs": [
    {
     "data": {
      "text/html": [
       "<div>\n",
       "<style scoped>\n",
       "    .dataframe tbody tr th:only-of-type {\n",
       "        vertical-align: middle;\n",
       "    }\n",
       "\n",
       "    .dataframe tbody tr th {\n",
       "        vertical-align: top;\n",
       "    }\n",
       "\n",
       "    .dataframe thead th {\n",
       "        text-align: right;\n",
       "    }\n",
       "</style>\n",
       "<table border=\"1\" class=\"dataframe\">\n",
       "  <thead>\n",
       "    <tr style=\"text-align: right;\">\n",
       "      <th></th>\n",
       "      <th>year</th>\n",
       "      <th>ward_id</th>\n",
       "      <th>lon</th>\n",
       "      <th>lat</th>\n",
       "    </tr>\n",
       "  </thead>\n",
       "  <tbody>\n",
       "    <tr>\n",
       "      <th>0</th>\n",
       "      <td>2015.0</td>\n",
       "      <td>0</td>\n",
       "      <td>22.799338</td>\n",
       "      <td>-15.095757</td>\n",
       "    </tr>\n",
       "    <tr>\n",
       "      <th>1</th>\n",
       "      <td>2015.0</td>\n",
       "      <td>1</td>\n",
       "      <td>22.660588</td>\n",
       "      <td>-14.993257</td>\n",
       "    </tr>\n",
       "    <tr>\n",
       "      <th>2</th>\n",
       "      <td>2015.0</td>\n",
       "      <td>2</td>\n",
       "      <td>22.465033</td>\n",
       "      <td>-15.005479</td>\n",
       "    </tr>\n",
       "    <tr>\n",
       "      <th>3</th>\n",
       "      <td>2015.0</td>\n",
       "      <td>3</td>\n",
       "      <td>22.559819</td>\n",
       "      <td>-15.041718</td>\n",
       "    </tr>\n",
       "    <tr>\n",
       "      <th>4</th>\n",
       "      <td>2015.0</td>\n",
       "      <td>4</td>\n",
       "      <td>22.718088</td>\n",
       "      <td>-15.097007</td>\n",
       "    </tr>\n",
       "    <tr>\n",
       "      <th>...</th>\n",
       "      <td>...</td>\n",
       "      <td>...</td>\n",
       "      <td>...</td>\n",
       "      <td>...</td>\n",
       "    </tr>\n",
       "    <tr>\n",
       "      <th>10986</th>\n",
       "      <td>2023.0</td>\n",
       "      <td>1409</td>\n",
       "      <td>28.359715</td>\n",
       "      <td>-14.934616</td>\n",
       "    </tr>\n",
       "    <tr>\n",
       "      <th>10987</th>\n",
       "      <td>2023.0</td>\n",
       "      <td>1410</td>\n",
       "      <td>30.348366</td>\n",
       "      <td>-15.581035</td>\n",
       "    </tr>\n",
       "    <tr>\n",
       "      <th>10988</th>\n",
       "      <td>2023.0</td>\n",
       "      <td>1412</td>\n",
       "      <td>28.704943</td>\n",
       "      <td>-9.254870</td>\n",
       "    </tr>\n",
       "    <tr>\n",
       "      <th>10989</th>\n",
       "      <td>2023.0</td>\n",
       "      <td>1413</td>\n",
       "      <td>29.503497</td>\n",
       "      <td>-9.768893</td>\n",
       "    </tr>\n",
       "    <tr>\n",
       "      <th>10990</th>\n",
       "      <td>2023.0</td>\n",
       "      <td>1415</td>\n",
       "      <td>26.139629</td>\n",
       "      <td>-17.613668</td>\n",
       "    </tr>\n",
       "  </tbody>\n",
       "</table>\n",
       "<p>10991 rows × 4 columns</p>\n",
       "</div>"
      ],
      "text/plain": [
       "         year  ward_id        lon        lat\n",
       "0      2015.0        0  22.799338 -15.095757\n",
       "1      2015.0        1  22.660588 -14.993257\n",
       "2      2015.0        2  22.465033 -15.005479\n",
       "3      2015.0        3  22.559819 -15.041718\n",
       "4      2015.0        4  22.718088 -15.097007\n",
       "...       ...      ...        ...        ...\n",
       "10986  2023.0     1409  28.359715 -14.934616\n",
       "10987  2023.0     1410  30.348366 -15.581035\n",
       "10988  2023.0     1412  28.704943  -9.254870\n",
       "10989  2023.0     1413  29.503497  -9.768893\n",
       "10990  2023.0     1415  26.139629 -17.613668\n",
       "\n",
       "[10991 rows x 4 columns]"
      ]
     },
     "execution_count": 94,
     "metadata": {},
     "output_type": "execute_result"
    }
   ],
   "source": [
    "identifiers"
   ]
  },
  {
   "cell_type": "code",
   "execution_count": 82,
   "id": "fb04cdf1",
   "metadata": {},
   "outputs": [],
   "source": [
    "zambia_predictions_df = pd.DataFrame()\n",
    "\n",
    "for target_column, model in models.items():\n",
    "    predictions = model.predict(zambia_features)\n",
    "    zambia_predictions_df[target_column] = predictions"
   ]
  },
  {
   "cell_type": "code",
   "execution_count": 95,
   "id": "34fe046d",
   "metadata": {},
   "outputs": [],
   "source": [
    "zambia_predictions_df.head()\n",
    "zambia_predictions = pd.merge(identifiers, zambia_predictions_df, left_index=True, right_index=True)"
   ]
  },
  {
   "cell_type": "code",
   "execution_count": 98,
   "id": "9de4406f",
   "metadata": {},
   "outputs": [],
   "source": [
    "zambia_predictions.to_csv('/capstone/mosaiks/repos/modeling/presentation_viz/train_preds_zambia_cv.csv', index=False)"
   ]
  },
  {
   "cell_type": "markdown",
   "id": "680ac1d1",
   "metadata": {},
   "source": [
    "### Train set"
   ]
  },
  {
   "cell_type": "code",
   "execution_count": null,
   "id": "a9fcd436",
   "metadata": {},
   "outputs": [],
   "source": [
    "y_pred = np.maximum(ridge_cv_random.predict(x_train), 0)\n",
    "r2_train = r2_score(y_train, y_pred)\n",
    "\n",
    "fig, ax = plt.subplots(ncols=1)\n",
    "plt.scatter(y_pred, y_train, alpha=1, s=4)\n",
    "plt.xlabel(\"Predicted\", fontsize=15, x = .3)\n",
    "plt.ylabel(\"Ground Truth\", fontsize=15)\n",
    "plt.suptitle(r\"$\\log_{10}(1 + Crop Yield)$\", fontsize=20, y=1.02)\n",
    "plt.title((f\"Model applied to train data n = {len(x_train)}, R$^2$ = {r2_train:0.2f}\"),\n",
    "          fontsize=12, y=1.01)\n",
    "\n",
    "plt.xticks(fontsize=14)\n",
    "plt.yticks(fontsize=14)\n",
    "\n",
    "ax.axline([0, 0], [1, 1], c = \"k\")\n",
    "\n",
    "plt.gca().spines.right.set_visible(False)\n",
    "plt.gca().spines.top.set_visible(False)\n",
    "\n",
    "\n",
    "# plt.savefig(f'images/{feature_file_name}_train_data.jpg', dpi=300)\n",
    "plt.show()\n",
    "plt.close()\n",
    "# the model is plotted with a black 45 degree line that serves as a reference of what a perfect correlation would look like\n",
    "# deviation of the line indicates that there is not a perfect correlation"
   ]
  },
  {
   "cell_type": "code",
   "execution_count": null,
   "id": "dbbc0486",
   "metadata": {},
   "outputs": [],
   "source": [
    "print(f\"Training R^2 = {r2_train:0.2f}\\nPearsons r = {pearsonr(y_pred, y_train)[0]:0.2f}\") "
   ]
  },
  {
   "cell_type": "code",
   "execution_count": null,
   "id": "2550c544-4a28-4d34-841a-837223fa0bd7",
   "metadata": {},
   "outputs": [],
   "source": [
    "# Pearson r^2\n",
    "pearsonr(y_pred, y_train)[0] ** 2"
   ]
  },
  {
   "cell_type": "code",
   "execution_count": null,
   "id": "16c01413-8e64-4ba8-b61e-5fd8c9d10c36",
   "metadata": {},
   "outputs": [],
   "source": [
    "# alternative way to calculate Training R^2\n",
    "ridge_cv_random.score(x_train, y_train)"
   ]
  },
  {
   "cell_type": "markdown",
   "id": "dff83102",
   "metadata": {},
   "source": [
    "### Test set"
   ]
  },
  {
   "cell_type": "code",
   "execution_count": null,
   "id": "dcb42c16",
   "metadata": {
    "tags": []
   },
   "outputs": [],
   "source": [
    "y_pred = np.maximum(ridge_cv_random.predict(x_test), 0)\n",
    "r2_test = r2_score(y_test, y_pred)\n",
    "\n",
    "plt.figure()\n",
    "plt.scatter(y_pred, y_test, alpha=1, s=4)\n",
    "plt.xlabel(\"Predicted\", fontsize=15)\n",
    "plt.ylabel(\"Ground Truth\", fontsize=15)\n",
    "plt.suptitle(r\"$\\log_{10}(1 + Crop Yield)$\", fontsize=20, y=1.02)\n",
    "plt.title(f\"Model applied to test data n = {len(x_test)}, R$^2$ = {r2_test:0.2f}\",\n",
    "          fontsize=12, y=1)\n",
    "\n",
    "plt.xticks(fontsize=14)\n",
    "plt.yticks(fontsize=14)\n",
    "\n",
    "ax.axline([0, 0], [.75, .75], c = \"k\")\n",
    "\n",
    "plt.gca().spines.right.set_visible(False)\n",
    "plt.gca().spines.top.set_visible(False)\n",
    "\n",
    "# plt.savefig(f'images/{feature_file_name}_test_data.jpg', dpi=300)\n",
    "plt.show()\n",
    "plt.close()"
   ]
  },
  {
   "cell_type": "code",
   "execution_count": null,
   "id": "a4f6268f",
   "metadata": {},
   "outputs": [],
   "source": [
    "print(f\"Testing set R^2 = {r2_test:0.2f}\")\n",
    "print(f\"Testing set pearsons R = {pearsonr(y_pred, y_test)[0]:0.2f}\")"
   ]
  },
  {
   "cell_type": "markdown",
   "id": "3aef4215-081f-4537-aade-bf7c3e5d3d93",
   "metadata": {},
   "source": [
    "Summary of both train and test data sets"
   ]
  },
  {
   "cell_type": "code",
   "execution_count": null,
   "id": "78675318-1a34-4c3d-90f8-e738abd6c2f6",
   "metadata": {},
   "outputs": [],
   "source": [
    "y_pred = np.maximum(ridge_cv_random.predict(x_all), 0)\n",
    "\n",
    "fig, ax = plt.subplots(figsize=(7, 7))\n",
    "ax.axline([0, 0], [.75, .75], c = \"k\")\n",
    "plt.scatter(y_pred, y_all, alpha=.9, s=15)\n",
    "plt.xlabel(\"Predicted\", fontsize=15)\n",
    "plt.ylabel(\"Observed\", fontsize=15)\n",
    "plt.text(\n",
    "    0, .8, fontsize=15, fontweight=\"bold\",\n",
    "    s=f\"R$^2$={r2_train:0.2f} - Train set\",\n",
    ")\n",
    "plt.text(\n",
    "    0, .75, fontsize=15, fontweight=\"bold\",\n",
    "    s=f\"R$^2$={ridge_cv_random.best_score_:0.2f} - Validation set\",\n",
    ")\n",
    "plt.text(\n",
    "    0, .7, fontsize=15, fontweight=\"bold\",\n",
    "    s=f\"R$^2$={r2_test:0.2f} - Test set\",\n",
    ")\n",
    "plt.xticks(fontsize=14)\n",
    "plt.yticks(fontsize=14)\n",
    "\n",
    "plt.gca().spines.right.set_visible(False)\n",
    "plt.gca().spines.top.set_visible(False)\n",
    "\n",
    "# plt.savefig(f'images/{feature_file_name}_all_data.jpg', dpi=300)\n",
    "plt.show()\n",
    "plt.close()"
   ]
  },
  {
   "cell_type": "markdown",
   "id": "5a29cb5b",
   "metadata": {},
   "source": [
    "### Use the trained model to predict crop yields over all years from 1km grid-cell resolution features \n",
    "\n",
    "Recall that after we executed imputation on all feature years in the dataframe `features`, we copied the dataframe and named it `features_all_years`. Now we can plug that into the model to visualize how our model performs over time."
   ]
  },
  {
   "cell_type": "code",
   "execution_count": null,
   "id": "e360ddd6-1c76-4aa0-90cf-3b6ff35b1b94",
   "metadata": {},
   "outputs": [],
   "source": [
    "# recall the object we created earlier, before we split the features by year into those that would train the model \n",
    "# and those that would be fed into the trained model to predict crop yields\n",
    "# in years for which we do not have crop data\n",
    "features_all_years.head(3)"
   ]
  },
  {
   "cell_type": "markdown",
   "id": "dd87a870-2e2b-4c03-b65b-d7431fa82f73",
   "metadata": {},
   "source": [
    "In the following chunk, we drop certain columns from `features_all_years` because we only need to feed the feature data into the model to generate predictions. Using the argument `axis = 1`, we specify that we are dropping columns rather than rows. "
   ]
  },
  {
   "cell_type": "code",
   "execution_count": null,
   "id": "e0ad5295",
   "metadata": {},
   "outputs": [],
   "source": [
    "x_all = features_all_years.drop([\n",
    "    'year', \n",
    "    'geometry',\n",
    "    'district',\n",
    "    'crop_perc'\n",
    "], axis = 1)"
   ]
  },
  {
   "cell_type": "markdown",
   "id": "bfd1331c-9e70-4deb-83a1-ae87cfc7e46b",
   "metadata": {},
   "source": [
    "In the following chunk, we execute the model on the features from the dataframe `features_all_years`. The crop yield predictions for each row populate a new column in the dataframe.\n",
    "\n",
    "The model is run inside the `np.maximum()` function because if we run it without being wrapped inside function, some crop predictions are negative values, but we need them all to be positive because conceptually crop yields cannot be negative."
   ]
  },
  {
   "cell_type": "code",
   "execution_count": null,
   "id": "bad2e993-6581-4a67-ab60-508479ad53bc",
   "metadata": {},
   "outputs": [],
   "source": [
    "features_all_years['yield_prediction'] = np.maximum(ridge_cv_random.predict(x_all), 0)"
   ]
  },
  {
   "cell_type": "code",
   "execution_count": null,
   "id": "02a4758b-e84a-47c5-a5a5-561d6fbe6823",
   "metadata": {},
   "outputs": [],
   "source": [
    "# check out the dataframe with the new column of predictions\n",
    "features_all_years.head(3)"
   ]
  },
  {
   "cell_type": "markdown",
   "id": "4f250da4-4a71-483d-bca9-248b8ecd6901",
   "metadata": {},
   "source": [
    "The dataframe is already a geodataframe, so we do not have to convert it to one before mapping predictions. However, we do need to replace all the zero value crop percentage areas with `NA`. We do this by applying the `mask()` function. This function is similar to an if-else statement. If the value of the `crop_perc` is equal to 0, that value is replaced by the value of the second argument, which is `NA`. If the value of `crop_prec` is _not_ equal to zero, we retain the current value. The argument `inplace = True` executes this replacement in the same cell. "
   ]
  },
  {
   "cell_type": "code",
   "execution_count": null,
   "id": "1fe0ee44-575a-45b8-ae14-b44ce3290ac4",
   "metadata": {},
   "outputs": [],
   "source": [
    "features_all_years['yield_prediction'].mask(features_all_years['crop_perc']==0, np.nan, inplace=True)"
   ]
  },
  {
   "cell_type": "markdown",
   "id": "82712032-c523-4569-9c2a-26f9dea91177",
   "metadata": {},
   "source": [
    "Recall that this dataframe has a geometry column, with latitude and longitude together. In order to map the predicted features, we separate this geometry column into separate `lon` and `lat` columns. "
   ]
  },
  {
   "cell_type": "code",
   "execution_count": null,
   "id": "980b20d1-e9f8-43b8-888f-32df0f261592",
   "metadata": {},
   "outputs": [],
   "source": [
    "# extract the longitude and latitude from the geometry column, and make then into independent columns\n",
    "features_all_years['lon'], features_all_years['lat'] = features_all_years.geometry.x, features_all_years.geometry.y"
   ]
  },
  {
   "cell_type": "markdown",
   "id": "82eb0d10-ec00-4063-a106-1b73991b9df8",
   "metadata": {},
   "source": [
    "Plot the predicted features for each year:"
   ]
  },
  {
   "cell_type": "code",
   "execution_count": null,
   "id": "9f4364cf-5eaf-4cb4-8c77-6bd38de288ed",
   "metadata": {},
   "outputs": [],
   "source": [
    "def scatter(x, y, c, **kwargs):\n",
    "    plt.scatter(x, y, c=c, s = 1.25)\n",
    "sns.color_palette(\"viridis\", as_cmap=True)\n",
    "g = sns.FacetGrid(\n",
    "    features_all_years, \n",
    "    col=\"year\", \n",
    "    col_wrap = 4, \n",
    "    height=5, \n",
    "    aspect=1\n",
    ")\n",
    "g.map(scatter, \"lon\", \"lat\", \"yield_prediction\")\n",
    "g.set_axis_labels(r\"Yield Prediction\")\n",
    "# save the figure and name the file so that it represents the model parameters that created the predictions\n",
    "# plt.savefig(f'images/{feature_file_name}_all_predictions.jpg', dpi=300)"
   ]
  },
  {
   "cell_type": "markdown",
   "id": "adf3917b-9fea-429f-9416-23851b20229e",
   "metadata": {},
   "source": [
    "Plot the model's predicted features summarized to district level. In this visualization, we choose a specific year to examine rather than visualizing all years in one figure. Visualizing the the features summarized to district level is interesting because the crop data resolution provided by Zambia Statistics Agency is at the district level, and therefore it is easier to compare our model results to those ground-truth values when they are summarized to district level as well. Furthermore, our model's crop predictions for the years 2020 and 2021 might be more valuable when summarized to district level if Zambian governments, policy-makers, farmers, and researchers wish to use this data to determine crop imports, exports, and storage according to district summaries. "
   ]
  },
  {
   "cell_type": "code",
   "execution_count": null,
   "id": "3dceaaf7-84d7-49b4-a2da-e0086c67c314",
   "metadata": {},
   "outputs": [],
   "source": [
    "features_all_years_summary = (\n",
    "    features_all_years\n",
    "    .groupby(['district',\"year\"], as_index = False)['yield_prediction']\n",
    "    .mean()\n",
    "    .set_index('district')\n",
    ")"
   ]
  },
  {
   "cell_type": "code",
   "execution_count": null,
   "id": "25f59be6-5dd0-49f2-bfcc-eb2a2ebea5cd",
   "metadata": {},
   "outputs": [],
   "source": [
    "# join Zambia's shapefile to the summarized features to map the districts\n",
    "# reset the index so it is a properly formatted dataframe\n",
    "features_all_years_summary = features_all_years_summary.join(country_shp).reset_index()"
   ]
  },
  {
   "cell_type": "markdown",
   "id": "d88e5b61-80c4-4b22-a0fa-5a2dbd415517",
   "metadata": {},
   "source": [
    "Now that the geometries have been converted to districts from points, the geomatries are now polygons. There is still a row for each district for each year."
   ]
  },
  {
   "cell_type": "markdown",
   "id": "60f98fce-e33f-49dc-a17c-c9d52215523a",
   "metadata": {},
   "source": [
    "In order to change the year visualized, simply change the year in the following code and re-run the chunk."
   ]
  },
  {
   "cell_type": "code",
   "execution_count": null,
   "id": "7084cc6b-b854-46f4-b2e2-02ba71482002",
   "metadata": {},
   "outputs": [],
   "source": [
    "features_all_years_summary[features_all_years_summary.year == 2020].plot(column = \"yield_prediction\")"
   ]
  },
  {
   "cell_type": "markdown",
   "id": "45acaeba-bf52-49c3-89e9-00dd307b57e6",
   "metadata": {},
   "source": [
    "Plot a boxplot for each year to visualize the range and quantile distribution of each year's crop predictions, summarized to district level. This enables us to identify years with exceptional disparities between the predicted yields by district. It also allows us to identify years that have many outliers."
   ]
  },
  {
   "cell_type": "code",
   "execution_count": null,
   "id": "9beb5eff-a4c8-4a54-85f2-52a1fcf8e37c",
   "metadata": {},
   "outputs": [],
   "source": [
    "plt.figure(figsize=(10, 5))\n",
    "sns.boxplot(x=\"year\", y=\"yield_prediction\", data = features_all_years_summary)\n",
    "plt.xlabel(\"Year\", fontsize=15)\n",
    "plt.ylabel(\"Predicted Yield\", fontsize=15)"
   ]
  },
  {
   "cell_type": "markdown",
   "id": "d910fe1b-bb79-497a-952a-0c7d3a3e95ee",
   "metadata": {},
   "source": [
    "Visualize the total crop yield predictions by year. This bar chart shows the sum of all the district crop yields."
   ]
  },
  {
   "cell_type": "code",
   "execution_count": null,
   "id": "427592b4-686f-4ab1-b781-5f0194dbe081",
   "metadata": {},
   "outputs": [],
   "source": [
    "plt.figure(figsize=(10, 5))\n",
    "sns.barplot(x=\"year\", y=\"yield_prediction\", data = features_all_years_summary, estimator = sum)"
   ]
  },
  {
   "cell_type": "markdown",
   "id": "bb543c8f-3e58-4075-b3c2-95804d3c6e7a",
   "metadata": {},
   "source": [
    "## Yield and Residual Plots\n",
    "\n",
    "Create a dataframe of residuals called `residuals_df` from the `features_summary` dataframe. Note that we are _not_ using the predicted crop yields for _all_ years for these residuals, but rather the ground-truth crop yields for just the years through 2018.\n",
    "\n",
    "The residuals give us an idea of the amount of uncertianty that is present in our model. By demeaning the residuals over space, we are able to remove the uncertainty over space and better determine our model performance over time and our uncertainty over time."
   ]
  },
  {
   "cell_type": "code",
   "execution_count": null,
   "id": "9b4918a9-c0c4-4a0d-bb32-3ff240200571",
   "metadata": {},
   "outputs": [],
   "source": [
    "x_all = features_summary.drop(drop_cols, axis = 1)\n",
    "\n",
    "# create empty dataframe to then populate with columns\n",
    "residual_df = pd.DataFrame()\n",
    "\n",
    "residual_df[\"yield_mt\"] = features_summary.yield_mt.to_numpy()\n",
    "residual_df[\"log_yield\"] = np.log10(features_summary.yield_mt.to_numpy() + 1)\n",
    "residual_df[\"prediction\"] = np.maximum(ridge_cv_random.predict(x_all), 0)\n",
    "residual_df[\"residual\"] = residual_df[\"log_yield\"] - residual_df[\"prediction\"]\n",
    "residual_df[\"year\"] = features_summary.year\n",
    "residual_df[\"district\"] = features_summary.district\n",
    "# join the district geometries\n",
    "residual_df = residual_df.join(country_shp, how = \"left\", on = \"district\")\n",
    "\n",
    "# demean by location so we can analyze the data over time\n",
    "residual_df[\"district_yield_mean\"] = residual_df.groupby('district')['log_yield'].transform('mean')\n",
    "residual_df[\"district_prediction_mean\"] = residual_df.groupby('district')['prediction'].transform('mean')\n",
    "residual_df[\"demean_yield\"] = residual_df[\"log_yield\"] - residual_df[\"district_yield_mean\"]\n",
    "residual_df[\"demean_prediction\"] = residual_df[\"prediction\"] - residual_df[\"district_prediction_mean\"]\n",
    "residual_gdf = geopandas.GeoDataFrame(residual_df)\n",
    "\n",
    "residual_gdf.head(3)"
   ]
  },
  {
   "cell_type": "markdown",
   "id": "f30a2560-4eca-4061-897f-4bb7e2f7c708",
   "metadata": {},
   "source": [
    "Visualize the residuals for the ground truth crop yields through 2018 with a boxplot."
   ]
  },
  {
   "cell_type": "code",
   "execution_count": null,
   "id": "1676a675-bd63-4202-b647-85f0a4fb6152",
   "metadata": {},
   "outputs": [],
   "source": [
    "plt.figure(figsize=(6, 5))\n",
    "sns.boxplot(x=\"year\", y=\"log_yield\", data=residual_df)\n",
    "plt.xlabel(\"Year\", fontsize=15)\n",
    "plt.ylabel(\"Log Yield\", fontsize=15)"
   ]
  },
  {
   "cell_type": "markdown",
   "id": "fc5edb9d-5840-4847-8f04-80f3de8ef0e1",
   "metadata": {},
   "source": [
    "Visualize the residuals as a sum by year with a bar plot."
   ]
  },
  {
   "cell_type": "code",
   "execution_count": null,
   "id": "1f1ffa4d-6c2d-4f16-b10d-7ba68bad0b38",
   "metadata": {},
   "outputs": [],
   "source": [
    "plt.figure(figsize=(6, 5))\n",
    "sns.barplot(x=\"year\", y=\"log_yield\", data=residual_df, estimator = sum)"
   ]
  },
  {
   "cell_type": "markdown",
   "id": "7cd0e82a-7842-4ffe-aa54-0998a766d162",
   "metadata": {},
   "source": [
    "Visualize the crop yield residuals by year as a histogram to determine how they are distributed."
   ]
  },
  {
   "cell_type": "code",
   "execution_count": null,
   "id": "bd79b57f-1fcc-4364-ba15-db3eed9e7e3c",
   "metadata": {},
   "outputs": [],
   "source": [
    "g = sns.FacetGrid(\n",
    "    residual_gdf, \n",
    "    col=\"year\", \n",
    "#     col_wrap = 3, \n",
    "    height=4, \n",
    "    aspect=1\n",
    ")\n",
    "g.map(sns.histplot, \"yield_mt\", bins = 20)\n",
    "g.set_axis_labels(\"Yield (MT)\")"
   ]
  },
  {
   "cell_type": "markdown",
   "id": "45dd3e09-071a-4bb3-b706-9843ef4e58cc",
   "metadata": {},
   "source": [
    "Visualize the log-transformed crop yield residuals by year as a histogram to compare how they are distributed after the transformation."
   ]
  },
  {
   "cell_type": "code",
   "execution_count": null,
   "id": "51204a02-7ac4-49bc-b4a6-d4d89f18b573",
   "metadata": {},
   "outputs": [],
   "source": [
    "g = sns.FacetGrid(\n",
    "    residual_gdf, \n",
    "    col=\"year\", \n",
    "#     col_wrap = 3, \n",
    "    height=4, \n",
    "    aspect=1\n",
    ")\n",
    "g.map(sns.histplot, \"log_yield\", bins = 20)\n",
    "g.set_axis_labels(r\"$\\log_{10}(1 + Crop Yield)$\")"
   ]
  },
  {
   "cell_type": "markdown",
   "id": "c8b1529f-abd6-4dde-9af2-7128cfd908ce",
   "metadata": {},
   "source": [
    "#### Crop prediction histogram"
   ]
  },
  {
   "cell_type": "code",
   "execution_count": null,
   "id": "f611311c-5df0-4cbf-b3ac-37931e00acd4",
   "metadata": {},
   "outputs": [],
   "source": [
    "g = sns.FacetGrid(\n",
    "    residual_gdf, \n",
    "    col=\"year\", \n",
    "#     col_wrap = 3, \n",
    "    height=4, \n",
    "    aspect=1\n",
    ")\n",
    "g.map(sns.histplot, \"prediction\", bins = 20)\n",
    "g.set_axis_labels(r\"Crop yield predictions\")"
   ]
  },
  {
   "cell_type": "markdown",
   "id": "1da7448e-ad5f-488d-bde5-dab420c74859",
   "metadata": {},
   "source": [
    "#### Residual histogram"
   ]
  },
  {
   "cell_type": "code",
   "execution_count": null,
   "id": "1e0628f0-fce2-47ff-b96a-8a4deec322ef",
   "metadata": {},
   "outputs": [],
   "source": [
    "g = sns.FacetGrid(\n",
    "    residual_gdf, \n",
    "    col=\"year\", \n",
    "#     col_wrap = 3, \n",
    "    height=4, \n",
    "    aspect=1\n",
    ")\n",
    "g.map(sns.histplot, \"residual\", bins = 20)\n",
    "g.set_axis_labels(r\"Residuals\")"
   ]
  },
  {
   "cell_type": "code",
   "execution_count": null,
   "id": "37f5d92d-0165-409b-aa92-e8224fce2553",
   "metadata": {},
   "outputs": [],
   "source": [
    "residual_gdf.residual.min()"
   ]
  },
  {
   "cell_type": "code",
   "execution_count": null,
   "id": "88730cab-d02a-4df4-9d05-bbbf6b42eebd",
   "metadata": {},
   "outputs": [],
   "source": [
    "residual_gdf.residual.max()"
   ]
  },
  {
   "cell_type": "markdown",
   "id": "8cbac5aa-4029-43e2-9d94-dbaa930aa87b",
   "metadata": {},
   "source": [
    "#### Log crop yield vs residuals"
   ]
  },
  {
   "cell_type": "code",
   "execution_count": null,
   "id": "32ec42e2-81d5-43f4-ab32-926f5f0ffc1d",
   "metadata": {},
   "outputs": [],
   "source": [
    "g = sns.FacetGrid(\n",
    "    residual_gdf, \n",
    "    col=\"year\", \n",
    "#     col_wrap = 3, \n",
    "    height=4, \n",
    "    aspect=1\n",
    ")\n",
    "g.map(sns.scatterplot, \"log_yield\", \"residual\")\n",
    "g.set_axis_labels(r\"$\\log_{10}(1 + Crop Yield)$\")"
   ]
  },
  {
   "cell_type": "markdown",
   "id": "063416fe-51cb-4505-a5c1-59864bf277b3",
   "metadata": {},
   "source": [
    "#### District residuals "
   ]
  },
  {
   "cell_type": "code",
   "execution_count": null,
   "id": "2a0f7002-7619-4fc4-bcb8-98f1317cd94f",
   "metadata": {},
   "outputs": [],
   "source": [
    "if satellite == 'landsat-8-c2-l2':\n",
    "    fig, (ax1,ax2) = plt.subplots(nrows=1, ncols=2, figsize=(13, 5))\n",
    "    ax1 = (residual_gdf[residual_gdf.year == 2014]\n",
    "           .plot(ax = ax1, column = \"residual\", legend = True, norm=colors.Normalize(vmin= -0.4, vmax=0.4), cmap = \"BrBG\")\n",
    "           .set_title(\"2014 Residuals\"))\n",
    "    ax2 = (residual_gdf[residual_gdf.year == 2015]\n",
    "           .plot(ax = ax2, column = \"residual\", legend = True, norm=colors.Normalize(vmin= -0.4, vmax=0.4), cmap = \"BrBG\")\n",
    "           .set_title(\"2015 Residuals\"))\n",
    "else:\n",
    "    pass\n",
    "fig, (ax1,ax2,ax3) = plt.subplots(nrows=1, ncols=3, figsize=(20, 5))\n",
    "ax1 = (residual_gdf[residual_gdf.year == 2016]\n",
    "       .plot(ax = ax1, column = \"residual\", legend = True, norm=colors.Normalize(vmin= -0.4, vmax=0.4), cmap = \"BrBG\")\n",
    "       .set_title(\"2016 Residuals\"))\n",
    "ax2 = (residual_gdf[residual_gdf.year == 2017]\n",
    "       .plot(ax = ax2, column = \"residual\", legend = True, norm=colors.Normalize(vmin= -0.4, vmax=0.4), cmap = \"BrBG\")\n",
    "       .set_title(\"2017 Residuals\"))\n",
    "ax3 = (residual_gdf[residual_gdf.year == 2018]\n",
    "       .plot(ax = ax3, column = \"residual\", legend = True, norm=colors.Normalize(vmin= -0.4, vmax=0.4), cmap = \"BrBG\")\n",
    "       .set_title(\"2018 Residuals\"))\n",
    "\n",
    "caption = \"A positive value is an underestimated prediction (the prediction is lower than the actual yield), a negative value is an over estimated prediction\"\n",
    "plt.figtext(0.5, 0.01, caption, wrap=True, horizontalalignment='center', fontsize=12)\n"
   ]
  },
  {
   "cell_type": "markdown",
   "id": "4c06eb6d-6b28-4493-982f-c2bdc6e18517",
   "metadata": {},
   "source": [
    "#### Difference from the mean"
   ]
  },
  {
   "cell_type": "code",
   "execution_count": null,
   "id": "f37e53cc-050b-4718-8882-410d02c5aeb0",
   "metadata": {},
   "outputs": [],
   "source": [
    "g = sns.FacetGrid(\n",
    "    residual_gdf, \n",
    "    col=\"year\", \n",
    "#     col_wrap = 3, \n",
    "    height=4, \n",
    "    aspect=1\n",
    ")\n",
    "g.map(sns.scatterplot, \"demean_yield\", \"demean_prediction\")\n",
    "g.set_axis_labels('Difference from Yield Mean', 'Difference from Prediction Mean')"
   ]
  },
  {
   "cell_type": "code",
   "execution_count": null,
   "id": "5c993e12-982a-42e9-8c35-28770ab2b420",
   "metadata": {},
   "outputs": [],
   "source": [
    "fig, ax = plt.subplots(figsize= (6, 5))\n",
    "ax.axline([-.2, -.2], [.2, .2], c = \"k\")\n",
    "plt.scatter(residual_gdf.demean_yield, residual_gdf.demean_prediction)\n",
    "plt.title(\"Demeaned truth and predictions by district\")\n",
    "plt.xlabel('Difference from Yield Mean')\n",
    "plt.ylabel('Difference from Predictions Mean')\n",
    "r_squared = r2_score(residual_gdf[\"demean_yield\"], residual_gdf[\"demean_prediction\"])\n",
    "plt.text(\n",
    "    -0.2,\n",
    "    .18,\n",
    "    s=f\"Demeaned R$^2$ = {r_squared:0.2f}\",\n",
    "    fontsize=15,\n",
    "    fontweight=\"bold\",\n",
    ")\n",
    "plt.savefig(f'images/{feature_file_name}_demean.jpg', dpi=300)"
   ]
  },
  {
   "cell_type": "code",
   "execution_count": null,
   "id": "167f9228-34b2-4f04-b4b0-d47e78542e26",
   "metadata": {},
   "outputs": [],
   "source": [
    "for yr in range(year_start+1, 2018):\n",
    "    r_squared = r2_score(residual_gdf[residual_gdf.year == yr][\"demean_yield\"], residual_gdf[residual_gdf.year == yr][\"demean_prediction\"])\n",
    "    pearson_r = pearsonr(residual_gdf[residual_gdf.year == yr][\"demean_yield\"], residual_gdf[residual_gdf.year == yr][\"demean_prediction\"])\n",
    "    \n",
    "    print(yr, f\"    R^2: {r_squared:.2f}\\n\",\n",
    "          f\"Pearson's r: {pearson_r[0]:.2f}\\n\", \n",
    "          sep = \"\")\n",
    "    \n",
    "r_squared = r2_score(residual_gdf[\"demean_yield\"], residual_gdf[\"demean_prediction\"])\n",
    "pearson_r = pearsonr(residual_gdf[\"demean_yield\"], residual_gdf[\"demean_prediction\"])\n",
    "print(f\"All     R^2: {r_squared:.2f}\\n\",\n",
    "      f\"Pearson's r: {pearson_r[0]:.2f}\", sep = \"\")"
   ]
  },
  {
   "cell_type": "code",
   "execution_count": null,
   "id": "034bd1d1-4490-4801-a729-331c00e0a347",
   "metadata": {},
   "outputs": [],
   "source": [
    "r2 = round(pearson_r[0] ** 2, 2)\n",
    "r2"
   ]
  },
  {
   "cell_type": "markdown",
   "id": "8e907866-1c8b-41dc-a346-01c0a53ee3fb",
   "metadata": {},
   "source": [
    "#### Join residuals to the features for _all_ years to visualize the residuals of the features before they were summarized to district level."
   ]
  },
  {
   "cell_type": "code",
   "execution_count": null,
   "id": "f2f0e606-93a8-477f-b15d-b9a98d2a84ee",
   "metadata": {},
   "outputs": [],
   "source": [
    "complete_df = (\n",
    "    features_all_years_summary\n",
    "    .set_index(['district', 'year'])\n",
    "    .join(residual_df\n",
    "          .drop('geometry', axis = 1)\n",
    "          .set_index(['district', 'year'])\n",
    "         )\n",
    "    .reset_index()\n",
    ")\n",
    "\n",
    "complete_df.head(3)"
   ]
  },
  {
   "cell_type": "code",
   "execution_count": null,
   "id": "2f045cfe-8479-41c7-bd04-9247843e4094",
   "metadata": {},
   "outputs": [],
   "source": [
    "fig, ax1 = plt.subplots(figsize=(10, 5))\n",
    "tidy = complete_df.melt(id_vars='year').rename(columns=str.title)\n",
    "tidy = tidy[tidy.Variable.isin(['yield_prediction', 'log_yield'])]\n",
    "sns.barplot(x='Year', y='Value', hue='Variable', data=tidy, ax=ax1, ci = None)\n",
    "sns.despine(fig)\n",
    "\n",
    "h, l = ax1.get_legend_handles_labels()\n",
    "ax1.legend(h, ['Predicted Yield', 'Observed Yield'],loc='lower left')\n",
    "\n",
    "plt.savefig(f'images/{feature_file_name}_yield_pred.jpg', dpi=300)"
   ]
  },
  {
   "cell_type": "code",
   "execution_count": null,
   "id": "4149c18b-e563-4575-9c13-db636db64af7",
   "metadata": {},
   "outputs": [],
   "source": [
    "plt.figure(figsize=(10, 5))\n",
    "sns.barplot(x=\"year\", y=\"yield_prediction\", data=complete_df, estimator = sum)"
   ]
  },
  {
   "cell_type": "markdown",
   "id": "38476b4e-d3b5-4f79-8d2d-651d6416900a",
   "metadata": {},
   "source": [
    "### Congratulations on completing this analysis!"
   ]
  }
 ],
 "metadata": {
  "kernelspec": {
   "display_name": "mosaiks_modeling",
   "language": "python",
   "name": "mosaiks_modeling"
  },
  "language_info": {
   "codemirror_mode": {
    "name": "ipython",
    "version": 3
   },
   "file_extension": ".py",
   "mimetype": "text/x-python",
   "name": "python",
   "nbconvert_exporter": "python",
   "pygments_lexer": "ipython3",
   "version": "3.11.0"
  }
 },
 "nbformat": 4,
 "nbformat_minor": 5
}
