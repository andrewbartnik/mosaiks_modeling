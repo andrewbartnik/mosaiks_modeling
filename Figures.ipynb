{
 "cells": [
  {
   "cell_type": "markdown",
   "id": "7092f7dc-2033-4b37-90f4-d9ced04364c4",
   "metadata": {},
   "source": [
    "# Top Model Results and Analysis"
   ]
  },
  {
   "cell_type": "code",
   "execution_count": 2,
   "id": "56c81364-569c-4e88-97d8-5f2dfad3f02b",
   "metadata": {},
   "outputs": [],
   "source": [
    "import warnings\n",
    "import time\n",
    "import os\n",
    "\n",
    "import numpy as np\n",
    "import pandas as pd\n",
    "import matplotlib.pyplot as plt\n",
    "import matplotlib.colors as colors\n",
    "\n",
    "import geopandas\n",
    "\n",
    "import pyarrow\n",
    "from sklearn.linear_model import RidgeCV\n",
    "from sklearn.model_selection import train_test_split\n",
    "from sklearn.metrics import r2_score\n",
    "from sklearn.metrics import mean_squared_error\n",
    "from sklearn.impute import SimpleImputer\n",
    "from scipy.stats import spearmanr\n",
    "from scipy.linalg import LinAlgWarning\n",
    "from scipy.stats import pearsonr\n",
    "\n",
    "import pickle\n",
    "import math\n",
    "import seaborn as sns"
   ]
  },
  {
   "cell_type": "code",
   "execution_count": 56,
   "id": "44449549-219d-436f-84b0-648695bdb363",
   "metadata": {},
   "outputs": [
    {
     "data": {
      "text/html": [
       "<style>\n",
       "table {float:left}\n",
       "</style>\n"
      ],
      "text/plain": [
       "<IPython.core.display.HTML object>"
      ]
     },
     "metadata": {},
     "output_type": "display_data"
    }
   ],
   "source": [
    "%%html\n",
    "<style>\n",
    "table {float:left}\n",
    "</style>"
   ]
  },
  {
   "cell_type": "markdown",
   "id": "020c7ea1-6343-4335-8b58-aa5e94b124fa",
   "metadata": {},
   "source": [
    "## Model parameters\n",
    "\n",
    "Appriximately 10 parameters were varied during model optimization. Our best performing model was determined to use Landsat 8 imagery. A table o and bands 1-7 . Parameters varied The parameters chosen  top model was Landsat 8\n",
    "\n",
    "\n",
    "\n",
    "Parameters      | Value\n",
    "-------------   | ------------- \n",
    "Satellite       | Landsat 8 / Sentinel 2   \n",
    "Bands           | 1-2-3-4-5-6-7\n",
    "Years           | 2014-2018\n",
    "Months          | 4-9\n",
    "Number of points| 15,000\n",
    "Crop mask       | None\n",
    "Weighted averge | None\n",
    "Train **n**     | 272\n",
    "Test **n**      | 68"
   ]
  },
  {
   "cell_type": "markdown",
   "id": "563971de-2e24-4219-b382-0ff204d4011d",
   "metadata": {},
   "source": [
    "## Load model"
   ]
  },
  {
   "cell_type": "code",
   "execution_count": 4,
   "id": "fe5e44f4-fdb1-499f-807b-159773115822",
   "metadata": {},
   "outputs": [
    {
     "name": "stdout",
     "output_type": "stream",
     "text": [
      "Validation R2 performance 0.58\n"
     ]
    }
   ],
   "source": [
    "# load model\n",
    "\n",
    "filename = 'data/results/final_model.sav'\n",
    "\n",
    "ridge_cv_random_loaded = pickle.load(open(filename, 'rb'))\n",
    "\n",
    "print(f\"Validation R2 performance {ridge_cv_random_loaded.best_score_:0.2f}\")"
   ]
  },
  {
   "cell_type": "code",
   "execution_count": 57,
   "id": "bc5ef9b2-060a-4959-acb7-065fe3823586",
   "metadata": {},
   "outputs": [
    {
     "data": {
      "text/plain": [
       "RidgeCV(alphas=array([1.e-08, 1.e-07, 1.e-06, 1.e-05, 1.e-04, 1.e-03, 1.e-02, 1.e-01,\n",
       "       1.e+00, 1.e+01, 1.e+02, 1.e+03, 1.e+04, 1.e+05, 1.e+06, 1.e+07,\n",
       "       1.e+08]),\n",
       "        cv=5)"
      ]
     },
     "execution_count": 57,
     "metadata": {},
     "output_type": "execute_result"
    }
   ],
   "source": [
    "ridge_cv_random_loaded"
   ]
  },
  {
   "cell_type": "markdown",
   "id": "27793027-0805-4f5b-bfe6-7e7ab0211b43",
   "metadata": {},
   "source": [
    "## Import Zambia shapefile"
   ]
  },
  {
   "cell_type": "code",
   "execution_count": 10,
   "id": "3ab386b0-38e8-4a14-8302-8ebd31d7653f",
   "metadata": {},
   "outputs": [],
   "source": [
    "country_code = \"ZMB\"\n",
    "num_features = 1000\n",
    "data_dir = \"/capstone/cropmosaiks/data\""
   ]
  },
  {
   "cell_type": "code",
   "execution_count": 27,
   "id": "d89fbaa3-0b22-468d-9354-c1146ee9a30c",
   "metadata": {},
   "outputs": [
    {
     "data": {
      "text/plain": [
       "(72, 1)"
      ]
     },
     "execution_count": 27,
     "metadata": {},
     "output_type": "execute_result"
    }
   ],
   "source": [
    "country_shp = geopandas.read_file(f'{data_dir}/boundaries/gadm36_{country_code}_2.shp')\n",
    "country_shp = country_shp.rename(columns = {'NAME_2': 'district'})[['district', 'geometry']]\n",
    "country_shp.district = country_shp.district.replace(\"MPongwe\", 'Mpongwe', regex=True)\n",
    "country_districts = country_shp.district.sort_values().unique().tolist()\n",
    "country_shp = country_shp.set_index('district')\n",
    "country_shp.shape\n",
    "# country_shp.plot(figsize = (12,10), linewidth = 1, edgecolor = 'black' )\n",
    "# country_shp.plot()"
   ]
  },
  {
   "cell_type": "markdown",
   "id": "06daf5ff-b4d6-4139-b512-c5cf844a2a6a",
   "metadata": {},
   "source": [
    "## Import Zambia Crop Data"
   ]
  },
  {
   "cell_type": "code",
   "execution_count": 15,
   "id": "636c166a-ded9-4d69-b6bc-ec121d804e1b",
   "metadata": {},
   "outputs": [],
   "source": [
    "crop_df = pd.read_csv(data_dir+'/crops/cfs_maize_districts_zambia_2009_2018.csv')\n",
    "crop_df.district = crop_df.district.replace(\n",
    "    {\"Itezhi-tezhi\": 'Itezhi-Tezhi',\n",
    "     \"Kapiri-Mposhi\": 'Kapiri Mposhi',\n",
    "     \"Shang'ombo\": 'Shangombo',\n",
    "     \"Chienge\": 'Chiengi'\n",
    "    }, regex=True)\n",
    "crop_districts = crop_df.district.sort_values().unique().tolist()\n",
    "crop_df = crop_df[['district', 'year', 'yield_mt']]\n",
    "ln = len(crop_df[crop_df.year == 2016].district)\n",
    "crop_df = crop_df.set_index('district')"
   ]
  },
  {
   "cell_type": "markdown",
   "id": "cfdb0e8c-0e41-40ab-8a6d-b9b801860cff",
   "metadata": {},
   "source": [
    "## Convert to GeoDataFrame and Merge Shapefile with Crop Data"
   ]
  },
  {
   "cell_type": "code",
   "execution_count": 20,
   "id": "c1d4509a-dd7f-4db5-84e2-7b5095b70662",
   "metadata": {},
   "outputs": [],
   "source": [
    "country_crop = geopandas.GeoDataFrame(crop_df.join(country_shp), crs = country_shp.crs)"
   ]
  },
  {
   "cell_type": "code",
   "execution_count": 71,
   "id": "680c7b76-92a4-4510-8637-a0e48a5d05e9",
   "metadata": {},
   "outputs": [
    {
     "data": {
      "text/html": [
       "<div>\n",
       "<style scoped>\n",
       "    .dataframe tbody tr th:only-of-type {\n",
       "        vertical-align: middle;\n",
       "    }\n",
       "\n",
       "    .dataframe tbody tr th {\n",
       "        vertical-align: top;\n",
       "    }\n",
       "\n",
       "    .dataframe thead th {\n",
       "        text-align: right;\n",
       "    }\n",
       "</style>\n",
       "<table border=\"1\" class=\"dataframe\">\n",
       "  <thead>\n",
       "    <tr style=\"text-align: right;\">\n",
       "      <th></th>\n",
       "      <th>year</th>\n",
       "      <th>yield_mt</th>\n",
       "      <th>geometry</th>\n",
       "    </tr>\n",
       "    <tr>\n",
       "      <th>district</th>\n",
       "      <th></th>\n",
       "      <th></th>\n",
       "      <th></th>\n",
       "    </tr>\n",
       "  </thead>\n",
       "  <tbody>\n",
       "    <tr>\n",
       "      <th>Chadiza</th>\n",
       "      <td>2009</td>\n",
       "      <td>1.333924</td>\n",
       "      <td>POLYGON ((32.31720 -13.95683, 32.33500 -13.965...</td>\n",
       "    </tr>\n",
       "    <tr>\n",
       "      <th>Chadiza</th>\n",
       "      <td>2010</td>\n",
       "      <td>1.852544</td>\n",
       "      <td>POLYGON ((32.31720 -13.95683, 32.33500 -13.965...</td>\n",
       "    </tr>\n",
       "    <tr>\n",
       "      <th>Chadiza</th>\n",
       "      <td>2011</td>\n",
       "      <td>6.846486</td>\n",
       "      <td>POLYGON ((32.31720 -13.95683, 32.33500 -13.965...</td>\n",
       "    </tr>\n",
       "    <tr>\n",
       "      <th>Chadiza</th>\n",
       "      <td>2012</td>\n",
       "      <td>2.148661</td>\n",
       "      <td>POLYGON ((32.31720 -13.95683, 32.33500 -13.965...</td>\n",
       "    </tr>\n",
       "    <tr>\n",
       "      <th>Chadiza</th>\n",
       "      <td>2013</td>\n",
       "      <td>2.008807</td>\n",
       "      <td>POLYGON ((32.31720 -13.95683, 32.33500 -13.965...</td>\n",
       "    </tr>\n",
       "  </tbody>\n",
       "</table>\n",
       "</div>"
      ],
      "text/plain": [
       "          year  yield_mt                                           geometry\n",
       "district                                                                   \n",
       "Chadiza   2009  1.333924  POLYGON ((32.31720 -13.95683, 32.33500 -13.965...\n",
       "Chadiza   2010  1.852544  POLYGON ((32.31720 -13.95683, 32.33500 -13.965...\n",
       "Chadiza   2011  6.846486  POLYGON ((32.31720 -13.95683, 32.33500 -13.965...\n",
       "Chadiza   2012  2.148661  POLYGON ((32.31720 -13.95683, 32.33500 -13.965...\n",
       "Chadiza   2013  2.008807  POLYGON ((32.31720 -13.95683, 32.33500 -13.965..."
      ]
     },
     "execution_count": 71,
     "metadata": {},
     "output_type": "execute_result"
    }
   ],
   "source": [
    "country_crop.head()"
   ]
  },
  {
   "cell_type": "code",
   "execution_count": 75,
   "id": "34fedf56-5a03-491c-b5c0-5312ab34922c",
   "metadata": {},
   "outputs": [],
   "source": [
    "import math"
   ]
  },
  {
   "cell_type": "code",
   "execution_count": 81,
   "id": "d53fe6dd-e32b-4c2a-9cf1-5c9f06db3d26",
   "metadata": {},
   "outputs": [
    {
     "ename": "AttributeError",
     "evalue": "'GeoDataFrame' object has no attribute 'math'",
     "output_type": "error",
     "traceback": [
      "\u001b[0;31m---------------------------------------------------------------------------\u001b[0m",
      "\u001b[0;31mAttributeError\u001b[0m                            Traceback (most recent call last)",
      "\u001b[0;32m/tmp/ipykernel_1046874/3209531529.py\u001b[0m in \u001b[0;36m<module>\u001b[0;34m\u001b[0m\n\u001b[0;32m----> 1\u001b[0;31m \u001b[0mcountry_crop\u001b[0m\u001b[0;34m[\u001b[0m\u001b[0;34m'yield_mt_all'\u001b[0m\u001b[0;34m]\u001b[0m \u001b[0;34m=\u001b[0m \u001b[0mcountry_crop\u001b[0m\u001b[0;34m.\u001b[0m\u001b[0mmath\u001b[0m\u001b[0;34m.\u001b[0m\u001b[0mlog10\u001b[0m\u001b[0;34m(\u001b[0m\u001b[0;34m'yield_mt'\u001b[0m\u001b[0;34m)\u001b[0m\u001b[0;34m\u001b[0m\u001b[0;34m\u001b[0m\u001b[0m\n\u001b[0m",
      "\u001b[0;32m/opt/python/3.7.7/lib/python3.7/site-packages/pandas/core/generic.py\u001b[0m in \u001b[0;36m__getattr__\u001b[0;34m(self, name)\u001b[0m\n\u001b[1;32m   5476\u001b[0m         ):\n\u001b[1;32m   5477\u001b[0m             \u001b[0;32mreturn\u001b[0m \u001b[0mself\u001b[0m\u001b[0;34m[\u001b[0m\u001b[0mname\u001b[0m\u001b[0;34m]\u001b[0m\u001b[0;34m\u001b[0m\u001b[0;34m\u001b[0m\u001b[0m\n\u001b[0;32m-> 5478\u001b[0;31m         \u001b[0;32mreturn\u001b[0m \u001b[0mobject\u001b[0m\u001b[0;34m.\u001b[0m\u001b[0m__getattribute__\u001b[0m\u001b[0;34m(\u001b[0m\u001b[0mself\u001b[0m\u001b[0;34m,\u001b[0m \u001b[0mname\u001b[0m\u001b[0;34m)\u001b[0m\u001b[0;34m\u001b[0m\u001b[0;34m\u001b[0m\u001b[0m\n\u001b[0m\u001b[1;32m   5479\u001b[0m \u001b[0;34m\u001b[0m\u001b[0m\n\u001b[1;32m   5480\u001b[0m     \u001b[0;32mdef\u001b[0m \u001b[0m__setattr__\u001b[0m\u001b[0;34m(\u001b[0m\u001b[0mself\u001b[0m\u001b[0;34m,\u001b[0m \u001b[0mname\u001b[0m\u001b[0;34m:\u001b[0m \u001b[0mstr\u001b[0m\u001b[0;34m,\u001b[0m \u001b[0mvalue\u001b[0m\u001b[0;34m)\u001b[0m \u001b[0;34m->\u001b[0m \u001b[0;32mNone\u001b[0m\u001b[0;34m:\u001b[0m\u001b[0;34m\u001b[0m\u001b[0;34m\u001b[0m\u001b[0m\n",
      "\u001b[0;31mAttributeError\u001b[0m: 'GeoDataFrame' object has no attribute 'math'"
     ]
    }
   ],
   "source": [
    "country_crop['yield_mt_all'] = country_crop.math.log10('yield_mt')"
   ]
  },
  {
   "cell_type": "code",
   "execution_count": null,
   "id": "c31996da-d0ee-4220-8ce9-0c2e5d223a95",
   "metadata": {},
   "outputs": [],
   "source": [
    "\n",
    "country_crop['yield_mt_converted'] = country_crop[country_crop.yield_mt]"
   ]
  },
  {
   "cell_type": "markdown",
   "id": "01aaed0b-6080-46c2-a920-f72ec965242c",
   "metadata": {},
   "source": [
    "### Plot individual year"
   ]
  },
  {
   "cell_type": "code",
   "execution_count": 70,
   "id": "220bae1c-dfe7-4987-a79d-489da4ed5fd1",
   "metadata": {},
   "outputs": [
    {
     "data": {
      "text/plain": [
       "<Figure size 432x288 with 0 Axes>"
      ]
     },
     "metadata": {},
     "output_type": "display_data"
    },
    {
     "data": {
      "image/png": "[encoded data removed]",
      "text/plain": [
       "<Figure size 864x720 with 2 Axes>"
      ]
     },
     "metadata": {
      "needs_background": "light"
     },
     "output_type": "display_data"
    }
   ],
   "source": [
    "crop_year = 2014\n",
    "\n",
    "plt.figure()\n",
    "country_crop[country_crop.year == crop_year].plot(figsize = (12,10),\n",
    "                                                  column = 'yield_mt',\n",
    "                                                  legend = True,\n",
    "                                                  legend_kwds = {'label': 'Metric tons / hectare','orientation': 'horizontal'},\n",
    "                                                  linewidth = 1,\n",
    "                                                  edgecolor = 'black')\n",
    "plt.axis('off')\n",
    "\n",
    "plt.savefig(f'images/{crop_year}_yield_CSO_data.png', dpi=300, transparent=True)"
   ]
  },
  {
   "cell_type": "markdown",
   "id": "8139a0d1-2f9b-41ce-8623-d307693f2001",
   "metadata": {},
   "source": [
    "## Import Imputed Features"
   ]
  },
  {
   "cell_type": "code",
   "execution_count": 66,
   "id": "8cd92f69-f49b-4268-99d4-5d5f813c999c",
   "metadata": {},
   "outputs": [],
   "source": [
    "features_copy = pd.read_feather(f\"{data_dir}/features/final_model_imputed_features.feather\")"
   ]
  },
  {
   "cell_type": "code",
   "execution_count": 65,
   "id": "a138b86b-7da3-444a-aba0-23d2fbc14149",
   "metadata": {},
   "outputs": [
    {
     "data": {
      "text/html": [
       "<div>\n",
       "<style scoped>\n",
       "    .dataframe tbody tr th:only-of-type {\n",
       "        vertical-align: middle;\n",
       "    }\n",
       "\n",
       "    .dataframe tbody tr th {\n",
       "        vertical-align: top;\n",
       "    }\n",
       "\n",
       "    .dataframe thead th {\n",
       "        text-align: right;\n",
       "    }\n",
       "</style>\n",
       "<table border=\"1\" class=\"dataframe\">\n",
       "  <thead>\n",
       "    <tr style=\"text-align: right;\">\n",
       "      <th></th>\n",
       "      <th>year</th>\n",
       "      <th>0_4</th>\n",
       "      <th>0_5</th>\n",
       "      <th>0_6</th>\n",
       "      <th>0_7</th>\n",
       "      <th>0_8</th>\n",
       "      <th>0_9</th>\n",
       "      <th>1_4</th>\n",
       "      <th>1_5</th>\n",
       "      <th>1_6</th>\n",
       "      <th>...</th>\n",
       "      <th>998_9</th>\n",
       "      <th>999_4</th>\n",
       "      <th>999_5</th>\n",
       "      <th>999_6</th>\n",
       "      <th>999_7</th>\n",
       "      <th>999_8</th>\n",
       "      <th>999_9</th>\n",
       "      <th>crop_perc</th>\n",
       "      <th>district</th>\n",
       "      <th>geometry</th>\n",
       "    </tr>\n",
       "  </thead>\n",
       "  <tbody>\n",
       "    <tr>\n",
       "      <th>0</th>\n",
       "      <td>2014</td>\n",
       "      <td>2.796088</td>\n",
       "      <td>2.169905</td>\n",
       "      <td>1.877239</td>\n",
       "      <td>1.058961</td>\n",
       "      <td>0.874885</td>\n",
       "      <td>1.043665</td>\n",
       "      <td>3.728270</td>\n",
       "      <td>3.899104</td>\n",
       "      <td>4.706322</td>\n",
       "      <td>...</td>\n",
       "      <td>2.577646</td>\n",
       "      <td>6.166853</td>\n",
       "      <td>6.677697</td>\n",
       "      <td>8.116331</td>\n",
       "      <td>8.290212</td>\n",
       "      <td>8.556185</td>\n",
       "      <td>8.622112</td>\n",
       "      <td>0.0</td>\n",
       "      <td>Kalabo</td>\n",
       "      <td>b'\\x01\\x01\\x00\\x00\\x00L\\xcf\\xe8\\xc1\\x18\\x006@\\...</td>\n",
       "    </tr>\n",
       "    <tr>\n",
       "      <th>1</th>\n",
       "      <td>2015</td>\n",
       "      <td>1.746281</td>\n",
       "      <td>1.908137</td>\n",
       "      <td>1.600143</td>\n",
       "      <td>1.195653</td>\n",
       "      <td>1.250450</td>\n",
       "      <td>1.112692</td>\n",
       "      <td>4.794718</td>\n",
       "      <td>5.982648</td>\n",
       "      <td>5.623389</td>\n",
       "      <td>...</td>\n",
       "      <td>2.806297</td>\n",
       "      <td>8.181073</td>\n",
       "      <td>9.834212</td>\n",
       "      <td>9.577337</td>\n",
       "      <td>9.478734</td>\n",
       "      <td>10.115788</td>\n",
       "      <td>9.887067</td>\n",
       "      <td>0.0</td>\n",
       "      <td>Kalabo</td>\n",
       "      <td>b'\\x01\\x01\\x00\\x00\\x00L\\xcf\\xe8\\xc1\\x18\\x006@\\...</td>\n",
       "    </tr>\n",
       "    <tr>\n",
       "      <th>2</th>\n",
       "      <td>2016</td>\n",
       "      <td>2.224097</td>\n",
       "      <td>2.074300</td>\n",
       "      <td>1.898633</td>\n",
       "      <td>1.076144</td>\n",
       "      <td>1.037122</td>\n",
       "      <td>0.774001</td>\n",
       "      <td>5.436888</td>\n",
       "      <td>5.968930</td>\n",
       "      <td>5.416975</td>\n",
       "      <td>...</td>\n",
       "      <td>2.704272</td>\n",
       "      <td>9.098929</td>\n",
       "      <td>9.766782</td>\n",
       "      <td>9.202447</td>\n",
       "      <td>9.824132</td>\n",
       "      <td>9.903685</td>\n",
       "      <td>9.594785</td>\n",
       "      <td>0.0</td>\n",
       "      <td>Kalabo</td>\n",
       "      <td>b'\\x01\\x01\\x00\\x00\\x00L\\xcf\\xe8\\xc1\\x18\\x006@\\...</td>\n",
       "    </tr>\n",
       "    <tr>\n",
       "      <th>3</th>\n",
       "      <td>2017</td>\n",
       "      <td>2.587581</td>\n",
       "      <td>3.022594</td>\n",
       "      <td>2.533386</td>\n",
       "      <td>2.202421</td>\n",
       "      <td>1.629587</td>\n",
       "      <td>1.223843</td>\n",
       "      <td>4.188748</td>\n",
       "      <td>4.911941</td>\n",
       "      <td>5.379704</td>\n",
       "      <td>...</td>\n",
       "      <td>2.703153</td>\n",
       "      <td>6.933536</td>\n",
       "      <td>7.877261</td>\n",
       "      <td>8.821350</td>\n",
       "      <td>9.190662</td>\n",
       "      <td>9.328294</td>\n",
       "      <td>9.175184</td>\n",
       "      <td>0.0</td>\n",
       "      <td>Kalabo</td>\n",
       "      <td>b'\\x01\\x01\\x00\\x00\\x00L\\xcf\\xe8\\xc1\\x18\\x006@\\...</td>\n",
       "    </tr>\n",
       "    <tr>\n",
       "      <th>4</th>\n",
       "      <td>2018</td>\n",
       "      <td>2.563579</td>\n",
       "      <td>2.783937</td>\n",
       "      <td>1.787531</td>\n",
       "      <td>2.116021</td>\n",
       "      <td>1.039855</td>\n",
       "      <td>1.102192</td>\n",
       "      <td>3.424892</td>\n",
       "      <td>3.876993</td>\n",
       "      <td>4.317358</td>\n",
       "      <td>...</td>\n",
       "      <td>2.588604</td>\n",
       "      <td>5.816585</td>\n",
       "      <td>6.415036</td>\n",
       "      <td>7.585889</td>\n",
       "      <td>9.062753</td>\n",
       "      <td>8.564720</td>\n",
       "      <td>8.549556</td>\n",
       "      <td>0.0</td>\n",
       "      <td>Kalabo</td>\n",
       "      <td>b'\\x01\\x01\\x00\\x00\\x00L\\xcf\\xe8\\xc1\\x18\\x006@\\...</td>\n",
       "    </tr>\n",
       "  </tbody>\n",
       "</table>\n",
       "<p>5 rows × 6004 columns</p>\n",
       "</div>"
      ],
      "text/plain": [
       "   year       0_4       0_5       0_6       0_7       0_8       0_9       1_4  \\\n",
       "0  2014  2.796088  2.169905  1.877239  1.058961  0.874885  1.043665  3.728270   \n",
       "1  2015  1.746281  1.908137  1.600143  1.195653  1.250450  1.112692  4.794718   \n",
       "2  2016  2.224097  2.074300  1.898633  1.076144  1.037122  0.774001  5.436888   \n",
       "3  2017  2.587581  3.022594  2.533386  2.202421  1.629587  1.223843  4.188748   \n",
       "4  2018  2.563579  2.783937  1.787531  2.116021  1.039855  1.102192  3.424892   \n",
       "\n",
       "        1_5       1_6  ...     998_9     999_4     999_5     999_6     999_7  \\\n",
       "0  3.899104  4.706322  ...  2.577646  6.166853  6.677697  8.116331  8.290212   \n",
       "1  5.982648  5.623389  ...  2.806297  8.181073  9.834212  9.577337  9.478734   \n",
       "2  5.968930  5.416975  ...  2.704272  9.098929  9.766782  9.202447  9.824132   \n",
       "3  4.911941  5.379704  ...  2.703153  6.933536  7.877261  8.821350  9.190662   \n",
       "4  3.876993  4.317358  ...  2.588604  5.816585  6.415036  7.585889  9.062753   \n",
       "\n",
       "       999_8     999_9  crop_perc  district  \\\n",
       "0   8.556185  8.622112        0.0    Kalabo   \n",
       "1  10.115788  9.887067        0.0    Kalabo   \n",
       "2   9.903685  9.594785        0.0    Kalabo   \n",
       "3   9.328294  9.175184        0.0    Kalabo   \n",
       "4   8.564720  8.549556        0.0    Kalabo   \n",
       "\n",
       "                                            geometry  \n",
       "0  b'\\x01\\x01\\x00\\x00\\x00L\\xcf\\xe8\\xc1\\x18\\x006@\\...  \n",
       "1  b'\\x01\\x01\\x00\\x00\\x00L\\xcf\\xe8\\xc1\\x18\\x006@\\...  \n",
       "2  b'\\x01\\x01\\x00\\x00\\x00L\\xcf\\xe8\\xc1\\x18\\x006@\\...  \n",
       "3  b'\\x01\\x01\\x00\\x00\\x00L\\xcf\\xe8\\xc1\\x18\\x006@\\...  \n",
       "4  b'\\x01\\x01\\x00\\x00\\x00L\\xcf\\xe8\\xc1\\x18\\x006@\\...  \n",
       "\n",
       "[5 rows x 6004 columns]"
      ]
     },
     "execution_count": 65,
     "metadata": {},
     "output_type": "execute_result"
    }
   ],
   "source": [
    "features_copy.head()"
   ]
  },
  {
   "cell_type": "code",
   "execution_count": 69,
   "id": "4e9d8030-ea4f-4966-993b-9832b4dec754",
   "metadata": {},
   "outputs": [
    {
     "ename": "DriverError",
     "evalue": "'/capstone/cropmosaiks/data/features/final_model_features.gpkg' not recognized as a supported file format.",
     "output_type": "error",
     "traceback": [
      "\u001b[0;31m---------------------------------------------------------------------------\u001b[0m",
      "\u001b[0;31mCPLE_OpenFailedError\u001b[0m                      Traceback (most recent call last)",
      "\u001b[0;32mfiona/_shim.pyx\u001b[0m in \u001b[0;36mfiona._shim.gdal_open_vector\u001b[0;34m()\u001b[0m\n",
      "\u001b[0;32mfiona/_err.pyx\u001b[0m in \u001b[0;36mfiona._err.exc_wrap_pointer\u001b[0;34m()\u001b[0m\n",
      "\u001b[0;31mCPLE_OpenFailedError\u001b[0m: '/capstone/cropmosaiks/data/features/final_model_features.gpkg' not recognized as a supported file format.",
      "\nDuring handling of the above exception, another exception occurred:\n",
      "\u001b[0;31mDriverError\u001b[0m                               Traceback (most recent call last)",
      "\u001b[0;32m/tmp/ipykernel_1046874/1063233632.py\u001b[0m in \u001b[0;36m<module>\u001b[0;34m\u001b[0m\n\u001b[0;32m----> 1\u001b[0;31m \u001b[0mdata\u001b[0m \u001b[0;34m=\u001b[0m \u001b[0mgeopandas\u001b[0m\u001b[0;34m.\u001b[0m\u001b[0mread_file\u001b[0m\u001b[0;34m(\u001b[0m\u001b[0;34mf\"{data_dir}/features/final_model_features.gpkg\"\u001b[0m\u001b[0;34m)\u001b[0m\u001b[0;34m\u001b[0m\u001b[0;34m\u001b[0m\u001b[0m\n\u001b[0m",
      "\u001b[0;32m/opt/python/3.7.7/lib/python3.7/site-packages/geopandas/io/file.py\u001b[0m in \u001b[0;36m_read_file\u001b[0;34m(filename, bbox, mask, rows, **kwargs)\u001b[0m\n\u001b[1;32m    199\u001b[0m \u001b[0;34m\u001b[0m\u001b[0m\n\u001b[1;32m    200\u001b[0m     \u001b[0;32mwith\u001b[0m \u001b[0mfiona_env\u001b[0m\u001b[0;34m(\u001b[0m\u001b[0;34m)\u001b[0m\u001b[0;34m:\u001b[0m\u001b[0;34m\u001b[0m\u001b[0;34m\u001b[0m\u001b[0m\n\u001b[0;32m--> 201\u001b[0;31m         \u001b[0;32mwith\u001b[0m \u001b[0mreader\u001b[0m\u001b[0;34m(\u001b[0m\u001b[0mpath_or_bytes\u001b[0m\u001b[0;34m,\u001b[0m \u001b[0;34m**\u001b[0m\u001b[0mkwargs\u001b[0m\u001b[0;34m)\u001b[0m \u001b[0;32mas\u001b[0m \u001b[0mfeatures\u001b[0m\u001b[0;34m:\u001b[0m\u001b[0;34m\u001b[0m\u001b[0;34m\u001b[0m\u001b[0m\n\u001b[0m\u001b[1;32m    202\u001b[0m \u001b[0;34m\u001b[0m\u001b[0m\n\u001b[1;32m    203\u001b[0m             \u001b[0;31m# In a future Fiona release the crs attribute of features will\u001b[0m\u001b[0;34m\u001b[0m\u001b[0;34m\u001b[0m\u001b[0;34m\u001b[0m\u001b[0m\n",
      "\u001b[0;32m/opt/python/3.7.7/lib/python3.7/site-packages/fiona/env.py\u001b[0m in \u001b[0;36mwrapper\u001b[0;34m(*args, **kwargs)\u001b[0m\n\u001b[1;32m    406\u001b[0m     \u001b[0;32mdef\u001b[0m \u001b[0mwrapper\u001b[0m\u001b[0;34m(\u001b[0m\u001b[0;34m*\u001b[0m\u001b[0margs\u001b[0m\u001b[0;34m,\u001b[0m \u001b[0;34m**\u001b[0m\u001b[0mkwargs\u001b[0m\u001b[0;34m)\u001b[0m\u001b[0;34m:\u001b[0m\u001b[0;34m\u001b[0m\u001b[0;34m\u001b[0m\u001b[0m\n\u001b[1;32m    407\u001b[0m         \u001b[0;32mif\u001b[0m \u001b[0mlocal\u001b[0m\u001b[0;34m.\u001b[0m\u001b[0m_env\u001b[0m\u001b[0;34m:\u001b[0m\u001b[0;34m\u001b[0m\u001b[0;34m\u001b[0m\u001b[0m\n\u001b[0;32m--> 408\u001b[0;31m             \u001b[0;32mreturn\u001b[0m \u001b[0mf\u001b[0m\u001b[0;34m(\u001b[0m\u001b[0;34m*\u001b[0m\u001b[0margs\u001b[0m\u001b[0;34m,\u001b[0m \u001b[0;34m**\u001b[0m\u001b[0mkwargs\u001b[0m\u001b[0;34m)\u001b[0m\u001b[0;34m\u001b[0m\u001b[0;34m\u001b[0m\u001b[0m\n\u001b[0m\u001b[1;32m    409\u001b[0m         \u001b[0;32melse\u001b[0m\u001b[0;34m:\u001b[0m\u001b[0;34m\u001b[0m\u001b[0;34m\u001b[0m\u001b[0m\n\u001b[1;32m    410\u001b[0m             \u001b[0;32mif\u001b[0m \u001b[0misinstance\u001b[0m\u001b[0;34m(\u001b[0m\u001b[0margs\u001b[0m\u001b[0;34m[\u001b[0m\u001b[0;36m0\u001b[0m\u001b[0;34m]\u001b[0m\u001b[0;34m,\u001b[0m \u001b[0mstr\u001b[0m\u001b[0;34m)\u001b[0m\u001b[0;34m:\u001b[0m\u001b[0;34m\u001b[0m\u001b[0;34m\u001b[0m\u001b[0m\n",
      "\u001b[0;32m/opt/python/3.7.7/lib/python3.7/site-packages/fiona/__init__.py\u001b[0m in \u001b[0;36mopen\u001b[0;34m(fp, mode, driver, schema, crs, encoding, layer, vfs, enabled_drivers, crs_wkt, **kwargs)\u001b[0m\n\u001b[1;32m    263\u001b[0m         \u001b[0;32mif\u001b[0m \u001b[0mmode\u001b[0m \u001b[0;32min\u001b[0m \u001b[0;34m(\u001b[0m\u001b[0;34m'a'\u001b[0m\u001b[0;34m,\u001b[0m \u001b[0;34m'r'\u001b[0m\u001b[0;34m)\u001b[0m\u001b[0;34m:\u001b[0m\u001b[0;34m\u001b[0m\u001b[0;34m\u001b[0m\u001b[0m\n\u001b[1;32m    264\u001b[0m             c = Collection(path, mode, driver=driver, encoding=encoding,\n\u001b[0;32m--> 265\u001b[0;31m                            layer=layer, enabled_drivers=enabled_drivers, **kwargs)\n\u001b[0m\u001b[1;32m    266\u001b[0m         \u001b[0;32melif\u001b[0m \u001b[0mmode\u001b[0m \u001b[0;34m==\u001b[0m \u001b[0;34m'w'\u001b[0m\u001b[0;34m:\u001b[0m\u001b[0;34m\u001b[0m\u001b[0;34m\u001b[0m\u001b[0m\n\u001b[1;32m    267\u001b[0m             \u001b[0;32mif\u001b[0m \u001b[0mschema\u001b[0m\u001b[0;34m:\u001b[0m\u001b[0;34m\u001b[0m\u001b[0;34m\u001b[0m\u001b[0m\n",
      "\u001b[0;32m/opt/python/3.7.7/lib/python3.7/site-packages/fiona/collection.py\u001b[0m in \u001b[0;36m__init__\u001b[0;34m(self, path, mode, driver, schema, crs, encoding, layer, vsi, archive, enabled_drivers, crs_wkt, ignore_fields, ignore_geometry, **kwargs)\u001b[0m\n\u001b[1;32m    160\u001b[0m             \u001b[0;32mif\u001b[0m \u001b[0mself\u001b[0m\u001b[0;34m.\u001b[0m\u001b[0mmode\u001b[0m \u001b[0;34m==\u001b[0m \u001b[0;34m'r'\u001b[0m\u001b[0;34m:\u001b[0m\u001b[0;34m\u001b[0m\u001b[0;34m\u001b[0m\u001b[0m\n\u001b[1;32m    161\u001b[0m                 \u001b[0mself\u001b[0m\u001b[0;34m.\u001b[0m\u001b[0msession\u001b[0m \u001b[0;34m=\u001b[0m \u001b[0mSession\u001b[0m\u001b[0;34m(\u001b[0m\u001b[0;34m)\u001b[0m\u001b[0;34m\u001b[0m\u001b[0;34m\u001b[0m\u001b[0m\n\u001b[0;32m--> 162\u001b[0;31m                 \u001b[0mself\u001b[0m\u001b[0;34m.\u001b[0m\u001b[0msession\u001b[0m\u001b[0;34m.\u001b[0m\u001b[0mstart\u001b[0m\u001b[0;34m(\u001b[0m\u001b[0mself\u001b[0m\u001b[0;34m,\u001b[0m \u001b[0;34m**\u001b[0m\u001b[0mkwargs\u001b[0m\u001b[0;34m)\u001b[0m\u001b[0;34m\u001b[0m\u001b[0;34m\u001b[0m\u001b[0m\n\u001b[0m\u001b[1;32m    163\u001b[0m             \u001b[0;32melif\u001b[0m \u001b[0mself\u001b[0m\u001b[0;34m.\u001b[0m\u001b[0mmode\u001b[0m \u001b[0;32min\u001b[0m \u001b[0;34m(\u001b[0m\u001b[0;34m'a'\u001b[0m\u001b[0;34m,\u001b[0m \u001b[0;34m'w'\u001b[0m\u001b[0;34m)\u001b[0m\u001b[0;34m:\u001b[0m\u001b[0;34m\u001b[0m\u001b[0;34m\u001b[0m\u001b[0m\n\u001b[1;32m    164\u001b[0m                 \u001b[0mself\u001b[0m\u001b[0;34m.\u001b[0m\u001b[0msession\u001b[0m \u001b[0;34m=\u001b[0m \u001b[0mWritingSession\u001b[0m\u001b[0;34m(\u001b[0m\u001b[0;34m)\u001b[0m\u001b[0;34m\u001b[0m\u001b[0;34m\u001b[0m\u001b[0m\n",
      "\u001b[0;32mfiona/ogrext.pyx\u001b[0m in \u001b[0;36mfiona.ogrext.Session.start\u001b[0;34m()\u001b[0m\n",
      "\u001b[0;32mfiona/_shim.pyx\u001b[0m in \u001b[0;36mfiona._shim.gdal_open_vector\u001b[0;34m()\u001b[0m\n",
      "\u001b[0;31mDriverError\u001b[0m: '/capstone/cropmosaiks/data/features/final_model_features.gpkg' not recognized as a supported file format."
     ]
    }
   ],
   "source": [
    "data = geopandas.read_file(f\"{data_dir}/features/final_model_features.gpkg\")"
   ]
  },
  {
   "cell_type": "code",
   "execution_count": null,
   "id": "ee7fdbe1-d1b6-4d5f-a705-290f110e7ae2",
   "metadata": {},
   "outputs": [],
   "source": []
  },
  {
   "cell_type": "code",
   "execution_count": 6,
   "id": "95a81ad4-58df-4279-bd2f-d093d188dd3e",
   "metadata": {},
   "outputs": [
    {
     "ename": "NameError",
     "evalue": "name 'x_all' is not defined",
     "output_type": "error",
     "traceback": [
      "\u001b[0;31m---------------------------------------------------------------------------\u001b[0m",
      "\u001b[0;31mNameError\u001b[0m                                 Traceback (most recent call last)",
      "\u001b[0;32m/tmp/ipykernel_1046874/836854020.py\u001b[0m in \u001b[0;36m<module>\u001b[0;34m\u001b[0m\n\u001b[0;32m----> 1\u001b[0;31m \u001b[0my_pred\u001b[0m \u001b[0;34m=\u001b[0m \u001b[0mnp\u001b[0m\u001b[0;34m.\u001b[0m\u001b[0mmaximum\u001b[0m\u001b[0;34m(\u001b[0m\u001b[0mridge_cv_random_loaded\u001b[0m\u001b[0;34m.\u001b[0m\u001b[0mpredict\u001b[0m\u001b[0;34m(\u001b[0m\u001b[0mx_all\u001b[0m\u001b[0;34m)\u001b[0m\u001b[0;34m,\u001b[0m \u001b[0;36m0\u001b[0m\u001b[0;34m)\u001b[0m\u001b[0;34m\u001b[0m\u001b[0;34m\u001b[0m\u001b[0m\n\u001b[0m\u001b[1;32m      2\u001b[0m \u001b[0;34m\u001b[0m\u001b[0m\n\u001b[1;32m      3\u001b[0m \u001b[0mfig\u001b[0m\u001b[0;34m,\u001b[0m \u001b[0max\u001b[0m \u001b[0;34m=\u001b[0m \u001b[0mplt\u001b[0m\u001b[0;34m.\u001b[0m\u001b[0msubplots\u001b[0m\u001b[0;34m(\u001b[0m\u001b[0mfigsize\u001b[0m\u001b[0;34m=\u001b[0m\u001b[0;34m(\u001b[0m\u001b[0;36m7\u001b[0m\u001b[0;34m,\u001b[0m \u001b[0;36m7\u001b[0m\u001b[0;34m)\u001b[0m\u001b[0;34m)\u001b[0m\u001b[0;34m\u001b[0m\u001b[0;34m\u001b[0m\u001b[0m\n\u001b[1;32m      4\u001b[0m \u001b[0max\u001b[0m\u001b[0;34m.\u001b[0m\u001b[0maxline\u001b[0m\u001b[0;34m(\u001b[0m\u001b[0;34m[\u001b[0m\u001b[0;36m0\u001b[0m\u001b[0;34m,\u001b[0m \u001b[0;36m0\u001b[0m\u001b[0;34m]\u001b[0m\u001b[0;34m,\u001b[0m \u001b[0;34m[\u001b[0m\u001b[0;36m.75\u001b[0m\u001b[0;34m,\u001b[0m \u001b[0;36m.75\u001b[0m\u001b[0;34m]\u001b[0m\u001b[0;34m,\u001b[0m \u001b[0mc\u001b[0m \u001b[0;34m=\u001b[0m \u001b[0;34m\"k\"\u001b[0m\u001b[0;34m)\u001b[0m\u001b[0;34m\u001b[0m\u001b[0;34m\u001b[0m\u001b[0m\n\u001b[1;32m      5\u001b[0m \u001b[0mplt\u001b[0m\u001b[0;34m.\u001b[0m\u001b[0mscatter\u001b[0m\u001b[0;34m(\u001b[0m\u001b[0my_pred\u001b[0m\u001b[0;34m,\u001b[0m \u001b[0my_all\u001b[0m\u001b[0;34m,\u001b[0m \u001b[0malpha\u001b[0m\u001b[0;34m=\u001b[0m\u001b[0;36m.9\u001b[0m\u001b[0;34m,\u001b[0m \u001b[0ms\u001b[0m\u001b[0;34m=\u001b[0m\u001b[0;36m15\u001b[0m\u001b[0;34m)\u001b[0m\u001b[0;34m\u001b[0m\u001b[0;34m\u001b[0m\u001b[0m\n",
      "\u001b[0;31mNameError\u001b[0m: name 'x_all' is not defined"
     ]
    }
   ],
   "source": [
    "y_pred = np.maximum(ridge_cv_random_loaded.predict(x_all), 0)\n",
    "\n",
    "fig, ax = plt.subplots(figsize=(7, 7))\n",
    "ax.axline([0, 0], [.75, .75], c = \"k\")\n",
    "plt.scatter(y_pred, y_all, alpha=.9, s=15)\n",
    "plt.xlabel(\"Predicted\", fontsize=15)\n",
    "plt.ylabel(\"Ground Truth\", fontsize=15)\n",
    "# plt.suptitle(r\"$\\log_{10}(1 + Crop Yield)$\", fontsize=20, y=1.02)\n",
    "# plt.title(f\"Validation R$^2$ = {ridge_cv_random.best_score_:0.2f}\",\n",
    "#           fontsize=12, y=1.01)\n",
    "plt.text(\n",
    "    0,\n",
    "    .8,\n",
    "    s=f\"Validation R$^2$ = {ridge_cv_random_loaded.best_score_:0.2f}\",\n",
    "    fontsize=15,\n",
    "    fontweight=\"bold\",\n",
    ")\n",
    "plt.xticks(fontsize=14)\n",
    "plt.yticks(fontsize=14)\n",
    "\n",
    "plt.gca().spines.right.set_visible(False)\n",
    "plt.gca().spines.top.set_visible(False)\n",
    "\n",
    "#plt.savefig(f'images/{feature_file_name}_all_data.jpg', dpi=300)\n",
    "plt.show()\n",
    "plt.close()"
   ]
  },
  {
   "cell_type": "code",
   "execution_count": null,
   "id": "ee22ed9e-5411-41e8-92f3-eff2a0555444",
   "metadata": {},
   "outputs": [],
   "source": []
  },
  {
   "cell_type": "code",
   "execution_count": null,
   "id": "4d8fab62-ea0b-42c6-a67d-3cbfd415423e",
   "metadata": {},
   "outputs": [],
   "source": [
    "def scatter(x, y, c, **kwargs):\n",
    "    plt.scatter(x, y, c=c, s = 1.25)\n",
    "sns.color_palette(\"viridis\", as_cmap=True)\n",
    "g = sns.FacetGrid(\n",
    "    pred_features, \n",
    "    col=\"year\", \n",
    "    col_wrap = 4, \n",
    "    height=5, \n",
    "    aspect=1\n",
    ")\n",
    "g.map(scatter, \"lon\", \"lat\", \"yield_prediction\")\n",
    "g.set_axis_labels(r\"yield prediction\")\n",
    "plt.savefig(f'images/{feature_file_name}_all_predictions.jpg', dpi=300)"
   ]
  },
  {
   "cell_type": "code",
   "execution_count": null,
   "id": "8fded45f-418c-43ca-8040-5e4feba4508b",
   "metadata": {},
   "outputs": [],
   "source": []
  },
  {
   "cell_type": "code",
   "execution_count": null,
   "id": "57f4072f-9323-43dc-a5d9-26cab7b62c7a",
   "metadata": {},
   "outputs": [],
   "source": []
  },
  {
   "cell_type": "code",
   "execution_count": null,
   "id": "501d6df2-c06c-4fcc-8bf9-41ab478c6745",
   "metadata": {},
   "outputs": [],
   "source": []
  }
 ],
 "metadata": {
  "kernelspec": {
   "display_name": "Python 3 (ipykernel)",
   "language": "python",
   "name": "python3"
  },
  "language_info": {
   "codemirror_mode": {
    "name": "ipython",
    "version": 3
   },
   "file_extension": ".py",
   "mimetype": "text/x-python",
   "name": "python",
   "nbconvert_exporter": "python",
   "pygments_lexer": "ipython3",
   "version": "3.7.7"
  }
 },
 "nbformat": 4,
 "nbformat_minor": 5
}
