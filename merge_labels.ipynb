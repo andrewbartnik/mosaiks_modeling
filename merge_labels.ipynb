{
 "cells": [
  {
   "cell_type": "markdown",
   "id": "9b834488-13b4-42f6-8727-7a025dea058e",
   "metadata": {
    "tags": []
   },
   "source": [
    "# Merge Labels"
   ]
  },
  {
   "cell_type": "code",
   "execution_count": 1,
   "id": "97d50038-7e59-4266-a38e-55e1ba6537a6",
   "metadata": {},
   "outputs": [],
   "source": [
    "import warnings\n",
    "import time\n",
    "import os\n",
    "\n",
    "import numpy as np\n",
    "import pandas as pd\n",
    "import matplotlib.pyplot as plt\n",
    "\n",
    "import geopandas\n",
    "import pyarrow\n",
    "\n",
    "from sklearn.linear_model import RidgeCV\n",
    "from sklearn.model_selection import train_test_split\n",
    "from sklearn.metrics import r2_score\n",
    "from scipy.stats import spearmanr\n",
    "from scipy.linalg import LinAlgWarning"
   ]
  },
  {
   "cell_type": "markdown",
   "id": "1e36573c-57e8-4880-9dc7-a1b69d3127ac",
   "metadata": {},
   "source": [
    "# Zambia"
   ]
  },
  {
   "cell_type": "code",
   "execution_count": null,
   "id": "8a2ef1f7-447a-410b-9fc0-fbeac1c21bb5",
   "metadata": {},
   "outputs": [],
   "source": [
    "zambia_shp = geopandas.read_file('data/gadm36_ZMB_shp/gadm36_ZMB_2.shp')\n",
    "zambia_shp = zambia_shp.rename(columns = {'NAME_2': 'district'})[['district', 'geometry']]\n",
    "zambia_shp.district = zambia_shp.district.replace(\"MPongwe\", 'Mpongwe', regex=True)\n",
    "zambia_districts = zambia_shp.district.sort_values().unique().tolist()\n",
    "zambia_shp = zambia_shp.set_index('district')\n",
    "zambia_shp.shape\n",
    "# zambia_shp.plot(column = 'district',linewidth = 1, edgecolor = 'black' )\n",
    "# zambia_shp"
   ]
  },
  {
   "cell_type": "markdown",
   "id": "8c6b355c-5d11-4877-a64b-890fad54a6bd",
   "metadata": {},
   "source": [
    "# Crops"
   ]
  },
  {
   "cell_type": "code",
   "execution_count": null,
   "id": "493e6c9f-3b2f-47c8-b9a5-1992c27802bf",
   "metadata": {},
   "outputs": [],
   "source": [
    "crop_df = pd.read_csv('data/cfs_maize_districts_zambia_2009_2018.csv')\n",
    "crop_df.district = crop_df.district.replace(\n",
    "    {\"Itezhi-tezhi\": 'Itezhi-Tezhi',\n",
    "     \"Kapiri-Mposhi\": 'Kapiri Mposhi',\n",
    "     \"Shang'ombo\": 'Shangombo',\n",
    "     \"Chienge\": 'Chiengi'\n",
    "    }, regex=True)\n",
    "crop_districts = crop_df.district.sort_values().unique().tolist()\n",
    "crop_df = crop_df[['district', 'year', 'yield_mt']]\n",
    "# crop_df = crop_df[crop_df.year > 2015]\n",
    "crop_df = crop_df.set_index('district')\n",
    "# crop_df"
   ]
  },
  {
   "cell_type": "code",
   "execution_count": null,
   "id": "ca007ec4-8d5a-447b-ae62-463cd8ac3e48",
   "metadata": {},
   "outputs": [],
   "source": [
    "list(set(crop_districts) - set(zambia_districts))"
   ]
  },
  {
   "cell_type": "code",
   "execution_count": null,
   "id": "98fddb15-9605-485b-b49c-b3b9ece1683d",
   "metadata": {},
   "outputs": [],
   "source": [
    "list(set(zambia_districts) - set(crop_districts))"
   ]
  },
  {
   "cell_type": "code",
   "execution_count": null,
   "id": "c7d3deb6-e2de-43f9-9b33-895a5176df73",
   "metadata": {},
   "outputs": [],
   "source": [
    "zambia_crop = crop_df.join(zambia_shp)\n",
    "zambia_crop = geopandas.GeoDataFrame(zambia_crop)\n",
    "# zambia_crop = zambia_crop.reset_index()\n",
    "# zambia_crop.plot(linewidth = 1, edgecolor = 'black')\n",
    "# zambia_crop"
   ]
  },
  {
   "cell_type": "markdown",
   "id": "99808f22-3f02-4014-872a-dd689a569e07",
   "metadata": {},
   "source": [
    "# Features"
   ]
  },
  {
   "cell_type": "code",
   "execution_count": null,
   "id": "db26717f-236e-49e8-8633-f44a348eafb4",
   "metadata": {},
   "outputs": [],
   "source": [
    "# features_2016 = pd.read_feather('data/zambia/features_2016.feather')\n",
    "# features_2016 = geopandas.GeoDataFrame(\n",
    "#     features_2016, \n",
    "#     geometry = geopandas.points_from_xy(x = features_2016.lon, y = features_2016.lat),\n",
    "#     crs='EPSG:4326'\n",
    "# ).drop(['lon', 'lat'], axis = 1)\n",
    "# features_2016.shape"
   ]
  },
  {
   "cell_type": "code",
   "execution_count": null,
   "id": "861379d4-750c-4fab-b326-4a4903106333",
   "metadata": {},
   "outputs": [],
   "source": []
  },
  {
   "cell_type": "code",
   "execution_count": null,
   "id": "a398af05-1c07-4278-bed0-3e76054fa2ab",
   "metadata": {},
   "outputs": [],
   "source": []
  },
  {
   "cell_type": "code",
   "execution_count": null,
   "id": "e8056079-2717-465c-8c35-4c19c2abcef6",
   "metadata": {},
   "outputs": [],
   "source": []
  },
  {
   "cell_type": "code",
   "execution_count": null,
   "id": "4c5b19be-8659-49f5-a0af-1696291031ff",
   "metadata": {},
   "outputs": [],
   "source": []
  },
  {
   "cell_type": "code",
   "execution_count": null,
   "id": "f74065d9-60cd-480e-a762-c5bf54e75851",
   "metadata": {},
   "outputs": [],
   "source": []
  },
  {
   "cell_type": "code",
   "execution_count": null,
   "id": "7714f62e-60f8-4f72-b29c-aafeeffc6d7c",
   "metadata": {},
   "outputs": [],
   "source": []
  },
  {
   "cell_type": "code",
   "execution_count": null,
   "id": "b5b863d8-a6d7-48ac-ad02-f0b4fd7ddd85",
   "metadata": {},
   "outputs": [],
   "source": []
  }
 ],
 "metadata": {
  "kernelspec": {
   "display_name": "Python 3 (ipykernel)",
   "language": "python",
   "name": "python3"
  },
  "language_info": {
   "codemirror_mode": {
    "name": "ipython",
    "version": 3
   },
   "file_extension": ".py",
   "mimetype": "text/x-python",
   "name": "python",
   "nbconvert_exporter": "python",
   "pygments_lexer": "ipython3",
   "version": "3.8.12"
  }
 },
 "nbformat": 4,
 "nbformat_minor": 5
}
