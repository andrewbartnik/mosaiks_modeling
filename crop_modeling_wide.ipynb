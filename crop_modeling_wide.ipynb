{
 "cells": [
  {
   "cell_type": "markdown",
   "id": "2535695c",
   "metadata": {},
   "source": [
    "# Modeling Crop Yield\n",
    "## Python modules"
   ]
  },
  {
   "cell_type": "code",
   "execution_count": null,
   "id": "214b5ccd",
   "metadata": {},
   "outputs": [],
   "source": [
    "import warnings\n",
    "import time\n",
    "import os\n",
    "\n",
    "import numpy as np\n",
    "import pandas as pd\n",
    "import matplotlib.pyplot as plt\n",
    "import matplotlib.pyplot as plt\n",
    "import matplotlib.colors as colors\n",
    "\n",
    "import geopandas\n",
    "\n",
    "import pyarrow\n",
    "from sklearn.linear_model import RidgeCV\n",
    "from sklearn.model_selection import train_test_split\n",
    "from sklearn.metrics import r2_score\n",
    "from sklearn.metrics import mean_squared_error\n",
    "from sklearn.impute import SimpleImputer\n",
    "from scipy.stats import spearmanr\n",
    "from scipy.linalg import LinAlgWarning\n",
    "from scipy.stats import pearsonr\n",
    "\n",
    "import math\n",
    "import seaborn as sns"
   ]
  },
  {
   "cell_type": "markdown",
   "id": "b1d38b1c",
   "metadata": {},
   "source": [
    "## Parameters"
   ]
  },
  {
   "cell_type": "code",
   "execution_count": null,
   "id": "f21e813f",
   "metadata": {},
   "outputs": [],
   "source": [
    "# satellite = \"landsat-8-c2-l2\"\n",
    "satellite = \"sentinel-2-l2a\"\n",
    "\n",
    "# bands = \"2-3-4\"\n",
    "bands = \"2-3-4-8\"\n",
    "# bands = \"1-2-3-4-5-6-7\"\n",
    "\n",
    "country_code = \"ZMB\"\n",
    "\n",
    "# points = \"4\"\n",
    "points = \"15\"\n",
    "# points = \"24\"\n",
    "# points = \"42\"\n",
    "\n",
    "# year_start = 2013 # Landsat\n",
    "year_start = 2015 # Sentinel\n",
    "year_end = 2018\n",
    "\n",
    "num_features = \"1000\"\n",
    "\n",
    "feature_file_name = (f'{satellite}_bands-{bands}_{country_code}_{points}k-points_{num_features}-features')\n",
    "weight_file_name = (f'{country_code}_crop_weights_{points}k-points')\n",
    "\n",
    "if points == \"4\":\n",
    "    marker_sz = 60\n",
    "elif points == \"15\":\n",
    "    marker_sz = 15\n",
    "elif points == \"24\":\n",
    "    marker_sz = 10\n",
    "else:\n",
    "    marker_sz = 8"
   ]
  },
  {
   "cell_type": "markdown",
   "id": "392956f2",
   "metadata": {},
   "source": [
    "## Administrative boundaries "
   ]
  },
  {
   "cell_type": "code",
   "execution_count": null,
   "id": "4f1739f0",
   "metadata": {},
   "outputs": [],
   "source": [
    "country_shp = geopandas.read_file(f'/capstone/cropmosaiks/data/boundaries/gadm36_{country_code}_2.shp')\n",
    "country_shp = country_shp.rename(columns = {'NAME_2': 'district'})[['district', 'geometry']]\n",
    "country_shp.district = country_shp.district.replace(\"MPongwe\", 'Mpongwe', regex=True)\n",
    "country_districts = country_shp.district.sort_values().unique().tolist()\n",
    "country_shp = country_shp.set_index('district')\n",
    "country_shp.shape\n",
    "# country_shp.plot(column = 'district',linewidth = 1, edgecolor = 'black' )\n",
    "# country_shp"
   ]
  },
  {
   "cell_type": "markdown",
   "id": "95883e1d",
   "metadata": {},
   "source": [
    "## Crops"
   ]
  },
  {
   "cell_type": "code",
   "execution_count": null,
   "id": "e845343e",
   "metadata": {},
   "outputs": [],
   "source": [
    "crop_df = pd.read_csv('/capstone/cropmosaiks/data/crops/cfs_maize_districts_zambia_2009_2018.csv')\n",
    "crop_df.district = crop_df.district.replace(\n",
    "    {\"Itezhi-tezhi\": 'Itezhi-Tezhi',\n",
    "     \"Kapiri-Mposhi\": 'Kapiri Mposhi',\n",
    "     \"Shang'ombo\": 'Shangombo',\n",
    "     \"Chienge\": 'Chiengi'\n",
    "    }, regex=True)\n",
    "crop_districts = crop_df.district.sort_values().unique().tolist()\n",
    "crop_df = crop_df[['district', 'year', 'yield_mt']]\n",
    "ln = len(crop_df[crop_df.year == 2016].district)\n",
    "crop_df = crop_df.set_index('district')\n",
    "ln\n",
    "# crop_df"
   ]
  },
  {
   "cell_type": "code",
   "execution_count": null,
   "id": "7abe60b9",
   "metadata": {},
   "outputs": [],
   "source": [
    "list(set(crop_districts) - set(country_districts))"
   ]
  },
  {
   "cell_type": "code",
   "execution_count": null,
   "id": "fa0d6499",
   "metadata": {},
   "outputs": [],
   "source": [
    "list(set(country_districts) - set(crop_districts))"
   ]
  },
  {
   "cell_type": "code",
   "execution_count": null,
   "id": "c75a076a",
   "metadata": {},
   "outputs": [],
   "source": [
    "country_crop = geopandas.GeoDataFrame(crop_df.join(country_shp), crs = country_shp.crs)"
   ]
  },
  {
   "cell_type": "markdown",
   "id": "21c05976",
   "metadata": {},
   "source": [
    "## Weights"
   ]
  },
  {
   "cell_type": "code",
   "execution_count": null,
   "id": "2ff4e25f",
   "metadata": {},
   "outputs": [],
   "source": [
    "weights = pd.read_feather(f\"/capstone/cropmosaiks/data/weights/{weight_file_name}_2018.feather\")\n",
    "# weights"
   ]
  },
  {
   "cell_type": "code",
   "execution_count": null,
   "id": "c2000fea",
   "metadata": {},
   "outputs": [],
   "source": [
    "weights_gdf = geopandas.GeoDataFrame(\n",
    "    weights, \n",
    "    geometry = geopandas.points_from_xy(x = weights.lon, y = weights.lat), \n",
    "    crs='EPSG:4326'\n",
    ")\n",
    "weights_gdf.plot(figsize = (10,10),\n",
    "                 cmap = 'inferno',\n",
    "                 markersize = marker_sz,\n",
    "                 alpha = .9,\n",
    "                 column = 'crop_perc')\n",
    "# plt.axis('off')"
   ]
  },
  {
   "cell_type": "code",
   "execution_count": null,
   "id": "3995d424-d110-4fe1-bd2a-1523e926d878",
   "metadata": {},
   "outputs": [],
   "source": [
    "weights.crop_perc = weights.crop_perc.fillna(0)\n",
    "# #weights.crop_perc = weights.crop_perc + 0.0001"
   ]
  },
  {
   "cell_type": "markdown",
   "id": "d60438c4",
   "metadata": {},
   "source": [
    "## Features"
   ]
  },
  {
   "cell_type": "code",
   "execution_count": null,
   "id": "0b77d439",
   "metadata": {},
   "outputs": [],
   "source": [
    "features_raw = geopandas.GeoDataFrame()\n",
    "\n",
    "for yr in range(year_start, year_end + 1):\n",
    "    print(f\"Opening: {feature_file_name}_{yr}.feather\")\n",
    "    features_x = pd.read_feather(f\"/capstone/cropmosaiks/data/features/{feature_file_name}_{yr}.feather\")\n",
    "    \n",
    "    if (yr == 2013) & (satellite == \"landsat-8-c2-l2\"):\n",
    "        features_x = features_x[features_x.month > 9]\n",
    "    elif (yr == 2015) & (satellite == \"sentinel-2-l2a\"):\n",
    "        features_x = features_x[features_x.month > 9]\n",
    "    else:\n",
    "        pass\n",
    "    \n",
    "    # concatenate the feather files together, axis = 0 specifies to stack rows (rather than adding columns)\n",
    "    features_raw = pd.concat([features_raw, features_x], axis=0)\n",
    "    \n",
    "    print(\"feature.shape\", features_raw.shape)\n",
    "    print(\"Appending:\", yr)\n",
    "    print(\"\")"
   ]
  },
  {
   "cell_type": "code",
   "execution_count": null,
   "id": "e87789c7-3a48-4220-b344-02fa870c9d1d",
   "metadata": {},
   "outputs": [],
   "source": [
    "features = features_raw.copy()"
   ]
  },
  {
   "cell_type": "code",
   "execution_count": null,
   "id": "64e6a789-02b9-4501-a91a-dd993a82ad8b",
   "metadata": {},
   "outputs": [],
   "source": [
    "features['year'] = np.where(\n",
    "    features['month'].isin([10, 11, 12]),\n",
    "    features['year'] + 1, \n",
    "    features['year'])\n",
    "\n",
    "features = features[features['year'] <= year_end]\n",
    "\n",
    "features.sort_values(['year', 'month'], inplace=True)"
   ]
  },
  {
   "cell_type": "markdown",
   "id": "2beaaa05-b08f-4a94-aa66-ed0e17a21b0c",
   "metadata": {},
   "source": [
    "### Filter month range?"
   ]
  },
  {
   "cell_type": "code",
   "execution_count": null,
   "id": "afedf281",
   "metadata": {},
   "outputs": [],
   "source": [
    "month_range = [\n",
    "#     1,\n",
    "#     2,\n",
    "#     3,\n",
    "    4,\n",
    "    5,\n",
    "    6,\n",
    "    7,\n",
    "    8,\n",
    "    9,\n",
    "#     10,\n",
    "#     11,\n",
    "#     12\n",
    "]\n",
    "features = features[features.month.isin(month_range)]"
   ]
  },
  {
   "cell_type": "markdown",
   "id": "21f2e120-09a2-499b-8b2a-7028c9d08e80",
   "metadata": {},
   "source": [
    "### Pivot wider\n",
    "Here we pivot the data from long format to wide by indexing on 'lon','lat', \"year\", 'month' and using the unstack function. We then map column names based on the month index and the associated features so month '01' is appended to each feature for that month making 0_01, 1_01 etc. "
   ]
  },
  {
   "cell_type": "code",
   "execution_count": null,
   "id": "89353822",
   "metadata": {},
   "outputs": [],
   "source": [
    "features = features.set_index(['lon','lat', \"year\", 'month']).unstack()\n",
    "features.columns = features.columns.map(lambda x: '{}_{}'.format(*x))"
   ]
  },
  {
   "cell_type": "markdown",
   "id": "29e7446a-1534-4a17-983d-acbf95188b0c",
   "metadata": {},
   "source": [
    "### Replace \"inf\" values with NaN"
   ]
  },
  {
   "cell_type": "code",
   "execution_count": null,
   "id": "cf36a5fb",
   "metadata": {},
   "outputs": [],
   "source": [
    "features.replace([np.inf, -np.inf], np.nan, inplace=True)"
   ]
  },
  {
   "cell_type": "markdown",
   "id": "91ed04a1-c51e-43a9-b893-2464f1962600",
   "metadata": {},
   "source": [
    "### Impute missing values"
   ]
  },
  {
   "cell_type": "code",
   "execution_count": null,
   "id": "ca96d4a3",
   "metadata": {},
   "outputs": [],
   "source": [
    "from sklearn.experimental import enable_iterative_imputer\n",
    "from sklearn.impute import IterativeImputer\n",
    "\n",
    "impute_simple = True\n",
    "# impute_simple = False\n",
    "\n",
    "# impute_iterative = True\n",
    "impute_iterative = False\n",
    "\n",
    "if impute_simple:\n",
    "    imputer = SimpleImputer(missing_values=np.nan, strategy='mean')\n",
    "    imputer.fit_transform(features)\n",
    "    features[:] = imputer.transform(features)\n",
    "    features = features.reset_index()\n",
    "elif impute_iterative:\n",
    "    imputer = IterativeImputer(max_iter=2, random_state=0)\n",
    "    imputer.fit_transform(features)\n",
    "    features[:] = imputer.transform(features)\n",
    "    features = features.reset_index()\n",
    "else:\n",
    "    features = features.fillna(0).reset_index()\n",
    "features_copy = features.copy()"
   ]
  },
  {
   "cell_type": "markdown",
   "id": "4ce3d551-183a-4b0d-85b8-d680cbf0471c",
   "metadata": {},
   "source": [
    "### Attach crop weights\n",
    "Attach weight to each point (% area cropped of surrounding 1 km^2)."
   ]
  },
  {
   "cell_type": "code",
   "execution_count": null,
   "id": "dae4e229-ebf7-4e07-bb61-e7eebf106826",
   "metadata": {},
   "outputs": [],
   "source": [
    "features = features.join(weights.set_index(['lon', 'lat']), on = ['lon', 'lat'])\n",
    "features = features.drop([\"geometry\"], axis = 1)\n",
    "# features"
   ]
  },
  {
   "cell_type": "markdown",
   "id": "6f6fc915-c83f-401f-b227-f0e8abef1649",
   "metadata": {},
   "source": [
    "### Mask un-croppped regions?"
   ]
  },
  {
   "cell_type": "code",
   "execution_count": null,
   "id": "ba5295a4-6c29-4bf7-b73c-64f34be2115a",
   "metadata": {},
   "outputs": [],
   "source": [
    "features = features[features.crop_perc > 0]\n",
    "# features"
   ]
  },
  {
   "cell_type": "markdown",
   "id": "99c9949e-cad0-4b62-b096-0cf867705519",
   "metadata": {},
   "source": [
    "### Make \"features\" a `GeoDataFrame`"
   ]
  },
  {
   "cell_type": "code",
   "execution_count": null,
   "id": "1458d6c7-3207-4a20-beb5-ed1fba391561",
   "metadata": {},
   "outputs": [],
   "source": [
    "features = geopandas.GeoDataFrame(\n",
    "    features, \n",
    "    geometry = geopandas.points_from_xy(x = features.lon, y = features.lat), \n",
    "    crs='EPSG:4326'\n",
    ")"
   ]
  },
  {
   "cell_type": "markdown",
   "id": "2260e801-ecb9-4567-8d00-83dd93ddbf9f",
   "metadata": {},
   "source": [
    "### Plot any single feature"
   ]
  },
  {
   "cell_type": "code",
   "execution_count": null,
   "id": "f18df965",
   "metadata": {},
   "outputs": [],
   "source": [
    "# mn = 9\n",
    "# yr = 2017\n",
    "# feature = 999\n",
    "\n",
    "# features[features.year == yr].plot(\n",
    "#     column = f\"{feature}_{mn}\",\n",
    "#     figsize = (10,10),\n",
    "#     marker='H',\n",
    "#     # legend = True,\n",
    "#     markersize = marker_sz,\n",
    "# )"
   ]
  },
  {
   "cell_type": "markdown",
   "id": "74d0e927-519f-494a-9038-2b1437a8c0b9",
   "metadata": {},
   "source": [
    "### Drop 'lat' and 'lon' columns"
   ]
  },
  {
   "cell_type": "code",
   "execution_count": null,
   "id": "a1705255-8869-4865-a91b-678802a59d40",
   "metadata": {},
   "outputs": [],
   "source": [
    "# Drop lon and lat now that they are in geometry column\n",
    "features = features.drop(['lon', 'lat'], axis = 1)"
   ]
  },
  {
   "cell_type": "markdown",
   "id": "b3593d92-514f-4452-b6cd-40fb4ab37e9a",
   "metadata": {},
   "source": [
    "### Join features to country geometry"
   ]
  },
  {
   "cell_type": "code",
   "execution_count": null,
   "id": "25573aa2",
   "metadata": {},
   "outputs": [],
   "source": [
    "features = features.sjoin(country_shp, how = 'left', predicate = 'within')\n",
    "# features"
   ]
  },
  {
   "cell_type": "code",
   "execution_count": null,
   "id": "b486e861",
   "metadata": {},
   "outputs": [],
   "source": [
    "# na = features[adm_features.isna().any(axis = 1)]\n",
    "# na.plot(figsize = (10,10), markersize = 10)"
   ]
  },
  {
   "cell_type": "markdown",
   "id": "583afa0d-f669-4a24-968a-9e1b599ca44f",
   "metadata": {},
   "source": [
    "### Fix column names and drop geometry"
   ]
  },
  {
   "cell_type": "code",
   "execution_count": null,
   "id": "02e34653",
   "metadata": {},
   "outputs": [],
   "source": [
    "features = (\n",
    "    features\n",
    "    .dropna(subset=['index_right'])\n",
    "    .rename(columns = {\"index_right\": \"district\",})\n",
    "    .reset_index(drop = True)\n",
    ")\n",
    "features_gdf = features.copy()\n",
    "features = features.drop(['geometry'], axis = 1)\n",
    "# features"
   ]
  },
  {
   "cell_type": "markdown",
   "id": "9ffac814-df4e-4521-b29f-6ae733880462",
   "metadata": {},
   "source": [
    "### Summarise to administrative boundary level\n",
    "Currently un-weighted by cropped area"
   ]
  },
  {
   "cell_type": "code",
   "execution_count": null,
   "id": "89e8ee17",
   "metadata": {},
   "outputs": [],
   "source": [
    "features_summary = features.groupby(['district',\"year\"], as_index = False).mean()\n",
    "# features_summary"
   ]
  },
  {
   "cell_type": "code",
   "execution_count": null,
   "id": "a3ddf024",
   "metadata": {},
   "outputs": [],
   "source": [
    "# # This is where we are trying to do a weighted average\n",
    "\n",
    "# features_summary = features.groupby(['district', 'yield_mt' ,\"year\"], as_index = False\n",
    "#                                    ).apply(lambda x: np.average(x['0'], weights=x['crop_perc'], axis = 0))\n",
    "# features_summary"
   ]
  },
  {
   "cell_type": "markdown",
   "id": "94e3c4fa-5e1d-4d61-b461-07a94f2870a0",
   "metadata": {},
   "source": [
    "### Join crop data"
   ]
  },
  {
   "cell_type": "code",
   "execution_count": null,
   "id": "d81cc22d",
   "metadata": {},
   "outputs": [],
   "source": [
    "crop_df_x = crop_df[crop_df.year >= year_start + 1]\n",
    "crop_df_x = crop_df_x[~crop_df_x.index.isin(['Mafinga', 'Ikelenge'])]\n",
    "crop_df_x.reset_index(inplace=True)\n",
    "# crop_df_x"
   ]
  },
  {
   "cell_type": "code",
   "execution_count": null,
   "id": "a6c28f76",
   "metadata": {},
   "outputs": [],
   "source": [
    "features_summary = (features_summary\n",
    "                    .set_index([\"district\", \"year\"])\n",
    "                    .join(other = crop_df_x.set_index([\"district\", \"year\"]))\n",
    "                    .reset_index())\n",
    "# features_summary"
   ]
  },
  {
   "cell_type": "markdown",
   "id": "8c374a2d",
   "metadata": {},
   "source": [
    "## Model"
   ]
  },
  {
   "cell_type": "code",
   "execution_count": null,
   "id": "87405495-3fb7-42fc-83d7-f3805ddbfa8d",
   "metadata": {},
   "outputs": [],
   "source": [
    "model_year = features_summary[features_summary.year.isin([\n",
    "#    #2013,\n",
    "#    2014,\n",
    "#    2015,\n",
    "   2016,\n",
    "   2017,\n",
    "   2018,\n",
    "])]"
   ]
  },
  {
   "cell_type": "markdown",
   "id": "e076846f-1983-4987-b323-916f8efa1fa3",
   "metadata": {},
   "source": [
    "### Define `x's` and `y's`"
   ]
  },
  {
   "cell_type": "code",
   "execution_count": null,
   "id": "7864f762",
   "metadata": {},
   "outputs": [],
   "source": [
    "x_all = model_year.drop([\n",
    "    'district', \n",
    "    'year', \n",
    "    'yield_mt',\n",
    "    \"crop_perc\"\n",
    "], axis = 1)\n",
    "\n",
    "# y_all = features_summary.yield_mt\n",
    "y_all = np.log10(model_year.yield_mt.to_numpy() + 1)"
   ]
  },
  {
   "cell_type": "markdown",
   "id": "b004e822-a296-42d9-8d07-7d699a4bc44a",
   "metadata": {},
   "source": [
    "### Split into train and test sets"
   ]
  },
  {
   "cell_type": "code",
   "execution_count": null,
   "id": "710b8f79",
   "metadata": {},
   "outputs": [],
   "source": [
    "x_train, x_test, y_train, y_test = train_test_split(\n",
    "    x_all, y_all, test_size=0.2, random_state=0\n",
    ")"
   ]
  },
  {
   "cell_type": "code",
   "execution_count": null,
   "id": "078fa896",
   "metadata": {},
   "outputs": [],
   "source": [
    "print(\"Total N: \", len(x_all), \"\\n\", \n",
    "      \"Train N: \", len(x_train), \"\\n\",\n",
    "      \"Test  N: \", len(x_test), sep = \"\")"
   ]
  },
  {
   "cell_type": "markdown",
   "id": "d0d5bc86-1d6a-47f3-8849-57d7250ca333",
   "metadata": {},
   "source": [
    "### Train model"
   ]
  },
  {
   "cell_type": "code",
   "execution_count": null,
   "id": "ea038315",
   "metadata": {},
   "outputs": [],
   "source": [
    "ridge_cv_random = RidgeCV(cv=5, alphas=np.logspace(-8, 8, base=10, num=17))\n",
    "ridge_cv_random.fit(x_train, y_train)"
   ]
  },
  {
   "cell_type": "markdown",
   "id": "e0c0ada3-6c52-483c-98a5-78ac688bb258",
   "metadata": {},
   "source": [
    "### Validation set $R^2$ performance"
   ]
  },
  {
   "cell_type": "code",
   "execution_count": null,
   "id": "820fc590",
   "metadata": {},
   "outputs": [],
   "source": [
    "print(f\"Validation R2 performance {ridge_cv_random.best_score_:0.2f}\")"
   ]
  },
  {
   "cell_type": "markdown",
   "id": "2570f61e-adce-474f-b43f-70951017276e",
   "metadata": {},
   "source": [
    "### Train set"
   ]
  },
  {
   "cell_type": "code",
   "execution_count": null,
   "id": "0af14a1e",
   "metadata": {},
   "outputs": [],
   "source": [
    "y_pred = np.maximum(ridge_cv_random.predict(x_train), 0)\n",
    "\n",
    "plt.figure()\n",
    "plt.scatter(y_pred, y_train, alpha=1, s=4)\n",
    "plt.xlabel(\"Predicted\", fontsize=15, x = .3)\n",
    "plt.ylabel(\"Ground Truth\", fontsize=15)\n",
    "plt.suptitle(r\"$\\log_{10}(1 + Crop Yield)$\", fontsize=20, y=1.02)\n",
    "plt.title((f\"Model applied to train data n = {len(x_train)}, R$^2$ = {(r2_score(y_train, y_pred)):0.2f}\"),\n",
    "          fontsize=12, y=1.01)\n",
    "\n",
    "plt.xticks(fontsize=14)\n",
    "plt.yticks(fontsize=14)\n",
    "\n",
    "m, b = np.polyfit(y_pred, y_train, 1)\n",
    "plt.plot(y_pred, m * y_pred + b, color=\"black\")\n",
    "plt.gca().spines.right.set_visible(False)\n",
    "plt.gca().spines.top.set_visible(False)\n",
    "\n",
    "# plt.savefig(f'images/{feature_file_name}_train_data.jpg', dpi=300)\n",
    "plt.show()\n",
    "plt.close()"
   ]
  },
  {
   "cell_type": "code",
   "execution_count": null,
   "id": "0cfacf1c",
   "metadata": {},
   "outputs": [],
   "source": [
    "print(f\"Training set R^2 = {r2_score(y_train, y_pred):0.2f}\")\n",
    "print(f\"Training set pearsons R = {pearsonr(y_pred, y_train)[0]:0.2f}\") "
   ]
  },
  {
   "cell_type": "markdown",
   "id": "47bf01e7-657e-4be2-98c8-bb2b033e6481",
   "metadata": {},
   "source": [
    "### Test set"
   ]
  },
  {
   "cell_type": "code",
   "execution_count": null,
   "id": "10736b26",
   "metadata": {
    "tags": []
   },
   "outputs": [],
   "source": [
    "y_pred = np.maximum(ridge_cv_random.predict(x_test), 0)\n",
    "\n",
    "plt.figure()\n",
    "plt.scatter(y_pred, y_test, alpha=1, s=4)\n",
    "plt.xlabel(\"Predicted\", fontsize=15)\n",
    "plt.ylabel(\"Ground Truth\", fontsize=15)\n",
    "plt.suptitle(r\"$\\log_{10}(1 + Crop Yield)$\", fontsize=20, y=1.02)\n",
    "plt.title(f\"Model applied to test data n = {len(x_test)}, R$^2$ = {(r2_score(y_test, y_pred)):0.2f}\",\n",
    "          fontsize=12, y=1)\n",
    "\n",
    "plt.xticks(fontsize=14)\n",
    "plt.yticks(fontsize=14)\n",
    "\n",
    "m, b = np.polyfit(y_pred, y_test, 1)\n",
    "plt.plot(y_pred, m * y_pred + b, color=\"black\")\n",
    "plt.gca().spines.right.set_visible(False)\n",
    "plt.gca().spines.top.set_visible(False)\n",
    "\n",
    "# plt.savefig(f'images/{feature_file_name}_test_data.jpg', dpi=300)\n",
    "plt.show()\n",
    "plt.close()"
   ]
  },
  {
   "cell_type": "code",
   "execution_count": null,
   "id": "713bff6a",
   "metadata": {},
   "outputs": [],
   "source": [
    "print(f\"Testing set R^2 = {r2_score(y_test, y_pred):0.2f}\")\n",
    "print(f\"Testing set pearsons R = {pearsonr(y_pred, y_test)[0]:0.2f}\")"
   ]
  },
  {
   "cell_type": "markdown",
   "id": "bef45807-3437-4356-96fb-f70f7ba528ad",
   "metadata": {},
   "source": [
    "### Plot the fitted features"
   ]
  },
  {
   "cell_type": "code",
   "execution_count": null,
   "id": "f2f6993a-bdd7-4c8f-abd8-fe11a624a5f0",
   "metadata": {},
   "outputs": [],
   "source": [
    "pred_features = features_copy.copy()\n",
    "pred_features = pred_features.join(weights.drop('geometry', axis = 1).set_index(['lon', 'lat']), on = ['lon', 'lat'])"
   ]
  },
  {
   "cell_type": "code",
   "execution_count": null,
   "id": "4fef402d-f72d-4ef2-a51e-6e59d3606d46",
   "metadata": {},
   "outputs": [],
   "source": [
    "pred_features = geopandas.GeoDataFrame(pred_features)\n",
    "x_all = pred_features.drop([\n",
    "    'year', \n",
    "    'lon',\n",
    "    'lat',\n",
    "    'crop_perc'\n",
    "], axis = 1)\n",
    "pred_features['fit'] = np.maximum(ridge_cv_random.predict(x_all), 0)"
   ]
  },
  {
   "cell_type": "code",
   "execution_count": null,
   "id": "90823eb5-9d13-4116-a4e3-7ff9c9ee0e0b",
   "metadata": {},
   "outputs": [],
   "source": [
    "pred_features['fit'].mask(pred_features['crop_perc']==0, 0, inplace=True)\n",
    "# pred_features.loc[pred_features[\"crop_perc\"] == 0, \"fit\"] = 0   ### Does same thing but differently"
   ]
  },
  {
   "cell_type": "code",
   "execution_count": null,
   "id": "670d6d2c-f4b3-45b6-9a11-c51e7ad14f9f",
   "metadata": {},
   "outputs": [],
   "source": [
    "# pred_features = pred_features[pred_features.crop_perc > 0].reset_index(drop = True)"
   ]
  },
  {
   "cell_type": "code",
   "execution_count": null,
   "id": "8f907a1b-7964-4ebc-bac6-a8cc7d10a0f3",
   "metadata": {},
   "outputs": [],
   "source": [
    "pred_features['fit'].mask(pred_features['fit'] > 4, 0, inplace=True)"
   ]
  },
  {
   "cell_type": "code",
   "execution_count": null,
   "id": "1296beda-2e19-4b93-8867-1b2e2e1d17e0",
   "metadata": {},
   "outputs": [],
   "source": [
    "pred_features = geopandas.GeoDataFrame(\n",
    "    pred_features, \n",
    "    geometry = geopandas.points_from_xy(x = pred_features.lon, y = pred_features.lat), \n",
    "    crs='EPSG:4326'\n",
    ")"
   ]
  },
  {
   "cell_type": "code",
   "execution_count": null,
   "id": "bfd9da29",
   "metadata": {},
   "outputs": [],
   "source": [
    "plot_features = pred_features[pred_features.year == 2017]\n",
    "# plot_features"
   ]
  },
  {
   "cell_type": "code",
   "execution_count": null,
   "id": "831c1eb8",
   "metadata": {},
   "outputs": [],
   "source": [
    "plot_features.plot(figsize = (10,10),\n",
    "                   marker='H',\n",
    "                   legend = True,\n",
    "                   markersize = marker_sz,\n",
    "#                    alpha = .9,\n",
    "                   column = 'fit')"
   ]
  },
  {
   "cell_type": "code",
   "execution_count": null,
   "id": "79e47a39",
   "metadata": {},
   "outputs": [],
   "source": [
    "# true_yield_2018 = residual_gdf[residual_gdf.year == 2018]['log_yield']\n",
    "# residual_2018 = residual_gdf[residual_gdf.year == 2018]['residual']\n",
    "\n",
    "# plt.figure()\n",
    "\n",
    "# p = sns.jointplot(x=true_yield_2018, y = residual_2018).set_axis_labels(\"True Yield\", \"Residuals\")\n",
    "# # p.axhline(0)\n",
    "# plt.suptitle(\"Plot of Yield vs Residuals 2018\",\n",
    "#           fontsize=12, y=1)\n",
    "\n",
    "# plt.xticks(fontsize=14)\n",
    "# plt.yticks(fontsize=14)\n",
    "\n",
    "# plt.show()\n",
    "# plt.close()"
   ]
  },
  {
   "cell_type": "markdown",
   "id": "364b02ea",
   "metadata": {},
   "source": [
    "## Yield and Residual Plots"
   ]
  },
  {
   "cell_type": "code",
   "execution_count": null,
   "id": "cb35e921",
   "metadata": {
    "tags": []
   },
   "outputs": [],
   "source": [
    "x_all = features_summary.drop([\n",
    "    'district', \n",
    "    'year', \n",
    "    'yield_mt',\n",
    "    'crop_perc'\n",
    "], axis = 1)\n",
    "\n",
    "residual_df = pd.DataFrame()\n",
    "\n",
    "residual_df[\"yield_mt\"] = features_summary.yield_mt.to_numpy()\n",
    "residual_df[\"log_yield\"] = np.log10(features_summary.yield_mt.to_numpy() + 1)\n",
    "residual_df[\"prediction\"] = np.maximum(ridge_cv_random.predict(x_all), 0)\n",
    "residual_df[\"residual\"] = residual_df[\"log_yield\"] - residual_df[\"prediction\"]\n",
    "#residual_df[\"demean_yield\"] = residual_df[\"log_yield\"] - residual_df[\"log_yield\"].mean()\n",
    "#residual_df[\"demean_prediction\"] = residual_df[\"prediction\"] - residual_df[\"prediction\"].mean()\n",
    "residual_df[\"year\"] = features_summary.year\n",
    "residual_df[\"district\"] = features_summary.district\n",
    "residual_df = residual_df.join(country_shp, how = \"left\", on = \"district\")"
   ]
  },
  {
   "cell_type": "code",
   "execution_count": null,
   "id": "82483f8b-84e9-4105-b429-e5ef115b3f6b",
   "metadata": {},
   "outputs": [],
   "source": [
    "residual_df"
   ]
  },
  {
   "cell_type": "code",
   "execution_count": null,
   "id": "83fede03-2353-4cc5-985a-87db5996872f",
   "metadata": {},
   "outputs": [],
   "source": [
    "#demean by location\n",
    "residual_df[\"district_yield_mean\"] = residual_df.groupby('district')['log_yield'].transform('mean')\n",
    "residual_df[\"district_prediction_mean\"] = residual_df.groupby('district')['prediction'].transform('mean')\n",
    "\n",
    "residual_df[\"demean_yield\"] = residual_df[\"log_yield\"] - residual_df[\"district_yield_mean\"]\n",
    "residual_df[\"demean_prediction\"] = residual_df[\"prediction\"] - residual_df[\"district_prediction_mean\"]\n",
    "residual_df"
   ]
  },
  {
   "cell_type": "code",
   "execution_count": null,
   "id": "f55b0103-b87f-4bf1-8572-7284f724910c",
   "metadata": {},
   "outputs": [],
   "source": [
    "residual_gdf = geopandas.GeoDataFrame(residual_df)\n",
    "residual_gdf"
   ]
  },
  {
   "cell_type": "code",
   "execution_count": null,
   "id": "f89cfe35-e9ce-49fe-a165-61965e2c6359",
   "metadata": {},
   "outputs": [],
   "source": [
    "fig, (ax1,ax2,ax3) = plt.subplots(nrows=1, ncols=3, figsize=(20, 5))\n",
    "plt.suptitle(\"Yield (MT)\")\n",
    "plt.ax1 = residual_gdf[residual_gdf.year == 2016].hist(ax = ax1, column = \"yield_mt\", legend = True, bins = 20)\n",
    "ax1.set_title(\"2016 Yield (MT)\")\n",
    "plt.ax2 = residual_gdf[residual_gdf.year == 2017].hist(ax = ax2, column = \"yield_mt\", legend = True, bins = 20) \n",
    "ax2.set_title(\"2017 Yield (MT)\")\n",
    "plt.ax3 = residual_gdf[residual_gdf.year == 2018].hist(ax = ax3, column = \"yield_mt\", legend = True, bins = 20)\n",
    "ax3.set_title(\"2018 Yield (MT)\")"
   ]
  },
  {
   "cell_type": "code",
   "execution_count": null,
   "id": "033a9f76-3085-4aab-8af1-7ceaaa78bbbc",
   "metadata": {},
   "outputs": [],
   "source": [
    "fig, (ax1,ax2,ax3) = plt.subplots(nrows=1, ncols=3, figsize=(20, 5))\n",
    "plt.suptitle(r\"$\\log_{10}(1 + Crop Yield)$\")\n",
    "plt.ax1 = residual_gdf[residual_gdf.year == 2016].hist(ax = ax1, column = \"log_yield\", legend = True, bins = 20)\n",
    "ax1.set_title(r\"2016 $\\log_{10}(1 + Crop Yield)$\")\n",
    "plt.ax2 = residual_gdf[residual_gdf.year == 2017].hist(ax = ax2, column = \"log_yield\", legend = True, bins = 20) \n",
    "ax2.set_title(r\"2017 $\\log_{10}(1 + Crop Yield)$\")\n",
    "plt.ax3 = residual_gdf[residual_gdf.year == 2018].hist(ax = ax3, column = \"log_yield\", legend = True, bins = 20)\n",
    "ax3.set_title(r\"2018 $\\log_{10}(1 + Crop Yield)$\")"
   ]
  },
  {
   "cell_type": "code",
   "execution_count": null,
   "id": "80f8b00e-9b5b-467b-b95c-ecdf4f74a555",
   "metadata": {},
   "outputs": [],
   "source": [
    "true_yield_2016 = residual_gdf[residual_gdf.year == 2016]['log_yield']\n",
    "residual_2016 = residual_gdf[residual_gdf.year == 2016]['residual']\n",
    "\n",
    "true_yield_2017 = residual_gdf[residual_gdf.year == 2017]['log_yield']\n",
    "residual_2017 = residual_gdf[residual_gdf.year == 2017]['residual']\n",
    "\n",
    "true_yield_2018 = residual_gdf[residual_gdf.year == 2018]['log_yield']\n",
    "residual_2018 = residual_gdf[residual_gdf.year == 2018]['residual']\n",
    "\n",
    "fig, (ax1, ax2, ax3) = plt.subplots(1, 3, figsize=(20, 5), sharey=True)\n",
    "fig.suptitle('Residuals vs log10(Yield +1)')\n",
    "\n",
    "sns.scatterplot(ax=ax1, x=true_yield_2016, y = residual_2016)\n",
    "ax1.set_title(r\"Plot of $\\log_{10}(1 + Crop Yield)$ vs Residuals 2016\")\n",
    "\n",
    "sns.scatterplot(ax=ax2, x=true_yield_2017, y = residual_2017)\n",
    "ax2.set_title(r\"Plot of $\\log_{10}(1 + Crop Yield)$ vs Residuals 2017\")\n",
    "\n",
    "sns.scatterplot(ax=ax3, x=true_yield_2018, y = residual_2018)\n",
    "ax3.set_title(r\"Plot of $\\log_{10}(1 + Crop Yield)$ vs Residuals 2018\")"
   ]
  },
  {
   "cell_type": "code",
   "execution_count": null,
   "id": "18b7abc7",
   "metadata": {},
   "outputs": [],
   "source": [
    "fig, (ax1,ax2,ax3) = plt.subplots(nrows=1, ncols=3, figsize=(20, 5))\n",
    "ax1 = (residual_gdf[residual_gdf.year == 2016]\n",
    "       .plot(ax = ax1, column = \"residual\", legend = True, norm=colors.Normalize(vmin= -0.4, vmax=0.4), cmap = \"BrBG\")\n",
    "       .set_title(\"2016 Residuals\"))\n",
    "ax2 = (residual_gdf[residual_gdf.year == 2017]\n",
    "       .plot(ax = ax2, column = \"residual\", legend = True, norm=colors.Normalize(vmin= -0.4, vmax=0.4), cmap = \"BrBG\")\n",
    "       .set_title(\"2017 Residuals\"))\n",
    "ax3 = (residual_gdf[residual_gdf.year == 2018]\n",
    "       .plot(ax = ax3, column = \"residual\", legend = True, norm=colors.Normalize(vmin= -0.4, vmax=0.4), cmap = \"BrBG\")\n",
    "       .set_title(\"2018 Residuals\"))\n",
    "\n",
    "caption = \"A positive value is an underestimated prediction (the prediction is lower than the actual yield), a negative value is an over estimated prediction\"\n",
    "plt.figtext(0.5, 0.01, caption, wrap=True, horizontalalignment='center', fontsize=12)"
   ]
  },
  {
   "cell_type": "code",
   "execution_count": null,
   "id": "96e0a709",
   "metadata": {},
   "outputs": [],
   "source": [
    "fig, (ax1,ax2,ax3) = plt.subplots(nrows=1, ncols=3, figsize=(20, 5))\n",
    "plt.suptitle(\"Residuals\")\n",
    "plt.ax1 = residual_gdf[residual_gdf.year == 2016].hist(ax = ax1, column = \"residual\", legend = True)\n",
    "ax1.set_title(\"2016 Residuals\")\n",
    "plt.ax2 = residual_gdf[residual_gdf.year == 2017].hist(ax = ax2, column = \"residual\", legend = True) \n",
    "ax2.set_title(\"2017 Residuals\")\n",
    "plt.ax3 = residual_gdf[residual_gdf.year == 2018].hist(ax = ax3, column = \"residual\", legend = True)\n",
    "ax3.set_title(\"2018 Residuals\")"
   ]
  },
  {
   "cell_type": "code",
   "execution_count": null,
   "id": "36f71326",
   "metadata": {},
   "outputs": [],
   "source": [
    "residual_gdf.residual.min()"
   ]
  },
  {
   "cell_type": "code",
   "execution_count": null,
   "id": "35cbdee3",
   "metadata": {},
   "outputs": [],
   "source": [
    "residual_gdf.residual.max()"
   ]
  },
  {
   "cell_type": "markdown",
   "id": "f3e26164",
   "metadata": {
    "tags": []
   },
   "source": [
    "# Difference from the Mean"
   ]
  },
  {
   "cell_type": "code",
   "execution_count": null,
   "id": "92742873",
   "metadata": {},
   "outputs": [],
   "source": [
    "residual_gdf_2016 = residual_gdf[residual_gdf.year == 2016]\n",
    "residual_gdf_2017 = residual_gdf[residual_gdf.year == 2017]\n",
    "residual_gdf_2018 = residual_gdf[residual_gdf.year == 2018]"
   ]
  },
  {
   "cell_type": "code",
   "execution_count": null,
   "id": "e21ef1d2",
   "metadata": {},
   "outputs": [],
   "source": [
    "x1 = residual_gdf_2016[\"demean_yield\"]\n",
    "y1 = residual_gdf_2016[\"demean_prediction\"]\n",
    "\n",
    "x2 = residual_gdf_2017[\"demean_yield\"]\n",
    "y2 = residual_gdf_2017[\"demean_prediction\"]\n",
    "\n",
    "x3 = residual_gdf_2018[\"demean_yield\"]\n",
    "y3 = residual_gdf_2018[\"demean_prediction\"]\n",
    "\n",
    "x4 = residual_gdf[\"demean_yield\"]\n",
    "y4 = residual_gdf[\"demean_prediction\"]\n",
    "\n",
    "\n",
    "\n",
    "plt.scatter(x4, y4)\n",
    "plt.title(\"Demeaned truth and predictions by district\")\n",
    "plt.xlabel('Difference from Yield Mean')\n",
    "plt.ylabel('Difference from Predictions Mean')\n",
    "\n",
    "\n",
    "\n",
    "# plt.subplots(figsize = (20, 5))\n",
    "# plt.suptitle(\"Difference from the Mean Yield and Prediction\")\n",
    "# plt.tight_layout()\n",
    "\n",
    "# plt.subplot(1, 4, 1)\n",
    "# plt.scatter(x1, y1)\n",
    "# plt.xlabel('Difference from Yield Mean')\n",
    "# plt.ylabel('Difference from Predictions Mean')\n",
    "\n",
    "# plt.subplot(1, 4, 2)\n",
    "# plt.scatter(x2, y2)\n",
    "# plt.title(\"2017\")\n",
    "# plt.xlabel('Difference from Yield Mean')\n",
    "# plt.ylabel('Difference from Predictions Mean')\n",
    "\n",
    "# plt.subplot(1, 4, 3)\n",
    "# plt.scatter(x3, y3)\n",
    "# plt.title(\"2018\")\n",
    "# plt.xlabel('Difference from Yield Mean')\n",
    "# plt.ylabel('Difference from Predictions Mean')\n",
    "\n",
    "# plt.subplot(1, 4, 4)\n",
    "# plt.scatter(x4, y4)\n",
    "# plt.title(\"All Years\")\n",
    "# plt.xlabel('Difference from Yield Mean')\n",
    "# plt.ylabel('Difference from Predictions Mean')"
   ]
  },
  {
   "cell_type": "raw",
   "id": "7391a262-a61a-4d14-909b-d508f8dae275",
   "metadata": {},
   "source": []
  },
  {
   "cell_type": "code",
   "execution_count": null,
   "id": "0a3853f1-9fef-48c1-8011-42559866f277",
   "metadata": {},
   "outputs": [],
   "source": [
    "year_end"
   ]
  },
  {
   "cell_type": "code",
   "execution_count": null,
   "id": "49e484aa-f598-4e07-b128-26c46f61b058",
   "metadata": {},
   "outputs": [],
   "source": [
    "for yr in range(year_start+1, year_end+1):\n",
    "    r_squared = r2_score(residual_gdf[residual_gdf.year == yr][\"demean_yield\"], residual_gdf[residual_gdf.year == yr][\"demean_prediction\"])\n",
    "    print(yr, \"R^2: \", r_squared)\n",
    "    pearson_r = pearsonr(residual_gdf[residual_gdf.year == yr][\"demean_yield\"], residual_gdf[residual_gdf.year == yr][\"demean_prediction\"])\n",
    "    print(yr, \"Pearson's: \", pearson_r[0])\n",
    "    print(\"\")"
   ]
  },
  {
   "cell_type": "code",
   "execution_count": null,
   "id": "d28f57d0",
   "metadata": {},
   "outputs": [],
   "source": []
  },
  {
   "cell_type": "code",
   "execution_count": null,
   "id": "ff0300c9",
   "metadata": {},
   "outputs": [],
   "source": []
  },
  {
   "cell_type": "code",
   "execution_count": null,
   "id": "28a637ab-3175-4a04-8faa-685f37e0fb00",
   "metadata": {},
   "outputs": [],
   "source": []
  }
 ],
 "metadata": {
  "kernelspec": {
   "display_name": "Python 3 (ipykernel)",
   "language": "python",
   "name": "python3"
  },
  "language_info": {
   "codemirror_mode": {
    "name": "ipython",
    "version": 3
   },
   "file_extension": ".py",
   "mimetype": "text/x-python",
   "name": "python",
   "nbconvert_exporter": "python",
   "pygments_lexer": "ipython3",
   "version": "3.7.7"
  }
 },
 "nbformat": 4,
 "nbformat_minor": 5
}
