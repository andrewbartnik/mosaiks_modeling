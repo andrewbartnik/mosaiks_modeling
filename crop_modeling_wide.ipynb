{
 "cells": [
  {
   "cell_type": "markdown",
   "id": "eff0abdc-94dd-461f-8946-884b0257ffbc",
   "metadata": {},
   "source": [
    "# Modeling Crop Yield"
   ]
  },
  {
   "cell_type": "code",
   "execution_count": null,
   "id": "b87002a0-52cd-4550-ab44-7bd9861b165d",
   "metadata": {},
   "outputs": [],
   "source": [
    "import warnings\n",
    "import time\n",
    "import os\n",
    "\n",
    "import numpy as np\n",
    "import pandas as pd\n",
    "import matplotlib.pyplot as plt\n",
    "import matplotlib.pyplot as plt\n",
    "import matplotlib.colors as colors\n",
    "\n",
    "import geopandas\n",
    "\n",
    "import pyarrow\n",
    "from sklearn.linear_model import RidgeCV\n",
    "from sklearn.model_selection import train_test_split\n",
    "from sklearn.metrics import r2_score\n",
    "from sklearn.metrics import mean_squared_error\n",
    "from sklearn.impute import SimpleImputer\n",
    "from scipy.stats import spearmanr\n",
    "from scipy.linalg import LinAlgWarning\n",
    "from scipy.stats import pearsonr"
   ]
  },
  {
   "cell_type": "markdown",
   "id": "7950a01f-9169-43a8-ba17-56103ac60179",
   "metadata": {},
   "source": [
    "## Parameters"
   ]
  },
  {
   "cell_type": "code",
   "execution_count": null,
   "id": "2384e2d7-d599-47ed-9ce7-cb1718414db0",
   "metadata": {},
   "outputs": [],
   "source": [
    "# satellite = \"landsat-8-c2-l2\"\n",
    "satellite = \"sentinel-2-l2a\"\n",
    "\n",
    "bands = \"2-3-4\"\n",
    "# bands = \"2-3-4-8\"\n",
    "# bands = \"1-2-3-4-5-6-7\"\n",
    "\n",
    "country_code = \"ZMB\"\n",
    "\n",
    "# points = \"4\"\n",
    "# points = \"15\"\n",
    "points = \"24\"\n",
    "# points = \"42\"\n",
    "\n",
    "num_features = \"1000\"\n",
    "\n",
    "feature_file_name = (f'{satellite}_bands-{bands}_{country_code}_{points}k-points_{num_features}-features')\n",
    "weight_file_name = (f'{country_code}_crop_weights{points}k-points')\n",
    "\n",
    "year_start = 2015\n",
    "year_end = 2018\n",
    "\n",
    "if points == \"4\":\n",
    "    marker_sz = 60\n",
    "elif points == \"15\":\n",
    "    marker_sz = 20\n",
    "elif points == \"24\":\n",
    "    marker_sz = 10\n",
    "else:\n",
    "    marker_sz = 8"
   ]
  },
  {
   "cell_type": "markdown",
   "id": "182718ad-291c-4eca-80d0-d31053057c2e",
   "metadata": {},
   "source": [
    "## Boundaries "
   ]
  },
  {
   "cell_type": "code",
   "execution_count": null,
   "id": "97b11889-1867-49cf-b5fc-8fa8034c9a62",
   "metadata": {},
   "outputs": [],
   "source": [
    "country_shp = geopandas.read_file(f'/capstone/cropmosaiks/data/boundaries/gadm36_{country_code}_2.shp')\n",
    "country_shp = country_shp.rename(columns = {'NAME_2': 'district'})[['district', 'geometry']]\n",
    "country_shp.district = country_shp.district.replace(\"MPongwe\", 'Mpongwe', regex=True)\n",
    "country_districts = country_shp.district.sort_values().unique().tolist()\n",
    "country_shp = country_shp.set_index('district')\n",
    "country_shp.shape\n",
    "# country_shp.plot(column = 'district',linewidth = 1, edgecolor = 'black' )\n",
    "# country_shp"
   ]
  },
  {
   "cell_type": "markdown",
   "id": "08b1eb8f-c0d2-4e49-9a5c-f65ceba6d2db",
   "metadata": {},
   "source": [
    "## Crops"
   ]
  },
  {
   "cell_type": "code",
   "execution_count": null,
   "id": "5e1856a2-ce1b-46e5-956d-af56ab3b4d29",
   "metadata": {},
   "outputs": [],
   "source": [
    "crop_df = pd.read_csv('/capstone/cropmosaiks/data/crops/cfs_maize_districts_zambia_2009_2018.csv')\n",
    "crop_df.district = crop_df.district.replace(\n",
    "    {\"Itezhi-tezhi\": 'Itezhi-Tezhi',\n",
    "     \"Kapiri-Mposhi\": 'Kapiri Mposhi',\n",
    "     \"Shang'ombo\": 'Shangombo',\n",
    "     \"Chienge\": 'Chiengi'\n",
    "    }, regex=True)\n",
    "crop_districts = crop_df.district.sort_values().unique().tolist()\n",
    "crop_df = crop_df[['district', 'year', 'yield_mt']]\n",
    "ln = len(crop_df[crop_df.year == 2016].district)\n",
    "crop_df = crop_df.set_index('district')\n",
    "ln\n",
    "# crop_df"
   ]
  },
  {
   "cell_type": "code",
   "execution_count": null,
   "id": "24ce7807-2446-45dd-9127-0d632ddff5d6",
   "metadata": {},
   "outputs": [],
   "source": [
    "list(set(crop_districts) - set(country_districts))"
   ]
  },
  {
   "cell_type": "code",
   "execution_count": null,
   "id": "3b81ab6b-dfe2-4b15-9285-dbc1620050ef",
   "metadata": {},
   "outputs": [],
   "source": [
    "list(set(country_districts) - set(crop_districts))"
   ]
  },
  {
   "cell_type": "code",
   "execution_count": null,
   "id": "89c19485-ffea-492c-97fa-62ce16d86357",
   "metadata": {},
   "outputs": [],
   "source": [
    "country_crop = geopandas.GeoDataFrame(crop_df.join(country_shp), crs = country_shp.crs)"
   ]
  },
  {
   "cell_type": "markdown",
   "id": "e512f4d8-04db-40b8-ae7e-2c425a3648fd",
   "metadata": {},
   "source": [
    "## Weights"
   ]
  },
  {
   "cell_type": "code",
   "execution_count": null,
   "id": "49e73b55-0a95-4746-a0cd-4fa2ca5d40aa",
   "metadata": {},
   "outputs": [],
   "source": [
    "# weights = pd.read_feather(f\"data/weights/{weight_file_name}_2018.feather\")\n",
    "# weights.crop_perc = weights.crop_perc.fillna(0)\n",
    "# weights.crop_perc = weights.crop_perc + 0.0001\n",
    "# weights"
   ]
  },
  {
   "cell_type": "code",
   "execution_count": null,
   "id": "bc8a10e4-55e9-4911-8999-c0654f7f14c6",
   "metadata": {},
   "outputs": [],
   "source": [
    "# weights_gdf.plot(figsize = (15,15),\n",
    "                 # cmap = 'inferno',\n",
    "                 # cmap = new_cmap,\n",
    "                 # markersize = 3,\n",
    "                 # alpha = .9,\n",
    "                 # column = 'crop_perc')\n",
    "# plt.axis('off')"
   ]
  },
  {
   "cell_type": "markdown",
   "id": "7c649148-5b42-4b7b-a126-e5510227a4fb",
   "metadata": {},
   "source": [
    "## Features"
   ]
  },
  {
   "cell_type": "code",
   "execution_count": null,
   "id": "8c3e1751-faf1-4386-902e-650764f748ed",
   "metadata": {},
   "outputs": [],
   "source": [
    "features_raw = geopandas.GeoDataFrame()\n",
    "\n",
    "for yr in range(year_start, year_end + 1):\n",
    "    print(f\"Opening: {feature_file_name}_{yr}.feather\")\n",
    "    features_x = pd.read_feather(f\"/capstone/cropmosaiks/data/features/{feature_file_name}_{yr}.feather\")\n",
    "    \n",
    "    # concatenate the feather files together, axis = 0 specifies to stack rows (rather than adding columns)\n",
    "    features_raw = pd.concat([features_raw, features_x], axis=0)\n",
    "    \n",
    "    print(\"feature.shape\", features_raw.shape)\n",
    "    print(\"Appending:\", yr)\n",
    "    print(\"\")"
   ]
  },
  {
   "cell_type": "code",
   "execution_count": null,
   "id": "c8066f2e-15f4-4166-9be2-d0011657236d",
   "metadata": {},
   "outputs": [],
   "source": [
    "features = features_raw.copy()\n",
    "if year_start == 2013:\n",
    "    features = features[features.month > 6]\n",
    "else:\n",
    "    pass\n",
    "\n",
    "features['year'] = np.where(\n",
    "    features['month'].isin([7, 8, 9, 10, 11, 12]),\n",
    "    features['year'] + 1, \n",
    "    features['year'])\n",
    "\n",
    "features = features[features['year'] <= year_end]\n",
    "\n",
    "features.sort_values(['year', 'month'], inplace=True)"
   ]
  },
  {
   "cell_type": "code",
   "execution_count": null,
   "id": "ad68fc62-4142-4e04-9ad9-c75d78cce7b2",
   "metadata": {},
   "outputs": [],
   "source": [
    "features = features[features.month.isin([4, 5, 6])]"
   ]
  },
  {
   "cell_type": "code",
   "execution_count": null,
   "id": "cdc240de-84b3-4aaf-b7b2-12249bcfde37",
   "metadata": {},
   "outputs": [],
   "source": [
    "# Here we pivot the data from long format to wide by indexing on \n",
    "# 'lon','lat', \"year\", 'month' and using the unstack function\n",
    "features = features.set_index(['lon','lat', \"year\", 'month']).unstack()\n",
    "\n",
    "# We then map column names based on the month index and the associated features\n",
    "# so month '01' is appended to each feature for that month making 0_01, 1_01 etc. \n",
    "features.columns = features.columns.map(lambda x: '{}_{}'.format(*x))"
   ]
  },
  {
   "cell_type": "code",
   "execution_count": null,
   "id": "34333c94-b6c5-4a48-bce0-bc3323c3c088",
   "metadata": {},
   "outputs": [],
   "source": [
    "features.replace([np.inf, -np.inf], np.nan, inplace=True)"
   ]
  },
  {
   "cell_type": "code",
   "execution_count": null,
   "id": "461eec57-dbca-480f-9d10-7e2d17d46d78",
   "metadata": {},
   "outputs": [],
   "source": [
    "impute_data = True\n",
    "# impute_data = False\n",
    "\n",
    "if impute_data:\n",
    "    imputer = SimpleImputer(missing_values=np.nan, strategy='mean')\n",
    "    imputer.fit_transform(features)\n",
    "    features[:] = imputer.transform(features)\n",
    "    features = features.reset_index()\n",
    "else:\n",
    "    features = features.fillna(0)"
   ]
  },
  {
   "cell_type": "code",
   "execution_count": null,
   "id": "c379f81a-d9ab-443a-9f21-5b026b1b0310",
   "metadata": {},
   "outputs": [],
   "source": [
    "features = geopandas.GeoDataFrame(\n",
    "    features, \n",
    "    geometry = geopandas.points_from_xy(x = features.lon, y = features.lat)\n",
    "    , crs='EPSG:4326'\n",
    ")#.join(weights.set_index(['lon', 'lat']), on = ['lon', 'lat']) # Optionally attach weight to each point (% area cropped of surrounding 1 km^2)\n",
    "# Drop lon and lat now that they are in geometry column\n",
    "features = features.drop(['lon', 'lat'], axis = 1)"
   ]
  },
  {
   "cell_type": "code",
   "execution_count": null,
   "id": "b6f78e87-ae9b-4491-97e3-34b412207689",
   "metadata": {},
   "outputs": [],
   "source": [
    "# mn = 9\n",
    "# yr = 2017\n",
    "# feature = 999\n",
    "\n",
    "# features[features.year == yr].plot(\n",
    "#     column = f\"{feature}_{mn}\",\n",
    "#     figsize = (10,10),\n",
    "#     marker='H',\n",
    "#     # legend = True,\n",
    "#     markersize = marker_sz,\n",
    "# )"
   ]
  },
  {
   "cell_type": "code",
   "execution_count": null,
   "id": "54e63ada-466a-45d2-8669-81c0188898e5",
   "metadata": {},
   "outputs": [],
   "source": [
    "features = features.sjoin(country_shp, how = 'left', predicate = 'within')"
   ]
  },
  {
   "cell_type": "code",
   "execution_count": null,
   "id": "c9a89ae6-97bc-43c0-b8f3-86237f04aab4",
   "metadata": {},
   "outputs": [],
   "source": [
    "# features"
   ]
  },
  {
   "cell_type": "code",
   "execution_count": null,
   "id": "fa911b27-8b26-4829-bd1f-a5192ed7e9ef",
   "metadata": {},
   "outputs": [],
   "source": [
    "# na = features[adm_features.isna().any(axis = 1)]\n",
    "# na.plot(figsize = (10,10), markersize = 10)"
   ]
  },
  {
   "cell_type": "code",
   "execution_count": null,
   "id": "24a16dec-50aa-4ef5-938d-60510a994eda",
   "metadata": {},
   "outputs": [],
   "source": [
    "features = (\n",
    "    features\n",
    "    .dropna(subset=['index_right'])\n",
    "    .rename(columns = {\n",
    "        \"index_right\": \"district\", \n",
    "    })\n",
    "    .reset_index(drop = True)\n",
    ")\n",
    "features_gdf = features.copy()\n",
    "features = features.drop(['geometry'], axis = 1)"
   ]
  },
  {
   "cell_type": "code",
   "execution_count": null,
   "id": "46c96f91-7385-4651-b987-8e742d61592a",
   "metadata": {},
   "outputs": [],
   "source": [
    "# features"
   ]
  },
  {
   "cell_type": "code",
   "execution_count": null,
   "id": "13d823d9-b400-4ed7-a238-323e7d6a1c8b",
   "metadata": {},
   "outputs": [],
   "source": [
    "features_summary = features.groupby(['district',\"year\"], as_index = False).mean()\n",
    "# features_summary"
   ]
  },
  {
   "cell_type": "code",
   "execution_count": null,
   "id": "2a5c4177-812c-4153-beef-27f0b43597dd",
   "metadata": {},
   "outputs": [],
   "source": [
    "crop_df_x = crop_df[crop_df.year >= year_start + 1]\n",
    "crop_df_x = crop_df_x[~crop_df_x.index.isin(['Mafinga', 'Ikelenge'])]\n",
    "crop_df_x.reset_index(inplace=True)\n",
    "# crop_df_x"
   ]
  },
  {
   "cell_type": "code",
   "execution_count": null,
   "id": "f75da66b-bbb3-4cd0-919e-6854109891e8",
   "metadata": {},
   "outputs": [],
   "source": [
    "features_summary = features_summary.set_index([\"district\", \"year\"]).join(other = crop_df_x.set_index([\"district\", \"year\"])).reset_index()\n",
    "# features_summary"
   ]
  },
  {
   "cell_type": "code",
   "execution_count": null,
   "id": "53adeea2-6fbb-4908-82ba-ae0b93163684",
   "metadata": {},
   "outputs": [],
   "source": [
    "# features_croppped = features[features.crop_perc > 0]\n",
    "# features.shape"
   ]
  },
  {
   "cell_type": "code",
   "execution_count": null,
   "id": "0bcdbbb1-30a0-4611-8f2f-5d2ea4b99e1f",
   "metadata": {},
   "outputs": [],
   "source": [
    "# features_summary = features.groupby(['district', 'yield_mt' ,\"year\"], as_index = False\n",
    "#                                    ).apply(lambda x: np.average(x['0'], weights=x['crop_perc'], axis = 0))\n",
    "# features_summary"
   ]
  },
  {
   "cell_type": "markdown",
   "id": "05fd663a-7d1f-407d-bf26-b007a43a88da",
   "metadata": {},
   "source": [
    "## Model"
   ]
  },
  {
   "cell_type": "code",
   "execution_count": null,
   "id": "2d3764d5-0e0d-495f-9194-476590a1dc68",
   "metadata": {},
   "outputs": [],
   "source": [
    "\n",
    "x_all = features_summary.drop([\n",
    "    'district', \n",
    "    'year', \n",
    "    'yield_mt'], axis = 1)\n",
    "\n",
    "# y_all = features_summary.yield_mt\n",
    "y_all = np.log10(features_summary.yield_mt.to_numpy() + 1)"
   ]
  },
  {
   "cell_type": "code",
   "execution_count": null,
   "id": "eb78490f-58be-4e96-908c-f3488efe0f82",
   "metadata": {},
   "outputs": [],
   "source": [
    "x_train, x_test, y_train, y_test = train_test_split(\n",
    "    x_all, y_all, test_size=0.2, random_state=0\n",
    ")"
   ]
  },
  {
   "cell_type": "code",
   "execution_count": null,
   "id": "7e735347-f36d-45dd-9cc6-a2b588c45c4f",
   "metadata": {},
   "outputs": [],
   "source": [
    "len(y_all)"
   ]
  },
  {
   "cell_type": "code",
   "execution_count": null,
   "id": "ce5899cf-f9ee-4165-b487-3686ae15bcad",
   "metadata": {},
   "outputs": [],
   "source": [
    "len(x_train)"
   ]
  },
  {
   "cell_type": "code",
   "execution_count": null,
   "id": "097a64e2-bff2-446e-bfa3-aff2c655aae2",
   "metadata": {},
   "outputs": [],
   "source": [
    "len(x_test)"
   ]
  },
  {
   "cell_type": "code",
   "execution_count": null,
   "id": "b9f9b092-b2bd-47af-b464-6d4d4f83c7b0",
   "metadata": {},
   "outputs": [],
   "source": [
    "ridge_cv_random = RidgeCV(cv=5, alphas=np.logspace(-8, 8, base=10, num=17))\n",
    "ridge_cv_random.fit(x_train, y_train)"
   ]
  },
  {
   "cell_type": "code",
   "execution_count": null,
   "id": "2ac6096e-88e7-466c-b606-5c08cc009db1",
   "metadata": {},
   "outputs": [],
   "source": [
    "print(f\"Validation R2 performance {ridge_cv_random.best_score_:0.2f}\")"
   ]
  },
  {
   "cell_type": "code",
   "execution_count": null,
   "id": "08870b9b-70da-4449-aaa1-de374a6c8a62",
   "metadata": {},
   "outputs": [],
   "source": [
    "y_pred = np.maximum(ridge_cv_random.predict(x_train), 0)\n",
    "\n",
    "plt.figure()\n",
    "plt.scatter(y_pred, y_train, alpha=1, s=4)\n",
    "plt.xlabel(\"Predicted\", fontsize=15, x = .3)\n",
    "plt.ylabel(\"Ground Truth\", fontsize=15)\n",
    "plt.suptitle(r\"$\\log_{10}(1 + Crop Yield)$\", fontsize=20, y=1.02)\n",
    "plt.title((f\"Model applied to train data n = {len(x_train)}, R$^2$ = {(r2_score(y_train, y_pred)):0.2f}\"),\n",
    "          fontsize=12, y=1.01)\n",
    "\n",
    "plt.xticks(fontsize=14)\n",
    "plt.yticks(fontsize=14)\n",
    "\n",
    "m, b = np.polyfit(y_pred, y_train, 1)\n",
    "plt.plot(y_pred, m * y_pred + b, color=\"black\")\n",
    "plt.gca().spines.right.set_visible(False)\n",
    "plt.gca().spines.top.set_visible(False)\n",
    "\n",
    "# plt.savefig(f'images/{feature_file_name}_train_data.jpg', dpi=300)\n",
    "plt.show()\n",
    "plt.close()"
   ]
  },
  {
   "cell_type": "code",
   "execution_count": null,
   "id": "530d1de7-dd12-4109-899c-d8a642350f21",
   "metadata": {},
   "outputs": [],
   "source": [
    "r2_score(y_train, y_pred)"
   ]
  },
  {
   "cell_type": "code",
   "execution_count": null,
   "id": "16512ded-1cd2-4e42-b97d-77bc6cd85bb6",
   "metadata": {},
   "outputs": [],
   "source": [
    "pearsonr(y_pred, y_train)"
   ]
  },
  {
   "cell_type": "code",
   "execution_count": null,
   "id": "1e3730dd-e47e-49c9-bfc1-5ffab252a969",
   "metadata": {},
   "outputs": [],
   "source": [
    "spearmanr(y_pred, y_train)"
   ]
  },
  {
   "cell_type": "code",
   "execution_count": null,
   "id": "81001942-d45d-4826-801d-5f81d211359f",
   "metadata": {
    "tags": []
   },
   "outputs": [],
   "source": [
    "y_pred = np.maximum(ridge_cv_random.predict(x_test), 0)\n",
    "\n",
    "plt.figure()\n",
    "plt.scatter(y_pred, y_test, alpha=1, s=4)\n",
    "plt.xlabel(\"Predicted\", fontsize=15)\n",
    "plt.ylabel(\"Ground Truth\", fontsize=15)\n",
    "plt.suptitle(r\"$\\log_{10}(1 + Crop Yield)$\", fontsize=20, y=1.02)\n",
    "plt.title(f\"Model applied to test data n = {len(x_test)}, R$^2$ = {(r2_score(y_test, y_pred)):0.2f}\",\n",
    "          fontsize=12, y=1)\n",
    "\n",
    "plt.xticks(fontsize=14)\n",
    "plt.yticks(fontsize=14)\n",
    "\n",
    "m, b = np.polyfit(y_pred, y_test, 1)\n",
    "plt.plot(y_pred, m * y_pred + b, color=\"black\")\n",
    "plt.gca().spines.right.set_visible(False)\n",
    "plt.gca().spines.top.set_visible(False)\n",
    "\n",
    "# plt.savefig(f'images/{feature_file_name}_test_data.jpg', dpi=300)\n",
    "plt.show()\n",
    "plt.close()"
   ]
  },
  {
   "cell_type": "code",
   "execution_count": null,
   "id": "856c7053-0316-488a-b78f-16ca7da20122",
   "metadata": {},
   "outputs": [],
   "source": [
    "r2_score(y_test, y_pred)"
   ]
  },
  {
   "cell_type": "code",
   "execution_count": null,
   "id": "158ae3e8-10ee-4b06-8fa7-9d8c5edd769c",
   "metadata": {},
   "outputs": [],
   "source": [
    "pearsonr(y_pred, y_test) "
   ]
  },
  {
   "cell_type": "code",
   "execution_count": null,
   "id": "6b9301c0-1b72-4ba8-b074-10bcf792b570",
   "metadata": {},
   "outputs": [],
   "source": [
    "spearmanr(y_pred, y_test)"
   ]
  },
  {
   "cell_type": "code",
   "execution_count": null,
   "id": "0365bb4b-9d11-48be-8324-408e97f17748",
   "metadata": {},
   "outputs": [],
   "source": [
    "pred_features = features.copy()\n",
    "pred_features['geometry'] = features_gdf['geometry']\n",
    "pred_features = geopandas.GeoDataFrame(pred_features)\n",
    "x_all = pred_features.drop([\n",
    "    'year', \n",
    "    'district',\n",
    "    'geometry', \n",
    "#     'yield_mt'\n",
    "                           ], axis = 1)\n",
    "pred_features['fit'] = np.maximum(ridge_cv_random.predict(x_all), 0)"
   ]
  },
  {
   "cell_type": "code",
   "execution_count": null,
   "id": "20662754-467f-461b-a4ec-5c7d1feda542",
   "metadata": {},
   "outputs": [],
   "source": [
    "plot_features = pred_features[pred_features.year == 2018]\n",
    "# plot_features"
   ]
  },
  {
   "cell_type": "code",
   "execution_count": null,
   "id": "48126201-e106-414b-96f0-a460542897ed",
   "metadata": {},
   "outputs": [],
   "source": [
    "plot_features.plot(figsize = (10,10),\n",
    "                   marker='H',\n",
    "                   # legend = True,\n",
    "                   markersize = marker_sz,\n",
    "#                    alpha = .9,\n",
    "                   column = 'fit')"
   ]
  },
  {
   "cell_type": "code",
   "execution_count": null,
   "id": "8634c8b7-2e8c-4805-a4a8-68ae98b90e96",
   "metadata": {},
   "outputs": [],
   "source": []
  },
  {
   "cell_type": "code",
   "execution_count": null,
   "id": "5be7bd01-da26-4f78-a97e-4ef167aace60",
   "metadata": {},
   "outputs": [],
   "source": []
  },
  {
   "cell_type": "code",
   "execution_count": null,
   "id": "dada6a16-1195-493c-9502-53ff0aa9887f",
   "metadata": {},
   "outputs": [],
   "source": [
    "# this is a comment"
   ]
  },
  {
   "cell_type": "markdown",
   "id": "36fc233d-1be4-4936-aff7-9e5ef5691a7a",
   "metadata": {},
   "source": [
    "## Plot Residuals"
   ]
  },
  {
   "cell_type": "code",
   "execution_count": null,
   "id": "21017158-898a-4a2c-8423-2a2ac012ef35",
   "metadata": {},
   "outputs": [],
   "source": [
    "x_all = features_summary.drop([\n",
    "    'district', \n",
    "    'year', \n",
    "    'yield_mt'], axis = 1)\n",
    "\n",
    "residual_df = pd.DataFrame()\n",
    "\n",
    "residual_df[\"yield\"] = np.log10(features_summary.yield_mt.to_numpy() + 1)\n",
    "residual_df[\"prediction\"] = np.maximum(ridge_cv_random.predict(x_all), 0)\n",
    "residual_df[\"residual\"] = residual_df[\"yield\"] - residual_df[\"prediction\"]\n",
    "residual_df[\"year\"] = features_summary.year\n",
    "residual_df[\"district\"] = features_summary.district\n",
    "residual_df = residual_df.join(country_shp, how = \"left\", on = \"district\")\n",
    "residual_gdf = geopandas.GeoDataFrame(residual_df)"
   ]
  },
  {
   "cell_type": "code",
   "execution_count": null,
   "id": "e4ce2582-368f-4ef2-8e99-fd457302d8af",
   "metadata": {},
   "outputs": [],
   "source": [
    "year = 2016\n",
    "residual_gdf[residual_gdf.year == year].plot(column = \"residual\", legend = True)\n",
    "plt.title(f\"{year} Residuals\")"
   ]
  },
  {
   "cell_type": "code",
   "execution_count": null,
   "id": "b1c20f72-2d09-4355-a326-48cad2a1949f",
   "metadata": {},
   "outputs": [],
   "source": [
    "year = 2017\n",
    "residual_gdf[residual_gdf.year == year].plot(column = \"residual\", legend = True)\n",
    "plt.title(f\"{year} Residuals\")"
   ]
  },
  {
   "cell_type": "code",
   "execution_count": null,
   "id": "50d08445-a4d3-4709-8800-e746ada7e8a5",
   "metadata": {},
   "outputs": [],
   "source": [
    "year = 2018\n",
    "residual_gdf[residual_gdf.year == year].plot(column = \"residual\", legend = True)\n",
    "plt.title(f\"{year} Residuals\")"
   ]
  },
  {
   "cell_type": "code",
   "execution_count": null,
   "id": "06abdcc7-ef59-46ff-8644-edc521dfca79",
   "metadata": {},
   "outputs": [],
   "source": []
  },
  {
   "cell_type": "code",
   "execution_count": null,
   "id": "e1763879-e208-4069-9b4a-c8b6ed2efbfd",
   "metadata": {},
   "outputs": [],
   "source": []
  }
 ],
 "metadata": {
  "kernelspec": {
   "display_name": "Python 3 (ipykernel)",
   "language": "python",
   "name": "python3"
  },
  "language_info": {
   "codemirror_mode": {
    "name": "ipython",
    "version": 3
   },
   "file_extension": ".py",
   "mimetype": "text/x-python",
   "name": "python",
   "nbconvert_exporter": "python",
   "pygments_lexer": "ipython3",
   "version": "3.7.7"
  }
 },
 "nbformat": 4,
 "nbformat_minor": 5
}
