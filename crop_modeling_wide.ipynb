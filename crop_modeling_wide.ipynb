{
 "cells": [
  {
   "cell_type": "markdown",
   "id": "2535695c",
   "metadata": {},
   "source": [
    "# Modeling Crop Yield"
   ]
  },
  {
   "cell_type": "code",
   "execution_count": null,
   "id": "214b5ccd",
   "metadata": {},
   "outputs": [],
   "source": [
    "import warnings\n",
    "import time\n",
    "import os\n",
    "\n",
    "import numpy as np\n",
    "import pandas as pd\n",
    "import matplotlib.pyplot as plt\n",
    "import matplotlib.pyplot as plt\n",
    "import matplotlib.colors as colors\n",
    "\n",
    "import geopandas\n",
    "\n",
    "import pyarrow\n",
    "from sklearn.linear_model import RidgeCV\n",
    "from sklearn.model_selection import train_test_split\n",
    "from sklearn.metrics import r2_score\n",
    "from sklearn.metrics import mean_squared_error\n",
    "from sklearn.impute import SimpleImputer\n",
    "from scipy.stats import spearmanr\n",
    "from scipy.linalg import LinAlgWarning\n",
    "from scipy.stats import pearsonr\n",
    "\n",
    "import math"
   ]
  },
  {
   "cell_type": "markdown",
   "id": "b1d38b1c",
   "metadata": {},
   "source": [
    "## Parameters"
   ]
  },
  {
   "cell_type": "code",
   "execution_count": null,
   "id": "f21e813f",
   "metadata": {},
   "outputs": [],
   "source": [
    "# satellite = \"landsat-8-c2-l2\"\n",
    "satellite = \"sentinel-2-l2a\"\n",
    "\n",
    "bands = \"2-3-4\"\n",
    "# bands = \"2-3-4-8\"\n",
    "# bands = \"1-2-3-4-5-6-7\"\n",
    "\n",
    "country_code = \"ZMB\"\n",
    "\n",
    "# points = \"4\"\n",
    "# points = \"15\"\n",
    "points = \"24\"\n",
    "# points = \"42\"\n",
    "\n",
    "num_features = \"1000\"\n",
    "\n",
    "feature_file_name = (f'{satellite}_bands-{bands}_{country_code}_{points}k-points_{num_features}-features')\n",
    "weight_file_name = (f'{country_code}_crop_weights{points}k-points')\n",
    "\n",
    "year_start = 2015\n",
    "year_end = 2018\n",
    "\n",
    "if points == \"4\":\n",
    "    marker_sz = 60\n",
    "elif points == \"15\":\n",
    "    marker_sz = 20\n",
    "elif points == \"24\":\n",
    "    marker_sz = 10\n",
    "else:\n",
    "    marker_sz = 8"
   ]
  },
  {
   "cell_type": "markdown",
   "id": "392956f2",
   "metadata": {},
   "source": [
    "## Boundaries "
   ]
  },
  {
   "cell_type": "code",
   "execution_count": null,
   "id": "4f1739f0",
   "metadata": {},
   "outputs": [],
   "source": [
    "country_shp = geopandas.read_file(f'/capstone/cropmosaiks/data/boundaries/gadm36_{country_code}_2.shp')\n",
    "country_shp = country_shp.rename(columns = {'NAME_2': 'district'})[['district', 'geometry']]\n",
    "country_shp.district = country_shp.district.replace(\"MPongwe\", 'Mpongwe', regex=True)\n",
    "country_districts = country_shp.district.sort_values().unique().tolist()\n",
    "country_shp = country_shp.set_index('district')\n",
    "country_shp.shape\n",
    "# country_shp.plot(column = 'district',linewidth = 1, edgecolor = 'black' )\n",
    "# country_shp"
   ]
  },
  {
   "cell_type": "markdown",
   "id": "95883e1d",
   "metadata": {},
   "source": [
    "## Crops"
   ]
  },
  {
   "cell_type": "code",
   "execution_count": null,
   "id": "e845343e",
   "metadata": {},
   "outputs": [],
   "source": [
    "crop_df = pd.read_csv('/capstone/cropmosaiks/data/crops/cfs_maize_districts_zambia_2009_2018.csv')\n",
    "crop_df.district = crop_df.district.replace(\n",
    "    {\"Itezhi-tezhi\": 'Itezhi-Tezhi',\n",
    "     \"Kapiri-Mposhi\": 'Kapiri Mposhi',\n",
    "     \"Shang'ombo\": 'Shangombo',\n",
    "     \"Chienge\": 'Chiengi'\n",
    "    }, regex=True)\n",
    "crop_districts = crop_df.district.sort_values().unique().tolist()\n",
    "crop_df = crop_df[['district', 'year', 'yield_mt']]\n",
    "ln = len(crop_df[crop_df.year == 2016].district)\n",
    "crop_df = crop_df.set_index('district')\n",
    "ln\n",
    "# crop_df"
   ]
  },
  {
   "cell_type": "code",
   "execution_count": null,
   "id": "7abe60b9",
   "metadata": {},
   "outputs": [],
   "source": [
    "list(set(crop_districts) - set(country_districts))"
   ]
  },
  {
   "cell_type": "code",
   "execution_count": null,
   "id": "fa0d6499",
   "metadata": {},
   "outputs": [],
   "source": [
    "list(set(country_districts) - set(crop_districts))"
   ]
  },
  {
   "cell_type": "code",
   "execution_count": null,
   "id": "c75a076a",
   "metadata": {},
   "outputs": [],
   "source": [
    "country_crop = geopandas.GeoDataFrame(crop_df.join(country_shp), crs = country_shp.crs)"
   ]
  },
  {
   "cell_type": "markdown",
   "id": "21c05976",
   "metadata": {},
   "source": [
    "## Weights"
   ]
  },
  {
   "cell_type": "code",
   "execution_count": null,
   "id": "2ff4e25f",
   "metadata": {},
   "outputs": [],
   "source": [
    "# weights = pd.read_feather(f\"data/weights/{weight_file_name}_2018.feather\")\n",
    "# weights.crop_perc = weights.crop_perc.fillna(0)\n",
    "# weights.crop_perc = weights.crop_perc + 0.0001\n",
    "# weights"
   ]
  },
  {
   "cell_type": "code",
   "execution_count": null,
   "id": "c2000fea",
   "metadata": {},
   "outputs": [],
   "source": [
    "# weights_gdf.plot(figsize = (15,15),\n",
    "                 # cmap = 'inferno',\n",
    "                 # cmap = new_cmap,\n",
    "                 # markersize = 3,\n",
    "                 # alpha = .9,\n",
    "                 # column = 'crop_perc')\n",
    "# plt.axis('off')"
   ]
  },
  {
   "cell_type": "markdown",
   "id": "d60438c4",
   "metadata": {},
   "source": [
    "## Features"
   ]
  },
  {
   "cell_type": "code",
   "execution_count": null,
   "id": "0b77d439",
   "metadata": {},
   "outputs": [],
   "source": [
    "features_raw = geopandas.GeoDataFrame()\n",
    "\n",
    "for yr in range(year_start, year_end + 1):\n",
    "    print(f\"Opening: {feature_file_name}_{yr}.feather\")\n",
    "    features_x = pd.read_feather(f\"/capstone/cropmosaiks/data/features/{feature_file_name}_{yr}.feather\")\n",
    "    \n",
    "    # concatenate the feather files together, axis = 0 specifies to stack rows (rather than adding columns)\n",
    "    features_raw = pd.concat([features_raw, features_x], axis=0)\n",
    "    \n",
    "    print(\"feature.shape\", features_raw.shape)\n",
    "    print(\"Appending:\", yr)\n",
    "    print(\"\")"
   ]
  },
  {
   "cell_type": "code",
   "execution_count": null,
   "id": "53ef1384",
   "metadata": {},
   "outputs": [],
   "source": [
    "features = features_raw.copy()\n",
    "if year_start == 2013:\n",
    "    features = features[features.month > 6]\n",
    "else:\n",
    "    pass\n",
    "\n",
    "features['year'] = np.where(\n",
    "    features['month'].isin([7, 8, 9, 10, 11, 12]),\n",
    "    features['year'] + 1, \n",
    "    features['year'])\n",
    "\n",
    "features = features[features['year'] <= year_end]\n",
    "\n",
    "features.sort_values(['year', 'month'], inplace=True)"
   ]
  },
  {
   "cell_type": "code",
   "execution_count": null,
   "id": "afedf281",
   "metadata": {},
   "outputs": [],
   "source": [
    "features = features[features.month.isin([4, 5, 6])]"
   ]
  },
  {
   "cell_type": "code",
   "execution_count": null,
   "id": "89353822",
   "metadata": {},
   "outputs": [],
   "source": [
    "# Here we pivot the data from long format to wide by indexing on \n",
    "# 'lon','lat', \"year\", 'month' and using the unstack function\n",
    "features = features.set_index(['lon','lat', \"year\", 'month']).unstack()\n",
    "\n",
    "# We then map column names based on the month index and the associated features\n",
    "# so month '01' is appended to each feature for that month making 0_01, 1_01 etc. \n",
    "features.columns = features.columns.map(lambda x: '{}_{}'.format(*x))"
   ]
  },
  {
   "cell_type": "code",
   "execution_count": null,
   "id": "cf36a5fb",
   "metadata": {},
   "outputs": [],
   "source": [
    "features.replace([np.inf, -np.inf], np.nan, inplace=True)"
   ]
  },
  {
   "cell_type": "code",
   "execution_count": null,
   "id": "ca96d4a3",
   "metadata": {},
   "outputs": [],
   "source": [
    "impute_data = True\n",
    "# impute_data = False\n",
    "\n",
    "if impute_data:\n",
    "    imputer = SimpleImputer(missing_values=np.nan, strategy='mean')\n",
    "    imputer.fit_transform(features)\n",
    "    features[:] = imputer.transform(features)\n",
    "    features = features.reset_index()\n",
    "else:\n",
    "    features = features.fillna(0)"
   ]
  },
  {
   "cell_type": "code",
   "execution_count": null,
   "id": "7f0e8cd3",
   "metadata": {},
   "outputs": [],
   "source": [
    "features = geopandas.GeoDataFrame(\n",
    "    features, \n",
    "    geometry = geopandas.points_from_xy(x = features.lon, y = features.lat)\n",
    "    , crs='EPSG:4326'\n",
    ")#.join(weights.set_index(['lon', 'lat']), on = ['lon', 'lat']) # Optionally attach weight to each point (% area cropped of surrounding 1 km^2)\n",
    "# Drop lon and lat now that they are in geometry column\n",
    "features = features.drop(['lon', 'lat'], axis = 1)"
   ]
  },
  {
   "cell_type": "code",
   "execution_count": null,
   "id": "f18df965",
   "metadata": {},
   "outputs": [],
   "source": [
    "# mn = 9\n",
    "# yr = 2017\n",
    "# feature = 999\n",
    "\n",
    "# features[features.year == yr].plot(\n",
    "#     column = f\"{feature}_{mn}\",\n",
    "#     figsize = (10,10),\n",
    "#     marker='H',\n",
    "#     # legend = True,\n",
    "#     markersize = marker_sz,\n",
    "# )"
   ]
  },
  {
   "cell_type": "code",
   "execution_count": null,
   "id": "25573aa2",
   "metadata": {},
   "outputs": [],
   "source": [
    "features = features.sjoin(country_shp, how = 'left', predicate = 'within')"
   ]
  },
  {
   "cell_type": "code",
   "execution_count": null,
   "id": "7d9b5d01",
   "metadata": {},
   "outputs": [],
   "source": [
    "# features"
   ]
  },
  {
   "cell_type": "code",
   "execution_count": null,
   "id": "b486e861",
   "metadata": {},
   "outputs": [],
   "source": [
    "# na = features[adm_features.isna().any(axis = 1)]\n",
    "# na.plot(figsize = (10,10), markersize = 10)"
   ]
  },
  {
   "cell_type": "code",
   "execution_count": null,
   "id": "02e34653",
   "metadata": {},
   "outputs": [],
   "source": [
    "features = (\n",
    "    features\n",
    "    .dropna(subset=['index_right'])\n",
    "    .rename(columns = {\n",
    "        \"index_right\": \"district\", \n",
    "    })\n",
    "    .reset_index(drop = True)\n",
    ")\n",
    "features_gdf = features.copy()\n",
    "features = features.drop(['geometry'], axis = 1)"
   ]
  },
  {
   "cell_type": "code",
   "execution_count": null,
   "id": "58c8ac99",
   "metadata": {},
   "outputs": [],
   "source": [
    "# features"
   ]
  },
  {
   "cell_type": "code",
   "execution_count": null,
   "id": "89e8ee17",
   "metadata": {},
   "outputs": [],
   "source": [
    "features_summary = features.groupby(['district',\"year\"], as_index = False).mean()\n",
    "# features_summary"
   ]
  },
  {
   "cell_type": "code",
   "execution_count": null,
   "id": "d81cc22d",
   "metadata": {},
   "outputs": [],
   "source": [
    "crop_df_x = crop_df[crop_df.year >= year_start + 1]\n",
    "crop_df_x = crop_df_x[~crop_df_x.index.isin(['Mafinga', 'Ikelenge'])]\n",
    "crop_df_x.reset_index(inplace=True)\n",
    "# crop_df_x"
   ]
  },
  {
   "cell_type": "code",
   "execution_count": null,
   "id": "a6c28f76",
   "metadata": {},
   "outputs": [],
   "source": [
    "features_summary = features_summary.set_index([\"district\", \"year\"]).join(other = crop_df_x.set_index([\"district\", \"year\"])).reset_index()\n",
    "# features_summary"
   ]
  },
  {
   "cell_type": "code",
   "execution_count": null,
   "id": "03cbe38b",
   "metadata": {},
   "outputs": [],
   "source": [
    "# features_croppped = features[features.crop_perc > 0]\n",
    "# features.shape"
   ]
  },
  {
   "cell_type": "code",
   "execution_count": null,
   "id": "a3ddf024",
   "metadata": {},
   "outputs": [],
   "source": [
    "# features_summary = features.groupby(['district', 'yield_mt' ,\"year\"], as_index = False\n",
    "#                                    ).apply(lambda x: np.average(x['0'], weights=x['crop_perc'], axis = 0))\n",
    "# features_summary"
   ]
  },
  {
   "cell_type": "markdown",
   "id": "8c374a2d",
   "metadata": {},
   "source": [
    "## Model"
   ]
  },
  {
   "cell_type": "code",
   "execution_count": null,
   "id": "7864f762",
   "metadata": {},
   "outputs": [],
   "source": [
    "\n",
    "x_all = features_summary.drop([\n",
    "    'district', \n",
    "    'year', \n",
    "    'yield_mt'], axis = 1)\n",
    "\n",
    "# y_all = features_summary.yield_mt\n",
    "y_all = np.log10(features_summary.yield_mt.to_numpy() + 1)"
   ]
  },
  {
   "cell_type": "code",
   "execution_count": null,
   "id": "710b8f79",
   "metadata": {},
   "outputs": [],
   "source": [
    "x_train, x_test, y_train, y_test = train_test_split(\n",
    "    x_all, y_all, test_size=0.2, random_state=0\n",
    ")"
   ]
  },
  {
   "cell_type": "code",
   "execution_count": null,
   "id": "078fa896",
   "metadata": {},
   "outputs": [],
   "source": [
    "len(y_all)"
   ]
  },
  {
   "cell_type": "code",
   "execution_count": null,
   "id": "a6be513f",
   "metadata": {},
   "outputs": [],
   "source": [
    "len(x_train)"
   ]
  },
  {
   "cell_type": "code",
   "execution_count": null,
   "id": "0c8ff42b",
   "metadata": {},
   "outputs": [],
   "source": [
    "len(x_test)"
   ]
  },
  {
   "cell_type": "code",
   "execution_count": null,
   "id": "ea038315",
   "metadata": {},
   "outputs": [],
   "source": [
    "ridge_cv_random = RidgeCV(cv=5, alphas=np.logspace(-8, 8, base=10, num=17))\n",
    "ridge_cv_random.fit(x_train, y_train)"
   ]
  },
  {
   "cell_type": "code",
   "execution_count": null,
   "id": "820fc590",
   "metadata": {},
   "outputs": [],
   "source": [
    "print(f\"Validation R2 performance {ridge_cv_random.best_score_:0.2f}\")"
   ]
  },
  {
   "cell_type": "code",
   "execution_count": null,
   "id": "0af14a1e",
   "metadata": {},
   "outputs": [],
   "source": [
    "y_pred = np.maximum(ridge_cv_random.predict(x_train), 0)\n",
    "\n",
    "plt.figure()\n",
    "plt.scatter(y_pred, y_train, alpha=1, s=4)\n",
    "plt.xlabel(\"Predicted\", fontsize=15, x = .3)\n",
    "plt.ylabel(\"Ground Truth\", fontsize=15)\n",
    "plt.suptitle(r\"$\\log_{10}(1 + Crop Yield)$\", fontsize=20, y=1.02)\n",
    "plt.title((f\"Model applied to train data n = {len(x_train)}, R$^2$ = {(r2_score(y_train, y_pred)):0.2f}\"),\n",
    "          fontsize=12, y=1.01)\n",
    "\n",
    "plt.xticks(fontsize=14)\n",
    "plt.yticks(fontsize=14)\n",
    "\n",
    "m, b = np.polyfit(y_pred, y_train, 1)\n",
    "plt.plot(y_pred, m * y_pred + b, color=\"black\")\n",
    "plt.gca().spines.right.set_visible(False)\n",
    "plt.gca().spines.top.set_visible(False)\n",
    "\n",
    "# plt.savefig(f'images/{feature_file_name}_train_data.jpg', dpi=300)\n",
    "plt.show()\n",
    "plt.close()"
   ]
  },
  {
   "cell_type": "code",
   "execution_count": null,
   "id": "0cfacf1c",
   "metadata": {},
   "outputs": [],
   "source": [
    "r2_score(y_train, y_pred)"
   ]
  },
  {
   "cell_type": "code",
   "execution_count": null,
   "id": "e6281b5d",
   "metadata": {},
   "outputs": [],
   "source": [
    "pearsonr(y_pred, y_train)"
   ]
  },
  {
   "cell_type": "code",
   "execution_count": null,
   "id": "49320fc8",
   "metadata": {},
   "outputs": [],
   "source": [
    "spearmanr(y_pred, y_train)"
   ]
  },
  {
   "cell_type": "code",
   "execution_count": null,
   "id": "10736b26",
   "metadata": {
    "tags": []
   },
   "outputs": [],
   "source": [
    "y_pred = np.maximum(ridge_cv_random.predict(x_test), 0)\n",
    "\n",
    "plt.figure()\n",
    "plt.scatter(y_pred, y_test, alpha=1, s=4)\n",
    "plt.xlabel(\"Predicted\", fontsize=15)\n",
    "plt.ylabel(\"Ground Truth\", fontsize=15)\n",
    "plt.suptitle(r\"$\\log_{10}(1 + Crop Yield)$\", fontsize=20, y=1.02)\n",
    "plt.title(f\"Model applied to test data n = {len(x_test)}, R$^2$ = {(r2_score(y_test, y_pred)):0.2f}\",\n",
    "          fontsize=12, y=1)\n",
    "\n",
    "plt.xticks(fontsize=14)\n",
    "plt.yticks(fontsize=14)\n",
    "\n",
    "m, b = np.polyfit(y_pred, y_test, 1)\n",
    "plt.plot(y_pred, m * y_pred + b, color=\"black\")\n",
    "plt.gca().spines.right.set_visible(False)\n",
    "plt.gca().spines.top.set_visible(False)\n",
    "\n",
    "# plt.savefig(f'images/{feature_file_name}_test_data.jpg', dpi=300)\n",
    "plt.show()\n",
    "plt.close()"
   ]
  },
  {
   "cell_type": "code",
   "execution_count": null,
   "id": "713bff6a",
   "metadata": {},
   "outputs": [],
   "source": [
    "r2_score(y_test, y_pred)"
   ]
  },
  {
   "cell_type": "code",
   "execution_count": null,
   "id": "fb239a01",
   "metadata": {},
   "outputs": [],
   "source": [
    "pearsonr(y_pred, y_test) "
   ]
  },
  {
   "cell_type": "code",
   "execution_count": null,
   "id": "210cd6f6",
   "metadata": {},
   "outputs": [],
   "source": [
    "spearmanr(y_pred, y_test)"
   ]
  },
  {
   "cell_type": "code",
   "execution_count": null,
   "id": "3f92ae72",
   "metadata": {},
   "outputs": [],
   "source": [
    "pred_features = features.copy()\n",
    "pred_features['geometry'] = features_gdf['geometry']\n",
    "pred_features = geopandas.GeoDataFrame(pred_features)\n",
    "x_all = pred_features.drop([\n",
    "    'year', \n",
    "    'district',\n",
    "    'geometry', \n",
    "#     'yield_mt'\n",
    "                           ], axis = 1)\n",
    "pred_features['fit'] = np.maximum(ridge_cv_random.predict(x_all), 0)"
   ]
  },
  {
   "cell_type": "code",
   "execution_count": null,
   "id": "bfd9da29",
   "metadata": {},
   "outputs": [],
   "source": [
    "plot_features = pred_features[pred_features.year == 2018]\n",
    "# plot_features"
   ]
  },
  {
   "cell_type": "code",
   "execution_count": null,
   "id": "831c1eb8",
   "metadata": {},
   "outputs": [],
   "source": [
    "plot_features.plot(figsize = (10,10),\n",
    "                   marker='H',\n",
    "                   # legend = True,\n",
    "                   markersize = marker_sz,\n",
    "#                    alpha = .9,\n",
    "                   column = 'fit')"
   ]
  },
  {
   "cell_type": "code",
   "execution_count": null,
   "id": "a7719611",
   "metadata": {},
   "outputs": [],
   "source": []
  },
  {
   "cell_type": "code",
   "execution_count": null,
   "id": "c69fd019",
   "metadata": {},
   "outputs": [],
   "source": []
  },
  {
   "cell_type": "code",
   "execution_count": null,
   "id": "817e196b",
   "metadata": {},
   "outputs": [],
   "source": [
    "# this is a comment"
   ]
  },
  {
   "cell_type": "markdown",
   "id": "a4b1b984",
   "metadata": {},
   "source": [
    "## Plot Residuals"
   ]
  },
  {
   "cell_type": "code",
   "execution_count": null,
   "id": "cb35e921",
   "metadata": {
    "tags": []
   },
   "outputs": [],
   "source": [
    "x_all = features_summary.drop([\n",
    "    'district', \n",
    "    'year', \n",
    "    'yield_mt'], axis = 1)\n",
    "\n",
    "residual_df = pd.DataFrame()\n",
    "\n",
    "residual_df[\"yield\"] = np.log10(features_summary.yield_mt.to_numpy() + 1)\n",
    "residual_df[\"prediction\"] = np.maximum(ridge_cv_random.predict(x_all), 0)\n",
    "residual_df[\"residual\"] = residual_df[\"yield\"] - residual_df[\"prediction\"]\n",
    "residual_df[\"demean_yield\"] = residual_df[\"yield\"] - residual_df[\"yield\"].mean()\n",
    "residual_df[\"demean_prediction\"] = residual_df[\"prediction\"] - residual_df[\"prediction\"].mean()\n",
    "residual_df[\"year\"] = features_summary.year\n",
    "residual_df[\"district\"] = features_summary.district\n",
    "residual_df = residual_df.join(country_shp, how = \"left\", on = \"district\")\n",
    "residual_gdf = geopandas.GeoDataFrame(residual_df)\n",
    "residual_gdf"
   ]
  },
  {
   "cell_type": "code",
   "execution_count": null,
   "id": "7f53e2b0",
   "metadata": {},
   "outputs": [],
   "source": [
    "residual_sq = residual_gdf[residual_gdf.year == 2016].residual**2\n",
    "ssr_2016 = sum(residual_sq)\n",
    "ssr_2016\n",
    "\n",
    "rse_2016 = math.sqrt(ssr_2016/len(residual_sq))\n",
    "print(\"Residual Standard Error 2016:\", rse_2016)"
   ]
  },
  {
   "cell_type": "code",
   "execution_count": null,
   "id": "91158dc3",
   "metadata": {},
   "outputs": [],
   "source": [
    "residual_sq = residual_gdf[residual_gdf.year == 2017].residual**2\n",
    "ssr_2017 = sum(residual_sq)\n",
    "ssr_2017\n",
    "\n",
    "rse_2017 = math.sqrt(ssr_2017/len(residual_sq))\n",
    "print(\"Residual Standard Error 2017:\", rse_2017)"
   ]
  },
  {
   "cell_type": "code",
   "execution_count": null,
   "id": "860f1b64",
   "metadata": {},
   "outputs": [],
   "source": [
    "residual_sq = residual_gdf[residual_gdf.year == 2018].residual**2\n",
    "ssr_2018 = sum(residual_sq)\n",
    "ssr_2018\n",
    "\n",
    "rse_2018 = math.sqrt(ssr_2018/len(residual_sq))\n",
    "print(\"Residual Standard Error 2018:\", rse_2018)"
   ]
  },
  {
   "cell_type": "code",
   "execution_count": null,
   "id": "616d034e",
   "metadata": {},
   "outputs": [],
   "source": [
    "year = 2016\n",
    "residual_gdf[residual_gdf.year == year].plot(column = \"residual\", legend = True)\n",
    "plt.title(f\"{year} Residuals\")"
   ]
  },
  {
   "cell_type": "code",
   "execution_count": null,
   "id": "7d6745fa",
   "metadata": {},
   "outputs": [],
   "source": [
    "import seaborn as sns\n",
    "\n",
    "\n",
    "\n",
    "true_yield_2016 = residual_gdf[residual_gdf.year == 2016]['yield']\n",
    "residual_2016 = residual_gdf[residual_gdf.year == 2016]['residual']\n",
    "\n",
    "\n",
    "\n",
    "\n",
    "plt.figure()\n",
    "\n",
    "p = sns.jointplot(x=true_yield_2016, y = residual_2016)\n",
    "# plt.scatter(true_yield_2016, residual_2016, alpha=1, s=4)\n",
    "p.set_axis_labels(\"True Yield\", \"Residuals\")\n",
    "# p.axhline(0)\n",
    "plt.suptitle(\"Plot of Yield vs Residuals 2016\",\n",
    "          fontsize=12, y=1)\n",
    "\n",
    "plt.xticks(fontsize=14)\n",
    "plt.yticks(fontsize=14)\n",
    "\n",
    "\n",
    "\n",
    "plt.show()\n",
    "plt.close()"
   ]
  },
  {
   "cell_type": "code",
   "execution_count": null,
   "id": "cda5e504",
   "metadata": {},
   "outputs": [],
   "source": [
    "year = 2017\n",
    "residual_gdf[residual_gdf.year == year].plot(column = \"residual\", legend = True)\n",
    "plt.title(f\"{year} Residuals\")"
   ]
  },
  {
   "cell_type": "code",
   "execution_count": null,
   "id": "43da7871",
   "metadata": {},
   "outputs": [],
   "source": [
    "true_yield_2017 = residual_gdf[residual_gdf.year == 2017]['yield']\n",
    "residual_2017 = residual_gdf[residual_gdf.year == 2017]['residual']\n",
    "\n",
    "plt.figure()\n",
    "\n",
    "p = sns.jointplot(x=true_yield_2017, y = residual_2017)\n",
    "\n",
    "p.set_axis_labels(\"True Yield\", \"Residuals\")\n",
    "# p.axhline(0)\n",
    "plt.suptitle(\"Plot of Yield vs Residuals 2017\",\n",
    "          fontsize=12, y=1)\n",
    "\n",
    "plt.xticks(fontsize=14)\n",
    "plt.yticks(fontsize=14)\n",
    "\n",
    "\n",
    "\n",
    "plt.show()\n",
    "plt.close()"
   ]
  },
  {
   "cell_type": "code",
   "execution_count": null,
   "id": "90e5e988",
   "metadata": {},
   "outputs": [],
   "source": [
    "year = 2018\n",
    "residual_gdf[residual_gdf.year == year].plot(column = \"residual\", legend = True)\n",
    "plt.title(f\"{year} Residuals\")"
   ]
  },
  {
   "cell_type": "code",
   "execution_count": null,
   "id": "79e47a39",
   "metadata": {},
   "outputs": [],
   "source": [
    "true_yield_2018 = residual_gdf[residual_gdf.year == 2018]['yield']\n",
    "residual_2018 = residual_gdf[residual_gdf.year == 2018]['residual']\n",
    "\n",
    "plt.figure()\n",
    "\n",
    "p = sns.jointplot(x=true_yield_2018, y = residual_2018)\n",
    "p.set_axis_labels(\"True Yield\", \"Residuals\")\n",
    "# p.axhline(0)\n",
    "plt.suptitle(\"Plot of Yield vs Residuals 2018\",\n",
    "          fontsize=12, y=1)\n",
    "\n",
    "plt.xticks(fontsize=14)\n",
    "plt.yticks(fontsize=14)\n",
    "\n",
    "\n",
    "\n",
    "plt.show()\n",
    "plt.close()"
   ]
  },
  {
   "cell_type": "code",
   "execution_count": null,
   "id": "0d48001b",
   "metadata": {
    "tags": []
   },
   "outputs": [],
   "source": []
  },
  {
   "cell_type": "markdown",
   "id": "364b02ea",
   "metadata": {},
   "source": [
    "# All Residual Plots"
   ]
  },
  {
   "cell_type": "code",
   "execution_count": null,
   "id": "18b7abc7",
   "metadata": {},
   "outputs": [],
   "source": [
    "fig, (ax1,ax2,ax3) = plt.subplots(nrows=1, ncols=3, figsize=(15, 5))\n",
    "ax1 = residual_gdf[residual_gdf.year == 2016].plot(ax = ax1, column = \"residual\", legend = True, norm=colors.Normalize(vmin= -0.4, vmax=0.4), cmap = \"BrBG\").set_title(\"2016 Residuals\")\n",
    "ax2 = residual_gdf[residual_gdf.year == 2017].plot(ax = ax2, column = \"residual\", legend = True, norm=colors.Normalize(vmin= -0.4, vmax=0.4), cmap = \"BrBG\").set_title(\"2017 Residuals\")\n",
    "ax3 = residual_gdf[residual_gdf.year == 2018].plot(ax = ax3, column = \"residual\", legend = True, norm=colors.Normalize(vmin= -0.4, vmax=0.4), cmap = \"BrBG\").set_title(\"2018 Residuals\")\n",
    "caption = \"A positive value is an underestimated prediction (the prediction is lower than the actual yield), a negative value is an over estimated prediction\"\n",
    "plt.figtext(0.5, 0.01, caption, wrap=True, horizontalalignment='center', fontsize=12)"
   ]
  },
  {
   "cell_type": "code",
   "execution_count": null,
   "id": "96e0a709",
   "metadata": {},
   "outputs": [],
   "source": [
    "fig, (ax1,ax2,ax3) = plt.subplots(nrows=1, ncols=3, figsize=(15, 5))\n",
    "plt.suptitle(\"Residuals\")\n",
    "plt.ax1 = residual_gdf[residual_gdf.year == 2016].hist(ax = ax1, column = \"residual\", legend = True)\n",
    "ax1.set_title(\"2016 Residuals\")\n",
    "plt.ax2 = residual_gdf[residual_gdf.year == 2017].hist(ax = ax2, column = \"residual\", legend = True) \n",
    "ax2.set_title(\"2017 Residuals\")\n",
    "plt.ax3 = residual_gdf[residual_gdf.year == 2018].hist(ax = ax3, column = \"residual\", legend = True)\n",
    "ax3.set_title(\"2018 Residuals\")"
   ]
  },
  {
   "cell_type": "code",
   "execution_count": null,
   "id": "36f71326",
   "metadata": {},
   "outputs": [],
   "source": [
    "residual_gdf.residual.min()"
   ]
  },
  {
   "cell_type": "code",
   "execution_count": null,
   "id": "35cbdee3",
   "metadata": {},
   "outputs": [],
   "source": [
    "residual_gdf.residual.max()"
   ]
  },
  {
   "cell_type": "markdown",
   "id": "f3e26164",
   "metadata": {
    "tags": []
   },
   "source": [
    "# Difference from the Mean"
   ]
  },
  {
   "cell_type": "code",
   "execution_count": null,
   "id": "92742873",
   "metadata": {},
   "outputs": [],
   "source": [
    "residual_gdf_2016 = residual_gdf[residual_gdf.year == 2016]\n",
    "residual_gdf_2017 = residual_gdf[residual_gdf.year == 2017]\n",
    "residual_gdf_2018 = residual_gdf[residual_gdf.year == 2018]"
   ]
  },
  {
   "cell_type": "code",
   "execution_count": null,
   "id": "e6479101",
   "metadata": {},
   "outputs": [],
   "source": [
    "plt.scatter(residual_gdf_2016[\"demean_yield\"], residual_gdf_2016[\"demean_prediction\"])\n",
    "plt.title(\"Difference from the Mean Yield and Prediction 2016\")\n",
    "plt.xlabel(\"Difference from Yield Mean\")\n",
    "plt.ylabel(\"Difference from Predictions Mean\")"
   ]
  },
  {
   "cell_type": "code",
   "execution_count": null,
   "id": "f757b750",
   "metadata": {},
   "outputs": [],
   "source": [
    "plt.scatter(residual_gdf_2017[\"demean_yield\"], residual_gdf_2017[\"demean_prediction\"])\n",
    "plt.title(\"Difference from the Mean Yield and Prediction 2017\")\n",
    "plt.xlabel(\"Difference from Yield Mean\")\n",
    "plt.ylabel(\"Difference from Predictions Mean\")"
   ]
  },
  {
   "cell_type": "code",
   "execution_count": null,
   "id": "d6d338d4",
   "metadata": {
    "tags": []
   },
   "outputs": [],
   "source": [
    "plt.scatter(residual_gdf_2018[\"demean_yield\"], residual_gdf_2018[\"demean_prediction\"])\n",
    "plt.title(\"Difference from the Mean Yield and Prediction 2018\")\n",
    "plt.xlabel(\"Difference from Yield Mean\")\n",
    "plt.ylabel(\"Difference from Predictions Mean\")"
   ]
  },
  {
   "cell_type": "code",
   "execution_count": null,
   "id": "3864195d",
   "metadata": {},
   "outputs": [],
   "source": [
    "# all years\n",
    "plt.scatter(residual_gdf[\"demean_yield\"], residual_gdf[\"demean_prediction\"])\n",
    "plt.title(\"Difference from the Mean Yield and Prediction All Years\")\n",
    "plt.xlabel(\"Difference from Yield Mean\")\n",
    "plt.ylabel(\"Difference from Predictions Mean\")"
   ]
  },
  {
   "cell_type": "code",
   "execution_count": null,
   "id": "d28f57d0",
   "metadata": {},
   "outputs": [],
   "source": [
    "from sklearn.metrics import r2_score\n",
    "from scipy.stats import pearsonr\n",
    "\n",
    "r_squared_2016 = r2_score(residual_gdf_2016[\"demean_yield\"], residual_gdf_2016[\"demean_prediction\"])\n",
    "print(\"2016 R^2: \", r_squared_2016)\n",
    "pearsonr_2016 = pearsonr(residual_gdf_2016[\"demean_yield\"], residual_gdf_2016[\"demean_prediction\"])\n",
    "print(\"2016 Pearson's: \", pearsonr_2016[0])\n",
    "print(\"\")\n",
    "\n",
    "r_squared_2017 = r2_score(residual_gdf_2017[\"demean_yield\"], residual_gdf_2017[\"demean_prediction\"])\n",
    "print(\"2017 R^2: \", r_squared_2017)\n",
    "pearsonr_2017 = pearsonr(residual_gdf_2017[\"demean_yield\"], residual_gdf_2017[\"demean_prediction\"])\n",
    "print(\"2017 Pearson's: \", pearsonr_2017[0])\n",
    "print(\"\")\n",
    "\n",
    "r_squared_2018 = r2_score(residual_gdf_2018[\"demean_yield\"], residual_gdf_2018[\"demean_prediction\"])\n",
    "print(\"2018 R^2: \", r_squared_2018)\n",
    "pearsonr_2018 = pearsonr(residual_gdf_2018[\"demean_yield\"], residual_gdf_2018[\"demean_prediction\"])\n",
    "print(\"2018 Pearson's: \", pearsonr_2018[0])\n",
    "print(\"\")\n",
    "\n",
    "r_squared_allyrs = r2_score(residual_gdf[\"demean_yield\"], residual_gdf[\"demean_prediction\"])\n",
    "print(\"All Years R^2: \", r_squared_allyrs)\n",
    "pearsonr_allyrs = pearsonr(residual_gdf[\"demean_yield\"], residual_gdf[\"demean_prediction\"])\n",
    "print(\"All Years Pearson's: \", pearsonr_allyrs[0])"
   ]
  },
  {
   "cell_type": "code",
   "execution_count": null,
   "id": "e21ef1d2",
   "metadata": {},
   "outputs": [],
   "source": [
    "x1 = residual_gdf_2016[\"demean_yield\"]\n",
    "y1 = residual_gdf_2016[\"demean_prediction\"]\n",
    "\n",
    "x2 = residual_gdf_2017[\"demean_yield\"]\n",
    "y2 = residual_gdf_2017[\"demean_prediction\"]\n",
    "\n",
    "x3 = residual_gdf_2018[\"demean_yield\"]\n",
    "y3 = residual_gdf_2018[\"demean_prediction\"]\n",
    "\n",
    "x4 = residual_gdf[\"demean_yield\"]\n",
    "y4 = residual_gdf[\"demean_prediction\"]\n",
    "\n",
    "plt.tight_layout()\n",
    "\n",
    "plt.subplot(1, 4, 1)\n",
    "plt.scatter(x1, y1)\n",
    "plt.title('2016')\n",
    "plt.ylabel('y axis')\n",
    "\n",
    "plt.subplot(1, 4, 2)\n",
    "plt.scatter(x2, y2)\n",
    "plt.title(\"2017\")\n",
    "plt.xlabel('x axis')\n",
    "plt.ylabel('y axis')\n",
    "\n",
    "plt.subplot(1, 4, 3)\n",
    "plt.scatter(x3, y3)\n",
    "plt.title(\"2018\")\n",
    "plt.xlabel('x axis')\n",
    "plt.ylabel('y axis')\n",
    "\n",
    "plt.subplot(1, 4, 4)\n",
    "plt.scatter(x4, y4)\n",
    "plt.title(\"All Years\")\n",
    "plt.xlabel('x axis')\n",
    "plt.ylabel('y axis')"
   ]
  },
  {
   "cell_type": "code",
   "execution_count": null,
   "id": "67dc3d90",
   "metadata": {},
   "outputs": [],
   "source": [
    "fig, (ax1,ax2,ax3) = plt.subplots(nrows=1, ncols=3, figsize=(15, 5))\n",
    "plt.suptitle(\"Difference from the Mean Yield and Prediction\")\n",
    "\n",
    "plt.ax1 = residual_gdf_2016.plot(\"demean_yield\", \"demean_prediction\", ax = ax1)\n",
    "ax1.set_title(\"2016\")\n",
    "\n",
    "\n",
    "plt.ax1 = residual_gdf_2017.plot(\"demean_yield\", \"demean_prediction\", ax = ax1)\n",
    "ax1.set_title(\"2017\")\n",
    "\n",
    "\n",
    "plt.ax1 = residual_gdf_2018.plot(\"demean_yield\", \"demean_prediction\", ax = ax1)\n",
    "ax1.set_title(\"2018\")\n",
    "# plt.ax2 = plt.scatter(residual_df_2017[\"demean_yield\"], residual_df_2017[\"demean_prediction\"]) \n",
    "# ax2.set_title(\"2017\")\n",
    "\n",
    "# plt.ax3 = plt.scatter(residual_df_2018[\"demean_yield\"], residual_df_2018[\"demean_prediction\"])\n",
    "# ax1.set_title(\"2018\")"
   ]
  },
  {
   "cell_type": "code",
   "execution_count": null,
   "id": "ff0300c9",
   "metadata": {},
   "outputs": [],
   "source": []
  }
 ],
 "metadata": {
  "kernelspec": {
   "display_name": "Python 3 (ipykernel)",
   "language": "python",
   "name": "python3"
  },
  "language_info": {
   "codemirror_mode": {
    "name": "ipython",
    "version": 3
   },
   "file_extension": ".py",
   "mimetype": "text/x-python",
   "name": "python",
   "nbconvert_exporter": "python",
   "pygments_lexer": "ipython3",
   "version": "3.7.7"
  }
 },
 "nbformat": 4,
 "nbformat_minor": 5
}
